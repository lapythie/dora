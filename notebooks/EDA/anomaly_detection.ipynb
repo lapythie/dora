{
 "cells": [
  {
   "cell_type": "code",
   "execution_count": 1,
   "id": "78ff8982-ac6e-4976-9655-42c2b3c55118",
   "metadata": {},
   "outputs": [],
   "source": [
    "import json\n",
    "import numpy as np\n",
    "import pandas as pd\n",
    "from collections import Counter\n",
    "\n",
    "from nltk import word_tokenize, sent_tokenize\n",
    "\n",
    "from tqdm.auto import tqdm\n",
    "tqdm.pandas()\n",
    "\n",
    "pd.set_option('display.max_colwidth', 200)"
   ]
  },
  {
   "cell_type": "code",
   "execution_count": 2,
   "id": "161b4803-4e64-40ac-b3e5-5cca5b8922df",
   "metadata": {},
   "outputs": [],
   "source": [
    "with open(\"../data/href2synopsis.json\", encoding=\"utf-8\") as f:\n",
    "    href2synopsis = json.load(f)"
   ]
  },
  {
   "cell_type": "markdown",
   "id": "d74f6694-1997-4e2a-aa8d-845e73c0150f",
   "metadata": {},
   "source": [
    "    Takeaways:\n",
    "        - replace \\n or \\r sequences with single \\n\n",
    "        - use language-specific tokenizer\n",
    "        - when using max_count_token_ratio make sure do delete stopwords"
   ]
  },
  {
   "cell_type": "markdown",
   "id": "8a2190a7-a0b1-46ea-b8cb-9e995fd1ff91",
   "metadata": {},
   "source": [
    "# BOW stats\n",
    "    # TODO: add actual bow stats"
   ]
  },
  {
   "cell_type": "code",
   "execution_count": 13,
   "id": "05b12d69-ed5e-456b-a366-7de2226a5796",
   "metadata": {},
   "outputs": [],
   "source": [
    "data = pd.DataFrame()\n",
    "\n",
    "data[\"href\"] = href2synopsis.keys()\n",
    "data[\"synopsis\"] = href2synopsis.values()"
   ]
  },
  {
   "cell_type": "code",
   "execution_count": 14,
   "id": "2e34ca49-9d27-46ce-9db5-f449166f6ab2",
   "metadata": {},
   "outputs": [],
   "source": [
    "data = data[data[\"synopsis\"] != \"\"]"
   ]
  },
  {
   "cell_type": "code",
   "execution_count": 15,
   "id": "7544f9ee-3e14-4128-88b3-21a43824cf37",
   "metadata": {},
   "outputs": [],
   "source": [
    "import regex as re\n",
    "\n",
    "data[\"synopsis\"] = data[\"synopsis\"].apply(\n",
    "    lambda x: re.sub(\"\\s*\\n\\s*\", \"\\n\", x).strip()\n",
    ")"
   ]
  },
  {
   "cell_type": "code",
   "execution_count": 75,
   "id": "5f3ee1de-090f-46d6-a82a-334e48342382",
   "metadata": {},
   "outputs": [],
   "source": [
    "# data[\"min_ord\"] = data[\"synopsis\"].progress_apply(\n",
    "#     lambda s: min([ord(char) for char in s])\n",
    "# )\n",
    "\n",
    "# data[\"max_ord\"] = data[\"synopsis\"].progress_apply(\n",
    "#     lambda s: max([ord(char) for char in s])\n",
    "# )\n",
    "\n",
    "# data[\"mean_ord\"] = data[\"synopsis\"].progress_apply(\n",
    "#     lambda s: np.mean([ord(char) for char in s])\n",
    "# )\n",
    "\n",
    "# data[\"median_ord\"] = data[\"synopsis\"].progress_apply(\n",
    "#     lambda s: np.median([ord(char) for char in s])\n",
    "# )\n",
    "\n",
    "# data[\"mode_ord\"] = data[\"synopsis\"].progress_apply(\n",
    "#     lambda s: Counter([ord(char) for char in s]).most_common()[0][0]\n",
    "# )"
   ]
  },
  {
   "cell_type": "code",
   "execution_count": 16,
   "id": "1f507345-ba1b-4d57-9a15-dc8c29e1c811",
   "metadata": {},
   "outputs": [
    {
     "data": {
      "application/json": {
       "ascii": false,
       "bar_format": null,
       "colour": null,
       "elapsed": 0.02461099624633789,
       "initial": 0,
       "n": 0,
       "ncols": null,
       "nrows": 31,
       "postfix": null,
       "prefix": "",
       "rate": null,
       "total": 18374,
       "unit": "it",
       "unit_divisor": 1000,
       "unit_scale": false
      },
      "application/vnd.jupyter.widget-view+json": {
       "model_id": "f2fadb7cf3554cfe83c633c72ffd8196",
       "version_major": 2,
       "version_minor": 0
      },
      "text/plain": [
       "  0%|          | 0/18374 [00:00<?, ?it/s]"
      ]
     },
     "metadata": {},
     "output_type": "display_data"
    }
   ],
   "source": [
    "# data[\"mode_count\"] = data[\"synopsis\"].progress_apply(\n",
    "#     lambda s: Counter(s).most_common()[0][1]\n",
    "# )\n",
    "\n",
    "# data[\"mode_ratio\"] = data[\"synopsis\"].progress_apply(\n",
    "#     lambda s: Counter(s).most_common()[0][1]/len(s)\n",
    "# )\n",
    "\n",
    "# data[\"mean_char_count\"] = data[\"synopsis\"].progress_apply(\n",
    "#     lambda s: np.mean(list(Counter(s).values()))\n",
    "# )\n",
    "\n",
    "# data[\"mean_token_count\"] = data[\"synopsis\"].progress_apply(\n",
    "#     lambda s: np.mean(list(Counter([w.lower() for w in word_tokenize(s)]).values()))\n",
    "# )\n",
    "\n",
    "data[\"max_count_token_ratio\"] = data[\"synopsis\"].progress_apply(\n",
    "    lambda s: Counter([w.lower() for w in word_tokenize(s)]).most_common()[0][1]/len(word_tokenize(s))\n",
    ")"
   ]
  },
  {
   "cell_type": "code",
   "execution_count": null,
   "id": "6c21c0a4-725f-4734-be12-f661afe1f278",
   "metadata": {},
   "outputs": [],
   "source": []
  },
  {
   "cell_type": "code",
   "execution_count": 12,
   "id": "2b001110-3de6-47f6-819b-0fa70adfedb1",
   "metadata": {},
   "outputs": [
    {
     "data": {
      "application/json": {
       "ascii": false,
       "bar_format": null,
       "colour": null,
       "elapsed": 0.02100229263305664,
       "initial": 0,
       "n": 0,
       "ncols": null,
       "nrows": 31,
       "postfix": null,
       "prefix": "",
       "rate": null,
       "total": 18374,
       "unit": "it",
       "unit_divisor": 1000,
       "unit_scale": false
      },
      "application/vnd.jupyter.widget-view+json": {
       "model_id": "c93a97138cb044f2acf1c1f8a8ed5899",
       "version_major": 2,
       "version_minor": 0
      },
      "text/plain": [
       "  0%|          | 0/18374 [00:00<?, ?it/s]"
      ]
     },
     "metadata": {},
     "output_type": "display_data"
    },
    {
     "data": {
      "application/json": {
       "ascii": false,
       "bar_format": null,
       "colour": null,
       "elapsed": 0.04766440391540527,
       "initial": 0,
       "n": 0,
       "ncols": null,
       "nrows": 31,
       "postfix": null,
       "prefix": "",
       "rate": null,
       "total": 18374,
       "unit": "it",
       "unit_divisor": 1000,
       "unit_scale": false
      },
      "application/vnd.jupyter.widget-view+json": {
       "model_id": "ec0363cfd4fc45a4b3295271eaa21045",
       "version_major": 2,
       "version_minor": 0
      },
      "text/plain": [
       "  0%|          | 0/18374 [00:00<?, ?it/s]"
      ]
     },
     "metadata": {},
     "output_type": "display_data"
    },
    {
     "data": {
      "application/json": {
       "ascii": false,
       "bar_format": null,
       "colour": null,
       "elapsed": 0.03160500526428223,
       "initial": 0,
       "n": 0,
       "ncols": null,
       "nrows": 31,
       "postfix": null,
       "prefix": "",
       "rate": null,
       "total": 18374,
       "unit": "it",
       "unit_divisor": 1000,
       "unit_scale": false
      },
      "application/vnd.jupyter.widget-view+json": {
       "model_id": "90969686f7374906846c343549a80da6",
       "version_major": 2,
       "version_minor": 0
      },
      "text/plain": [
       "  0%|          | 0/18374 [00:00<?, ?it/s]"
      ]
     },
     "metadata": {},
     "output_type": "display_data"
    }
   ],
   "source": [
    "data[\"char_total\"] = data[\"synopsis\"].progress_apply(len)\n",
    "data[\"token_total\"] = data[\"synopsis\"].progress_apply(\n",
    "    lambda x: len(word_tokenize(x))\n",
    ")\n",
    "data[\"sent_total\"] = data[\"synopsis\"].progress_apply(\n",
    "    lambda x: len([sent for line in x.split(\"\\n\") for sent in  sent_tokenize(line) if line.strip()])\n",
    ")"
   ]
  },
  {
   "cell_type": "code",
   "execution_count": 27,
   "id": "ecf37e02-fcb7-415d-9bb2-5ef90e7e964f",
   "metadata": {},
   "outputs": [
    {
     "data": {
      "application/json": {
       "ascii": false,
       "bar_format": null,
       "colour": null,
       "elapsed": 0.029372453689575195,
       "initial": 0,
       "n": 0,
       "ncols": null,
       "nrows": 31,
       "postfix": null,
       "prefix": "",
       "rate": null,
       "total": 19393,
       "unit": "it",
       "unit_divisor": 1000,
       "unit_scale": false
      },
      "application/vnd.jupyter.widget-view+json": {
       "model_id": "702511647edf426d9f15c117f07c1693",
       "version_major": 2,
       "version_minor": 0
      },
      "text/plain": [
       "  0%|          | 0/19393 [00:00<?, ?it/s]"
      ]
     },
     "metadata": {},
     "output_type": "display_data"
    }
   ],
   "source": [
    "# data[\"lines_total\"] = data[\"synopsis\"].progress_apply(lambda x: len(x.split(\"\\n\")))"
   ]
  },
  {
   "cell_type": "code",
   "execution_count": 5,
   "id": "7bfe7015-9c56-4eff-af20-1559fb2a9e87",
   "metadata": {},
   "outputs": [
    {
     "data": {
      "application/json": {
       "ascii": false,
       "bar_format": null,
       "colour": null,
       "elapsed": 0.01822948455810547,
       "initial": 0,
       "n": 0,
       "ncols": null,
       "nrows": 31,
       "postfix": null,
       "prefix": "",
       "rate": null,
       "total": 19393,
       "unit": "it",
       "unit_divisor": 1000,
       "unit_scale": false
      },
      "application/vnd.jupyter.widget-view+json": {
       "model_id": "470ea2068d1945ed9d6e4b6daf612183",
       "version_major": 2,
       "version_minor": 0
      },
      "text/plain": [
       "  0%|          | 0/19393 [00:00<?, ?it/s]"
      ]
     },
     "metadata": {},
     "output_type": "display_data"
    },
    {
     "data": {
      "application/json": {
       "ascii": false,
       "bar_format": null,
       "colour": null,
       "elapsed": 0.04676222801208496,
       "initial": 0,
       "n": 0,
       "ncols": null,
       "nrows": 31,
       "postfix": null,
       "prefix": "",
       "rate": null,
       "total": 19393,
       "unit": "it",
       "unit_divisor": 1000,
       "unit_scale": false
      },
      "application/vnd.jupyter.widget-view+json": {
       "model_id": "e6508da238494596b05daeeb866b3b8b",
       "version_major": 2,
       "version_minor": 0
      },
      "text/plain": [
       "  0%|          | 0/19393 [00:00<?, ?it/s]"
      ]
     },
     "metadata": {},
     "output_type": "display_data"
    },
    {
     "data": {
      "application/json": {
       "ascii": false,
       "bar_format": null,
       "colour": null,
       "elapsed": 0.029623746871948242,
       "initial": 0,
       "n": 0,
       "ncols": null,
       "nrows": 31,
       "postfix": null,
       "prefix": "",
       "rate": null,
       "total": 19393,
       "unit": "it",
       "unit_divisor": 1000,
       "unit_scale": false
      },
      "application/vnd.jupyter.widget-view+json": {
       "model_id": "b8aa8ad9b13a4107a05501c44a2488a8",
       "version_major": 2,
       "version_minor": 0
      },
      "text/plain": [
       "  0%|          | 0/19393 [00:00<?, ?it/s]"
      ]
     },
     "metadata": {},
     "output_type": "display_data"
    }
   ],
   "source": [
    "data[\"token_max_char_len\"] = data[\"synopsis\"].progress_apply(\n",
    "    lambda x: max([len(t) for t in word_tokenize(x)]) if x.strip() else 0\n",
    ")\n",
    "\n",
    "data[\"sent_max_char_len\"] = data[\"synopsis\"].progress_apply(\n",
    "    lambda x: max([len(t) for t in sent_tokenize(x)]) if x.strip() else 0\n",
    ")\n",
    "\n",
    "data[\"line_max_char_len\"] = data[\"synopsis\"].progress_apply(\n",
    "    lambda x: max([len(t) for t in x.split(\"\\n\")]) if x.strip() else 0\n",
    ")"
   ]
  },
  {
   "cell_type": "code",
   "execution_count": 16,
   "id": "e6d30ba1-dd5e-4d12-87d8-c7e54047486c",
   "metadata": {},
   "outputs": [],
   "source": [
    "data[\"sent_char_ratio\"] = [t.sent_total/t.char_total for t in data.itertuples()]\n",
    "data[\"sent_token_ratio\"] = [t.sent_total/t.token_total for t in data.itertuples()]\n",
    "data[\"token_char_ratio\"] = [t.token_total/t.char_total for t in data.itertuples()]\n",
    "data[\"token_sent_ratio\"] = [t.token_total/t.sent_total for t in data.itertuples()]\n",
    "data[\"char_sent_ratio\"] = [t.char_total/t.sent_total for t in data.itertuples()]\n",
    "data[\"char_token_ratio\"] = [t.char_total/t.token_total for t in data.itertuples()]"
   ]
  },
  {
   "cell_type": "code",
   "execution_count": 20,
   "id": "37083f6a-439f-4805-8333-cc2268e8e1c6",
   "metadata": {},
   "outputs": [
    {
     "data": {
      "text/html": [
       "<div>\n",
       "<style scoped>\n",
       "    .dataframe tbody tr th:only-of-type {\n",
       "        vertical-align: middle;\n",
       "    }\n",
       "\n",
       "    .dataframe tbody tr th {\n",
       "        vertical-align: top;\n",
       "    }\n",
       "\n",
       "    .dataframe thead th {\n",
       "        text-align: right;\n",
       "    }\n",
       "</style>\n",
       "<table border=\"1\" class=\"dataframe\">\n",
       "  <thead>\n",
       "    <tr style=\"text-align: right;\">\n",
       "      <th></th>\n",
       "      <th>max_count_token_ratio</th>\n",
       "    </tr>\n",
       "  </thead>\n",
       "  <tbody>\n",
       "    <tr>\n",
       "      <th>count</th>\n",
       "      <td>18368.000000</td>\n",
       "    </tr>\n",
       "    <tr>\n",
       "      <th>mean</th>\n",
       "      <td>0.072083</td>\n",
       "    </tr>\n",
       "    <tr>\n",
       "      <th>std</th>\n",
       "      <td>0.037292</td>\n",
       "    </tr>\n",
       "    <tr>\n",
       "      <th>min</th>\n",
       "      <td>0.026321</td>\n",
       "    </tr>\n",
       "    <tr>\n",
       "      <th>25%</th>\n",
       "      <td>0.054932</td>\n",
       "    </tr>\n",
       "    <tr>\n",
       "      <th>50%</th>\n",
       "      <td>0.065796</td>\n",
       "    </tr>\n",
       "    <tr>\n",
       "      <th>75%</th>\n",
       "      <td>0.081055</td>\n",
       "    </tr>\n",
       "    <tr>\n",
       "      <th>max</th>\n",
       "      <td>1.000000</td>\n",
       "    </tr>\n",
       "  </tbody>\n",
       "</table>\n",
       "</div>"
      ],
      "text/plain": [
       "       max_count_token_ratio\n",
       "count           18368.000000\n",
       "mean                0.072083\n",
       "std                 0.037292\n",
       "min                 0.026321\n",
       "25%                 0.054932\n",
       "50%                 0.065796\n",
       "75%                 0.081055\n",
       "max                 1.000000"
      ]
     },
     "execution_count": 20,
     "metadata": {},
     "output_type": "execute_result"
    }
   ],
   "source": [
    "data.describe().astype(\"float16\")"
   ]
  },
  {
   "cell_type": "code",
   "execution_count": 23,
   "id": "a9e2f70f-f979-41fd-9510-cefafa51031d",
   "metadata": {},
   "outputs": [],
   "source": [
    "stats = data.drop(columns=[\"href\", \"synopsis\"]) #.drop(columns=[\"line_max_char_len\"])"
   ]
  },
  {
   "cell_type": "markdown",
   "id": "55b0182b-a22c-4772-a131-4192604d0e1d",
   "metadata": {},
   "source": [
    "# Outlier detection\n",
    "\n",
    "[The svm.OneClassSVM is known to be sensitive to outliers and thus does not perform very well for outlier detection](https://scikit-learn.org/stable/modules/outlier_detection.html#outlier-detection)"
   ]
  },
  {
   "cell_type": "code",
   "execution_count": 24,
   "id": "2ab5f722-23fd-4880-b752-36fa8d209af3",
   "metadata": {},
   "outputs": [],
   "source": [
    "from sklearn.neighbors import LocalOutlierFactor\n",
    "from sklearn.ensemble import IsolationForest"
   ]
  },
  {
   "cell_type": "code",
   "execution_count": 25,
   "id": "8a388991-78ad-47dd-817f-9a3f4ffa0b64",
   "metadata": {},
   "outputs": [],
   "source": [
    "clf = LocalOutlierFactor(n_neighbors=20)\n",
    "preds = clf.fit_predict(stats)\n",
    "\n",
    "data[\"pred\"] = preds\n",
    "data[\"negative_outlier_factor_\"] = clf.negative_outlier_factor_"
   ]
  },
  {
   "cell_type": "code",
   "execution_count": 26,
   "id": "a87341ab-da27-4bce-8fc6-fa15a5ca0cd4",
   "metadata": {},
   "outputs": [],
   "source": [
    "# data[data[\"pred\"] == -1][\"synopsis\"].sample(10).to_list()"
   ]
  },
  {
   "cell_type": "code",
   "execution_count": 28,
   "id": "302950ce-21fe-4f85-97c0-4d1cd14f76a4",
   "metadata": {},
   "outputs": [
    {
     "data": {
      "text/html": [
       "<div>\n",
       "<style scoped>\n",
       "    .dataframe tbody tr th:only-of-type {\n",
       "        vertical-align: middle;\n",
       "    }\n",
       "\n",
       "    .dataframe tbody tr th {\n",
       "        vertical-align: top;\n",
       "    }\n",
       "\n",
       "    .dataframe thead th {\n",
       "        text-align: right;\n",
       "    }\n",
       "</style>\n",
       "<table border=\"1\" class=\"dataframe\">\n",
       "  <thead>\n",
       "    <tr style=\"text-align: right;\">\n",
       "      <th></th>\n",
       "      <th>href</th>\n",
       "      <th>synopsis</th>\n",
       "      <th>pred</th>\n",
       "      <th>negative_outlier_factor_</th>\n",
       "    </tr>\n",
       "  </thead>\n",
       "  <tbody>\n",
       "    <tr>\n",
       "      <th>14125</th>\n",
       "      <td>/30050-got7ing</td>\n",
       "      <td>Second installment of GOT7ing.\\n\"NO script, NO mission, NO game, NO penalty\" !</td>\n",
       "      <td>-1</td>\n",
       "      <td>-7.838098e+07</td>\n",
       "    </tr>\n",
       "    <tr>\n",
       "      <th>11526</th>\n",
       "      <td>/4350-dae-jo-yeong</td>\n",
       "      <td>The drama tells the story of the life of Dae Jo Yeong, also known as the founder of the kingdom of Balhae.</td>\n",
       "      <td>-1</td>\n",
       "      <td>-6.989209e+07</td>\n",
       "    </tr>\n",
       "    <tr>\n",
       "      <th>10179</th>\n",
       "      <td>/26992-the-flowers-filled-the-palace-and-missed-the-time-season-1</td>\n",
       "      <td>The story is about the love triangle between the fourth prince, the crown prince and the number one female scholar – ShuYuan during the Qing dynasty. With the war for love is also the war for the ...</td>\n",
       "      <td>-1</td>\n",
       "      <td>-6.594414e+07</td>\n",
       "    </tr>\n",
       "    <tr>\n",
       "      <th>8242</th>\n",
       "      <td>/30980-making-of-bt21</td>\n",
       "      <td>The members of BTS take part in creating their beloved  LINE  characters - RJ, Shooky, Mang, Koya, Chimmy, Tata, Cooky and VAN.</td>\n",
       "      <td>-1</td>\n",
       "      <td>-6.434891e+07</td>\n",
       "    </tr>\n",
       "    <tr>\n",
       "      <th>12508</th>\n",
       "      <td>/681279-lodi-x</td>\n",
       "      <td>\"LODI X\" is a survival show created to find the best female idol group in Thailand. Bringing together 20 girl groups, they go through battles to decide the best group chosen by the jury. The show ...</td>\n",
       "      <td>-1</td>\n",
       "      <td>-6.418590e+07</td>\n",
       "    </tr>\n",
       "    <tr>\n",
       "      <th>6364</th>\n",
       "      <td>/698855-destined-fated</td>\n",
       "      <td>Destined/Fated is a story of love, betrayal, family, and friendship.</td>\n",
       "      <td>-1</td>\n",
       "      <td>-6.418590e+07</td>\n",
       "    </tr>\n",
       "    <tr>\n",
       "      <th>13818</th>\n",
       "      <td>/10399-reply-1994-epilogue</td>\n",
       "      <td>Special episodes that show behind the scenes footage and the first meetings with the actors before the filming for the drama starts.</td>\n",
       "      <td>-1</td>\n",
       "      <td>-6.152010e+07</td>\n",
       "    </tr>\n",
       "    <tr>\n",
       "      <th>10096</th>\n",
       "      <td>/63403-the-moment-special</td>\n",
       "      <td>This is the special episode or behind the scenes episode of the drama \"The Moment\".</td>\n",
       "      <td>-1</td>\n",
       "      <td>-6.012072e+07</td>\n",
       "    </tr>\n",
       "    <tr>\n",
       "      <th>14311</th>\n",
       "      <td>/8064-fake-fiction</td>\n",
       "      <td>About a con artist posing as a magician.</td>\n",
       "      <td>-1</td>\n",
       "      <td>-6.012072e+07</td>\n",
       "    </tr>\n",
       "    <tr>\n",
       "      <th>6940</th>\n",
       "      <td>/686593-nana</td>\n",
       "      <td>Adapted from the Japanese Manga of the same name</td>\n",
       "      <td>-1</td>\n",
       "      <td>-6.012072e+07</td>\n",
       "    </tr>\n",
       "    <tr>\n",
       "      <th>2276</th>\n",
       "      <td>/60733-kyou-kara-ore-wa-sp</td>\n",
       "      <td>Drama special to Kyou Kara Ore wa!!</td>\n",
       "      <td>-1</td>\n",
       "      <td>-6.012072e+07</td>\n",
       "    </tr>\n",
       "    <tr>\n",
       "      <th>10435</th>\n",
       "      <td>/23637-city-of-fantasy</td>\n",
       "      <td>About the supernatural events occurring in the city.</td>\n",
       "      <td>-1</td>\n",
       "      <td>-6.012072e+07</td>\n",
       "    </tr>\n",
       "    <tr>\n",
       "      <th>15185</th>\n",
       "      <td>/683487-boy-hood-2</td>\n",
       "      <td>The stories detailing the aspirations of young people.</td>\n",
       "      <td>-1</td>\n",
       "      <td>-6.012072e+07</td>\n",
       "    </tr>\n",
       "    <tr>\n",
       "      <th>14729</th>\n",
       "      <td>/16639-203-kochi</td>\n",
       "      <td>Depicts the bloody siege of the fortress Port Arthur during the Russo-Japanese War 1904 - 1905. In the story dominated the character Lt Takeshi Kogyo, teachers, and a reserve officer who became co...</td>\n",
       "      <td>-1</td>\n",
       "      <td>-2.337237e+07</td>\n",
       "    </tr>\n",
       "    <tr>\n",
       "      <th>18697</th>\n",
       "      <td>/8447-hong-kong-ghost-stories</td>\n",
       "      <td>A woman teacher with a broken heart and a prestering ex-boyfriend. A mysterious woman on the run and a ruthless and dangerous lover. A bunch of naughty and mischievous students and a bunch of weir...</td>\n",
       "      <td>-1</td>\n",
       "      <td>-2.212850e+07</td>\n",
       "    </tr>\n",
       "    <tr>\n",
       "      <th>14027</th>\n",
       "      <td>/5696-13-real-asian-horror-stories</td>\n",
       "      <td>Scary stories based on true Japanese incidents.\\nStory 1 - Only two of us\\nStory 2 - Three people are coming\\nStory 3 - Copy Machine\\nStory 4 - Blue Raincoat\\nStory 5 - Animal Odour\\nStory 6 - Sle...</td>\n",
       "      <td>-1</td>\n",
       "      <td>-1.973862e+07</td>\n",
       "    </tr>\n",
       "    <tr>\n",
       "      <th>9782</th>\n",
       "      <td>/3028-a-better-tomorrow</td>\n",
       "      <td>This story is the tale of two brothers: one a successful counterfeiter and the younger a fledgling graduate of the HK police academy. The plot revolves around the split when the younger brother le...</td>\n",
       "      <td>-1</td>\n",
       "      <td>-1.512912e+07</td>\n",
       "    </tr>\n",
       "    <tr>\n",
       "      <th>12252</th>\n",
       "      <td>/22897-alien</td>\n",
       "      <td>This is the first movie in the Alien series. Lan Jue, a detective with half-alien blood, relies on the Gegula Star to go back twenty years into the past, where he searches for the owner of the rin...</td>\n",
       "      <td>-1</td>\n",
       "      <td>-1.460708e+07</td>\n",
       "    </tr>\n",
       "    <tr>\n",
       "      <th>16242</th>\n",
       "      <td>/39177-ogamiya-kaidan-ii</td>\n",
       "      <td>In the far part of the Tohoku region, Gounai Shindou runs a store, Ogamiya, where he solves the problems of his clients with prayers. Only among those problems, there are some that involve superna...</td>\n",
       "      <td>-1</td>\n",
       "      <td>-1.354015e+07</td>\n",
       "    </tr>\n",
       "    <tr>\n",
       "      <th>17801</th>\n",
       "      <td>/26719-twice-tv-season-6</td>\n",
       "      <td>The show follows the nine members of TWICE — Nayeon, Jihyo, Jungyeon, Mina, Sana, Momo, Chaeyoung, Dahyun and Tzuyu — a South Korean girl group formed by JYP Entertainment, in their idol lifes. Th...</td>\n",
       "      <td>-1</td>\n",
       "      <td>-1.293582e+07</td>\n",
       "    </tr>\n",
       "  </tbody>\n",
       "</table>\n",
       "</div>"
      ],
      "text/plain": [
       "                                                                    href  \\\n",
       "14125                                                     /30050-got7ing   \n",
       "11526                                                 /4350-dae-jo-yeong   \n",
       "10179  /26992-the-flowers-filled-the-palace-and-missed-the-time-season-1   \n",
       "8242                                               /30980-making-of-bt21   \n",
       "12508                                                     /681279-lodi-x   \n",
       "6364                                              /698855-destined-fated   \n",
       "13818                                         /10399-reply-1994-epilogue   \n",
       "10096                                          /63403-the-moment-special   \n",
       "14311                                                 /8064-fake-fiction   \n",
       "6940                                                        /686593-nana   \n",
       "2276                                          /60733-kyou-kara-ore-wa-sp   \n",
       "10435                                             /23637-city-of-fantasy   \n",
       "15185                                                 /683487-boy-hood-2   \n",
       "14729                                                   /16639-203-kochi   \n",
       "18697                                      /8447-hong-kong-ghost-stories   \n",
       "14027                                 /5696-13-real-asian-horror-stories   \n",
       "9782                                             /3028-a-better-tomorrow   \n",
       "12252                                                       /22897-alien   \n",
       "16242                                           /39177-ogamiya-kaidan-ii   \n",
       "17801                                           /26719-twice-tv-season-6   \n",
       "\n",
       "                                                                                                                                                                                                      synopsis  \\\n",
       "14125                                                                                                                           Second installment of GOT7ing.\\n\"NO script, NO mission, NO game, NO penalty\" !   \n",
       "11526                                                                                               The drama tells the story of the life of Dae Jo Yeong, also known as the founder of the kingdom of Balhae.   \n",
       "10179  The story is about the love triangle between the fourth prince, the crown prince and the number one female scholar – ShuYuan during the Qing dynasty. With the war for love is also the war for the ...   \n",
       "8242                                                                           The members of BTS take part in creating their beloved  LINE  characters - RJ, Shooky, Mang, Koya, Chimmy, Tata, Cooky and VAN.   \n",
       "12508  \"LODI X\" is a survival show created to find the best female idol group in Thailand. Bringing together 20 girl groups, they go through battles to decide the best group chosen by the jury. The show ...   \n",
       "6364                                                                                                                                      Destined/Fated is a story of love, betrayal, family, and friendship.   \n",
       "13818                                                                     Special episodes that show behind the scenes footage and the first meetings with the actors before the filming for the drama starts.   \n",
       "10096                                                                                                                      This is the special episode or behind the scenes episode of the drama \"The Moment\".   \n",
       "14311                                                                                                                                                                 About a con artist posing as a magician.   \n",
       "6940                                                                                                                                                          Adapted from the Japanese Manga of the same name   \n",
       "2276                                                                                                                                                                       Drama special to Kyou Kara Ore wa!!   \n",
       "10435                                                                                                                                                     About the supernatural events occurring in the city.   \n",
       "15185                                                                                                                                                   The stories detailing the aspirations of young people.   \n",
       "14729  Depicts the bloody siege of the fortress Port Arthur during the Russo-Japanese War 1904 - 1905. In the story dominated the character Lt Takeshi Kogyo, teachers, and a reserve officer who became co...   \n",
       "18697  A woman teacher with a broken heart and a prestering ex-boyfriend. A mysterious woman on the run and a ruthless and dangerous lover. A bunch of naughty and mischievous students and a bunch of weir...   \n",
       "14027  Scary stories based on true Japanese incidents.\\nStory 1 - Only two of us\\nStory 2 - Three people are coming\\nStory 3 - Copy Machine\\nStory 4 - Blue Raincoat\\nStory 5 - Animal Odour\\nStory 6 - Sle...   \n",
       "9782   This story is the tale of two brothers: one a successful counterfeiter and the younger a fledgling graduate of the HK police academy. The plot revolves around the split when the younger brother le...   \n",
       "12252  This is the first movie in the Alien series. Lan Jue, a detective with half-alien blood, relies on the Gegula Star to go back twenty years into the past, where he searches for the owner of the rin...   \n",
       "16242  In the far part of the Tohoku region, Gounai Shindou runs a store, Ogamiya, where he solves the problems of his clients with prayers. Only among those problems, there are some that involve superna...   \n",
       "17801  The show follows the nine members of TWICE — Nayeon, Jihyo, Jungyeon, Mina, Sana, Momo, Chaeyoung, Dahyun and Tzuyu — a South Korean girl group formed by JYP Entertainment, in their idol lifes. Th...   \n",
       "\n",
       "       pred  negative_outlier_factor_  \n",
       "14125    -1             -7.838098e+07  \n",
       "11526    -1             -6.989209e+07  \n",
       "10179    -1             -6.594414e+07  \n",
       "8242     -1             -6.434891e+07  \n",
       "12508    -1             -6.418590e+07  \n",
       "6364     -1             -6.418590e+07  \n",
       "13818    -1             -6.152010e+07  \n",
       "10096    -1             -6.012072e+07  \n",
       "14311    -1             -6.012072e+07  \n",
       "6940     -1             -6.012072e+07  \n",
       "2276     -1             -6.012072e+07  \n",
       "10435    -1             -6.012072e+07  \n",
       "15185    -1             -6.012072e+07  \n",
       "14729    -1             -2.337237e+07  \n",
       "18697    -1             -2.212850e+07  \n",
       "14027    -1             -1.973862e+07  \n",
       "9782     -1             -1.512912e+07  \n",
       "12252    -1             -1.460708e+07  \n",
       "16242    -1             -1.354015e+07  \n",
       "17801    -1             -1.293582e+07  "
      ]
     },
     "execution_count": 28,
     "metadata": {},
     "output_type": "execute_result"
    }
   ],
   "source": [
    "data[data[\"pred\"] == -1].sort_values(by=\"negative_outlier_factor_\"\n",
    "                                    )[['href', 'synopsis', 'pred', 'negative_outlier_factor_']].head(20)"
   ]
  },
  {
   "cell_type": "code",
   "execution_count": null,
   "id": "539cf98d-4ae4-4f30-9876-1d6cc4e00a2d",
   "metadata": {},
   "outputs": [],
   "source": []
  }
 ],
 "metadata": {
  "kernelspec": {
   "display_name": "Python 3 (ipykernel)",
   "language": "python",
   "name": "python3"
  },
  "language_info": {
   "codemirror_mode": {
    "name": "ipython",
    "version": 3
   },
   "file_extension": ".py",
   "mimetype": "text/x-python",
   "name": "python",
   "nbconvert_exporter": "python",
   "pygments_lexer": "ipython3",
   "version": "3.10.5"
  }
 },
 "nbformat": 4,
 "nbformat_minor": 5
}
