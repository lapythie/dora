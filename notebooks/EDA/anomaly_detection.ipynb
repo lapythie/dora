{
 "cells": [
  {
   "cell_type": "code",
   "execution_count": 1,
   "id": "78ff8982-ac6e-4976-9655-42c2b3c55118",
   "metadata": {},
   "outputs": [],
   "source": [
    "import json\n",
    "import numpy as np\n",
    "import pandas as pd\n",
    "from collections import Counter\n",
    "\n",
    "from nltk import word_tokenize, sent_tokenize\n",
    "\n",
    "from tqdm.auto import tqdm\n",
    "tqdm.pandas()\n",
    "\n",
    "pd.set_option('display.max_colwidth', 200)"
   ]
  },
  {
   "cell_type": "code",
   "execution_count": 2,
   "id": "161b4803-4e64-40ac-b3e5-5cca5b8922df",
   "metadata": {},
   "outputs": [],
   "source": [
    "with open(\"../data/href2synopsis.json\", encoding=\"utf-8\") as f:\n",
    "    href2synopsis = json.load(f)"
   ]
  },
  {
   "cell_type": "markdown",
   "id": "d74f6694-1997-4e2a-aa8d-845e73c0150f",
   "metadata": {},
   "source": [
    "    Takeaways:\n",
    "        - replace \\n or \\r sequences with single \\n\n",
    "        - use language-specific tokenizer\n",
    "        - when using max_count_token_ratio make sure do delete stopwords\n",
    "            (unless you specifically wish to locate examples with too much stopwords)\n",
    "        - "
   ]
  },
  {
   "cell_type": "markdown",
   "id": "8a2190a7-a0b1-46ea-b8cb-9e995fd1ff91",
   "metadata": {},
   "source": [
    "# BOW stats\n",
    "    # TODO: add actual bow stats"
   ]
  },
  {
   "cell_type": "code",
   "execution_count": 3,
   "id": "05b12d69-ed5e-456b-a366-7de2226a5796",
   "metadata": {},
   "outputs": [],
   "source": [
    "data = pd.DataFrame()\n",
    "\n",
    "data[\"href\"] = href2synopsis.keys()\n",
    "data[\"synopsis\"] = href2synopsis.values()"
   ]
  },
  {
   "cell_type": "code",
   "execution_count": 4,
   "id": "2e34ca49-9d27-46ce-9db5-f449166f6ab2",
   "metadata": {},
   "outputs": [],
   "source": [
    "data = data[data[\"synopsis\"] != \"\"]"
   ]
  },
  {
   "cell_type": "code",
   "execution_count": 5,
   "id": "7544f9ee-3e14-4128-88b3-21a43824cf37",
   "metadata": {},
   "outputs": [],
   "source": [
    "import regex as re\n",
    "\n",
    "data[\"synopsis\"] = data[\"synopsis\"].apply(\n",
    "    lambda x: re.sub(\"\\s*\\n\\s*\", \"\\n\", x).strip()\n",
    ")"
   ]
  },
  {
   "cell_type": "code",
   "execution_count": 7,
   "id": "5f3ee1de-090f-46d6-a82a-334e48342382",
   "metadata": {},
   "outputs": [
    {
     "data": {
      "application/json": {
       "ascii": false,
       "bar_format": null,
       "colour": null,
       "elapsed": 0.04982185363769531,
       "initial": 0,
       "n": 0,
       "ncols": null,
       "nrows": null,
       "postfix": null,
       "prefix": "",
       "rate": null,
       "total": 18374,
       "unit": "it",
       "unit_divisor": 1000,
       "unit_scale": false
      },
      "application/vnd.jupyter.widget-view+json": {
       "model_id": "bf375dbd45f24b5692be8e913c8da530",
       "version_major": 2,
       "version_minor": 0
      },
      "text/plain": [
       "  0%|          | 0/18374 [00:00<?, ?it/s]"
      ]
     },
     "metadata": {},
     "output_type": "display_data"
    },
    {
     "data": {
      "application/json": {
       "ascii": false,
       "bar_format": null,
       "colour": null,
       "elapsed": 0.022817373275756836,
       "initial": 0,
       "n": 0,
       "ncols": null,
       "nrows": null,
       "postfix": null,
       "prefix": "",
       "rate": null,
       "total": 18374,
       "unit": "it",
       "unit_divisor": 1000,
       "unit_scale": false
      },
      "application/vnd.jupyter.widget-view+json": {
       "model_id": "c1ebda8798e94ff98222bf770b7fce1b",
       "version_major": 2,
       "version_minor": 0
      },
      "text/plain": [
       "  0%|          | 0/18374 [00:00<?, ?it/s]"
      ]
     },
     "metadata": {},
     "output_type": "display_data"
    },
    {
     "data": {
      "application/json": {
       "ascii": false,
       "bar_format": null,
       "colour": null,
       "elapsed": 0.03393292427062988,
       "initial": 0,
       "n": 0,
       "ncols": null,
       "nrows": null,
       "postfix": null,
       "prefix": "",
       "rate": null,
       "total": 18374,
       "unit": "it",
       "unit_divisor": 1000,
       "unit_scale": false
      },
      "application/vnd.jupyter.widget-view+json": {
       "model_id": "edee7b570ca247d4b0ba9dad4fffd71a",
       "version_major": 2,
       "version_minor": 0
      },
      "text/plain": [
       "  0%|          | 0/18374 [00:00<?, ?it/s]"
      ]
     },
     "metadata": {},
     "output_type": "display_data"
    },
    {
     "data": {
      "application/json": {
       "ascii": false,
       "bar_format": null,
       "colour": null,
       "elapsed": 0.037980079650878906,
       "initial": 0,
       "n": 0,
       "ncols": null,
       "nrows": null,
       "postfix": null,
       "prefix": "",
       "rate": null,
       "total": 18374,
       "unit": "it",
       "unit_divisor": 1000,
       "unit_scale": false
      },
      "application/vnd.jupyter.widget-view+json": {
       "model_id": "616113aa37ac4442b4f4543007487c4e",
       "version_major": 2,
       "version_minor": 0
      },
      "text/plain": [
       "  0%|          | 0/18374 [00:00<?, ?it/s]"
      ]
     },
     "metadata": {},
     "output_type": "display_data"
    },
    {
     "data": {
      "application/json": {
       "ascii": false,
       "bar_format": null,
       "colour": null,
       "elapsed": 0.04798746109008789,
       "initial": 0,
       "n": 0,
       "ncols": null,
       "nrows": null,
       "postfix": null,
       "prefix": "",
       "rate": null,
       "total": 18374,
       "unit": "it",
       "unit_divisor": 1000,
       "unit_scale": false
      },
      "application/vnd.jupyter.widget-view+json": {
       "model_id": "74e732386e554a6fb0b33c8727ae4893",
       "version_major": 2,
       "version_minor": 0
      },
      "text/plain": [
       "  0%|          | 0/18374 [00:00<?, ?it/s]"
      ]
     },
     "metadata": {},
     "output_type": "display_data"
    }
   ],
   "source": [
    "data[\"min_ord\"] = data[\"synopsis\"].progress_apply(\n",
    "    lambda s: min([ord(char) for char in s])\n",
    ")\n",
    "\n",
    "data[\"max_ord\"] = data[\"synopsis\"].progress_apply(\n",
    "    lambda s: max([ord(char) for char in s])\n",
    ")\n",
    "\n",
    "data[\"mean_ord\"] = data[\"synopsis\"].progress_apply(\n",
    "    lambda s: np.mean([ord(char) for char in s])\n",
    ")\n",
    "\n",
    "data[\"median_ord\"] = data[\"synopsis\"].progress_apply(\n",
    "    lambda s: np.median([ord(char) for char in s])\n",
    ")\n",
    "\n",
    "data[\"mode_ord\"] = data[\"synopsis\"].progress_apply(\n",
    "    lambda s: Counter([ord(char) for char in s]).most_common()[0][0]\n",
    ")"
   ]
  },
  {
   "cell_type": "code",
   "execution_count": 8,
   "id": "1f507345-ba1b-4d57-9a15-dc8c29e1c811",
   "metadata": {
    "tags": []
   },
   "outputs": [
    {
     "data": {
      "application/json": {
       "ascii": false,
       "bar_format": null,
       "colour": null,
       "elapsed": 0.05733942985534668,
       "initial": 0,
       "n": 0,
       "ncols": null,
       "nrows": null,
       "postfix": null,
       "prefix": "",
       "rate": null,
       "total": 18374,
       "unit": "it",
       "unit_divisor": 1000,
       "unit_scale": false
      },
      "application/vnd.jupyter.widget-view+json": {
       "model_id": "fe07d7c2742e4b489c7b432ba2448b5e",
       "version_major": 2,
       "version_minor": 0
      },
      "text/plain": [
       "  0%|          | 0/18374 [00:00<?, ?it/s]"
      ]
     },
     "metadata": {},
     "output_type": "display_data"
    },
    {
     "data": {
      "application/json": {
       "ascii": false,
       "bar_format": null,
       "colour": null,
       "elapsed": 0.047983646392822266,
       "initial": 0,
       "n": 0,
       "ncols": null,
       "nrows": null,
       "postfix": null,
       "prefix": "",
       "rate": null,
       "total": 18374,
       "unit": "it",
       "unit_divisor": 1000,
       "unit_scale": false
      },
      "application/vnd.jupyter.widget-view+json": {
       "model_id": "7af7517c66df4040be4b5a0c38409e3a",
       "version_major": 2,
       "version_minor": 0
      },
      "text/plain": [
       "  0%|          | 0/18374 [00:00<?, ?it/s]"
      ]
     },
     "metadata": {},
     "output_type": "display_data"
    },
    {
     "data": {
      "application/json": {
       "ascii": false,
       "bar_format": null,
       "colour": null,
       "elapsed": 0.02808856964111328,
       "initial": 0,
       "n": 0,
       "ncols": null,
       "nrows": null,
       "postfix": null,
       "prefix": "",
       "rate": null,
       "total": 18374,
       "unit": "it",
       "unit_divisor": 1000,
       "unit_scale": false
      },
      "application/vnd.jupyter.widget-view+json": {
       "model_id": "b0c71aaeda054dc4b38060fd3cccccef",
       "version_major": 2,
       "version_minor": 0
      },
      "text/plain": [
       "  0%|          | 0/18374 [00:00<?, ?it/s]"
      ]
     },
     "metadata": {},
     "output_type": "display_data"
    },
    {
     "data": {
      "application/json": {
       "ascii": false,
       "bar_format": null,
       "colour": null,
       "elapsed": 0.027060985565185547,
       "initial": 0,
       "n": 0,
       "ncols": null,
       "nrows": null,
       "postfix": null,
       "prefix": "",
       "rate": null,
       "total": 18374,
       "unit": "it",
       "unit_divisor": 1000,
       "unit_scale": false
      },
      "application/vnd.jupyter.widget-view+json": {
       "model_id": "b74f7c87e26b45299d9e70693a1c77ab",
       "version_major": 2,
       "version_minor": 0
      },
      "text/plain": [
       "  0%|          | 0/18374 [00:00<?, ?it/s]"
      ]
     },
     "metadata": {},
     "output_type": "display_data"
    },
    {
     "data": {
      "application/json": {
       "ascii": false,
       "bar_format": null,
       "colour": null,
       "elapsed": 0.014492511749267578,
       "initial": 0,
       "n": 0,
       "ncols": null,
       "nrows": null,
       "postfix": null,
       "prefix": "",
       "rate": null,
       "total": 18374,
       "unit": "it",
       "unit_divisor": 1000,
       "unit_scale": false
      },
      "application/vnd.jupyter.widget-view+json": {
       "model_id": "805ac9ec5ed04bfe927770bad7cac9cc",
       "version_major": 2,
       "version_minor": 0
      },
      "text/plain": [
       "  0%|          | 0/18374 [00:00<?, ?it/s]"
      ]
     },
     "metadata": {},
     "output_type": "display_data"
    }
   ],
   "source": [
    "data[\"mode_count\"] = data[\"synopsis\"].progress_apply(\n",
    "    lambda s: Counter(s).most_common()[0][1]\n",
    ")\n",
    "\n",
    "data[\"mode_ratio\"] = data[\"synopsis\"].progress_apply(\n",
    "    lambda s: Counter(s).most_common()[0][1]/len(s)\n",
    ")\n",
    "\n",
    "data[\"mean_char_count\"] = data[\"synopsis\"].progress_apply(\n",
    "    lambda s: np.mean(list(Counter(s).values()))\n",
    ")\n",
    "\n",
    "data[\"mean_token_count\"] = data[\"synopsis\"].progress_apply(\n",
    "    lambda s: np.mean(list(Counter([w.lower() for w in word_tokenize(s)]).values()))\n",
    ")\n",
    "\n",
    "data[\"max_count_token_ratio\"] = data[\"synopsis\"].progress_apply(\n",
    "    lambda s: Counter([w.lower() for w in word_tokenize(s)]).most_common()[0][1]/len(word_tokenize(s))\n",
    ")"
   ]
  },
  {
   "cell_type": "code",
   "execution_count": 9,
   "id": "2dd541f4-1601-446a-b14e-c100b4331516",
   "metadata": {},
   "outputs": [],
   "source": [
    "from stopwordsiso import stopwords"
   ]
  },
  {
   "cell_type": "code",
   "execution_count": 10,
   "id": "6c21c0a4-725f-4734-be12-f661afe1f278",
   "metadata": {},
   "outputs": [
    {
     "data": {
      "application/json": {
       "ascii": false,
       "bar_format": null,
       "colour": null,
       "elapsed": 0.03875565528869629,
       "initial": 0,
       "n": 0,
       "ncols": null,
       "nrows": null,
       "postfix": null,
       "prefix": "",
       "rate": null,
       "total": 18374,
       "unit": "it",
       "unit_divisor": 1000,
       "unit_scale": false
      },
      "application/vnd.jupyter.widget-view+json": {
       "model_id": "018bf749e8934809b905295dda5d0273",
       "version_major": 2,
       "version_minor": 0
      },
      "text/plain": [
       "  0%|          | 0/18374 [00:00<?, ?it/s]"
      ]
     },
     "metadata": {},
     "output_type": "display_data"
    }
   ],
   "source": [
    "def max_count_token_ratio_no_stops(text, stopwords=stopwords(\"en\")):\n",
    "    words = word_tokenize(text)\n",
    "    counter = Counter()\n",
    "    for w in words:\n",
    "        lowered = w.lower()\n",
    "        if lowered not in stopwords:\n",
    "            counter.update([lowered])\n",
    "    if not counter:\n",
    "        return 0.\n",
    "    return counter.most_common()[0][1]/len(words)\n",
    "\n",
    "# data[\"max_count_token_ratio_stops\"] = data[\"synopsis\"].progress_apply(max_count_token_ratio_stops)\n",
    "data[\"max_count_token_ratio_no_stops\"] = data[\"synopsis\"].progress_apply(max_count_token_ratio_no_stops)"
   ]
  },
  {
   "cell_type": "code",
   "execution_count": 11,
   "id": "2b001110-3de6-47f6-819b-0fa70adfedb1",
   "metadata": {},
   "outputs": [
    {
     "data": {
      "application/json": {
       "ascii": false,
       "bar_format": null,
       "colour": null,
       "elapsed": 0.030876636505126953,
       "initial": 0,
       "n": 0,
       "ncols": null,
       "nrows": null,
       "postfix": null,
       "prefix": "",
       "rate": null,
       "total": 18374,
       "unit": "it",
       "unit_divisor": 1000,
       "unit_scale": false
      },
      "application/vnd.jupyter.widget-view+json": {
       "model_id": "60edf3361a124fba88ae82726a813aba",
       "version_major": 2,
       "version_minor": 0
      },
      "text/plain": [
       "  0%|          | 0/18374 [00:00<?, ?it/s]"
      ]
     },
     "metadata": {},
     "output_type": "display_data"
    },
    {
     "data": {
      "application/json": {
       "ascii": false,
       "bar_format": null,
       "colour": null,
       "elapsed": 0.04689812660217285,
       "initial": 0,
       "n": 0,
       "ncols": null,
       "nrows": null,
       "postfix": null,
       "prefix": "",
       "rate": null,
       "total": 18374,
       "unit": "it",
       "unit_divisor": 1000,
       "unit_scale": false
      },
      "application/vnd.jupyter.widget-view+json": {
       "model_id": "e7817a485f9940ee8f0fc042d8b13257",
       "version_major": 2,
       "version_minor": 0
      },
      "text/plain": [
       "  0%|          | 0/18374 [00:00<?, ?it/s]"
      ]
     },
     "metadata": {},
     "output_type": "display_data"
    },
    {
     "data": {
      "application/json": {
       "ascii": false,
       "bar_format": null,
       "colour": null,
       "elapsed": 0.017781734466552734,
       "initial": 0,
       "n": 0,
       "ncols": null,
       "nrows": null,
       "postfix": null,
       "prefix": "",
       "rate": null,
       "total": 18374,
       "unit": "it",
       "unit_divisor": 1000,
       "unit_scale": false
      },
      "application/vnd.jupyter.widget-view+json": {
       "model_id": "60ae953707294f35bff4503a41456dd4",
       "version_major": 2,
       "version_minor": 0
      },
      "text/plain": [
       "  0%|          | 0/18374 [00:00<?, ?it/s]"
      ]
     },
     "metadata": {},
     "output_type": "display_data"
    }
   ],
   "source": [
    "data[\"char_total\"] = data[\"synopsis\"].progress_apply(len)\n",
    "data[\"token_total\"] = data[\"synopsis\"].progress_apply(\n",
    "    lambda x: len(word_tokenize(x))\n",
    ")\n",
    "data[\"sent_total\"] = data[\"synopsis\"].progress_apply(\n",
    "    lambda x: len([sent for line in x.split(\"\\n\") for sent in  sent_tokenize(line) if line.strip()])\n",
    ")"
   ]
  },
  {
   "cell_type": "code",
   "execution_count": 27,
   "id": "ecf37e02-fcb7-415d-9bb2-5ef90e7e964f",
   "metadata": {},
   "outputs": [
    {
     "data": {
      "application/json": {
       "ascii": false,
       "bar_format": null,
       "colour": null,
       "elapsed": 0.029372453689575195,
       "initial": 0,
       "n": 0,
       "ncols": null,
       "nrows": 31,
       "postfix": null,
       "prefix": "",
       "rate": null,
       "total": 19393,
       "unit": "it",
       "unit_divisor": 1000,
       "unit_scale": false
      },
      "application/vnd.jupyter.widget-view+json": {
       "model_id": "702511647edf426d9f15c117f07c1693",
       "version_major": 2,
       "version_minor": 0
      },
      "text/plain": [
       "  0%|          | 0/19393 [00:00<?, ?it/s]"
      ]
     },
     "metadata": {},
     "output_type": "display_data"
    }
   ],
   "source": [
    "# data[\"lines_total\"] = data[\"synopsis\"].progress_apply(lambda x: len(x.split(\"\\n\")))"
   ]
  },
  {
   "cell_type": "code",
   "execution_count": 12,
   "id": "7bfe7015-9c56-4eff-af20-1559fb2a9e87",
   "metadata": {},
   "outputs": [
    {
     "data": {
      "application/json": {
       "ascii": false,
       "bar_format": null,
       "colour": null,
       "elapsed": 0.02792954444885254,
       "initial": 0,
       "n": 0,
       "ncols": null,
       "nrows": null,
       "postfix": null,
       "prefix": "",
       "rate": null,
       "total": 18374,
       "unit": "it",
       "unit_divisor": 1000,
       "unit_scale": false
      },
      "application/vnd.jupyter.widget-view+json": {
       "model_id": "b048806a5bf94e82b599c14d5b8b21df",
       "version_major": 2,
       "version_minor": 0
      },
      "text/plain": [
       "  0%|          | 0/18374 [00:00<?, ?it/s]"
      ]
     },
     "metadata": {},
     "output_type": "display_data"
    },
    {
     "data": {
      "application/json": {
       "ascii": false,
       "bar_format": null,
       "colour": null,
       "elapsed": 0.016978740692138672,
       "initial": 0,
       "n": 0,
       "ncols": null,
       "nrows": null,
       "postfix": null,
       "prefix": "",
       "rate": null,
       "total": 18374,
       "unit": "it",
       "unit_divisor": 1000,
       "unit_scale": false
      },
      "application/vnd.jupyter.widget-view+json": {
       "model_id": "96b9045d27244779bfcc05e023ad766b",
       "version_major": 2,
       "version_minor": 0
      },
      "text/plain": [
       "  0%|          | 0/18374 [00:00<?, ?it/s]"
      ]
     },
     "metadata": {},
     "output_type": "display_data"
    },
    {
     "data": {
      "application/json": {
       "ascii": false,
       "bar_format": null,
       "colour": null,
       "elapsed": 0.01764655113220215,
       "initial": 0,
       "n": 0,
       "ncols": null,
       "nrows": null,
       "postfix": null,
       "prefix": "",
       "rate": null,
       "total": 18374,
       "unit": "it",
       "unit_divisor": 1000,
       "unit_scale": false
      },
      "application/vnd.jupyter.widget-view+json": {
       "model_id": "7b88e89da10741acae61f0800f7b6541",
       "version_major": 2,
       "version_minor": 0
      },
      "text/plain": [
       "  0%|          | 0/18374 [00:00<?, ?it/s]"
      ]
     },
     "metadata": {},
     "output_type": "display_data"
    }
   ],
   "source": [
    "data[\"token_max_char_len\"] = data[\"synopsis\"].progress_apply(\n",
    "    lambda x: max([len(t) for t in word_tokenize(x)]) if x.strip() else 0\n",
    ")\n",
    "\n",
    "data[\"sent_max_char_len\"] = data[\"synopsis\"].progress_apply(\n",
    "    lambda x: max([len(t) for t in sent_tokenize(x)]) if x.strip() else 0\n",
    ")\n",
    "\n",
    "data[\"line_max_char_len\"] = data[\"synopsis\"].progress_apply(\n",
    "    lambda x: max([len(t) for t in x.split(\"\\n\")]) if x.strip() else 0\n",
    ")"
   ]
  },
  {
   "cell_type": "code",
   "execution_count": 13,
   "id": "e6d30ba1-dd5e-4d12-87d8-c7e54047486c",
   "metadata": {},
   "outputs": [],
   "source": [
    "data[\"sent_char_ratio\"] = [t.sent_total/t.char_total for t in data.itertuples()]\n",
    "data[\"sent_token_ratio\"] = [t.sent_total/t.token_total for t in data.itertuples()]\n",
    "data[\"token_char_ratio\"] = [t.token_total/t.char_total for t in data.itertuples()]\n",
    "data[\"token_sent_ratio\"] = [t.token_total/t.sent_total for t in data.itertuples()]\n",
    "data[\"char_sent_ratio\"] = [t.char_total/t.sent_total for t in data.itertuples()]\n",
    "data[\"char_token_ratio\"] = [t.char_total/t.token_total for t in data.itertuples()]"
   ]
  },
  {
   "cell_type": "code",
   "execution_count": 15,
   "id": "37083f6a-439f-4805-8333-cc2268e8e1c6",
   "metadata": {},
   "outputs": [
    {
     "data": {
      "text/html": [
       "<div>\n",
       "<style scoped>\n",
       "    .dataframe tbody tr th:only-of-type {\n",
       "        vertical-align: middle;\n",
       "    }\n",
       "\n",
       "    .dataframe tbody tr th {\n",
       "        vertical-align: top;\n",
       "    }\n",
       "\n",
       "    .dataframe thead th {\n",
       "        text-align: right;\n",
       "    }\n",
       "</style>\n",
       "<table border=\"1\" class=\"dataframe\">\n",
       "  <thead>\n",
       "    <tr style=\"text-align: right;\">\n",
       "      <th></th>\n",
       "      <th>min_ord</th>\n",
       "      <th>max_ord</th>\n",
       "      <th>mean_ord</th>\n",
       "      <th>median_ord</th>\n",
       "      <th>mode_ord</th>\n",
       "      <th>mode_count</th>\n",
       "      <th>mode_ratio</th>\n",
       "      <th>mean_char_count</th>\n",
       "      <th>mean_token_count</th>\n",
       "      <th>max_count_token_ratio</th>\n",
       "      <th>...</th>\n",
       "      <th>sent_total</th>\n",
       "      <th>token_max_char_len</th>\n",
       "      <th>sent_max_char_len</th>\n",
       "      <th>line_max_char_len</th>\n",
       "      <th>sent_char_ratio</th>\n",
       "      <th>sent_token_ratio</th>\n",
       "      <th>token_char_ratio</th>\n",
       "      <th>token_sent_ratio</th>\n",
       "      <th>char_sent_ratio</th>\n",
       "      <th>char_token_ratio</th>\n",
       "    </tr>\n",
       "  </thead>\n",
       "  <tbody>\n",
       "    <tr>\n",
       "      <th>count</th>\n",
       "      <td>18374.00</td>\n",
       "      <td>18374.00</td>\n",
       "      <td>18374.00</td>\n",
       "      <td>18374.00</td>\n",
       "      <td>18374.00</td>\n",
       "      <td>18374.00</td>\n",
       "      <td>18374.00</td>\n",
       "      <td>18374.00</td>\n",
       "      <td>18374.00</td>\n",
       "      <td>18374.00</td>\n",
       "      <td>...</td>\n",
       "      <td>18374.00</td>\n",
       "      <td>18374.00</td>\n",
       "      <td>18374.00</td>\n",
       "      <td>18374.00</td>\n",
       "      <td>18374.00</td>\n",
       "      <td>18374.00</td>\n",
       "      <td>18374.00</td>\n",
       "      <td>18374.00</td>\n",
       "      <td>18374.00</td>\n",
       "      <td>18374.00</td>\n",
       "    </tr>\n",
       "    <tr>\n",
       "      <th>mean</th>\n",
       "      <td>17.55</td>\n",
       "      <td>5485.71</td>\n",
       "      <td>164.34</td>\n",
       "      <td>104.31</td>\n",
       "      <td>33.29</td>\n",
       "      <td>88.63</td>\n",
       "      <td>0.17</td>\n",
       "      <td>12.25</td>\n",
       "      <td>1.43</td>\n",
       "      <td>0.07</td>\n",
       "      <td>...</td>\n",
       "      <td>5.44</td>\n",
       "      <td>12.32</td>\n",
       "      <td>157.41</td>\n",
       "      <td>392.94</td>\n",
       "      <td>0.01</td>\n",
       "      <td>0.06</td>\n",
       "      <td>0.20</td>\n",
       "      <td>19.92</td>\n",
       "      <td>99.24</td>\n",
       "      <td>4.97</td>\n",
       "    </tr>\n",
       "    <tr>\n",
       "      <th>std</th>\n",
       "      <td>10.47</td>\n",
       "      <td>11839.38</td>\n",
       "      <td>329.14</td>\n",
       "      <td>95.17</td>\n",
       "      <td>90.66</td>\n",
       "      <td>61.00</td>\n",
       "      <td>0.02</td>\n",
       "      <td>6.83</td>\n",
       "      <td>0.24</td>\n",
       "      <td>0.04</td>\n",
       "      <td>...</td>\n",
       "      <td>3.64</td>\n",
       "      <td>2.94</td>\n",
       "      <td>61.00</td>\n",
       "      <td>230.86</td>\n",
       "      <td>0.02</td>\n",
       "      <td>0.04</td>\n",
       "      <td>0.02</td>\n",
       "      <td>6.83</td>\n",
       "      <td>36.10</td>\n",
       "      <td>1.01</td>\n",
       "    </tr>\n",
       "    <tr>\n",
       "      <th>min</th>\n",
       "      <td>9.00</td>\n",
       "      <td>45.00</td>\n",
       "      <td>45.00</td>\n",
       "      <td>45.00</td>\n",
       "      <td>32.00</td>\n",
       "      <td>1.00</td>\n",
       "      <td>0.02</td>\n",
       "      <td>1.00</td>\n",
       "      <td>1.00</td>\n",
       "      <td>0.03</td>\n",
       "      <td>...</td>\n",
       "      <td>1.00</td>\n",
       "      <td>1.00</td>\n",
       "      <td>1.00</td>\n",
       "      <td>1.00</td>\n",
       "      <td>0.00</td>\n",
       "      <td>0.01</td>\n",
       "      <td>0.01</td>\n",
       "      <td>1.00</td>\n",
       "      <td>1.00</td>\n",
       "      <td>1.00</td>\n",
       "    </tr>\n",
       "    <tr>\n",
       "      <th>25%</th>\n",
       "      <td>10.00</td>\n",
       "      <td>121.00</td>\n",
       "      <td>91.13</td>\n",
       "      <td>103.00</td>\n",
       "      <td>32.00</td>\n",
       "      <td>44.00</td>\n",
       "      <td>0.16</td>\n",
       "      <td>7.16</td>\n",
       "      <td>1.25</td>\n",
       "      <td>0.05</td>\n",
       "      <td>...</td>\n",
       "      <td>3.00</td>\n",
       "      <td>11.00</td>\n",
       "      <td>118.00</td>\n",
       "      <td>225.00</td>\n",
       "      <td>0.01</td>\n",
       "      <td>0.04</td>\n",
       "      <td>0.19</td>\n",
       "      <td>15.50</td>\n",
       "      <td>76.33</td>\n",
       "      <td>4.73</td>\n",
       "    </tr>\n",
       "    <tr>\n",
       "      <th>50%</th>\n",
       "      <td>10.00</td>\n",
       "      <td>121.00</td>\n",
       "      <td>92.31</td>\n",
       "      <td>104.00</td>\n",
       "      <td>32.00</td>\n",
       "      <td>77.00</td>\n",
       "      <td>0.17</td>\n",
       "      <td>11.20</td>\n",
       "      <td>1.42</td>\n",
       "      <td>0.07</td>\n",
       "      <td>...</td>\n",
       "      <td>5.00</td>\n",
       "      <td>12.00</td>\n",
       "      <td>151.00</td>\n",
       "      <td>363.50</td>\n",
       "      <td>0.01</td>\n",
       "      <td>0.05</td>\n",
       "      <td>0.20</td>\n",
       "      <td>19.00</td>\n",
       "      <td>94.44</td>\n",
       "      <td>4.95</td>\n",
       "    </tr>\n",
       "    <tr>\n",
       "      <th>75%</th>\n",
       "      <td>32.00</td>\n",
       "      <td>8217.00</td>\n",
       "      <td>108.58</td>\n",
       "      <td>104.00</td>\n",
       "      <td>32.00</td>\n",
       "      <td>120.00</td>\n",
       "      <td>0.18</td>\n",
       "      <td>16.08</td>\n",
       "      <td>1.59</td>\n",
       "      <td>0.08</td>\n",
       "      <td>...</td>\n",
       "      <td>7.00</td>\n",
       "      <td>13.00</td>\n",
       "      <td>188.00</td>\n",
       "      <td>515.00</td>\n",
       "      <td>0.01</td>\n",
       "      <td>0.06</td>\n",
       "      <td>0.21</td>\n",
       "      <td>23.12</td>\n",
       "      <td>116.00</td>\n",
       "      <td>5.18</td>\n",
       "    </tr>\n",
       "    <tr>\n",
       "      <th>max</th>\n",
       "      <td>65.00</td>\n",
       "      <td>65374.00</td>\n",
       "      <td>18556.63</td>\n",
       "      <td>12516.00</td>\n",
       "      <td>12290.00</td>\n",
       "      <td>1017.00</td>\n",
       "      <td>1.00</td>\n",
       "      <td>93.53</td>\n",
       "      <td>2.84</td>\n",
       "      <td>1.00</td>\n",
       "      <td>...</td>\n",
       "      <td>79.00</td>\n",
       "      <td>188.00</td>\n",
       "      <td>1692.00</td>\n",
       "      <td>2865.00</td>\n",
       "      <td>1.00</td>\n",
       "      <td>1.00</td>\n",
       "      <td>1.00</td>\n",
       "      <td>118.00</td>\n",
       "      <td>727.00</td>\n",
       "      <td>130.15</td>\n",
       "    </tr>\n",
       "  </tbody>\n",
       "</table>\n",
       "<p>8 rows × 23 columns</p>\n",
       "</div>"
      ],
      "text/plain": [
       "        min_ord   max_ord  mean_ord  median_ord  mode_ord  mode_count  \\\n",
       "count  18374.00  18374.00  18374.00    18374.00  18374.00    18374.00   \n",
       "mean      17.55   5485.71    164.34      104.31     33.29       88.63   \n",
       "std       10.47  11839.38    329.14       95.17     90.66       61.00   \n",
       "min        9.00     45.00     45.00       45.00     32.00        1.00   \n",
       "25%       10.00    121.00     91.13      103.00     32.00       44.00   \n",
       "50%       10.00    121.00     92.31      104.00     32.00       77.00   \n",
       "75%       32.00   8217.00    108.58      104.00     32.00      120.00   \n",
       "max       65.00  65374.00  18556.63    12516.00  12290.00     1017.00   \n",
       "\n",
       "       mode_ratio  mean_char_count  mean_token_count  max_count_token_ratio  \\\n",
       "count    18374.00         18374.00          18374.00               18374.00   \n",
       "mean         0.17            12.25              1.43                   0.07   \n",
       "std          0.02             6.83              0.24                   0.04   \n",
       "min          0.02             1.00              1.00                   0.03   \n",
       "25%          0.16             7.16              1.25                   0.05   \n",
       "50%          0.17            11.20              1.42                   0.07   \n",
       "75%          0.18            16.08              1.59                   0.08   \n",
       "max          1.00            93.53              2.84                   1.00   \n",
       "\n",
       "       ...  sent_total  token_max_char_len  sent_max_char_len  \\\n",
       "count  ...    18374.00            18374.00           18374.00   \n",
       "mean   ...        5.44               12.32             157.41   \n",
       "std    ...        3.64                2.94              61.00   \n",
       "min    ...        1.00                1.00               1.00   \n",
       "25%    ...        3.00               11.00             118.00   \n",
       "50%    ...        5.00               12.00             151.00   \n",
       "75%    ...        7.00               13.00             188.00   \n",
       "max    ...       79.00              188.00            1692.00   \n",
       "\n",
       "       line_max_char_len  sent_char_ratio  sent_token_ratio  token_char_ratio  \\\n",
       "count           18374.00         18374.00          18374.00          18374.00   \n",
       "mean              392.94             0.01              0.06              0.20   \n",
       "std               230.86             0.02              0.04              0.02   \n",
       "min                 1.00             0.00              0.01              0.01   \n",
       "25%               225.00             0.01              0.04              0.19   \n",
       "50%               363.50             0.01              0.05              0.20   \n",
       "75%               515.00             0.01              0.06              0.21   \n",
       "max              2865.00             1.00              1.00              1.00   \n",
       "\n",
       "       token_sent_ratio  char_sent_ratio  char_token_ratio  \n",
       "count          18374.00         18374.00          18374.00  \n",
       "mean              19.92            99.24              4.97  \n",
       "std                6.83            36.10              1.01  \n",
       "min                1.00             1.00              1.00  \n",
       "25%               15.50            76.33              4.73  \n",
       "50%               19.00            94.44              4.95  \n",
       "75%               23.12           116.00              5.18  \n",
       "max              118.00           727.00            130.15  \n",
       "\n",
       "[8 rows x 23 columns]"
      ]
     },
     "execution_count": 15,
     "metadata": {},
     "output_type": "execute_result"
    }
   ],
   "source": [
    "data.describe().round(2)"
   ]
  },
  {
   "cell_type": "code",
   "execution_count": 16,
   "id": "a9e2f70f-f979-41fd-9510-cefafa51031d",
   "metadata": {},
   "outputs": [],
   "source": [
    "stats = data.drop(columns=[\"href\", \"synopsis\"]) #.drop(columns=[\"line_max_char_len\"])"
   ]
  },
  {
   "cell_type": "markdown",
   "id": "55b0182b-a22c-4772-a131-4192604d0e1d",
   "metadata": {},
   "source": [
    "# Outlier detection\n",
    "\n",
    "[The svm.OneClassSVM is known to be sensitive to outliers and thus does not perform very well for outlier detection](https://scikit-learn.org/stable/modules/outlier_detection.html#outlier-detection)"
   ]
  },
  {
   "cell_type": "code",
   "execution_count": 17,
   "id": "2ab5f722-23fd-4880-b752-36fa8d209af3",
   "metadata": {},
   "outputs": [],
   "source": [
    "from sklearn.neighbors import LocalOutlierFactor\n",
    "from sklearn.ensemble import IsolationForest"
   ]
  },
  {
   "cell_type": "code",
   "execution_count": 22,
   "id": "798402a9",
   "metadata": {},
   "outputs": [
    {
     "data": {
      "text/plain": [
       "Index(['min_ord', 'max_ord', 'mean_ord', 'median_ord', 'mode_ord',\n",
       "       'mode_count', 'mode_ratio', 'mean_char_count', 'mean_token_count',\n",
       "       'max_count_token_ratio', 'max_count_token_ratio_no_stops', 'char_total',\n",
       "       'token_total', 'sent_total', 'token_max_char_len', 'sent_max_char_len',\n",
       "       'line_max_char_len', 'sent_char_ratio', 'sent_token_ratio',\n",
       "       'token_char_ratio', 'token_sent_ratio', 'char_sent_ratio',\n",
       "       'char_token_ratio'],\n",
       "      dtype='object')"
      ]
     },
     "execution_count": 22,
     "metadata": {},
     "output_type": "execute_result"
    }
   ],
   "source": [
    "stats.columns"
   ]
  },
  {
   "cell_type": "code",
   "execution_count": 23,
   "id": "8a388991-78ad-47dd-817f-9a3f4ffa0b64",
   "metadata": {},
   "outputs": [],
   "source": [
    "# clf = LocalOutlierFactor(n_neighbors=20)\n",
    "# preds = clf.fit_predict(stats)\n",
    "\n",
    "clf = IsolationForest(random_state=0)\n",
    "preds = clf.fit_predict(stats)\n",
    "\n",
    "\n",
    "data[\"pred\"] = preds\n",
    "# data[\"negative_outlier_factor_\"] = clf.negative_outlier_factor_"
   ]
  },
  {
   "cell_type": "code",
   "execution_count": 28,
   "id": "177f4c41",
   "metadata": {},
   "outputs": [
    {
     "data": {
      "text/plain": [
       " 1    17200\n",
       "-1     1174\n",
       "Name: pred, dtype: int64"
      ]
     },
     "execution_count": 28,
     "metadata": {},
     "output_type": "execute_result"
    }
   ],
   "source": [
    "data[\"pred\"].value_counts()"
   ]
  },
  {
   "cell_type": "code",
   "execution_count": 30,
   "id": "a87341ab-da27-4bce-8fc6-fa15a5ca0cd4",
   "metadata": {},
   "outputs": [
    {
     "data": {
      "text/plain": [
       "['An apartment. Two Nights. A strange romance between a lonely policeman and a senior player.\\n(Source: GagaOOLala)',\n",
       " 'Special Clips of A River Runs Through It.',\n",
       " \"Four men and women can't sleep because of love.\\n(Source: ARIRANG K-POP on YouTube)\",\n",
       " \"One year has passed since Take Seiji became a full time employee at Oetsu Construction. The Take family, having moved into their new home, have been living there peacefully until Sumiko’s brother shows up one day while she is out, and Seiji and Ayako discovers that their parents had in fact married despite objection from Sumiko’s family.\\nAlso, Manami, in the midst of her internship in Okayama, is coming back to Tokyo for a week, and so Seiji and Manami are finally able to reunite. Manami’s father had passed away when she was young and her mother, Sayuri, had remarried since then. Growing up in such an environment, Manami had fostered a complicated relationship with her mother, and because of that the prospect of marriage wasn`t appealing to her.\\nSeiji, having just started his new life, hadn’t really given much thought to marriage, but after meeting Manami’s mother, he is shocked to learn how Manami feels about her mother and towards marriage. But one day, on the way home from drinking with the Oetsu Construction members, Seiji and Manami come across an abandoned kitty. After promising to take care of the kitty only until a new owner is found, Manami is able to take care of the kitty at her mother`s home. But, while Manami is out at work, the kitty becomes ill and Manami's mother not knowing what to do contacts Manami and so Seiji decides to take care of the kitty in the meantime. And, the very presence of the kitty becomes a turning point for both the Take family and Manami`s relationship with her mother...\\n(Source: Fuji TV)\",\n",
       " '~~ Adapted from the manga series \"Cho Ningen Yosai: Hiroshi Senki\" (超人間要塞ヒロシ戦記) written by Oma Kuro (大間九郎) and illustrated by Matsuda Kota (まつだこうた).',\n",
       " \"Kep1er's first travel reality show.\",\n",
       " 'He is an audio technician, an unromantic man looking for the most romantic sound on earth. In an unexpected encounter, he comes across two of the most romantic things — a beautiful recreational vehicle and its beautiful owner.  The girl loves to travel the world, and the boy hopes to find the most soul-soothing sound in nature.  Pursuing their dreams, they decide to travel together in the recreational vehicle. As they journey through picturesque sites and scenes, the girl helps him to regain his sensitivity, and the boy teaches her how to value life.  Their doubt for each other starts turning into love. Unfortunately, as he falls more deeply for her, the boy discovers that the girl is at the end of her life. She dreams of finding a legendary tree house where she can leave the world overlooking her hometown from afar. The boy decides to accompany her until her last days. But he never gets a chance to see her in her last moments. In order to leave him with the most beautiful memory, the girl rather leaves him quietly without saying good-bye.  Devastated, the boy goes back home and hibernates for months.  In the depth of his darkest time, the girl suddenly reappears before him, with a brand new look and attitude.  She seems to be a totally different girl! He cannot believe, nor can he accept it. What on earth has happened?',\n",
       " 'As a veterinarian, Vivienne knows exactly what to do when a pet is brought into her clinic. Using her skill and expertise, she can help better the lives of the pets she meets on a daily basis; but when it comes to the people who own them, things can get a little more complicated. For instance, Zha is a loyal golden retriever whose owner, Jiang Nan, struggles to find a way to help her best friend, Chen Yue Yun, after recently losing his sight. Having been best friends since childhood, Jiang Nan refuses to let him go through this difficult time alone but she struggles to find a way to help. Meanwhile, an abandoned kitten has recently been rescued by Luo Hua and his germ-fearing neighbor An Ying. While the cat seems to be in perfect health, the same can’t be said for the relationship between its rescuers.\\nWhile perfect strangers struggle to find common ground, Qu Fei Fei struggles to understand her boyfriend, Li Xiang, whose devotion to his pet pig is putting a strain on their relationship. While Fei Fei attempts to accept Li Xiang’s beloved pet, her good friend Fang Xin is struggling to adjust to life as a newlywed, as her husband, Zhao Le’s rottweiler hasn’t exactly warmed up to its new mom. Meanwhile, divorced dad, Gao Ming dutifully looks after his daughter Meng Meng’s cat, while she’s living with her mother in America. And Ade, a hard-working delivery man who relies on a street savvy terrier to help him get his deliveries made on time, finds his work suddenly in jeopardy when the dog is picked up as a stray. Though life is complicated and sometimes messy, it’s the love and devotion of these pets that helps each of their owners find a way to live, love, and let go.\\n(Source: Viki)',\n",
       " \"While in the process of filing for a divorce, a mother is murdered. All of her immediate family members are potential suspects.\\nLee Cheol Soo is the father of three daughters. Lee Cheol Soo is strict when it comes to rules and principles. He doesn't get along with his adult age daughters.\\nLee Kwang Nam is the oldest daughter. She is proud of herself and also selfish. She has received unconditional love from her mother, which led to her dislike of her father. Her father has put her mother through so much suffering.\\nLee Kwang Shik is the second oldest daughter. She works as a public officer. Lee Kwang Shik is smart and principled. She hasn't received a lot of love from her parents, but she is considerate of other people.\\nLee Kwang Tae is the youngest daughter. She is good at martial arts. Lee Kwang Tae has never held a full-time job and she has supported herself by working part-time jobs. She isn't interested in marriage.\\nHan Ye Seul is Lee Kwang Shik's lover. He is an aspiring singer who dropped out of high school and moved to Seoul to follow his childhood dream of becoming a star. He is both manly and emotional at the same time, and his singing and guitar abilities—along with his sense of humor—add to his charm.\\n(Source: AsianWiki, Naver, Soompi)\",\n",
       " 'This is a pre-banjun drama before going into the real episodes (Tokyo Holiday, Dangerous Love, Finding Lost Time, The Uninvited Guest, Unforgettable Love, First Love, The Masked Fencer)']"
      ]
     },
     "execution_count": 30,
     "metadata": {},
     "output_type": "execute_result"
    }
   ],
   "source": [
    "data[data[\"pred\"] == -1][\"synopsis\"].sample(10).to_list()"
   ]
  },
  {
   "cell_type": "code",
   "execution_count": 31,
   "id": "302950ce-21fe-4f85-97c0-4d1cd14f76a4",
   "metadata": {},
   "outputs": [],
   "source": [
    "# data[data[\"pred\"] == -1].assign(len=data[\"synopsis\"].apply(len)).sort_values(by=[\n",
    "#     \"len\", \"negative_outlier_factor_\"\n",
    "# ])[['href', 'synopsis', 'pred', 'negative_outlier_factor_']]"
   ]
  },
  {
   "cell_type": "code",
   "execution_count": 16,
   "id": "539cf98d-4ae4-4f30-9876-1d6cc4e00a2d",
   "metadata": {},
   "outputs": [],
   "source": [
    "# data.assign(emperor_ratio=data[\"synopsis\"].progress_apply(\n",
    "#     lambda s: len(re.findall(\"emperor\", s.lower()))/len(word_tokenize(s))\n",
    "# )).sort_values(by=\"emperor_ratio\", ascending=False).head(10)[\"synopsis\"].to_list()"
   ]
  },
  {
   "cell_type": "code",
   "execution_count": null,
   "id": "e9f30c04-8d48-4984-b3bc-a2833e9e1ccd",
   "metadata": {},
   "outputs": [],
   "source": []
  }
 ],
 "metadata": {
  "kernelspec": {
   "display_name": "Python 3 (ipykernel)",
   "language": "python",
   "name": "python3"
  },
  "language_info": {
   "codemirror_mode": {
    "name": "ipython",
    "version": 3
   },
   "file_extension": ".py",
   "mimetype": "text/x-python",
   "name": "python",
   "nbconvert_exporter": "python",
   "pygments_lexer": "ipython3",
   "version": "3.10.5"
  }
 },
 "nbformat": 4,
 "nbformat_minor": 5
}
