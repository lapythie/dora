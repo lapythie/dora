{
 "cells": [
  {
   "cell_type": "code",
   "execution_count": 1,
   "id": "78ff8982-ac6e-4976-9655-42c2b3c55118",
   "metadata": {},
   "outputs": [],
   "source": [
    "import json\n",
    "import numpy as np\n",
    "import pandas as pd\n",
    "from collections import Counter\n",
    "\n",
    "from nltk import word_tokenize, sent_tokenize\n",
    "\n",
    "from tqdm.auto import tqdm\n",
    "tqdm.pandas()\n",
    "\n",
    "pd.set_option('display.max_colwidth', 200)"
   ]
  },
  {
   "cell_type": "code",
   "execution_count": 2,
   "id": "161b4803-4e64-40ac-b3e5-5cca5b8922df",
   "metadata": {},
   "outputs": [],
   "source": [
    "with open(\"../data/href2synopsis.json\", encoding=\"utf-8\") as f:\n",
    "    href2synopsis = json.load(f)"
   ]
  },
  {
   "cell_type": "markdown",
   "id": "8a2190a7-a0b1-46ea-b8cb-9e995fd1ff91",
   "metadata": {},
   "source": [
    "# BOW stats"
   ]
  },
  {
   "cell_type": "code",
   "execution_count": 3,
   "id": "05b12d69-ed5e-456b-a366-7de2226a5796",
   "metadata": {},
   "outputs": [],
   "source": [
    "data = pd.DataFrame()\n",
    "\n",
    "data[\"href\"] = href2synopsis.keys()\n",
    "data[\"synopsis\"] = href2synopsis.values()\n"
   ]
  },
  {
   "cell_type": "code",
   "execution_count": 4,
   "id": "2b001110-3de6-47f6-819b-0fa70adfedb1",
   "metadata": {},
   "outputs": [
    {
     "data": {
      "application/json": {
       "ascii": false,
       "bar_format": null,
       "colour": null,
       "elapsed": 0.05283164978027344,
       "initial": 0,
       "n": 0,
       "ncols": null,
       "nrows": 31,
       "postfix": null,
       "prefix": "",
       "rate": null,
       "total": 19393,
       "unit": "it",
       "unit_divisor": 1000,
       "unit_scale": false
      },
      "application/vnd.jupyter.widget-view+json": {
       "model_id": "f83bc1ccfdba42aabf81861b4a110ca2",
       "version_major": 2,
       "version_minor": 0
      },
      "text/plain": [
       "  0%|          | 0/19393 [00:00<?, ?it/s]"
      ]
     },
     "metadata": {},
     "output_type": "display_data"
    },
    {
     "data": {
      "application/json": {
       "ascii": false,
       "bar_format": null,
       "colour": null,
       "elapsed": 0.05075550079345703,
       "initial": 0,
       "n": 0,
       "ncols": null,
       "nrows": 31,
       "postfix": null,
       "prefix": "",
       "rate": null,
       "total": 19393,
       "unit": "it",
       "unit_divisor": 1000,
       "unit_scale": false
      },
      "application/vnd.jupyter.widget-view+json": {
       "model_id": "6fc1984a117041cfb39ec4302c3a4726",
       "version_major": 2,
       "version_minor": 0
      },
      "text/plain": [
       "  0%|          | 0/19393 [00:00<?, ?it/s]"
      ]
     },
     "metadata": {},
     "output_type": "display_data"
    },
    {
     "data": {
      "application/json": {
       "ascii": false,
       "bar_format": null,
       "colour": null,
       "elapsed": 0.024124622344970703,
       "initial": 0,
       "n": 0,
       "ncols": null,
       "nrows": 31,
       "postfix": null,
       "prefix": "",
       "rate": null,
       "total": 19393,
       "unit": "it",
       "unit_divisor": 1000,
       "unit_scale": false
      },
      "application/vnd.jupyter.widget-view+json": {
       "model_id": "d27909f8206a4ba0ad6bfece8a65d9e1",
       "version_major": 2,
       "version_minor": 0
      },
      "text/plain": [
       "  0%|          | 0/19393 [00:00<?, ?it/s]"
      ]
     },
     "metadata": {},
     "output_type": "display_data"
    }
   ],
   "source": [
    "data[\"char_total\"] = data[\"synopsis\"].progress_apply(len)\n",
    "data[\"token_total\"] = data[\"synopsis\"].progress_apply(lambda x: len(word_tokenize(x)))\n",
    "data[\"sent_total\"] = data[\"synopsis\"].progress_apply(lambda x: len(sent_tokenize(x)))"
   ]
  },
  {
   "cell_type": "code",
   "execution_count": 27,
   "id": "ecf37e02-fcb7-415d-9bb2-5ef90e7e964f",
   "metadata": {},
   "outputs": [
    {
     "data": {
      "application/json": {
       "ascii": false,
       "bar_format": null,
       "colour": null,
       "elapsed": 0.029372453689575195,
       "initial": 0,
       "n": 0,
       "ncols": null,
       "nrows": 31,
       "postfix": null,
       "prefix": "",
       "rate": null,
       "total": 19393,
       "unit": "it",
       "unit_divisor": 1000,
       "unit_scale": false
      },
      "application/vnd.jupyter.widget-view+json": {
       "model_id": "702511647edf426d9f15c117f07c1693",
       "version_major": 2,
       "version_minor": 0
      },
      "text/plain": [
       "  0%|          | 0/19393 [00:00<?, ?it/s]"
      ]
     },
     "metadata": {},
     "output_type": "display_data"
    }
   ],
   "source": [
    "data[\"lines_total\"] = data[\"synopsis\"].progress_apply(lambda x: len(x.split(\"\\n\")))"
   ]
  },
  {
   "cell_type": "code",
   "execution_count": 5,
   "id": "7bfe7015-9c56-4eff-af20-1559fb2a9e87",
   "metadata": {},
   "outputs": [
    {
     "data": {
      "application/json": {
       "ascii": false,
       "bar_format": null,
       "colour": null,
       "elapsed": 0.01822948455810547,
       "initial": 0,
       "n": 0,
       "ncols": null,
       "nrows": 31,
       "postfix": null,
       "prefix": "",
       "rate": null,
       "total": 19393,
       "unit": "it",
       "unit_divisor": 1000,
       "unit_scale": false
      },
      "application/vnd.jupyter.widget-view+json": {
       "model_id": "470ea2068d1945ed9d6e4b6daf612183",
       "version_major": 2,
       "version_minor": 0
      },
      "text/plain": [
       "  0%|          | 0/19393 [00:00<?, ?it/s]"
      ]
     },
     "metadata": {},
     "output_type": "display_data"
    },
    {
     "data": {
      "application/json": {
       "ascii": false,
       "bar_format": null,
       "colour": null,
       "elapsed": 0.04676222801208496,
       "initial": 0,
       "n": 0,
       "ncols": null,
       "nrows": 31,
       "postfix": null,
       "prefix": "",
       "rate": null,
       "total": 19393,
       "unit": "it",
       "unit_divisor": 1000,
       "unit_scale": false
      },
      "application/vnd.jupyter.widget-view+json": {
       "model_id": "e6508da238494596b05daeeb866b3b8b",
       "version_major": 2,
       "version_minor": 0
      },
      "text/plain": [
       "  0%|          | 0/19393 [00:00<?, ?it/s]"
      ]
     },
     "metadata": {},
     "output_type": "display_data"
    },
    {
     "data": {
      "application/json": {
       "ascii": false,
       "bar_format": null,
       "colour": null,
       "elapsed": 0.029623746871948242,
       "initial": 0,
       "n": 0,
       "ncols": null,
       "nrows": 31,
       "postfix": null,
       "prefix": "",
       "rate": null,
       "total": 19393,
       "unit": "it",
       "unit_divisor": 1000,
       "unit_scale": false
      },
      "application/vnd.jupyter.widget-view+json": {
       "model_id": "b8aa8ad9b13a4107a05501c44a2488a8",
       "version_major": 2,
       "version_minor": 0
      },
      "text/plain": [
       "  0%|          | 0/19393 [00:00<?, ?it/s]"
      ]
     },
     "metadata": {},
     "output_type": "display_data"
    }
   ],
   "source": [
    "data[\"token_max_char_len\"] = data[\"synopsis\"].progress_apply(\n",
    "    lambda x: max([len(t) for t in word_tokenize(x)]) if x.strip() else 0\n",
    ")\n",
    "\n",
    "data[\"sent_max_char_len\"] = data[\"synopsis\"].progress_apply(\n",
    "    lambda x: max([len(t) for t in sent_tokenize(x)]) if x.strip() else 0\n",
    ")\n",
    "\n",
    "data[\"line_max_char_len\"] = data[\"synopsis\"].progress_apply(\n",
    "    lambda x: max([len(t) for t in x.split(\"\\n\")]) if x.strip() else 0\n",
    ")"
   ]
  },
  {
   "cell_type": "code",
   "execution_count": 13,
   "id": "2f9c88b8-a37a-4395-8a48-b4bcdd18b5ee",
   "metadata": {},
   "outputs": [
    {
     "data": {
      "text/html": [
       "<div>\n",
       "<style scoped>\n",
       "    .dataframe tbody tr th:only-of-type {\n",
       "        vertical-align: middle;\n",
       "    }\n",
       "\n",
       "    .dataframe tbody tr th {\n",
       "        vertical-align: top;\n",
       "    }\n",
       "\n",
       "    .dataframe thead th {\n",
       "        text-align: right;\n",
       "    }\n",
       "</style>\n",
       "<table border=\"1\" class=\"dataframe\">\n",
       "  <thead>\n",
       "    <tr style=\"text-align: right;\">\n",
       "      <th></th>\n",
       "      <th>href</th>\n",
       "      <th>synopsis</th>\n",
       "      <th>char_total</th>\n",
       "      <th>token_total</th>\n",
       "      <th>sent_total</th>\n",
       "      <th>token_max_char_len</th>\n",
       "      <th>sent_max_char_len</th>\n",
       "      <th>line_max_char_len</th>\n",
       "    </tr>\n",
       "  </thead>\n",
       "  <tbody>\n",
       "    <tr>\n",
       "      <th>10</th>\n",
       "      <td>/736899-doughnuts-mori</td>\n",
       "      <td></td>\n",
       "      <td>0</td>\n",
       "      <td>0</td>\n",
       "      <td>0</td>\n",
       "      <td>0</td>\n",
       "      <td>0</td>\n",
       "      <td>0</td>\n",
       "    </tr>\n",
       "    <tr>\n",
       "      <th>58</th>\n",
       "      <td>/736027-extraordinary-attorney-woo-season-2</td>\n",
       "      <td></td>\n",
       "      <td>0</td>\n",
       "      <td>0</td>\n",
       "      <td>0</td>\n",
       "      <td>0</td>\n",
       "      <td>0</td>\n",
       "      <td>0</td>\n",
       "    </tr>\n",
       "    <tr>\n",
       "      <th>70</th>\n",
       "      <td>/744201-themselves</td>\n",
       "      <td></td>\n",
       "      <td>0</td>\n",
       "      <td>0</td>\n",
       "      <td>0</td>\n",
       "      <td>0</td>\n",
       "      <td>0</td>\n",
       "      <td>0</td>\n",
       "    </tr>\n",
       "    <tr>\n",
       "      <th>90</th>\n",
       "      <td>/743807-roommates-of-poongduck-304-special</td>\n",
       "      <td></td>\n",
       "      <td>0</td>\n",
       "      <td>0</td>\n",
       "      <td>0</td>\n",
       "      <td>0</td>\n",
       "      <td>0</td>\n",
       "      <td>0</td>\n",
       "    </tr>\n",
       "    <tr>\n",
       "      <th>94</th>\n",
       "      <td>/744195-mina-ni-ko-are</td>\n",
       "      <td></td>\n",
       "      <td>0</td>\n",
       "      <td>0</td>\n",
       "      <td>0</td>\n",
       "      <td>0</td>\n",
       "      <td>0</td>\n",
       "      <td>0</td>\n",
       "    </tr>\n",
       "    <tr>\n",
       "      <th>...</th>\n",
       "      <td>...</td>\n",
       "      <td>...</td>\n",
       "      <td>...</td>\n",
       "      <td>...</td>\n",
       "      <td>...</td>\n",
       "      <td>...</td>\n",
       "      <td>...</td>\n",
       "      <td>...</td>\n",
       "    </tr>\n",
       "    <tr>\n",
       "      <th>19357</th>\n",
       "      <td>/705713-welcome-to-toei-slaughterhouse</td>\n",
       "      <td></td>\n",
       "      <td>0</td>\n",
       "      <td>0</td>\n",
       "      <td>0</td>\n",
       "      <td>0</td>\n",
       "      <td>0</td>\n",
       "      <td>0</td>\n",
       "    </tr>\n",
       "    <tr>\n",
       "      <th>19362</th>\n",
       "      <td>/698583-jae-joong-on-the-road</td>\n",
       "      <td></td>\n",
       "      <td>0</td>\n",
       "      <td>0</td>\n",
       "      <td>0</td>\n",
       "      <td>0</td>\n",
       "      <td>0</td>\n",
       "      <td>0</td>\n",
       "    </tr>\n",
       "    <tr>\n",
       "      <th>19370</th>\n",
       "      <td>/51401-unified-three-kingdoms</td>\n",
       "      <td></td>\n",
       "      <td>0</td>\n",
       "      <td>0</td>\n",
       "      <td>0</td>\n",
       "      <td>0</td>\n",
       "      <td>0</td>\n",
       "      <td>0</td>\n",
       "    </tr>\n",
       "    <tr>\n",
       "      <th>19376</th>\n",
       "      <td>/742441-start-up</td>\n",
       "      <td></td>\n",
       "      <td>0</td>\n",
       "      <td>0</td>\n",
       "      <td>0</td>\n",
       "      <td>0</td>\n",
       "      <td>0</td>\n",
       "      <td>0</td>\n",
       "    </tr>\n",
       "    <tr>\n",
       "      <th>19386</th>\n",
       "      <td>/741875-xin-ren-shi-shui-yuan</td>\n",
       "      <td></td>\n",
       "      <td>0</td>\n",
       "      <td>0</td>\n",
       "      <td>0</td>\n",
       "      <td>0</td>\n",
       "      <td>0</td>\n",
       "      <td>0</td>\n",
       "    </tr>\n",
       "  </tbody>\n",
       "</table>\n",
       "<p>1019 rows × 8 columns</p>\n",
       "</div>"
      ],
      "text/plain": [
       "                                              href synopsis  char_total  \\\n",
       "10                          /736899-doughnuts-mori                    0   \n",
       "58     /736027-extraordinary-attorney-woo-season-2                    0   \n",
       "70                              /744201-themselves                    0   \n",
       "90      /743807-roommates-of-poongduck-304-special                    0   \n",
       "94                          /744195-mina-ni-ko-are                    0   \n",
       "...                                            ...      ...         ...   \n",
       "19357       /705713-welcome-to-toei-slaughterhouse                    0   \n",
       "19362                /698583-jae-joong-on-the-road                    0   \n",
       "19370                /51401-unified-three-kingdoms                    0   \n",
       "19376                             /742441-start-up                    0   \n",
       "19386                /741875-xin-ren-shi-shui-yuan                    0   \n",
       "\n",
       "       token_total  sent_total  token_max_char_len  sent_max_char_len  \\\n",
       "10               0           0                   0                  0   \n",
       "58               0           0                   0                  0   \n",
       "70               0           0                   0                  0   \n",
       "90               0           0                   0                  0   \n",
       "94               0           0                   0                  0   \n",
       "...            ...         ...                 ...                ...   \n",
       "19357            0           0                   0                  0   \n",
       "19362            0           0                   0                  0   \n",
       "19370            0           0                   0                  0   \n",
       "19376            0           0                   0                  0   \n",
       "19386            0           0                   0                  0   \n",
       "\n",
       "       line_max_char_len  \n",
       "10                     0  \n",
       "58                     0  \n",
       "70                     0  \n",
       "90                     0  \n",
       "94                     0  \n",
       "...                  ...  \n",
       "19357                  0  \n",
       "19362                  0  \n",
       "19370                  0  \n",
       "19376                  0  \n",
       "19386                  0  \n",
       "\n",
       "[1019 rows x 8 columns]"
      ]
     },
     "execution_count": 13,
     "metadata": {},
     "output_type": "execute_result"
    }
   ],
   "source": [
    "data[data[\"synopsis\"] == \"\"]"
   ]
  },
  {
   "cell_type": "code",
   "execution_count": 10,
   "id": "37083f6a-439f-4805-8333-cc2268e8e1c6",
   "metadata": {},
   "outputs": [
    {
     "data": {
      "text/html": [
       "<div>\n",
       "<style scoped>\n",
       "    .dataframe tbody tr th:only-of-type {\n",
       "        vertical-align: middle;\n",
       "    }\n",
       "\n",
       "    .dataframe tbody tr th {\n",
       "        vertical-align: top;\n",
       "    }\n",
       "\n",
       "    .dataframe thead th {\n",
       "        text-align: right;\n",
       "    }\n",
       "</style>\n",
       "<table border=\"1\" class=\"dataframe\">\n",
       "  <thead>\n",
       "    <tr style=\"text-align: right;\">\n",
       "      <th></th>\n",
       "      <th>char_total</th>\n",
       "      <th>token_total</th>\n",
       "      <th>sent_total</th>\n",
       "      <th>token_max_char_len</th>\n",
       "      <th>sent_max_char_len</th>\n",
       "      <th>line_max_char_len</th>\n",
       "    </tr>\n",
       "  </thead>\n",
       "  <tbody>\n",
       "    <tr>\n",
       "      <th>count</th>\n",
       "      <td>19393</td>\n",
       "      <td>19393</td>\n",
       "      <td>19393</td>\n",
       "      <td>19393</td>\n",
       "      <td>19393</td>\n",
       "      <td>19393</td>\n",
       "    </tr>\n",
       "    <tr>\n",
       "      <th>mean</th>\n",
       "      <td>493</td>\n",
       "      <td>99</td>\n",
       "      <td>4</td>\n",
       "      <td>11</td>\n",
       "      <td>149</td>\n",
       "      <td>372</td>\n",
       "    </tr>\n",
       "    <tr>\n",
       "      <th>std</th>\n",
       "      <td>359</td>\n",
       "      <td>72</td>\n",
       "      <td>3</td>\n",
       "      <td>3</td>\n",
       "      <td>69</td>\n",
       "      <td>241</td>\n",
       "    </tr>\n",
       "    <tr>\n",
       "      <th>min</th>\n",
       "      <td>0</td>\n",
       "      <td>0</td>\n",
       "      <td>0</td>\n",
       "      <td>0</td>\n",
       "      <td>0</td>\n",
       "      <td>0</td>\n",
       "    </tr>\n",
       "    <tr>\n",
       "      <th>25%</th>\n",
       "      <td>233</td>\n",
       "      <td>46</td>\n",
       "      <td>2</td>\n",
       "      <td>11</td>\n",
       "      <td>112</td>\n",
       "      <td>198</td>\n",
       "    </tr>\n",
       "    <tr>\n",
       "      <th>50%</th>\n",
       "      <td>433</td>\n",
       "      <td>87</td>\n",
       "      <td>4</td>\n",
       "      <td>12</td>\n",
       "      <td>147</td>\n",
       "      <td>349</td>\n",
       "    </tr>\n",
       "    <tr>\n",
       "      <th>75%</th>\n",
       "      <td>683</td>\n",
       "      <td>138</td>\n",
       "      <td>7</td>\n",
       "      <td>13</td>\n",
       "      <td>185</td>\n",
       "      <td>504</td>\n",
       "    </tr>\n",
       "    <tr>\n",
       "      <th>max</th>\n",
       "      <td>5804</td>\n",
       "      <td>1201</td>\n",
       "      <td>75</td>\n",
       "      <td>188</td>\n",
       "      <td>1701</td>\n",
       "      <td>2865</td>\n",
       "    </tr>\n",
       "  </tbody>\n",
       "</table>\n",
       "</div>"
      ],
      "text/plain": [
       "       char_total  token_total  sent_total  token_max_char_len  \\\n",
       "count       19393        19393       19393               19393   \n",
       "mean          493           99           4                  11   \n",
       "std           359           72           3                   3   \n",
       "min             0            0           0                   0   \n",
       "25%           233           46           2                  11   \n",
       "50%           433           87           4                  12   \n",
       "75%           683          138           7                  13   \n",
       "max          5804         1201          75                 188   \n",
       "\n",
       "       sent_max_char_len  line_max_char_len  \n",
       "count              19393              19393  \n",
       "mean                 149                372  \n",
       "std                   69                241  \n",
       "min                    0                  0  \n",
       "25%                  112                198  \n",
       "50%                  147                349  \n",
       "75%                  185                504  \n",
       "max                 1701               2865  "
      ]
     },
     "execution_count": 10,
     "metadata": {},
     "output_type": "execute_result"
    }
   ],
   "source": [
    "data.describe().astype(int)"
   ]
  },
  {
   "cell_type": "code",
   "execution_count": 7,
   "id": "a9e2f70f-f979-41fd-9510-cefafa51031d",
   "metadata": {},
   "outputs": [],
   "source": [
    "stats = data.drop(columns=[\"href\", \"synopsis\"])"
   ]
  },
  {
   "cell_type": "markdown",
   "id": "55b0182b-a22c-4772-a131-4192604d0e1d",
   "metadata": {},
   "source": [
    "# Outlier detection\n",
    "\n",
    "[The svm.OneClassSVM is known to be sensitive to outliers and thus does not perform very well for outlier detection](https://scikit-learn.org/stable/modules/outlier_detection.html#outlier-detection)"
   ]
  },
  {
   "cell_type": "code",
   "execution_count": 37,
   "id": "2ab5f722-23fd-4880-b752-36fa8d209af3",
   "metadata": {},
   "outputs": [],
   "source": [
    "from sklearn.neighbors import LocalOutlierFactor\n",
    "from sklearn.ensemble import IsolationForest"
   ]
  },
  {
   "cell_type": "code",
   "execution_count": 41,
   "id": "8a388991-78ad-47dd-817f-9a3f4ffa0b64",
   "metadata": {},
   "outputs": [],
   "source": [
    "clf = LocalOutlierFactor(n_neighbors=20)\n",
    "preds = clf.fit_predict(stats)\n",
    "# clf.negative_outlier_factor_\n",
    "data[\"pred\"] = preds\n",
    "data[\"negative_outlier_factor_\"] = clf.negative_outlier_factor_"
   ]
  },
  {
   "cell_type": "code",
   "execution_count": 12,
   "id": "a87341ab-da27-4bce-8fc6-fa15a5ca0cd4",
   "metadata": {},
   "outputs": [],
   "source": [
    "# data[data[\"pred\"] == -1][\"synopsis\"].sample(10).to_list()"
   ]
  },
  {
   "cell_type": "code",
   "execution_count": null,
   "id": "b849eec6-90d7-40b9-aec6-a3462361221d",
   "metadata": {},
   "outputs": [],
   "source": []
  },
  {
   "cell_type": "code",
   "execution_count": 50,
   "id": "302950ce-21fe-4f85-97c0-4d1cd14f76a4",
   "metadata": {},
   "outputs": [
    {
     "data": {
      "text/plain": [
       "['A loving friend, a son, and lover, who is being haunted by his deep dark past...\\n \\nA story of love, betrayal, and revenge...',\n",
       " '~~ Adapted from the web novel \"Once Upon a Time, There Was a Spirit Sword Mountain\" (从前有座灵剑山) by His Majesty the King (国王陛下).',\n",
       " 'Where can there be a teenager without a story?\\nIf I send a DM to IABC, the Broadcasting Department of Iyego,\\nIABC will take care of it!\\n\\nYou must see it before you see Part 5!?\\nThe most fun way to enjoy Real:Time:Love Series!\\nTeen Love Story of Iye High Broadcasters [I:Love:DM]\\n\\n(Source: 콬TV)',\n",
       " 'On the advice of Professor Tsukuba, a physician she respects, houseman Togano Makoto takes training at forensic medicine classes. She gingerly steps into a classroom with a strange atmosphere. The eccentric but outstanding forensic professor Matsuzaki Tojiro gives her a polite brush-off and leaves the place. Makoto trains under Kosaki in a story that throws the ethical conflict surrounding autopsies and human relationships into sharp relief.\\n\\n~~ Adapted from the novel \"Hippocrates no Chikai\" by Nakayama Shichiri.',\n",
       " '~~ Adapted from the webtoon \"Shark\" (샤크) written by Woon (운) and illustrated by Kim Woo Sub (김우섭).',\n",
       " 'Office politics is taken to the next level as four female coworkers/friends fight for promotions and romantic interests.\\n\\n(Source: DramaWiki)',\n",
       " 'Sawatari, nicknamed Waseda, is the homeroom teacher of class 1-2 of Sainotama High, a girls\\' school. His students are a bunch of hilarious weirdos: \"Baka\", the not-so-bright tomboy who nevertheless surprises, time and again, by asking some deep, thought-provoking questions; \"Wota\", the aspiring mangaka / desperate otaku; \"Robo\", the emotionless genius with her sharp and witty replies; \"Loli\", the younger-looking girl who provides some of the funniest moments; \"Majo\", the occult buff; \"Yamai\", the adorable nutjob lost in her fantasy world; \"Majime\", the serious and strong one; \"Lili\", the \"haafu\" transfer student with sapphic tendencies... not to forget some more wackos like the vice-principal, the nurse, the neighborhood cop.\\n\\n(Source: pash at MyDramaList)',\n",
       " 'Sandara Park and Park Sohyun are well known for being \"small-eaters\" in the entertainment-variety world. This mukbang-style program invites various food mentors to share their know-how and eating tips. After sampling different food combinations and learning new tricks, will the two be convinced to take just one more bite?\\n\\n(Source: olivestulip at MyDramaList)',\n",
       " 'A detective trio comprised of mind-reading expert Qin Huo Le, the always composed and steadfast captain Song He and the quirky forensic doctor Fan Xiao Fan who work together to explore 8 bizarre stories.\\n\\nThere are people who gradually turn into demons after experiencing injustice; stare at the abyss for too long and the abyss stares back; there are people who tragically sacrifice themselves in order to attain justice; there are people who receive punishment for their mistakes without knowing what they did wrong, they repeat their wrongdoings even at the expense of hurting others; there are people who act respectable under the sun but turn into monsters in the moonlight who take advantage of the innocent to fuel their crazy obsessions... Each of the eight stories depict a confrontation between good and evil.\\n\\n(Source: cdramainfo)',\n",
       " '\"Love Memories\" is a short drama that tells the story of two families whose relatives are Alzheimer\\'s patients.\\n\\n(Source: thestarsociety.net)',\n",
       " 'The members of ATEEZ lay down and tell stories in a sleepover-themed set.',\n",
       " 'Kohiruimaki Yuichi is a police officer who established the \"Science Crime Countermeasures Office\", a department that specializes in issues related to cutting-edge science and technology. He welcomes the genius scientist Mogami Yukiko as an advisor, and she is in charge of investigating cases related to cutting-edge science.\\xa0The crimes entrusted to the Science Crime Countermeasures Office are crimes that the legal system and police organization cannot keep up with. The two will unravel the science itself hidden behind the cases and not just the so-called forensic investigation. Hasebe Tsutomu is a detective who is not familiar with science but has a long experience in the field in the former Investigation Division.\\n\\n(Source: Realsound.jp)',\n",
       " 'A cohabitation comedy about a ghost of a high school girl who has been dead for 5 years and an exorcist college boy with the ability to see and hear ghosts. What he’s discovered over the years is that he can touch them and fight them off, so when he’s in need of a part-time job and can’t find one that pays well enough, he starts putting ads online as an exorcist for hire. His ad: “Will face off with your ghosts. Chances of winning: virgin ghosts 80%, bachelor ghosts 40%, child ghosts 97%, the rest 50%.” One night he goes out on the job and faces off with a schoolgirl ghost, and during the fight, they accidentally kiss and sparks fly.\" \\n\\n(Source: IMDb)\\n\\n~~ Adapted from the webtoon “Let\\'s Fight, Ghost” (싸우자귀신아) by Iminsu (임인스).',\n",
       " 'Mal Soon is a tough granny in a shantytown in Busan. In front of her, 12-year-old Gong Ju appears with her baby sister Jin Ju on her back. Gong Ju claims that she is the daughter of Mal Soon’s runaway daughter. Mal Soon’s peaceful life becomes a mess with these little strangers, but Mal Soon doesn’t feel bad living with them. Their happy-yet-unpredictable life under one roof is about to start!\\n\\n(Source: HanCinema)',\n",
       " 'The story of a young single mother, Do Mi Sol, and her quest to make the world a warmer place to live in.',\n",
       " 'A truthful behind-the-scenes look at the making of the faux behind-the-scenes series \"(G)I-DLE Secret Folder.\"',\n",
       " 'Kobayashi Haru fell in love before finding out that her boyfriend was actually a married man. At that time, a regular customer predicts that she will wind up meeting 3 different men. She begins encountering them just as predicted. There\\'s the hairdresser Shintaro, the band vocalist Yu, and the bartender Yoshi. What will come of these fateful encounters?\\n\\n(Source: MyDramaList)\\n\\n~~ Adapted from the manga series \"3B Lover - Love with a Professional Boy Who Shouldn\\'t be Dating\" (3Bの恋人～付き合ってはいけない職業男子との恋遊戯～) by Yokoyama Moyo.',\n",
       " '\"Spiderweb” is set in the 1970s and centers around Director Kim, (Song Kang Ho) who is pressured to re-shoot the ending of a finished movie called “Spiderweb.” As the re-shoot begins, he faces pressure from the censorship authorities and confusion from the actors and producers who don’t understand the new script.\\n\\nIn the 1970s, Korean films had to undergo review from the authorities before they could be filmed. Song Kang Ho’s character, Director Kim, is obsessed with the idea of making “Spiderweb” into his masterpiece. However, he faces various obstacles like periodic reviews from the ministry of culture representative who is always present on set, the uncooperative attitude of the actors who were dragged back into filming without understanding the new script, opposition from the production company, and conflicting set schedules with another project.\\n\\nIm Soo Jung has been cast as veteran actress Lee Min Ja, who plays Kang Ho Se’s wife in Director Kim’s movie.\\n\\nOh Jung Se has been cast as Kang Ho Se, an actor who plays the main character in Director Kim’s movie. He is at the height of his popularity but has affairs despite being married. Im Soo Jung has been cast as Lee Min Ja, a veteran actress who will play Kang Ho Se’s character’s wife in Director Kim’s movie.\\n\\nJeon Yeo Been has been cast as Shin Mi Do, the financial manager of Shinsung Film, the production company behind “Spiderweb.” She studied abroad in Japan and butts heads with her aunt, who is the movie’s producer, by believing fully in Director Kim’s vision and helping him achieve his masterpiece. Krystal plays Han Yoo Rim, a rookie actress who has suddenly risen in popularity and is key to Director Kim’s movie.\\n\\n(Source: Soompi and Naver)',\n",
       " 'Seon Ho is an artist who draws adult webtoons. It started as an easy way to make money, but it’s caused some unexpected side effects: he hasn’t been aroused for over two years! Exhausted, he hires an assistant. It’s just that he didn’t expect him to be so cute! Mu Yeong is clean, talented, and apparently loaded, so... why does he want to work under Seon Ho?\\nTurns out, Mu Yeong is Seon Ho’s number one fan...\\n\\n(Source: Mangaupdates)\\n\\n~~ Adapted from the webtoon “Oh! My Assistant” (오나의어시님) by Mila (밀라) and Angrymonster (앵몬).',\n",
       " 'A short documentary that shows the behind-the-scenes of the South Korean girl group Everglow at music shows and events.']"
      ]
     },
     "execution_count": 50,
     "metadata": {},
     "output_type": "execute_result"
    }
   ],
   "source": [
    "data[data[\"pred\"] == -1].sort_values(by=\"negative_outlier_factor_\"\n",
    "                                    )[\"synopsis\"].to_list()[-20:]"
   ]
  },
  {
   "cell_type": "code",
   "execution_count": null,
   "id": "9311ccc4-c01c-4713-bafa-c31ff62f4e7a",
   "metadata": {},
   "outputs": [],
   "source": []
  }
 ],
 "metadata": {
  "kernelspec": {
   "display_name": "Python 3 (ipykernel)",
   "language": "python",
   "name": "python3"
  },
  "language_info": {
   "codemirror_mode": {
    "name": "ipython",
    "version": 3
   },
   "file_extension": ".py",
   "mimetype": "text/x-python",
   "name": "python",
   "nbconvert_exporter": "python",
   "pygments_lexer": "ipython3",
   "version": "3.10.5"
  }
 },
 "nbformat": 4,
 "nbformat_minor": 5
}
