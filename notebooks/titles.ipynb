{
 "cells": [
  {
   "cell_type": "code",
   "execution_count": 1,
   "id": "2742ed66-479d-448d-8d0e-6deb257fa40d",
   "metadata": {},
   "outputs": [],
   "source": [
    "import json\n",
    "import requests\n",
    "from tqdm import tqdm\n",
    "from bs4 import BeautifulSoup\n",
    "\n",
    "from collections import Counter, defaultdict\n",
    "\n",
    "headers = {\"User-Agent\": \"My User Agent\"}"
   ]
  },
  {
   "cell_type": "code",
   "execution_count": 3,
   "id": "929129e7-7ecc-4386-a56b-8fd183759aa0",
   "metadata": {},
   "outputs": [
    {
     "name": "stdout",
     "output_type": "stream",
     "text": [
      "CPU times: total: 2min 5s\n",
      "Wall time: 2min 18s\n"
     ]
    }
   ],
   "source": [
    "%%time\n",
    "with open(\"data/profile2page.json\", encoding=\"utf-8\") as f:\n",
    "    profile2page = json.load(f)"
   ]
  },
  {
   "cell_type": "code",
   "execution_count": 12,
   "id": "3a770f7b-c306-4b68-b518-85719c9c5cff",
   "metadata": {},
   "outputs": [
    {
     "name": "stderr",
     "output_type": "stream",
     "text": [
      "100%|████████████████████████████████████████████████████████████████████████████| 52983/52983 [22:01<00:00, 40.08it/s]\n"
     ]
    }
   ],
   "source": [
    "titlepart2href = defaultdict(Counter)\n",
    "\n",
    "for profile, page in tqdm(profile2page.items()):\n",
    "    soup = BeautifulSoup(page)\n",
    "    \n",
    "    for x in soup.find_all(\"a\", {\"class\": \"title\"}, href=True):\n",
    "        titlepart2href[x.get_text()].update([x[\"href\"]])"
   ]
  },
  {
   "cell_type": "code",
   "execution_count": 19,
   "id": "fce5a5cb-9523-4347-8e14-55423f2756c8",
   "metadata": {},
   "outputs": [
    {
     "data": {
      "text/plain": [
       "2986"
      ]
     },
     "execution_count": 19,
     "metadata": {},
     "output_type": "execute_result"
    }
   ],
   "source": [
    "len([href for titlepart, href in titlepart2href.items() \n",
    "     if (len(href) == 1) and (titlepart.endswith(\"…\"))])"
   ]
  },
  {
   "cell_type": "code",
   "execution_count": 21,
   "id": "2c53afa2-fa77-46ed-9479-0101a575cde1",
   "metadata": {},
   "outputs": [
    {
     "data": {
      "text/plain": [
       "13897"
      ]
     },
     "execution_count": 21,
     "metadata": {},
     "output_type": "execute_result"
    }
   ],
   "source": [
    "len([href for titlepart, href in titlepart2href.items() \n",
    "     if (len(href) == 1) and (not titlepart.endswith(\"…\"))])"
   ]
  },
  {
   "cell_type": "code",
   "execution_count": 22,
   "id": "73e77341-a224-4444-a38b-4c6f6e4dcfeb",
   "metadata": {},
   "outputs": [],
   "source": [
    "with open(\"data/titlepart2href.json\", \"w\", encoding=\"utf-8\") as fw:\n",
    "    json.dump(\n",
    "        {titlepart: dict(href) for titlepart, href in titlepart2href.items()}\n",
    "        , fw\n",
    "    )"
   ]
  },
  {
   "cell_type": "markdown",
   "id": "a54aa2f9-f4b0-4a21-9a6b-f60d3bb71b5d",
   "metadata": {},
   "source": [
    "# Short urls\n",
    "\n",
    "https://mydramalist.com/9025"
   ]
  },
  {
   "cell_type": "code",
   "execution_count": 2,
   "id": "ea74842e-c0c5-4424-8caf-e9e046f72cbd",
   "metadata": {},
   "outputs": [],
   "source": [
    "with open(\"data/href2dramapage.json\", encoding=\"utf-8\") as f:\n",
    "    hrefs = json.load(f).keys()"
   ]
  },
  {
   "cell_type": "code",
   "execution_count": 25,
   "id": "53165ff4-fbdb-4312-a383-deca8850bc39",
   "metadata": {},
   "outputs": [
    {
     "data": {
      "text/plain": [
       "[(8411, 2), (710067, 1), (737587, 1), (10632, 1), (702899, 1)]"
      ]
     },
     "execution_count": 25,
     "metadata": {},
     "output_type": "execute_result"
    }
   ],
   "source": [
    "nums = Counter([int(href[1:].split(\"-\")[0]) for href in hrefs])\n",
    "nums.most_common(5)"
   ]
  },
  {
   "cell_type": "code",
   "execution_count": 29,
   "id": "4e07c3fb-c446-46f2-bf2b-7b301336e1be",
   "metadata": {},
   "outputs": [
    {
     "data": {
      "text/plain": [
       "19461"
      ]
     },
     "execution_count": 29,
     "metadata": {},
     "output_type": "execute_result"
    }
   ],
   "source": [
    "len(nums)"
   ]
  },
  {
   "cell_type": "code",
   "execution_count": 27,
   "id": "6030341c-826b-4e0f-b81d-4b400b0b6755",
   "metadata": {},
   "outputs": [
    {
     "data": {
      "text/plain": [
       "True"
      ]
     },
     "execution_count": 27,
     "metadata": {},
     "output_type": "execute_result"
    }
   ],
   "source": [
    "stoptext = \"The requested page was not found\"\n",
    "stoptext in requests.get(f\"https://mydramalist.com/{max(nums)}\", headers=headers).text"
   ]
  },
  {
   "cell_type": "code",
   "execution_count": 30,
   "id": "65d30795-0a16-4f42-bdcd-0997e8bf01e2",
   "metadata": {},
   "outputs": [
    {
     "data": {
      "text/plain": [
       "725031"
      ]
     },
     "execution_count": 30,
     "metadata": {},
     "output_type": "execute_result"
    }
   ],
   "source": [
    "nums2go = sorted(\n",
    "    set(range(max(nums))) - set(nums)\n",
    ")\n",
    "len(nums2go)"
   ]
  },
  {
   "cell_type": "code",
   "execution_count": 53,
   "id": "33778a3d-c542-4a9e-bd45-82ca689d0f3b",
   "metadata": {},
   "outputs": [],
   "source": [
    "# num2dramapage = {}\n",
    "\n",
    "progress_bar = tqdm(nums2go[:60_000])\n",
    "\n",
    "for i in progress_bar:\n",
    "    \n",
    "    if i not in num2dramapage:\n",
    "        page = requests.get(f\"https://mydramalist.com/{i}\", headers=headers)\n",
    "        \n",
    "        if stoptext not in page.text:\n",
    "            num2dramapage[i] = page.text\n",
    "            \n",
    "    if not (i % 10):\n",
    "        progress_bar.set_description(f\"{len(num2dramapage)} of pages saved\")"
   ]
  },
  {
   "cell_type": "code",
   "execution_count": 46,
   "id": "5d3fa84a-1cce-4a61-8548-fe1d972594e9",
   "metadata": {},
   "outputs": [
    {
     "data": {
      "text/plain": [
       "12061"
      ]
     },
     "execution_count": 46,
     "metadata": {},
     "output_type": "execute_result"
    }
   ],
   "source": [
    "len(num2dramapage)"
   ]
  },
  {
   "cell_type": "code",
   "execution_count": 47,
   "id": "6e227395-c1b4-4b61-967e-bf4c7806591f",
   "metadata": {},
   "outputs": [
    {
     "data": {
      "text/plain": [
       "52226"
      ]
     },
     "execution_count": 47,
     "metadata": {},
     "output_type": "execute_result"
    }
   ],
   "source": [
    "i"
   ]
  },
  {
   "cell_type": "code",
   "execution_count": 52,
   "id": "fc98aa26-bb3b-424a-ba19-99528d7bbfc8",
   "metadata": {},
   "outputs": [
    {
     "data": {
      "text/plain": [
       "<AxesSubplot: ylabel='Count'>"
      ]
     },
     "execution_count": 52,
     "metadata": {},
     "output_type": "execute_result"
    },
    {
     "data": {
      "image/png": "[encoded data removed]",
      "text/plain": [
       "<Figure size 640x480 with 1 Axes>"
      ]
     },
     "metadata": {},
     "output_type": "display_data"
    }
   ],
   "source": [
    "import seaborn as sns\n",
    "\n",
    "sns.histplot(list(nums))"
   ]
  },
  {
   "cell_type": "code",
   "execution_count": 62,
   "id": "a0db6dd9-1c29-4779-a789-4844d1fae99e",
   "metadata": {},
   "outputs": [
    {
     "data": {
      "text/plain": [
       "0"
      ]
     },
     "execution_count": 62,
     "metadata": {},
     "output_type": "execute_result"
    }
   ],
   "source": [
    "len(\n",
    "    [n for n in nums if 81_000 < n < 680_000]\n",
    ")"
   ]
  },
  {
   "cell_type": "code",
   "execution_count": null,
   "id": "43713269-6b99-43df-b9ba-ab3df7b82b58",
   "metadata": {},
   "outputs": [],
   "source": []
  }
 ],
 "metadata": {
  "kernelspec": {
   "display_name": "Python 3 (ipykernel)",
   "language": "python",
   "name": "python3"
  },
  "language_info": {
   "codemirror_mode": {
    "name": "ipython",
    "version": 3
   },
   "file_extension": ".py",
   "mimetype": "text/x-python",
   "name": "python",
   "nbconvert_exporter": "python",
   "pygments_lexer": "ipython3",
   "version": "3.10.5"
  }
 },
 "nbformat": 4,
 "nbformat_minor": 5
}
