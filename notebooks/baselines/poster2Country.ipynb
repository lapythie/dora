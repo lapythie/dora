{
 "cells": [
  {
   "cell_type": "code",
   "execution_count": 17,
   "id": "33d1cf6b-075d-49cd-9683-977cf2ae88cb",
   "metadata": {},
   "outputs": [],
   "source": [
    "import os\n",
    "import json\n",
    "from PIL import Image\n",
    "\n",
    "import torch\n",
    "from transformers import CLIPProcessor, CLIPModel\n",
    "\n",
    "from sklearn.model_selection import StratifiedKFold\n",
    "from sklearn.metrics import classification_report, confusion_matrix\n",
    "\n",
    "import numpy as np\n",
    "import pandas as pd\n",
    "from tqdm.auto import tqdm\n",
    "tqdm.pandas()\n",
    "\n",
    "RANDOM_STATE = 0\n",
    "\n",
    "\n",
    "def predict(path2image, labels, processor, model, device):\n",
    "    image = Image.open(path2image)\n",
    "    with torch.no_grad():\n",
    "        \n",
    "        inputs = processor(\n",
    "            text=labels, images=image, return_tensors=\"pt\", padding=True\n",
    "        ).to(device)\n",
    "        \n",
    "        outputs = model(**inputs)\n",
    "        logits_per_image = outputs.logits_per_image # this is the image-text similarity score\n",
    "        probs = logits_per_image.softmax(dim=1) # we can take the softmax to get the label probabilities\n",
    "        return labels[probs.argmax()]"
   ]
  },
  {
   "cell_type": "markdown",
   "id": "99e2bb5c-61a2-4556-bfdd-446268beb1f5",
   "metadata": {},
   "source": [
    "What we've learned so far:\n",
    "- writing system is the golden feature\n",
    "- people in Hong Kong and Taiwan speak Chinese variants"
   ]
  },
  {
   "cell_type": "markdown",
   "id": "59a0c688-a84c-45f6-ade4-fb5e669b9bfe",
   "metadata": {},
   "source": [
    "# Data"
   ]
  },
  {
   "cell_type": "code",
   "execution_count": 2,
   "id": "71c3ea79-6f70-4b42-8e7c-8f6658419b3c",
   "metadata": {},
   "outputs": [],
   "source": [
    "with open(\"../data/href2details.json\", encoding=\"utf-8\") as f:\n",
    "    href2details = json.load(f)\n",
    "with open(\"../data/num2details.json\", encoding=\"utf-8\") as f:\n",
    "    num2details = json.load(f)"
   ]
  },
  {
   "cell_type": "code",
   "execution_count": 3,
   "id": "6ce4ec13-8e03-4693-9d32-041f418dd0ab",
   "metadata": {},
   "outputs": [],
   "source": [
    "data = pd.DataFrame()"
   ]
  },
  {
   "cell_type": "code",
   "execution_count": 4,
   "id": "0b4a0116-81c6-43e0-8737-517208bc417f",
   "metadata": {},
   "outputs": [],
   "source": [
    "root = \"../data/posters\"\n",
    "EXT = \".jpg\"\n",
    "\n",
    "data[\"rel_path\"] = [f\"{root}/{fname}\" for fname in os.listdir(root) if fname.endswith(EXT)]\n",
    "\n",
    "data[\"filename\"] = data[\"rel_path\"].apply(os.path.basename)\n",
    "data[\"href\"] = data.filename.apply(\n",
    "    lambda x: x.split(\"_\")[0]\n",
    ")\n",
    "data[\"Country\"] = data[\"href\"].apply(\n",
    "    lambda x: href2details[f\"/{x}\"][\"Country:\"][len(\"Country:\"):].strip()\n",
    ")"
   ]
  },
  {
   "cell_type": "code",
   "execution_count": 5,
   "id": "3fb858ff-48dc-411b-a22e-b60c6193e017",
   "metadata": {},
   "outputs": [],
   "source": [
    "data = data[data[\"Country\"].apply(lambda x: x not in {'Hong Kong', 'Taiwan'})]"
   ]
  },
  {
   "cell_type": "code",
   "execution_count": 9,
   "id": "90749f11-4d87-4919-9526-40966c75b4af",
   "metadata": {},
   "outputs": [
    {
     "data": {
      "text/plain": [
       "South Korea    5825\n",
       "Japan          5590\n",
       "China          4061\n",
       "Thailand       1744\n",
       "Philippines     460\n",
       "Name: Country, dtype: int64"
      ]
     },
     "execution_count": 9,
     "metadata": {},
     "output_type": "execute_result"
    }
   ],
   "source": [
    "data[\"Country\"].value_counts()"
   ]
  },
  {
   "cell_type": "code",
   "execution_count": 37,
   "id": "28b358a8-e4b8-4d38-b183-38ba0bed5a88",
   "metadata": {},
   "outputs": [
    {
     "data": {
      "text/html": [
       "<div>\n",
       "<style scoped>\n",
       "    .dataframe tbody tr th:only-of-type {\n",
       "        vertical-align: middle;\n",
       "    }\n",
       "\n",
       "    .dataframe tbody tr th {\n",
       "        vertical-align: top;\n",
       "    }\n",
       "\n",
       "    .dataframe thead th {\n",
       "        text-align: right;\n",
       "    }\n",
       "</style>\n",
       "<table border=\"1\" class=\"dataframe\">\n",
       "  <thead>\n",
       "    <tr style=\"text-align: right;\">\n",
       "      <th></th>\n",
       "      <th>rel_path</th>\n",
       "      <th>filename</th>\n",
       "      <th>href</th>\n",
       "      <th>Country</th>\n",
       "    </tr>\n",
       "  </thead>\n",
       "  <tbody>\n",
       "    <tr>\n",
       "      <th>5555</th>\n",
       "      <td>../data/posters/27370-transmission_JxZqXc.jpg</td>\n",
       "      <td>27370-transmission_JxZqXc.jpg</td>\n",
       "      <td>27370-transmission</td>\n",
       "      <td>China</td>\n",
       "    </tr>\n",
       "  </tbody>\n",
       "</table>\n",
       "</div>"
      ],
      "text/plain": [
       "                                           rel_path  \\\n",
       "5555  ../data/posters/27370-transmission_JxZqXc.jpg   \n",
       "\n",
       "                           filename                href Country  \n",
       "5555  27370-transmission_JxZqXc.jpg  27370-transmission   China  "
      ]
     },
     "execution_count": 37,
     "metadata": {},
     "output_type": "execute_result"
    }
   ],
   "source": [
    "sample = data.groupby(\"Country\", group_keys=False).apply(\n",
    "    lambda x: x.sample(\n",
    "        data[\"Country\"].value_counts().to_list()[-1]\n",
    "        , random_state=RANDOM_STATE\n",
    "    )\n",
    ")\n",
    "\n",
    "sample.head(1)"
   ]
  },
  {
   "cell_type": "code",
   "execution_count": 42,
   "id": "d6fc14c1-06ad-4284-a515-540117878193",
   "metadata": {},
   "outputs": [
    {
     "data": {
      "application/json": {
       "ascii": false,
       "bar_format": null,
       "colour": null,
       "elapsed": 0.031239986419677734,
       "initial": 0,
       "n": 0,
       "ncols": null,
       "nrows": 31,
       "postfix": null,
       "prefix": "",
       "rate": null,
       "total": 15380,
       "unit": "it",
       "unit_divisor": 1000,
       "unit_scale": false
      },
      "application/vnd.jupyter.widget-view+json": {
       "model_id": "483cc125c480499183db712195f3051b",
       "version_major": 2,
       "version_minor": 0
      },
      "text/plain": [
       "  0%|          | 0/15380 [00:00<?, ?it/s]"
      ]
     },
     "metadata": {},
     "output_type": "display_data"
    }
   ],
   "source": [
    "tmp = data.drop(sample.index)\n",
    "tmp = tmp.assign(\n",
    "    pred=tmp[\"rel_path\"].progress_apply(\n",
    "        lambda x: predict(x, labels, processor, model, device)\n",
    "    )\n",
    ")"
   ]
  },
  {
   "cell_type": "code",
   "execution_count": 67,
   "id": "dd01d685-1b11-412d-9deb-7acdafb0b268",
   "metadata": {},
   "outputs": [
    {
     "name": "stdout",
     "output_type": "stream",
     "text": [
      "China\t-> South Korea\t../data/posters/10127-wedding-bible_NPEKec.jpg\n"
     ]
    },
    {
     "data": {
      "image/png": "[encoded data removed]",
      "text/plain": [
       "<PIL.JpegImagePlugin.JpegImageFile image mode=RGB size=300x422>"
      ]
     },
     "metadata": {},
     "output_type": "display_data"
    }
   ],
   "source": [
    "for t in tmp[\n",
    "    tmp[\"Country\"].apply(lambda x: x in {'China', 'South Korea'})\n",
    "    & tmp[\"pred\"].apply(lambda x: x in {'China', 'South Korea'})\n",
    "    & (tmp[\"Country\"] != tmp[\"pred\"])\n",
    "].itertuples():\n",
    "    print (f\"{t.Country}\\t-> {t.pred}\", t.rel_path, sep=\"\\t\")\n",
    "    display(Image.open(t.rel_path))\n",
    "    break"
   ]
  },
  {
   "cell_type": "code",
   "execution_count": 28,
   "id": "55f61fed-9143-4398-8564-51b45f36d16c",
   "metadata": {
    "tags": []
   },
   "outputs": [
    {
     "data": {
      "text/html": [
       "<div>\n",
       "<style scoped>\n",
       "    .dataframe tbody tr th:only-of-type {\n",
       "        vertical-align: middle;\n",
       "    }\n",
       "\n",
       "    .dataframe tbody tr th {\n",
       "        vertical-align: top;\n",
       "    }\n",
       "\n",
       "    .dataframe thead th {\n",
       "        text-align: right;\n",
       "    }\n",
       "</style>\n",
       "<table border=\"1\" class=\"dataframe\">\n",
       "  <thead>\n",
       "    <tr style=\"text-align: right;\">\n",
       "      <th></th>\n",
       "      <th>rel_path</th>\n",
       "      <th>filename</th>\n",
       "      <th>href</th>\n",
       "      <th>Country</th>\n",
       "    </tr>\n",
       "  </thead>\n",
       "  <tbody>\n",
       "    <tr>\n",
       "      <th>0</th>\n",
       "      <td>../data/posters/27370-transmission_JxZqXc.jpg</td>\n",
       "      <td>27370-transmission_JxZqXc.jpg</td>\n",
       "      <td>27370-transmission</td>\n",
       "      <td>China</td>\n",
       "    </tr>\n",
       "  </tbody>\n",
       "</table>\n",
       "</div>"
      ],
      "text/plain": [
       "                                        rel_path  \\\n",
       "0  ../data/posters/27370-transmission_JxZqXc.jpg   \n",
       "\n",
       "                        filename                href Country  \n",
       "0  27370-transmission_JxZqXc.jpg  27370-transmission   China  "
      ]
     },
     "execution_count": 28,
     "metadata": {},
     "output_type": "execute_result"
    }
   ],
   "source": [
    "sample.reset_index(drop=True, inplace=True)\n",
    "sample.head(1)"
   ]
  },
  {
   "cell_type": "code",
   "execution_count": 11,
   "id": "7f83e6ca-4aea-4f08-853c-d0642fc5a865",
   "metadata": {},
   "outputs": [
    {
     "data": {
      "text/plain": [
       "((2300, 4),\n",
       " China          460\n",
       " Japan          460\n",
       " Philippines    460\n",
       " South Korea    460\n",
       " Thailand       460\n",
       " Name: Country, dtype: int64)"
      ]
     },
     "execution_count": 11,
     "metadata": {},
     "output_type": "execute_result"
    }
   ],
   "source": [
    "sample.shape, sample[\"Country\"].value_counts()"
   ]
  },
  {
   "cell_type": "markdown",
   "id": "d7c03c17-57fb-4548-900a-d92f13b46c84",
   "metadata": {},
   "source": [
    "# Zero-shot"
   ]
  },
  {
   "cell_type": "code",
   "execution_count": 12,
   "id": "b3e2b436-9cb1-4a91-be75-7d6f4dc2b1ad",
   "metadata": {},
   "outputs": [
    {
     "data": {
      "text/plain": [
       "['China', 'Japan', 'Philippines', 'South Korea', 'Thailand']"
      ]
     },
     "execution_count": 12,
     "metadata": {},
     "output_type": "execute_result"
    }
   ],
   "source": [
    "# labels = ['China', 'Hong Kong', 'Japan', 'Philippines', 'South Korea', 'Taiwan', 'Thailand']\n",
    "labels = sorted(data[\"Country\"].unique())\n",
    "labels"
   ]
  },
  {
   "cell_type": "code",
   "execution_count": 13,
   "id": "89e371f8-1772-4f12-91c7-9f69205f2bd4",
   "metadata": {},
   "outputs": [],
   "source": [
    "model_id = \"openai/clip-vit-base-patch32\"\n",
    "cache_dir = \"../models/\"\n",
    "\n",
    "model = CLIPModel.from_pretrained(model_id, cache_dir=cache_dir)\n",
    "processor = CLIPProcessor.from_pretrained(model_id, cache_dir=cache_dir)"
   ]
  },
  {
   "cell_type": "code",
   "execution_count": 14,
   "id": "09f27696-fc50-484a-b18f-3763a7ee6dd2",
   "metadata": {},
   "outputs": [
    {
     "data": {
      "text/plain": [
       "device(type='cuda', index=0)"
      ]
     },
     "execution_count": 14,
     "metadata": {},
     "output_type": "execute_result"
    }
   ],
   "source": [
    "if torch.cuda.is_available():\n",
    "    device = torch.device(\"cuda:0\")\n",
    "    model.to(device)\n",
    "model.device"
   ]
  },
  {
   "cell_type": "code",
   "execution_count": 20,
   "id": "3a9eb2cd-1f9e-496d-b9da-334bfdbd89d9",
   "metadata": {},
   "outputs": [],
   "source": [
    "X = sample[\"rel_path\"]\n",
    "y = sample[\"Country\"]\n",
    "\n",
    "skf = StratifiedKFold(n_splits=3, shuffle=True, random_state=RANDOM_STATE)\n",
    "# skf.get_n_splits(X, y)"
   ]
  },
  {
   "cell_type": "code",
   "execution_count": 22,
   "id": "3c483c5c-898d-428b-bc7f-b1e955a677ba",
   "metadata": {
    "tags": []
   },
   "outputs": [
    {
     "data": {
      "application/json": {
       "ascii": false,
       "bar_format": null,
       "colour": null,
       "elapsed": 0.019118309020996094,
       "initial": 0,
       "n": 0,
       "ncols": null,
       "nrows": 31,
       "postfix": null,
       "prefix": "",
       "rate": null,
       "total": 767,
       "unit": "it",
       "unit_divisor": 1000,
       "unit_scale": false
      },
      "application/vnd.jupyter.widget-view+json": {
       "model_id": "2858115a97d44ee5a86163abad4379d1",
       "version_major": 2,
       "version_minor": 0
      },
      "text/plain": [
       "  0%|          | 0/767 [00:00<?, ?it/s]"
      ]
     },
     "metadata": {},
     "output_type": "display_data"
    },
    {
     "name": "stdout",
     "output_type": "stream",
     "text": [
      "              precision    recall  f1-score   support\n",
      "\n",
      "       China       0.73      0.64      0.69       154\n",
      "       Japan       0.73      0.86      0.79       153\n",
      " Philippines       0.86      0.74      0.80       153\n",
      " South Korea       0.60      0.91      0.73       154\n",
      "    Thailand       0.94      0.54      0.69       153\n",
      "\n",
      "    accuracy                           0.74       767\n",
      "   macro avg       0.77      0.74      0.74       767\n",
      "weighted avg       0.77      0.74      0.74       767\n",
      "\n",
      "[[ 99  18   0  37   0]\n",
      " [ 10 132   0  11   0]\n",
      " [ 12  13 113  10   5]\n",
      " [  6   8   0 140   0]\n",
      " [  8  10  18  34  83]]\n"
     ]
    },
    {
     "data": {
      "application/json": {
       "ascii": false,
       "bar_format": null,
       "colour": null,
       "elapsed": 0.03931164741516113,
       "initial": 0,
       "n": 0,
       "ncols": null,
       "nrows": 31,
       "postfix": null,
       "prefix": "",
       "rate": null,
       "total": 767,
       "unit": "it",
       "unit_divisor": 1000,
       "unit_scale": false
      },
      "application/vnd.jupyter.widget-view+json": {
       "model_id": "f015777919c74d14823a62fa3a65b250",
       "version_major": 2,
       "version_minor": 0
      },
      "text/plain": [
       "  0%|          | 0/767 [00:00<?, ?it/s]"
      ]
     },
     "metadata": {},
     "output_type": "display_data"
    },
    {
     "name": "stdout",
     "output_type": "stream",
     "text": [
      "              precision    recall  f1-score   support\n",
      "\n",
      "       China       0.70      0.67      0.68       153\n",
      "       Japan       0.75      0.84      0.80       154\n",
      " Philippines       0.88      0.70      0.78       153\n",
      " South Korea       0.58      0.89      0.70       153\n",
      "    Thailand       0.86      0.52      0.65       154\n",
      "\n",
      "    accuracy                           0.72       767\n",
      "   macro avg       0.75      0.72      0.72       767\n",
      "weighted avg       0.75      0.72      0.72       767\n",
      "\n",
      "[[102  18   1  31   1]\n",
      " [  9 130   0  14   1]\n",
      " [ 17   7 107  12  10]\n",
      " [  4   9   3 136   1]\n",
      " [ 13   9  11  41  80]]\n"
     ]
    },
    {
     "data": {
      "application/json": {
       "ascii": false,
       "bar_format": null,
       "colour": null,
       "elapsed": 0.04457592964172363,
       "initial": 0,
       "n": 0,
       "ncols": null,
       "nrows": 31,
       "postfix": null,
       "prefix": "",
       "rate": null,
       "total": 766,
       "unit": "it",
       "unit_divisor": 1000,
       "unit_scale": false
      },
      "application/vnd.jupyter.widget-view+json": {
       "model_id": "bf617510c24c4decaa19e9696a968cba",
       "version_major": 2,
       "version_minor": 0
      },
      "text/plain": [
       "  0%|          | 0/766 [00:00<?, ?it/s]"
      ]
     },
     "metadata": {},
     "output_type": "display_data"
    },
    {
     "name": "stdout",
     "output_type": "stream",
     "text": [
      "              precision    recall  f1-score   support\n",
      "\n",
      "       China       0.66      0.64      0.65       153\n",
      "       Japan       0.77      0.87      0.82       153\n",
      " Philippines       0.91      0.69      0.79       154\n",
      " South Korea       0.60      0.91      0.72       153\n",
      "    Thailand       0.91      0.58      0.70       153\n",
      "\n",
      "    accuracy                           0.74       766\n",
      "   macro avg       0.77      0.74      0.74       766\n",
      "weighted avg       0.77      0.74      0.74       766\n",
      "\n",
      "[[ 98  18   0  37   0]\n",
      " [ 10 133   1   9   0]\n",
      " [ 20   6 107  13   8]\n",
      " [  4   9   0 139   1]\n",
      " [ 16   6  10  33  88]]\n"
     ]
    }
   ],
   "source": [
    "for i, (train_index, test_index) in enumerate(skf.split(X, y)):\n",
    "    \n",
    "    fold_test = sample.loc[test_index]\n",
    "    \n",
    "    fold_test[\"pred\"] = fold_test[\"rel_path\"].progress_apply(\n",
    "        lambda x: predict(x, labels, processor, model, device)\n",
    "    )\n",
    "    \n",
    "    print(classification_report(fold_test[\"Country\"], fold_test[\"pred\"]))\n",
    "    \n",
    "    print(confusion_matrix(fold_test[\"Country\"], fold_test[\"pred\"]))"
   ]
  },
  {
   "cell_type": "code",
   "execution_count": 25,
   "id": "ddbf049f-9080-4dfd-9025-b0d76a2d1500",
   "metadata": {},
   "outputs": [
    {
     "name": "stdout",
     "output_type": "stream",
     "text": [
      "['China', 'Japan', 'Philippines', 'South Korea', 'Thailand']\n"
     ]
    }
   ],
   "source": [
    "print(labels)"
   ]
  },
  {
   "cell_type": "code",
   "execution_count": 128,
   "id": "024282c6-5820-4a90-92e7-9f8557e62c01",
   "metadata": {},
   "outputs": [],
   "source": [
    "# posterpath = \"../data/posters/not_released_yet/27319-the-golden-hairpin_k644m_4c.jpg\"\n",
    "posterpath = \"../data/posters/714369-pepero-was-taken-away-on-pepero-day_e4J7K_4c.jpg\"\n",
    "posterpath = \"../data/posters/711027-enhypen-en-log_BLYz5_4c.jpg\"\n",
    "posterpath = \"../data/posters/693057-siwon-s-fortune-cookie_XND8q_4c.jpg\"\n",
    "posterpath = \"../data/posters/77567-fight-for-love_k36Nw_4c.jpg\" # China\n",
    "posterpath = \"../data/posters/680631-ka-sunscreen_Rg3oo_4c.jpg\" # Thailand\n",
    "posterpath = \"../data/posters/79321-the-serpents-song_BNXKb_4c.jpg\" # Thailand\n",
    "image = Image.open(posterpath)\n",
    "# display(image)"
   ]
  },
  {
   "cell_type": "code",
   "execution_count": null,
   "id": "d1c1fb74-e426-4c62-8e0c-5739e08bf4b4",
   "metadata": {},
   "outputs": [],
   "source": [
    "with torch.no_grad():\n",
    "    \n",
    "    inputs = processor(text=labels, images=image, return_tensors=\"pt\", padding=True)\n",
    "    outputs = model(**inputs)\n",
    "    logits_per_image = outputs.logits_per_image # this is the image-text similarity score\n",
    "    probs = logits_per_image.softmax(dim=1) # we can take the softmax to get the label probabilities"
   ]
  },
  {
   "cell_type": "code",
   "execution_count": 88,
   "id": "d7702490-c5ab-45c1-92c5-6fe4e276cdaf",
   "metadata": {},
   "outputs": [
    {
     "data": {
      "text/plain": [
       "[(tensor(0.4053), 'South Korea'),\n",
       " (tensor(0.2192), 'Japan'),\n",
       " (tensor(0.1207), 'China'),\n",
       " (tensor(0.1014), 'Hong Kong'),\n",
       " (tensor(0.0665), 'Thailand'),\n",
       " (tensor(0.0563), 'Philippines'),\n",
       " (tensor(0.0305), 'Taiwan')]"
      ]
     },
     "execution_count": 88,
     "metadata": {},
     "output_type": "execute_result"
    }
   ],
   "source": [
    "sorted(zip(probs.flatten(), labels), reverse=True)"
   ]
  },
  {
   "cell_type": "code",
   "execution_count": 42,
   "id": "45374a93-dfc5-44ae-b279-8ae231baa247",
   "metadata": {},
   "outputs": [
    {
     "data": {
      "text/plain": [
       "63       ../data/posters/10114-love-actually...-sucks_R...\n",
       "64                 ../data/posters/10115-voyage_jQee8c.jpg\n",
       "237       ../data/posters/10491-for-love-we-can_JBAvYc.jpg\n",
       "269      ../data/posters/10554-the-accidental-spy_E5bgl...\n",
       "270      ../data/posters/10555-naked-ambition-2_lBvqEc.jpg\n",
       "                               ...                        \n",
       "18878            ../data/posters/9655-butterfly_BdDZAc.jpg\n",
       "18888    ../data/posters/9684-rise-of-the-legend_JZnzJc...\n",
       "18898          ../data/posters/9710-line-walker_RjJxEc.jpg\n",
       "18938               ../data/posters/983-d.i.e_x8A3z_4c.jpg\n",
       "19032              ../data/posters/998-so-close_Q2dk6c.jpg\n",
       "Name: rel_path, Length: 678, dtype: object"
      ]
     },
     "execution_count": 42,
     "metadata": {},
     "output_type": "execute_result"
    }
   ],
   "source": [
    "data[data[\"Country\"] == \"Hong Kong\"][\"rel_path\"]"
   ]
  },
  {
   "cell_type": "markdown",
   "id": "e18fac78-823b-4599-a369-628a53d3131d",
   "metadata": {},
   "source": [
    "# Not released yet"
   ]
  },
  {
   "cell_type": "code",
   "execution_count": 4,
   "id": "80afa2ac-f524-453c-8ad1-f18c1a66e707",
   "metadata": {},
   "outputs": [],
   "source": [
    "for k, v in num2details.items():\n",
    "    href2details[f\"/{k}\"] = v"
   ]
  },
  {
   "cell_type": "code",
   "execution_count": 5,
   "id": "9ec8b522-c45f-474a-9fa4-ed03f75eecf9",
   "metadata": {},
   "outputs": [
    {
     "data": {
      "text/plain": [
       "31454"
      ]
     },
     "execution_count": 5,
     "metadata": {},
     "output_type": "execute_result"
    }
   ],
   "source": [
    "len(href2details)"
   ]
  },
  {
   "cell_type": "code",
   "execution_count": 3,
   "id": "a90df896-d535-48f3-be15-89d022c49e71",
   "metadata": {},
   "outputs": [],
   "source": [
    "data = pd.DataFrame()"
   ]
  },
  {
   "cell_type": "code",
   "execution_count": 7,
   "id": "addc2e8a-2a7f-4103-bd07-16d49ee4f3b8",
   "metadata": {},
   "outputs": [],
   "source": [
    "root = \"../data/posters/not_released_yet\"\n",
    "EXT = \".jpg\"\n",
    "\n",
    "data[\"rel_path\"] = [f\"{root}/{fname}\" for fname in os.listdir(root) if fname.endswith(EXT)]\n",
    "\n",
    "data[\"filename\"] = data[\"rel_path\"].apply(os.path.basename)\n",
    "data[\"href\"] = data.filename.apply(\n",
    "    lambda x: x.split(\"_\")[0]\n",
    ")\n",
    "\n",
    "\n",
    "\n",
    "data[\"Country\"] = data[\"href\"].apply(\n",
    "    lambda x: href2details[f\"/{x}\"][\"Country:\"][len(\"Country:\"):].strip()\n",
    ")"
   ]
  },
  {
   "cell_type": "code",
   "execution_count": 8,
   "id": "6c6e299e-8004-4c6a-ad31-e38d5c31ffbc",
   "metadata": {},
   "outputs": [
    {
     "data": {
      "text/plain": [
       "South Korea    250\n",
       "China           36\n",
       "Thailand        34\n",
       "Japan           24\n",
       "Taiwan           4\n",
       "Hong Kong        2\n",
       "Name: Country, dtype: int64"
      ]
     },
     "execution_count": 8,
     "metadata": {},
     "output_type": "execute_result"
    }
   ],
   "source": [
    "data[\"Country\"].value_counts()"
   ]
  },
  {
   "cell_type": "code",
   "execution_count": 11,
   "id": "e57d9afb-0fd9-4136-9cc9-21ba88598700",
   "metadata": {},
   "outputs": [
    {
     "data": {
      "text/plain": [
       "South Korea    280\n",
       "China           41\n",
       "Thailand        35\n",
       "Japan           31\n",
       "Hong Kong        4\n",
       "Taiwan           4\n",
       "Name: Country, dtype: int64"
      ]
     },
     "execution_count": 11,
     "metadata": {},
     "output_type": "execute_result"
    }
   ],
   "source": [
    "data[\"Country\"].value_counts()"
   ]
  },
  {
   "cell_type": "code",
   "execution_count": 14,
   "id": "911a400a-da19-4029-82f9-42f1d0f1fc62",
   "metadata": {},
   "outputs": [],
   "source": [
    "data = data[data[\"Country\"].apply(lambda x: x not in {'Hong Kong', 'Taiwan'})]"
   ]
  },
  {
   "cell_type": "code",
   "execution_count": 15,
   "id": "a217bce8-2799-4499-851a-e0add33ad521",
   "metadata": {},
   "outputs": [
    {
     "data": {
      "text/plain": [
       "South Korea    280\n",
       "China           41\n",
       "Thailand        35\n",
       "Japan           31\n",
       "Name: Country, dtype: int64"
      ]
     },
     "execution_count": 15,
     "metadata": {},
     "output_type": "execute_result"
    }
   ],
   "source": [
    "data[\"Country\"].value_counts()"
   ]
  },
  {
   "cell_type": "code",
   "execution_count": null,
   "id": "e89581f8-4761-4066-b1e3-d2ba4e0f7e69",
   "metadata": {},
   "outputs": [],
   "source": []
  },
  {
   "cell_type": "code",
   "execution_count": 16,
   "id": "c10962b9-b4b9-4288-bfd3-d954e34a1dc9",
   "metadata": {
    "tags": []
   },
   "outputs": [
    {
     "data": {
      "text/html": [
       "<div>\n",
       "<style scoped>\n",
       "    .dataframe tbody tr th:only-of-type {\n",
       "        vertical-align: middle;\n",
       "    }\n",
       "\n",
       "    .dataframe tbody tr th {\n",
       "        vertical-align: top;\n",
       "    }\n",
       "\n",
       "    .dataframe thead th {\n",
       "        text-align: right;\n",
       "    }\n",
       "</style>\n",
       "<table border=\"1\" class=\"dataframe\">\n",
       "  <thead>\n",
       "    <tr style=\"text-align: right;\">\n",
       "      <th></th>\n",
       "      <th>rel_path</th>\n",
       "      <th>filename</th>\n",
       "      <th>href</th>\n",
       "      <th>Country</th>\n",
       "    </tr>\n",
       "  </thead>\n",
       "  <tbody>\n",
       "    <tr>\n",
       "      <th>0</th>\n",
       "      <td>../data/posters/not_released_yet/737225-jie-zi...</td>\n",
       "      <td>737225-jie-zi-gui-cheng_r4qqZ_4c.jpg</td>\n",
       "      <td>737225-jie-zi-gui-cheng</td>\n",
       "      <td>China</td>\n",
       "    </tr>\n",
       "  </tbody>\n",
       "</table>\n",
       "</div>"
      ],
      "text/plain": [
       "                                            rel_path  \\\n",
       "0  ../data/posters/not_released_yet/737225-jie-zi...   \n",
       "\n",
       "                               filename                     href Country  \n",
       "0  737225-jie-zi-gui-cheng_r4qqZ_4c.jpg  737225-jie-zi-gui-cheng   China  "
      ]
     },
     "execution_count": 16,
     "metadata": {},
     "output_type": "execute_result"
    }
   ],
   "source": [
    "sample = data.groupby(\"Country\", group_keys=False).apply(\n",
    "    lambda x: x.sample(\n",
    "        data[\"Country\"].value_counts().to_list()[-1]\n",
    "        , random_state=RANDOM_STATE\n",
    "    )\n",
    ").reset_index(drop=True)\n",
    "\n",
    "sample.head(1)"
   ]
  },
  {
   "cell_type": "code",
   "execution_count": 17,
   "id": "f9a65b45-84d2-4adc-abfc-2bcfe09841b3",
   "metadata": {},
   "outputs": [
    {
     "data": {
      "text/plain": [
       "((124, 4),\n",
       " China          31\n",
       " Japan          31\n",
       " South Korea    31\n",
       " Thailand       31\n",
       " Name: Country, dtype: int64)"
      ]
     },
     "execution_count": 17,
     "metadata": {},
     "output_type": "execute_result"
    }
   ],
   "source": [
    "sample.shape, sample[\"Country\"].value_counts()"
   ]
  },
  {
   "cell_type": "code",
   "execution_count": 19,
   "id": "58776b1c-71f0-4b8d-9a23-2a23ff3127ae",
   "metadata": {},
   "outputs": [
    {
     "data": {
      "text/plain": [
       "['China', 'Japan', 'South Korea', 'Thailand']"
      ]
     },
     "execution_count": 19,
     "metadata": {},
     "output_type": "execute_result"
    }
   ],
   "source": [
    "labels = sorted(data[\"Country\"].unique())\n",
    "labels"
   ]
  },
  {
   "cell_type": "code",
   "execution_count": 26,
   "id": "00f62d9c-cf2c-4814-9551-224014064753",
   "metadata": {},
   "outputs": [
    {
     "data": {
      "application/json": {
       "ascii": false,
       "bar_format": null,
       "colour": null,
       "elapsed": 0.04925346374511719,
       "initial": 0,
       "n": 0,
       "ncols": null,
       "nrows": 31,
       "postfix": null,
       "prefix": "",
       "rate": null,
       "total": 42,
       "unit": "it",
       "unit_divisor": 1000,
       "unit_scale": false
      },
      "application/vnd.jupyter.widget-view+json": {
       "model_id": "e525cd153b9b44a29e6ae07c82116959",
       "version_major": 2,
       "version_minor": 0
      },
      "text/plain": [
       "  0%|          | 0/42 [00:00<?, ?it/s]"
      ]
     },
     "metadata": {},
     "output_type": "display_data"
    },
    {
     "name": "stdout",
     "output_type": "stream",
     "text": [
      "              precision    recall  f1-score   support\n",
      "\n",
      "       China       0.92      1.00      0.96        11\n",
      "       Japan       1.00      0.90      0.95        10\n",
      " South Korea       1.00      1.00      1.00        10\n",
      "    Thailand       1.00      1.00      1.00        11\n",
      "\n",
      "    accuracy                           0.98        42\n",
      "   macro avg       0.98      0.97      0.98        42\n",
      "weighted avg       0.98      0.98      0.98        42\n",
      "\n"
     ]
    },
    {
     "data": {
      "application/json": {
       "ascii": false,
       "bar_format": null,
       "colour": null,
       "elapsed": 0.06870841979980469,
       "initial": 0,
       "n": 0,
       "ncols": null,
       "nrows": 31,
       "postfix": null,
       "prefix": "",
       "rate": null,
       "total": 41,
       "unit": "it",
       "unit_divisor": 1000,
       "unit_scale": false
      },
      "application/vnd.jupyter.widget-view+json": {
       "model_id": "a8546764c05f43fcb22372595f8c534a",
       "version_major": 2,
       "version_minor": 0
      },
      "text/plain": [
       "  0%|          | 0/41 [00:00<?, ?it/s]"
      ]
     },
     "metadata": {},
     "output_type": "display_data"
    },
    {
     "name": "stdout",
     "output_type": "stream",
     "text": [
      "              precision    recall  f1-score   support\n",
      "\n",
      "       China       0.83      1.00      0.91        10\n",
      "       Japan       0.77      0.91      0.83        11\n",
      " South Korea       1.00      0.90      0.95        10\n",
      "    Thailand       1.00      0.70      0.82        10\n",
      "\n",
      "    accuracy                           0.88        41\n",
      "   macro avg       0.90      0.88      0.88        41\n",
      "weighted avg       0.90      0.88      0.88        41\n",
      "\n"
     ]
    },
    {
     "data": {
      "application/json": {
       "ascii": false,
       "bar_format": null,
       "colour": null,
       "elapsed": 0.17377376556396484,
       "initial": 0,
       "n": 0,
       "ncols": null,
       "nrows": 31,
       "postfix": null,
       "prefix": "",
       "rate": null,
       "total": 41,
       "unit": "it",
       "unit_divisor": 1000,
       "unit_scale": false
      },
      "application/vnd.jupyter.widget-view+json": {
       "model_id": "6ccb2abac63047249fae3aa4f3a1ee61",
       "version_major": 2,
       "version_minor": 0
      },
      "text/plain": [
       "  0%|          | 0/41 [00:00<?, ?it/s]"
      ]
     },
     "metadata": {},
     "output_type": "display_data"
    },
    {
     "name": "stdout",
     "output_type": "stream",
     "text": [
      "              precision    recall  f1-score   support\n",
      "\n",
      "       China       0.71      1.00      0.83        10\n",
      "       Japan       1.00      0.80      0.89        10\n",
      " South Korea       0.77      0.91      0.83        11\n",
      "    Thailand       1.00      0.60      0.75        10\n",
      "\n",
      "    accuracy                           0.83        41\n",
      "   macro avg       0.87      0.83      0.83        41\n",
      "weighted avg       0.87      0.83      0.83        41\n",
      "\n"
     ]
    }
   ],
   "source": [
    "for i, (train_index, test_index) in enumerate(skf.split(X, y)):\n",
    "    \n",
    "    fold_test = sample.loc[test_index]\n",
    "    \n",
    "    fold_test[\"pred\"] = fold_test[\"rel_path\"].progress_apply(\n",
    "        lambda x: predict(x, labels, processor, model, device)\n",
    "    )\n",
    "    \n",
    "    print(classification_report(fold_test[\"Country\"], fold_test[\"pred\"]))"
   ]
  },
  {
   "cell_type": "code",
   "execution_count": 29,
   "id": "cd50986c-f4b6-4b66-958d-9b6ca6ee86dc",
   "metadata": {},
   "outputs": [
    {
     "name": "stdout",
     "output_type": "stream",
     "text": [
      "['China', 'Japan', 'South Korea', 'Thailand']\n"
     ]
    },
    {
     "data": {
      "text/plain": [
       "array([[10,  0,  0,  0],\n",
       "       [ 2,  8,  0,  0],\n",
       "       [ 1,  0, 10,  0],\n",
       "       [ 1,  0,  3,  6]], dtype=int64)"
      ]
     },
     "execution_count": 29,
     "metadata": {},
     "output_type": "execute_result"
    }
   ],
   "source": [
    "print(labels)\n",
    "confusion_matrix(fold_test[\"Country\"], fold_test[\"pred\"])"
   ]
  },
  {
   "cell_type": "code",
   "execution_count": null,
   "id": "52b211fa-3093-4e66-979e-c6702004a2ba",
   "metadata": {},
   "outputs": [],
   "source": []
  }
 ],
 "metadata": {
  "kernelspec": {
   "display_name": "Python 3 (ipykernel)",
   "language": "python",
   "name": "python3"
  },
  "language_info": {
   "codemirror_mode": {
    "name": "ipython",
    "version": 3
   },
   "file_extension": ".py",
   "mimetype": "text/x-python",
   "name": "python",
   "nbconvert_exporter": "python",
   "pygments_lexer": "ipython3",
   "version": "3.10.5"
  }
 },
 "nbformat": 4,
 "nbformat_minor": 5
}
