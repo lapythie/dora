{
 "cells": [
  {
   "cell_type": "code",
   "execution_count": 1,
   "id": "78ff8982-ac6e-4976-9655-42c2b3c55118",
   "metadata": {},
   "outputs": [],
   "source": [
    "import json\n",
    "import numpy as np\n",
    "import pandas as pd\n",
    "from collections import Counter\n",
    "\n",
    "from nltk import word_tokenize, sent_tokenize\n",
    "\n",
    "from tqdm.auto import tqdm\n",
    "tqdm.pandas()\n",
    "\n",
    "pd.set_option('display.max_colwidth', 200)"
   ]
  },
  {
   "cell_type": "code",
   "execution_count": 2,
   "id": "161b4803-4e64-40ac-b3e5-5cca5b8922df",
   "metadata": {},
   "outputs": [],
   "source": [
    "with open(\"../data/href2synopsis.json\", encoding=\"utf-8\") as f:\n",
    "    href2synopsis = json.load(f)"
   ]
  },
  {
   "cell_type": "markdown",
   "id": "d74f6694-1997-4e2a-aa8d-845e73c0150f",
   "metadata": {},
   "source": [
    "    Takeaways:\n",
    "        - replace \\n or \\r sequences with single \\n\n",
    "        - use language-specific tokenizer"
   ]
  },
  {
   "cell_type": "markdown",
   "id": "8a2190a7-a0b1-46ea-b8cb-9e995fd1ff91",
   "metadata": {},
   "source": [
    "# BOW stats\n",
    "    # TODO: add actual bow stats"
   ]
  },
  {
   "cell_type": "code",
   "execution_count": 72,
   "id": "05b12d69-ed5e-456b-a366-7de2226a5796",
   "metadata": {},
   "outputs": [],
   "source": [
    "data = pd.DataFrame()\n",
    "\n",
    "data[\"href\"] = href2synopsis.keys()\n",
    "data[\"synopsis\"] = href2synopsis.values()"
   ]
  },
  {
   "cell_type": "code",
   "execution_count": 73,
   "id": "2e34ca49-9d27-46ce-9db5-f449166f6ab2",
   "metadata": {},
   "outputs": [],
   "source": [
    "data = data[data[\"synopsis\"] != \"\"]"
   ]
  },
  {
   "cell_type": "code",
   "execution_count": 74,
   "id": "7544f9ee-3e14-4128-88b3-21a43824cf37",
   "metadata": {},
   "outputs": [],
   "source": [
    "import regex as re\n",
    "\n",
    "data[\"synopsis\"] = data[\"synopsis\"].apply(\n",
    "    lambda x: re.sub(\"\\s*\\n\\s*\", \"\\n\", x).strip()\n",
    ")"
   ]
  },
  {
   "cell_type": "code",
   "execution_count": 75,
   "id": "5f3ee1de-090f-46d6-a82a-334e48342382",
   "metadata": {},
   "outputs": [],
   "source": [
    "# data[\"min_ord\"] = data[\"synopsis\"].progress_apply(\n",
    "#     lambda s: min([ord(char) for char in s])\n",
    "# )\n",
    "\n",
    "# data[\"max_ord\"] = data[\"synopsis\"].progress_apply(\n",
    "#     lambda s: max([ord(char) for char in s])\n",
    "# )\n",
    "\n",
    "# data[\"mean_ord\"] = data[\"synopsis\"].progress_apply(\n",
    "#     lambda s: np.mean([ord(char) for char in s])\n",
    "# )\n",
    "\n",
    "# data[\"median_ord\"] = data[\"synopsis\"].progress_apply(\n",
    "#     lambda s: np.median([ord(char) for char in s])\n",
    "# )\n",
    "\n",
    "# data[\"mode_ord\"] = data[\"synopsis\"].progress_apply(\n",
    "#     lambda s: Counter([ord(char) for char in s]).most_common()[0][0]\n",
    "# )"
   ]
  },
  {
   "cell_type": "code",
   "execution_count": 84,
   "id": "1f507345-ba1b-4d57-9a15-dc8c29e1c811",
   "metadata": {},
   "outputs": [
    {
     "data": {
      "application/json": {
       "ascii": false,
       "bar_format": null,
       "colour": null,
       "elapsed": 0.03806447982788086,
       "initial": 0,
       "n": 0,
       "ncols": null,
       "nrows": 31,
       "postfix": null,
       "prefix": "",
       "rate": null,
       "total": 18374,
       "unit": "it",
       "unit_divisor": 1000,
       "unit_scale": false
      },
      "application/vnd.jupyter.widget-view+json": {
       "model_id": "38be4e30aaa04696a92f1756daa1b0dd",
       "version_major": 2,
       "version_minor": 0
      },
      "text/plain": [
       "  0%|          | 0/18374 [00:00<?, ?it/s]"
      ]
     },
     "metadata": {},
     "output_type": "display_data"
    }
   ],
   "source": [
    "# data[\"mode_count\"] = data[\"synopsis\"].progress_apply(\n",
    "#     lambda s: Counter(s).most_common()[0][1]\n",
    "# )\n",
    "\n",
    "# data[\"mode_ratio\"] = data[\"synopsis\"].progress_apply(\n",
    "#     lambda s: Counter(s).most_common()[0][1]/len(s)\n",
    "# )\n",
    "\n",
    "# data[\"mean_char_count\"] = data[\"synopsis\"].progress_apply(\n",
    "#     lambda s: np.mean(list(Counter(s).values()))\n",
    "# )\n",
    "\n",
    "data[\"mean_token_count\"] = data[\"synopsis\"].progress_apply(\n",
    "    lambda s: np.mean(list(Counter([w.lower() for w in word_tokenize(s)]).values()))\n",
    ")"
   ]
  },
  {
   "cell_type": "code",
   "execution_count": 12,
   "id": "2b001110-3de6-47f6-819b-0fa70adfedb1",
   "metadata": {},
   "outputs": [
    {
     "data": {
      "application/json": {
       "ascii": false,
       "bar_format": null,
       "colour": null,
       "elapsed": 0.02100229263305664,
       "initial": 0,
       "n": 0,
       "ncols": null,
       "nrows": 31,
       "postfix": null,
       "prefix": "",
       "rate": null,
       "total": 18374,
       "unit": "it",
       "unit_divisor": 1000,
       "unit_scale": false
      },
      "application/vnd.jupyter.widget-view+json": {
       "model_id": "c93a97138cb044f2acf1c1f8a8ed5899",
       "version_major": 2,
       "version_minor": 0
      },
      "text/plain": [
       "  0%|          | 0/18374 [00:00<?, ?it/s]"
      ]
     },
     "metadata": {},
     "output_type": "display_data"
    },
    {
     "data": {
      "application/json": {
       "ascii": false,
       "bar_format": null,
       "colour": null,
       "elapsed": 0.04766440391540527,
       "initial": 0,
       "n": 0,
       "ncols": null,
       "nrows": 31,
       "postfix": null,
       "prefix": "",
       "rate": null,
       "total": 18374,
       "unit": "it",
       "unit_divisor": 1000,
       "unit_scale": false
      },
      "application/vnd.jupyter.widget-view+json": {
       "model_id": "ec0363cfd4fc45a4b3295271eaa21045",
       "version_major": 2,
       "version_minor": 0
      },
      "text/plain": [
       "  0%|          | 0/18374 [00:00<?, ?it/s]"
      ]
     },
     "metadata": {},
     "output_type": "display_data"
    },
    {
     "data": {
      "application/json": {
       "ascii": false,
       "bar_format": null,
       "colour": null,
       "elapsed": 0.03160500526428223,
       "initial": 0,
       "n": 0,
       "ncols": null,
       "nrows": 31,
       "postfix": null,
       "prefix": "",
       "rate": null,
       "total": 18374,
       "unit": "it",
       "unit_divisor": 1000,
       "unit_scale": false
      },
      "application/vnd.jupyter.widget-view+json": {
       "model_id": "90969686f7374906846c343549a80da6",
       "version_major": 2,
       "version_minor": 0
      },
      "text/plain": [
       "  0%|          | 0/18374 [00:00<?, ?it/s]"
      ]
     },
     "metadata": {},
     "output_type": "display_data"
    }
   ],
   "source": [
    "data[\"char_total\"] = data[\"synopsis\"].progress_apply(len)\n",
    "data[\"token_total\"] = data[\"synopsis\"].progress_apply(\n",
    "    lambda x: len(word_tokenize(x))\n",
    ")\n",
    "data[\"sent_total\"] = data[\"synopsis\"].progress_apply(\n",
    "    lambda x: len([sent for line in x.split(\"\\n\") for sent in  sent_tokenize(line) if line.strip()])\n",
    ")"
   ]
  },
  {
   "cell_type": "code",
   "execution_count": 27,
   "id": "ecf37e02-fcb7-415d-9bb2-5ef90e7e964f",
   "metadata": {},
   "outputs": [
    {
     "data": {
      "application/json": {
       "ascii": false,
       "bar_format": null,
       "colour": null,
       "elapsed": 0.029372453689575195,
       "initial": 0,
       "n": 0,
       "ncols": null,
       "nrows": 31,
       "postfix": null,
       "prefix": "",
       "rate": null,
       "total": 19393,
       "unit": "it",
       "unit_divisor": 1000,
       "unit_scale": false
      },
      "application/vnd.jupyter.widget-view+json": {
       "model_id": "702511647edf426d9f15c117f07c1693",
       "version_major": 2,
       "version_minor": 0
      },
      "text/plain": [
       "  0%|          | 0/19393 [00:00<?, ?it/s]"
      ]
     },
     "metadata": {},
     "output_type": "display_data"
    }
   ],
   "source": [
    "# data[\"lines_total\"] = data[\"synopsis\"].progress_apply(lambda x: len(x.split(\"\\n\")))"
   ]
  },
  {
   "cell_type": "code",
   "execution_count": 5,
   "id": "7bfe7015-9c56-4eff-af20-1559fb2a9e87",
   "metadata": {},
   "outputs": [
    {
     "data": {
      "application/json": {
       "ascii": false,
       "bar_format": null,
       "colour": null,
       "elapsed": 0.01822948455810547,
       "initial": 0,
       "n": 0,
       "ncols": null,
       "nrows": 31,
       "postfix": null,
       "prefix": "",
       "rate": null,
       "total": 19393,
       "unit": "it",
       "unit_divisor": 1000,
       "unit_scale": false
      },
      "application/vnd.jupyter.widget-view+json": {
       "model_id": "470ea2068d1945ed9d6e4b6daf612183",
       "version_major": 2,
       "version_minor": 0
      },
      "text/plain": [
       "  0%|          | 0/19393 [00:00<?, ?it/s]"
      ]
     },
     "metadata": {},
     "output_type": "display_data"
    },
    {
     "data": {
      "application/json": {
       "ascii": false,
       "bar_format": null,
       "colour": null,
       "elapsed": 0.04676222801208496,
       "initial": 0,
       "n": 0,
       "ncols": null,
       "nrows": 31,
       "postfix": null,
       "prefix": "",
       "rate": null,
       "total": 19393,
       "unit": "it",
       "unit_divisor": 1000,
       "unit_scale": false
      },
      "application/vnd.jupyter.widget-view+json": {
       "model_id": "e6508da238494596b05daeeb866b3b8b",
       "version_major": 2,
       "version_minor": 0
      },
      "text/plain": [
       "  0%|          | 0/19393 [00:00<?, ?it/s]"
      ]
     },
     "metadata": {},
     "output_type": "display_data"
    },
    {
     "data": {
      "application/json": {
       "ascii": false,
       "bar_format": null,
       "colour": null,
       "elapsed": 0.029623746871948242,
       "initial": 0,
       "n": 0,
       "ncols": null,
       "nrows": 31,
       "postfix": null,
       "prefix": "",
       "rate": null,
       "total": 19393,
       "unit": "it",
       "unit_divisor": 1000,
       "unit_scale": false
      },
      "application/vnd.jupyter.widget-view+json": {
       "model_id": "b8aa8ad9b13a4107a05501c44a2488a8",
       "version_major": 2,
       "version_minor": 0
      },
      "text/plain": [
       "  0%|          | 0/19393 [00:00<?, ?it/s]"
      ]
     },
     "metadata": {},
     "output_type": "display_data"
    }
   ],
   "source": [
    "data[\"token_max_char_len\"] = data[\"synopsis\"].progress_apply(\n",
    "    lambda x: max([len(t) for t in word_tokenize(x)]) if x.strip() else 0\n",
    ")\n",
    "\n",
    "data[\"sent_max_char_len\"] = data[\"synopsis\"].progress_apply(\n",
    "    lambda x: max([len(t) for t in sent_tokenize(x)]) if x.strip() else 0\n",
    ")\n",
    "\n",
    "data[\"line_max_char_len\"] = data[\"synopsis\"].progress_apply(\n",
    "    lambda x: max([len(t) for t in x.split(\"\\n\")]) if x.strip() else 0\n",
    ")"
   ]
  },
  {
   "cell_type": "code",
   "execution_count": 16,
   "id": "e6d30ba1-dd5e-4d12-87d8-c7e54047486c",
   "metadata": {},
   "outputs": [],
   "source": [
    "data[\"sent_char_ratio\"] = [t.sent_total/t.char_total for t in data.itertuples()]\n",
    "data[\"sent_token_ratio\"] = [t.sent_total/t.token_total for t in data.itertuples()]\n",
    "data[\"token_char_ratio\"] = [t.token_total/t.char_total for t in data.itertuples()]\n",
    "data[\"token_sent_ratio\"] = [t.token_total/t.sent_total for t in data.itertuples()]\n",
    "data[\"char_sent_ratio\"] = [t.char_total/t.sent_total for t in data.itertuples()]\n",
    "data[\"char_token_ratio\"] = [t.char_total/t.token_total for t in data.itertuples()]"
   ]
  },
  {
   "cell_type": "code",
   "execution_count": 13,
   "id": "37083f6a-439f-4805-8333-cc2268e8e1c6",
   "metadata": {},
   "outputs": [
    {
     "data": {
      "text/html": [
       "<div>\n",
       "<style scoped>\n",
       "    .dataframe tbody tr th:only-of-type {\n",
       "        vertical-align: middle;\n",
       "    }\n",
       "\n",
       "    .dataframe tbody tr th {\n",
       "        vertical-align: top;\n",
       "    }\n",
       "\n",
       "    .dataframe thead th {\n",
       "        text-align: right;\n",
       "    }\n",
       "</style>\n",
       "<table border=\"1\" class=\"dataframe\">\n",
       "  <thead>\n",
       "    <tr style=\"text-align: right;\">\n",
       "      <th></th>\n",
       "      <th>char_total</th>\n",
       "      <th>token_total</th>\n",
       "      <th>sent_total</th>\n",
       "    </tr>\n",
       "  </thead>\n",
       "  <tbody>\n",
       "    <tr>\n",
       "      <th>count</th>\n",
       "      <td>18374</td>\n",
       "      <td>18374</td>\n",
       "      <td>18374</td>\n",
       "    </tr>\n",
       "    <tr>\n",
       "      <th>mean</th>\n",
       "      <td>519</td>\n",
       "      <td>105</td>\n",
       "      <td>5</td>\n",
       "    </tr>\n",
       "    <tr>\n",
       "      <th>std</th>\n",
       "      <td>348</td>\n",
       "      <td>70</td>\n",
       "      <td>3</td>\n",
       "    </tr>\n",
       "    <tr>\n",
       "      <th>min</th>\n",
       "      <td>1</td>\n",
       "      <td>1</td>\n",
       "      <td>1</td>\n",
       "    </tr>\n",
       "    <tr>\n",
       "      <th>25%</th>\n",
       "      <td>262</td>\n",
       "      <td>53</td>\n",
       "      <td>3</td>\n",
       "    </tr>\n",
       "    <tr>\n",
       "      <th>50%</th>\n",
       "      <td>454</td>\n",
       "      <td>92</td>\n",
       "      <td>5</td>\n",
       "    </tr>\n",
       "    <tr>\n",
       "      <th>75%</th>\n",
       "      <td>700</td>\n",
       "      <td>141</td>\n",
       "      <td>7</td>\n",
       "    </tr>\n",
       "    <tr>\n",
       "      <th>max</th>\n",
       "      <td>5799</td>\n",
       "      <td>1201</td>\n",
       "      <td>79</td>\n",
       "    </tr>\n",
       "  </tbody>\n",
       "</table>\n",
       "</div>"
      ],
      "text/plain": [
       "       char_total  token_total  sent_total\n",
       "count       18374        18374       18374\n",
       "mean          519          105           5\n",
       "std           348           70           3\n",
       "min             1            1           1\n",
       "25%           262           53           3\n",
       "50%           454           92           5\n",
       "75%           700          141           7\n",
       "max          5799         1201          79"
      ]
     },
     "execution_count": 13,
     "metadata": {},
     "output_type": "execute_result"
    }
   ],
   "source": [
    "data.describe().astype(int)"
   ]
  },
  {
   "cell_type": "code",
   "execution_count": 85,
   "id": "a9e2f70f-f979-41fd-9510-cefafa51031d",
   "metadata": {},
   "outputs": [],
   "source": [
    "stats = data.drop(columns=[\"href\", \"synopsis\"]) #.drop(columns=[\"line_max_char_len\"])"
   ]
  },
  {
   "cell_type": "markdown",
   "id": "55b0182b-a22c-4772-a131-4192604d0e1d",
   "metadata": {},
   "source": [
    "# Outlier detection\n",
    "\n",
    "[The svm.OneClassSVM is known to be sensitive to outliers and thus does not perform very well for outlier detection](https://scikit-learn.org/stable/modules/outlier_detection.html#outlier-detection)"
   ]
  },
  {
   "cell_type": "code",
   "execution_count": 86,
   "id": "2ab5f722-23fd-4880-b752-36fa8d209af3",
   "metadata": {},
   "outputs": [],
   "source": [
    "from sklearn.neighbors import LocalOutlierFactor\n",
    "from sklearn.ensemble import IsolationForest"
   ]
  },
  {
   "cell_type": "code",
   "execution_count": 87,
   "id": "8a388991-78ad-47dd-817f-9a3f4ffa0b64",
   "metadata": {},
   "outputs": [],
   "source": [
    "clf = LocalOutlierFactor(n_neighbors=20)\n",
    "preds = clf.fit_predict(stats)\n",
    "\n",
    "data[\"pred\"] = preds\n",
    "data[\"negative_outlier_factor_\"] = clf.negative_outlier_factor_"
   ]
  },
  {
   "cell_type": "code",
   "execution_count": 88,
   "id": "a87341ab-da27-4bce-8fc6-fa15a5ca0cd4",
   "metadata": {},
   "outputs": [],
   "source": [
    "# data[data[\"pred\"] == -1][\"synopsis\"].sample(10).to_list()"
   ]
  },
  {
   "cell_type": "code",
   "execution_count": 89,
   "id": "302950ce-21fe-4f85-97c0-4d1cd14f76a4",
   "metadata": {},
   "outputs": [
    {
     "data": {
      "text/html": [
       "<div>\n",
       "<style scoped>\n",
       "    .dataframe tbody tr th:only-of-type {\n",
       "        vertical-align: middle;\n",
       "    }\n",
       "\n",
       "    .dataframe tbody tr th {\n",
       "        vertical-align: top;\n",
       "    }\n",
       "\n",
       "    .dataframe thead th {\n",
       "        text-align: right;\n",
       "    }\n",
       "</style>\n",
       "<table border=\"1\" class=\"dataframe\">\n",
       "  <thead>\n",
       "    <tr style=\"text-align: right;\">\n",
       "      <th></th>\n",
       "      <th>href</th>\n",
       "      <th>synopsis</th>\n",
       "      <th>pred</th>\n",
       "      <th>negative_outlier_factor_</th>\n",
       "    </tr>\n",
       "  </thead>\n",
       "  <tbody>\n",
       "    <tr>\n",
       "      <th>1398</th>\n",
       "      <td>/71913-stalker</td>\n",
       "      <td>Discover the secret of a nerdy young man who falls in love with a third-year senior. Because his dream is so far from reach, observing is the only thing he could do. “Kaojao told me I was falling ...</td>\n",
       "      <td>-1</td>\n",
       "      <td>-1.027231e+06</td>\n",
       "    </tr>\n",
       "    <tr>\n",
       "      <th>5458</th>\n",
       "      <td>/532-ryoma-den</td>\n",
       "      <td>The 49th NHK Taiga drama is Ryoma den, set back in the Bakumatsu period. The story focuses on the life of Sakamoto Ryoma, who lived from 1835 to 1867. He was an important leader in the movement to...</td>\n",
       "      <td>-1</td>\n",
       "      <td>-9.789186e+05</td>\n",
       "    </tr>\n",
       "    <tr>\n",
       "      <th>10896</th>\n",
       "      <td>/706775-growing-pain</td>\n",
       "      <td>A program focusing on retro and feelings. Guests are randomly divided into two lineups for PK in each issue to meet the challenge in the form of \"opening a blind box\". The challenge content includ...</td>\n",
       "      <td>-1</td>\n",
       "      <td>-9.789186e+05</td>\n",
       "    </tr>\n",
       "    <tr>\n",
       "      <th>8204</th>\n",
       "      <td>/70421-wayvision</td>\n",
       "      <td>The WayV members are next up to star in their very own 'Seezn' reality series, 'WayVision'! This marks WayV's first ever reality show to air in Korea since the group's debut. The series' title 'Wa...</td>\n",
       "      <td>-1</td>\n",
       "      <td>-9.789186e+05</td>\n",
       "    </tr>\n",
       "    <tr>\n",
       "      <th>3551</th>\n",
       "      <td>/28202-omniscient-interfering-view</td>\n",
       "      <td>The managers, who know more about the stars they are working for, have unsealed their lips! In the program, the show’s hosts receive detailed descriptions of celebrities’ lifestyles and “interfere...</td>\n",
       "      <td>-1</td>\n",
       "      <td>-7.499255e+05</td>\n",
       "    </tr>\n",
       "    <tr>\n",
       "      <th>18185</th>\n",
       "      <td>/59115-mysterious-nile-girl-thutmose</td>\n",
       "      <td>Sanae visits her ancestors' grave to report she was moved house. However, her arrival damages the family mausoleum, and releases 51 ancient spirits of the Nile that were formerly sealed inside. Sa...</td>\n",
       "      <td>-1</td>\n",
       "      <td>-7.499255e+05</td>\n",
       "    </tr>\n",
       "    <tr>\n",
       "      <th>5713</th>\n",
       "      <td>/14183-l.o.r.d</td>\n",
       "      <td>The story takes place in a sacred mainland of Odin (or Wotan), separated into four counties based on the four elements - water, fire, wind and earth. The published book(s) in the series mainly foc...</td>\n",
       "      <td>-1</td>\n",
       "      <td>-7.499255e+05</td>\n",
       "    </tr>\n",
       "    <tr>\n",
       "      <th>13474</th>\n",
       "      <td>/681035-yi-lu-chao-yang</td>\n",
       "      <td>~~ Adapted from the novel \"Da Cheng Xiao Shi\" (大城小室) by Jiang Li Han (姜立涵).</td>\n",
       "      <td>-1</td>\n",
       "      <td>-7.044481e+05</td>\n",
       "    </tr>\n",
       "    <tr>\n",
       "      <th>16641</th>\n",
       "      <td>/703595-my-heroic-husband-season-2</td>\n",
       "      <td>~~ Adapted from the novel \"Zhui Xu\" (赘婿) by Fen Nu de Xiang Jiao (愤怒的香蕉).</td>\n",
       "      <td>-1</td>\n",
       "      <td>-6.981945e+05</td>\n",
       "    </tr>\n",
       "    <tr>\n",
       "      <th>2562</th>\n",
       "      <td>/23122-in-between-seasons</td>\n",
       "      <td>Mi Kyung lives apart from her husband and raises Soo Hyun, her high school-aged son. One day, Soo Hyun brings home his friend Yong Joon to stay. A few years later, after completing his military se...</td>\n",
       "      <td>-1</td>\n",
       "      <td>-6.463988e+05</td>\n",
       "    </tr>\n",
       "    <tr>\n",
       "      <th>3544</th>\n",
       "      <td>/710909-wei-gei-ni-wo-de-xiao-xin-xin</td>\n",
       "      <td>18-years-old writer Su Meng has written her first romance novel 'Give You My Heart'. In the novel, she created a villain named Mu Si Chen who is smart and cunning. One day, Mu Si Chen comes to her...</td>\n",
       "      <td>-1</td>\n",
       "      <td>-6.451021e+05</td>\n",
       "    </tr>\n",
       "    <tr>\n",
       "      <th>10614</th>\n",
       "      <td>/6424-two-fathers</td>\n",
       "      <td>Seven years ago, two men were notified that the women they both dated had disappeared after giving birth to a baby girl. Not knowing who the father was, the two bachelors decided to raise the baby...</td>\n",
       "      <td>-1</td>\n",
       "      <td>-6.442084e+05</td>\n",
       "    </tr>\n",
       "    <tr>\n",
       "      <th>10501</th>\n",
       "      <td>/22884-akira-to-akira</td>\n",
       "      <td>The story begins in April 1986 and is set during the days of the bubble economy. Kaidou Akira comes from a wealthy background and is the heir to a large company Tokai Yuusen. On the other hand, hi...</td>\n",
       "      <td>-1</td>\n",
       "      <td>-8.664087e+00</td>\n",
       "    </tr>\n",
       "    <tr>\n",
       "      <th>2746</th>\n",
       "      <td>/49485-the-long-night</td>\n",
       "      <td>It was an open shut case with hundred of witnesses seeing the murder suspect trying to dispose of a body and a signed confession from the suspect himself.  And yet when the case was ready for cour...</td>\n",
       "      <td>-1</td>\n",
       "      <td>-8.605720e+00</td>\n",
       "    </tr>\n",
       "    <tr>\n",
       "      <th>12365</th>\n",
       "      <td>/727869-pathirsty</td>\n",
       "      <td>The fight for love between these 2 Kweens begins!\\n(Source: The Idea First Company)</td>\n",
       "      <td>-1</td>\n",
       "      <td>-6.794333e+00</td>\n",
       "    </tr>\n",
       "    <tr>\n",
       "      <th>18980</th>\n",
       "      <td>/44315-akagi-washizu-mahjong-kanketsu-hen</td>\n",
       "      <td>The final 3 episodes which concludes the Washizu arc.</td>\n",
       "      <td>-1</td>\n",
       "      <td>-6.781404e+00</td>\n",
       "    </tr>\n",
       "    <tr>\n",
       "      <th>7836</th>\n",
       "      <td>/717367-my-handsome-husband-season-2</td>\n",
       "      <td>~~ Adapted from the manhua \"Bright Stars: Pick A Boss To Be A Husband\" (星光璀璨: 捡个boss做老公) by Ake Culture (阿柯文化).</td>\n",
       "      <td>-1</td>\n",
       "      <td>-6.428578e+00</td>\n",
       "    </tr>\n",
       "    <tr>\n",
       "      <th>9637</th>\n",
       "      <td>/716475-my-handsome-husband</td>\n",
       "      <td>~~ Adapted from the manhua \"Bright Stars: Pick A Boss To Be A Husband\" (星光璀璨: 捡个boss做老公) by Ake Culture (阿柯文化).</td>\n",
       "      <td>-1</td>\n",
       "      <td>-6.428578e+00</td>\n",
       "    </tr>\n",
       "    <tr>\n",
       "      <th>16219</th>\n",
       "      <td>/718497-time-to-twice-twice-new-year-2022</td>\n",
       "      <td>New season of  Twice's reality \"Time To Twice\"</td>\n",
       "      <td>-1</td>\n",
       "      <td>-6.389089e+00</td>\n",
       "    </tr>\n",
       "    <tr>\n",
       "      <th>7235</th>\n",
       "      <td>/736749-di-jia-qian-jin</td>\n",
       "      <td>~~ Adapted from the web novel \"Marriage of the Di Daughter\" (嫡嫁千金) by Qiansha Cha Ke (千山茶客).</td>\n",
       "      <td>-1</td>\n",
       "      <td>-6.376809e+00</td>\n",
       "    </tr>\n",
       "  </tbody>\n",
       "</table>\n",
       "</div>"
      ],
      "text/plain": [
       "                                            href  \\\n",
       "1398                              /71913-stalker   \n",
       "5458                              /532-ryoma-den   \n",
       "10896                       /706775-growing-pain   \n",
       "8204                            /70421-wayvision   \n",
       "3551          /28202-omniscient-interfering-view   \n",
       "18185       /59115-mysterious-nile-girl-thutmose   \n",
       "5713                              /14183-l.o.r.d   \n",
       "13474                    /681035-yi-lu-chao-yang   \n",
       "16641         /703595-my-heroic-husband-season-2   \n",
       "2562                   /23122-in-between-seasons   \n",
       "3544       /710909-wei-gei-ni-wo-de-xiao-xin-xin   \n",
       "10614                          /6424-two-fathers   \n",
       "10501                      /22884-akira-to-akira   \n",
       "2746                       /49485-the-long-night   \n",
       "12365                          /727869-pathirsty   \n",
       "18980  /44315-akagi-washizu-mahjong-kanketsu-hen   \n",
       "7836        /717367-my-handsome-husband-season-2   \n",
       "9637                 /716475-my-handsome-husband   \n",
       "16219  /718497-time-to-twice-twice-new-year-2022   \n",
       "7235                     /736749-di-jia-qian-jin   \n",
       "\n",
       "                                                                                                                                                                                                      synopsis  \\\n",
       "1398   Discover the secret of a nerdy young man who falls in love with a third-year senior. Because his dream is so far from reach, observing is the only thing he could do. “Kaojao told me I was falling ...   \n",
       "5458   The 49th NHK Taiga drama is Ryoma den, set back in the Bakumatsu period. The story focuses on the life of Sakamoto Ryoma, who lived from 1835 to 1867. He was an important leader in the movement to...   \n",
       "10896  A program focusing on retro and feelings. Guests are randomly divided into two lineups for PK in each issue to meet the challenge in the form of \"opening a blind box\". The challenge content includ...   \n",
       "8204   The WayV members are next up to star in their very own 'Seezn' reality series, 'WayVision'! This marks WayV's first ever reality show to air in Korea since the group's debut. The series' title 'Wa...   \n",
       "3551   The managers, who know more about the stars they are working for, have unsealed their lips! In the program, the show’s hosts receive detailed descriptions of celebrities’ lifestyles and “interfere...   \n",
       "18185  Sanae visits her ancestors' grave to report she was moved house. However, her arrival damages the family mausoleum, and releases 51 ancient spirits of the Nile that were formerly sealed inside. Sa...   \n",
       "5713   The story takes place in a sacred mainland of Odin (or Wotan), separated into four counties based on the four elements - water, fire, wind and earth. The published book(s) in the series mainly foc...   \n",
       "13474                                                                                                                              ~~ Adapted from the novel \"Da Cheng Xiao Shi\" (大城小室) by Jiang Li Han (姜立涵).   \n",
       "16641                                                                                                                                ~~ Adapted from the novel \"Zhui Xu\" (赘婿) by Fen Nu de Xiang Jiao (愤怒的香蕉).   \n",
       "2562   Mi Kyung lives apart from her husband and raises Soo Hyun, her high school-aged son. One day, Soo Hyun brings home his friend Yong Joon to stay. A few years later, after completing his military se...   \n",
       "3544   18-years-old writer Su Meng has written her first romance novel 'Give You My Heart'. In the novel, she created a villain named Mu Si Chen who is smart and cunning. One day, Mu Si Chen comes to her...   \n",
       "10614  Seven years ago, two men were notified that the women they both dated had disappeared after giving birth to a baby girl. Not knowing who the father was, the two bachelors decided to raise the baby...   \n",
       "10501  The story begins in April 1986 and is set during the days of the bubble economy. Kaidou Akira comes from a wealthy background and is the heir to a large company Tokai Yuusen. On the other hand, hi...   \n",
       "2746   It was an open shut case with hundred of witnesses seeing the murder suspect trying to dispose of a body and a signed confession from the suspect himself.  And yet when the case was ready for cour...   \n",
       "12365                                                                                                                      The fight for love between these 2 Kweens begins!\\n(Source: The Idea First Company)   \n",
       "18980                                                                                                                                                    The final 3 episodes which concludes the Washizu arc.   \n",
       "7836                                                                                           ~~ Adapted from the manhua \"Bright Stars: Pick A Boss To Be A Husband\" (星光璀璨: 捡个boss做老公) by Ake Culture (阿柯文化).   \n",
       "9637                                                                                           ~~ Adapted from the manhua \"Bright Stars: Pick A Boss To Be A Husband\" (星光璀璨: 捡个boss做老公) by Ake Culture (阿柯文化).   \n",
       "16219                                                                                                                                                           New season of  Twice's reality \"Time To Twice\"   \n",
       "7235                                                                                                              ~~ Adapted from the web novel \"Marriage of the Di Daughter\" (嫡嫁千金) by Qiansha Cha Ke (千山茶客).   \n",
       "\n",
       "       pred  negative_outlier_factor_  \n",
       "1398     -1             -1.027231e+06  \n",
       "5458     -1             -9.789186e+05  \n",
       "10896    -1             -9.789186e+05  \n",
       "8204     -1             -9.789186e+05  \n",
       "3551     -1             -7.499255e+05  \n",
       "18185    -1             -7.499255e+05  \n",
       "5713     -1             -7.499255e+05  \n",
       "13474    -1             -7.044481e+05  \n",
       "16641    -1             -6.981945e+05  \n",
       "2562     -1             -6.463988e+05  \n",
       "3544     -1             -6.451021e+05  \n",
       "10614    -1             -6.442084e+05  \n",
       "10501    -1             -8.664087e+00  \n",
       "2746     -1             -8.605720e+00  \n",
       "12365    -1             -6.794333e+00  \n",
       "18980    -1             -6.781404e+00  \n",
       "7836     -1             -6.428578e+00  \n",
       "9637     -1             -6.428578e+00  \n",
       "16219    -1             -6.389089e+00  \n",
       "7235     -1             -6.376809e+00  "
      ]
     },
     "execution_count": 89,
     "metadata": {},
     "output_type": "execute_result"
    }
   ],
   "source": [
    "data[data[\"pred\"] == -1].sort_values(by=\"negative_outlier_factor_\"\n",
    "                                    )[['href', 'synopsis', 'pred', 'negative_outlier_factor_']].head(20)"
   ]
  },
  {
   "cell_type": "code",
   "execution_count": null,
   "id": "539cf98d-4ae4-4f30-9876-1d6cc4e00a2d",
   "metadata": {},
   "outputs": [],
   "source": []
  }
 ],
 "metadata": {
  "kernelspec": {
   "display_name": "Python 3 (ipykernel)",
   "language": "python",
   "name": "python3"
  },
  "language_info": {
   "codemirror_mode": {
    "name": "ipython",
    "version": 3
   },
   "file_extension": ".py",
   "mimetype": "text/x-python",
   "name": "python",
   "nbconvert_exporter": "python",
   "pygments_lexer": "ipython3",
   "version": "3.10.5"
  }
 },
 "nbformat": 4,
 "nbformat_minor": 5
}
