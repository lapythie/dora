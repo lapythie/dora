{
 "cells": [
  {
   "cell_type": "code",
   "execution_count": 11,
   "id": "2742ed66-479d-448d-8d0e-6deb257fa40d",
   "metadata": {},
   "outputs": [],
   "source": [
    "import json\n",
    "import requests\n",
    "from tqdm import tqdm\n",
    "from bs4 import BeautifulSoup\n",
    "\n",
    "from collections import Counter, defaultdict\n",
    "\n",
    "headers = {\"User-Agent\": \"My User Agent\"}"
   ]
  },
  {
   "cell_type": "code",
   "execution_count": 3,
   "id": "929129e7-7ecc-4386-a56b-8fd183759aa0",
   "metadata": {},
   "outputs": [
    {
     "name": "stdout",
     "output_type": "stream",
     "text": [
      "CPU times: total: 2min 5s\n",
      "Wall time: 2min 18s\n"
     ]
    }
   ],
   "source": [
    "%%time\n",
    "with open(\"data/profile2page.json\", encoding=\"utf-8\") as f:\n",
    "    profile2page = json.load(f)"
   ]
  },
  {
   "cell_type": "code",
   "execution_count": 12,
   "id": "3a770f7b-c306-4b68-b518-85719c9c5cff",
   "metadata": {},
   "outputs": [
    {
     "name": "stderr",
     "output_type": "stream",
     "text": [
      "100%|████████████████████████████████████████████████████████████████████████████| 52983/52983 [22:01<00:00, 40.08it/s]\n"
     ]
    }
   ],
   "source": [
    "titlepart2href = defaultdict(Counter)\n",
    "\n",
    "for profile, page in tqdm(profile2page.items()):\n",
    "    soup = BeautifulSoup(page)\n",
    "    \n",
    "    for x in soup.find_all(\"a\", {\"class\": \"title\"}, href=True):\n",
    "        titlepart2href[x.get_text()].update([x[\"href\"]])"
   ]
  },
  {
   "cell_type": "code",
   "execution_count": 19,
   "id": "fce5a5cb-9523-4347-8e14-55423f2756c8",
   "metadata": {},
   "outputs": [
    {
     "data": {
      "text/plain": [
       "2986"
      ]
     },
     "execution_count": 19,
     "metadata": {},
     "output_type": "execute_result"
    }
   ],
   "source": [
    "len([href for titlepart, href in titlepart2href.items() \n",
    "     if (len(href) == 1) and (titlepart.endswith(\"…\"))])"
   ]
  },
  {
   "cell_type": "code",
   "execution_count": 21,
   "id": "2c53afa2-fa77-46ed-9479-0101a575cde1",
   "metadata": {},
   "outputs": [
    {
     "data": {
      "text/plain": [
       "13897"
      ]
     },
     "execution_count": 21,
     "metadata": {},
     "output_type": "execute_result"
    }
   ],
   "source": [
    "len([href for titlepart, href in titlepart2href.items() \n",
    "     if (len(href) == 1) and (not titlepart.endswith(\"…\"))])"
   ]
  },
  {
   "cell_type": "code",
   "execution_count": 22,
   "id": "73e77341-a224-4444-a38b-4c6f6e4dcfeb",
   "metadata": {},
   "outputs": [],
   "source": [
    "with open(\"data/titlepart2href.json\", \"w\", encoding=\"utf-8\") as fw:\n",
    "    json.dump(\n",
    "        {titlepart: dict(href) for titlepart, href in titlepart2href.items()}\n",
    "        , fw\n",
    "    )"
   ]
  },
  {
   "cell_type": "code",
   "execution_count": null,
   "id": "173b9b7f-0bd2-40f0-ba3b-fa327eaf78ce",
   "metadata": {},
   "outputs": [],
   "source": []
  }
 ],
 "metadata": {
  "kernelspec": {
   "display_name": "Python 3 (ipykernel)",
   "language": "python",
   "name": "python3"
  },
  "language_info": {
   "codemirror_mode": {
    "name": "ipython",
    "version": 3
   },
   "file_extension": ".py",
   "mimetype": "text/x-python",
   "name": "python",
   "nbconvert_exporter": "python",
   "pygments_lexer": "ipython3",
   "version": "3.10.5"
  }
 },
 "nbformat": 4,
 "nbformat_minor": 5
}
