{
 "cells": [
  {
   "cell_type": "code",
   "execution_count": 56,
   "id": "78ff8982-ac6e-4976-9655-42c2b3c55118",
   "metadata": {},
   "outputs": [],
   "source": [
    "import json\n",
    "import pandas as pd\n",
    "from collections import Counter\n",
    "\n",
    "from nltk import word_tokenize, sent_tokenize\n",
    "\n",
    "from tqdm.auto import tqdm\n",
    "tqdm.pandas()\n",
    "\n",
    "pd.set_option('display.max_colwidth', 200)"
   ]
  },
  {
   "cell_type": "code",
   "execution_count": 31,
   "id": "161b4803-4e64-40ac-b3e5-5cca5b8922df",
   "metadata": {},
   "outputs": [],
   "source": [
    "with open(\"../data/href2synopsis.json\", encoding=\"utf-8\") as f:\n",
    "    href2synopsis = json.load(f)"
   ]
  },
  {
   "cell_type": "markdown",
   "id": "8a2190a7-a0b1-46ea-b8cb-9e995fd1ff91",
   "metadata": {},
   "source": [
    "# BOW stats"
   ]
  },
  {
   "cell_type": "code",
   "execution_count": 63,
   "id": "05b12d69-ed5e-456b-a366-7de2226a5796",
   "metadata": {},
   "outputs": [],
   "source": [
    "data = pd.DataFrame()\n",
    "\n",
    "data[\"href\"] = href2synopsis.keys()\n",
    "data[\"synopsis\"] = href2synopsis.values()"
   ]
  },
  {
   "cell_type": "code",
   "execution_count": 64,
   "id": "2b001110-3de6-47f6-819b-0fa70adfedb1",
   "metadata": {},
   "outputs": [
    {
     "data": {
      "application/json": {
       "ascii": false,
       "bar_format": null,
       "colour": null,
       "elapsed": 0.013772010803222656,
       "initial": 0,
       "n": 0,
       "ncols": null,
       "nrows": 31,
       "postfix": null,
       "prefix": "",
       "rate": null,
       "total": 19393,
       "unit": "it",
       "unit_divisor": 1000,
       "unit_scale": false
      },
      "application/vnd.jupyter.widget-view+json": {
       "model_id": "127237fca6b241a9a73ac6949024de2e",
       "version_major": 2,
       "version_minor": 0
      },
      "text/plain": [
       "  0%|          | 0/19393 [00:00<?, ?it/s]"
      ]
     },
     "metadata": {},
     "output_type": "display_data"
    },
    {
     "data": {
      "application/json": {
       "ascii": false,
       "bar_format": null,
       "colour": null,
       "elapsed": 0.01600027084350586,
       "initial": 0,
       "n": 0,
       "ncols": null,
       "nrows": 31,
       "postfix": null,
       "prefix": "",
       "rate": null,
       "total": 19393,
       "unit": "it",
       "unit_divisor": 1000,
       "unit_scale": false
      },
      "application/vnd.jupyter.widget-view+json": {
       "model_id": "19e84cbce092404286e075bea1d3fbf0",
       "version_major": 2,
       "version_minor": 0
      },
      "text/plain": [
       "  0%|          | 0/19393 [00:00<?, ?it/s]"
      ]
     },
     "metadata": {},
     "output_type": "display_data"
    },
    {
     "data": {
      "application/json": {
       "ascii": false,
       "bar_format": null,
       "colour": null,
       "elapsed": 0.022499799728393555,
       "initial": 0,
       "n": 0,
       "ncols": null,
       "nrows": 31,
       "postfix": null,
       "prefix": "",
       "rate": null,
       "total": 19393,
       "unit": "it",
       "unit_divisor": 1000,
       "unit_scale": false
      },
      "application/vnd.jupyter.widget-view+json": {
       "model_id": "0faee794f7174f64bf357d7f4555db29",
       "version_major": 2,
       "version_minor": 0
      },
      "text/plain": [
       "  0%|          | 0/19393 [00:00<?, ?it/s]"
      ]
     },
     "metadata": {},
     "output_type": "display_data"
    }
   ],
   "source": [
    "data[\"char_len\"] = data[\"synopsis\"].progress_apply(len)\n",
    "data[\"token_len\"] = data[\"synopsis\"].progress_apply(lambda x: len(word_tokenize(x)))\n",
    "data[\"sent_len\"] = data[\"synopsis\"].progress_apply(lambda x: len(sent_tokenize(x)))"
   ]
  },
  {
   "cell_type": "code",
   "execution_count": 62,
   "id": "37083f6a-439f-4805-8333-cc2268e8e1c6",
   "metadata": {},
   "outputs": [
    {
     "data": {
      "text/html": [
       "<div>\n",
       "<style scoped>\n",
       "    .dataframe tbody tr th:only-of-type {\n",
       "        vertical-align: middle;\n",
       "    }\n",
       "\n",
       "    .dataframe tbody tr th {\n",
       "        vertical-align: top;\n",
       "    }\n",
       "\n",
       "    .dataframe thead th {\n",
       "        text-align: right;\n",
       "    }\n",
       "</style>\n",
       "<table border=\"1\" class=\"dataframe\">\n",
       "  <thead>\n",
       "    <tr style=\"text-align: right;\">\n",
       "      <th></th>\n",
       "      <th>char_len</th>\n",
       "      <th>token_len</th>\n",
       "      <th>sent_len</th>\n",
       "    </tr>\n",
       "  </thead>\n",
       "  <tbody>\n",
       "    <tr>\n",
       "      <th>count</th>\n",
       "      <td>19393.00</td>\n",
       "      <td>19393.00</td>\n",
       "      <td>19393.00</td>\n",
       "    </tr>\n",
       "    <tr>\n",
       "      <th>mean</th>\n",
       "      <td>493.76</td>\n",
       "      <td>99.52</td>\n",
       "      <td>4.99</td>\n",
       "    </tr>\n",
       "    <tr>\n",
       "      <th>std</th>\n",
       "      <td>359.10</td>\n",
       "      <td>72.71</td>\n",
       "      <td>3.60</td>\n",
       "    </tr>\n",
       "    <tr>\n",
       "      <th>min</th>\n",
       "      <td>0.00</td>\n",
       "      <td>0.00</td>\n",
       "      <td>0.00</td>\n",
       "    </tr>\n",
       "    <tr>\n",
       "      <th>25%</th>\n",
       "      <td>233.00</td>\n",
       "      <td>46.00</td>\n",
       "      <td>2.00</td>\n",
       "    </tr>\n",
       "    <tr>\n",
       "      <th>50%</th>\n",
       "      <td>433.00</td>\n",
       "      <td>87.00</td>\n",
       "      <td>4.00</td>\n",
       "    </tr>\n",
       "    <tr>\n",
       "      <th>75%</th>\n",
       "      <td>683.00</td>\n",
       "      <td>138.00</td>\n",
       "      <td>7.00</td>\n",
       "    </tr>\n",
       "    <tr>\n",
       "      <th>max</th>\n",
       "      <td>5804.00</td>\n",
       "      <td>1201.00</td>\n",
       "      <td>75.00</td>\n",
       "    </tr>\n",
       "  </tbody>\n",
       "</table>\n",
       "</div>"
      ],
      "text/plain": [
       "       char_len  token_len  sent_len\n",
       "count  19393.00   19393.00  19393.00\n",
       "mean     493.76      99.52      4.99\n",
       "std      359.10      72.71      3.60\n",
       "min        0.00       0.00      0.00\n",
       "25%      233.00      46.00      2.00\n",
       "50%      433.00      87.00      4.00\n",
       "75%      683.00     138.00      7.00\n",
       "max     5804.00    1201.00     75.00"
      ]
     },
     "execution_count": 65,
     "metadata": {},
     "output_type": "execute_result"
    }
   ],
   "source": [
    "data.describe().round(2)"
   ]
  },
  {
   "cell_type": "code",
   "execution_count": 68,
   "id": "a9e2f70f-f979-41fd-9510-cefafa51031d",
   "metadata": {},
   "outputs": [],
   "source": [
    "stats = data.drop(columns=[\"href\", \"synopsis\"])"
   ]
  },
  {
   "cell_type": "markdown",
   "id": "55b0182b-a22c-4772-a131-4192604d0e1d",
   "metadata": {},
   "source": [
    "# Outlier detection\n",
    "\n",
    "[The svm.OneClassSVM is known to be sensitive to outliers and thus does not perform very well for outlier detection](https://scikit-learn.org/stable/modules/outlier_detection.html#outlier-detection)"
   ]
  },
  {
   "cell_type": "code",
   "execution_count": 69,
   "id": "2ab5f722-23fd-4880-b752-36fa8d209af3",
   "metadata": {},
   "outputs": [],
   "source": [
    "from sklearn.neighbors import LocalOutlierFactor\n",
    "from sklearn.ensemble import IsolationForest"
   ]
  },
  {
   "cell_type": "code",
   "execution_count": 83,
   "id": "8a388991-78ad-47dd-817f-9a3f4ffa0b64",
   "metadata": {},
   "outputs": [],
   "source": [
    "clf = LocalOutlierFactor(n_neighbors=20)\n",
    "preds = clf.fit_predict(stats)\n",
    "# clf.negative_outlier_factor_\n",
    "data[\"pred\"] = preds"
   ]
  },
  {
   "cell_type": "code",
   "execution_count": 84,
   "id": "a87341ab-da27-4bce-8fc6-fa15a5ca0cd4",
   "metadata": {},
   "outputs": [
    {
     "data": {
      "text/plain": [
       "['Mini beauty drama.',\n",
       " 'Following the story of policewomen in their twenties and the physical and psychological interaction and training with police dogs.',\n",
       " 'Where can there be a teenager without a story?\\nIf I send a DM to IABC, the Broadcasting Department of Iyego,\\nIABC will take care of it!\\n\\nYou must see it before you see Part 5!?\\nThe most fun way to enjoy Real:Time:Love Series!\\nTeen Love Story of Iye High Broadcasters [I:Love:DM]\\n\\n(Source: 콬TV)',\n",
       " 'Ahn So Hee, Han Ji Yeon, and Kang Ji Gu enjoy hanging out after work and drinking together. The three women are single and in their 30s. As for their jobs, So Hee works as a broadcasting writer, Ji Yeon as a yoga instructor, and Ji Gu as a YouTuber. Meanwhile, Kang Buk Gu works as a PD of the TV variety show. He hangs out with these three women.\\n\\n(Source: AsianWiki) ~~ Adapted from the webtoon \"Sooldo Girl\" (술꾼도시처녀들) by Mi Kkang (미깡).',\n",
       " \"A murder takes place. Hong Yi Young, who is a timpanist, does not remember what happened on the day of the murder. She is simple-minded and suffers from insomnia. Hong Yi Young looks for a job. She happens to meet Jang Yoon. He is bad at singing but is a pianist in an orchestra. To help with Hong Yi Young's insomnia, Jang Yoon calls her every night. They try to find the truth about the murder.\\n\\nMeanwhile, Nam Joo Wan is an orchestra conductor. He has charisma and showmanship. Ha Eun Joo is a violinist in the orchestra. She is arrogant.\\n\\n(Source: AsianWiki)\",\n",
       " 'Katsuya Matsumura\\'s 1995 horror movie \"Concrete-Encased High School Girl Murder Case\" is based on a true crime case of Japanese schoolgirl Junko Furuta.In November of 1988 four young men abducted and held Furuta for several weeks in the house of one of the captors.The girl was violently raped and subjected to torture and sexual degradation, for example, she was forced to masturbate.On 4th January 1989, four sadists beat her with an iron barbell,poured lighter fluid on her legs, arms, face, and stomach and immolated her.She died later that day of shock and her mutilated corpse was hidden in an oil drum filled with cement.Katsuya Matsumura of \"All Night Long\" series fame is possibly the most misanthropic Japanese film-maker.\"Concrete-Encased High School Girl Murder Case\" is an incredibly nihilistic and disturbing film loaded with scenes of sexual violence and abuse.This is an ugly and honest piece of Japanese exploitation that tells about man\\'s barbarity and willing to torture,dominate and exploit the weaker.',\n",
       " 'Inspired by her childhood, French-Korean filmmaker Ounie Lecomte recounts the emotional journey of a little girl abandoned by her father in an orphanage.\\n\\n1975. It’s early autumn, somewhere in a small town in South Korea. Jin Hee is 9. She sets off on a journey. She doesn’t know where she is going. But she has to follow. She has to obey. Somewhere near Seoul, her father entrusts her to an orphanage for girls run by Catholic nuns in the hope that she will be adopted. Jin Hee resists. She cannot believe that this father whom she loves so much has abandoned her. She tries to make him come back. She attempts to run away. In vain, she finally accepts her fate, forced to hope and wait for her possible adoption.\\n\\n(Source: SIWFF)\\n\\n~~ A co-production with France.',\n",
       " '***Ashita e no Warp\\nKobayashi Mineo, a young man who dreams of being a movie director, has been making his own films while working part-time but has not had his big break yet. All of his classmates have decent jobs and started families. As he became an adult, receiving invitations to friends’ wedding ceremonies became an inevitable misery. Even Mineo’s girlfriend Sudo Yuki who aspires to be an actress and once shared his dream, is fed up with him. He is driven to frustration and exhaustion. After several sleepless days, Mineo is prescribed a mysterious drug called Airium by psychiatrist Udo Kimiyasu at the department of psychosomatic medicine. The moment one tablet of Airium is taken, his memories of the next 24 hours completely disappear and he feels as if he has been carried 24 hours into the future. That is to say, if Mineo takes it before an awful incident, this can be erased from memory as if it never happened. When memories can be controlled by a drug, can life go according to what he wants? Mineo places his hopes on this mysterious Airium but...\\n\\n***Follower\\nFujita Koharu is the sparkly Minato-ku OL_Haru. On weekends, she goes glamping which is all the rage, and has BBQs with handsome clients. However, Koharu is occupied in photography of the meat and foreign-made cars and neglects these handsome men because she is the “new queen” of a photo-sharing social media platform and has set her sights on having the most followers. Daily posts on her sparkly “Minato-ku life” “fantastic boyfriend” “800,000 yen casual down” are essential. But all of this completely fake. The real Koharu works for a humble printing company and lives in a cheaply-built apartment. Her life is far from glittering. Koharu’s only joy is increasing her number of followers amid the weary days, particularly the numerous supportive replies of [email\\xa0protected] Countryside who recently became a follower. Then one day, Koharu discovers that she has lost in a survey on who is sparkly – Minato-ku OL_Haru or Uruwashi no Uketsukejou Sayu. Uruwashi no Uketsukejou Sayu only has 30,000 followers. This stirs up Koharu’s fighting spirit which is egged on by Mimiko’s replies, and intensifies her fake lifestyle. However one day, Koharu gets a response from Mimiko which says her real life is being watched from nearby.\\n\\n***Shounen\\nOffice lady Okabayashi Haruka lives alone and turns down her boss’ suggestion of an arranged introduction with the excuse that she has a boyfriend. She witnesses a traffic accident. The victim is a youth who says his name is Tayama Keisuke after he regains consciousness in hospital. But when a nurse makes a call to the Tayamas, she is told that Keisuke is dead. When the nurse asks him for his name again, he replies that he made a mistake, his name is Ryota. Meanwhile, Haruka returns home to silent phone calls … … Then one day, Haruka is about to leave work when she catches sight of the youth in front of her company. On another day, she looks down from her veranda and there he is looking up at her. Furthermore, when she goes shopping, the youth goes out of his way in the rain to deliver the items she had forgotten. Haruka cannot bear to see him drenched and invites him into her house. However, the moment she takes her eyes from him, the youth begins to check her personal effects.\\n\\n***Furin Keisatsu\\nKuzuki Yoshio is an ordinary salaryman and devoted husband. He has been living a peaceful, uneventful life and goes to work after kissing his wife Yoko this morning. One day, while Yoshio is working in office like usual, he sees his subordinate get arrested on suspicion of violating the Adultery Control Act all of a sudden. In fact, the Japanese government was pressured by overwhelming public opinion to set up an agency to crackdown on adultery as a result of a stream of affair scandals in society. A campaign is launched to thoroughly eradicate adultery. Informants are given certificates of commendation and cash rewards; adulterers are handed life sentences; and novels, dramas as well as movies depicting affairs are banned. Adultery is rooted out from this society. Then one day, Yoshio carelessly touches his subordinate Kyono Suzuka in office. He intends to just drop her an apology message but makes a mistake and sends a lovey-dovey emoji to her mobile phone instead. Adultery control officers led by senior staff Haruta Tsuyoshi rush in and take Yoshio and Suzuka by force… \\n\\n(Source: jdramas.wordpress)',\n",
       " 'A psychological drama about unhealthy interpersonal relationships explained often through elaborate flashbacks. Takanako Mayuko, who grew up in an idyllic mansion with the perfect loving family, blames her childhood best friend for everything that has gone wrong in her life. While maintaining the façade of friendship, Mayuko finalizes the revenge she’s been secretly plotting for decades.\\n\\n(Source: kortkrachtig at MyDramaList)',\n",
       " 'Nomura is a serial killer who views people as targets to kill. Nomura kills a woman in a room. He records the murder and places it on the internet. Bayu works as a journalist in Jakarta, Indonesia. He happens to see the video and becomes attracted to the beauty layered within the cruel visuals. One day, Bayu is attacked by a robber. He fights back and kills the robber. Bayu films the robber dying. He places the recording on the internet. Nomura then sees the video recorded by Bayu. Nomura sympathizes with Bayu.']"
      ]
     },
     "execution_count": 84,
     "metadata": {},
     "output_type": "execute_result"
    }
   ],
   "source": [
    "data[data[\"pred\"] == -1][\"synopsis\"].sample(10).to_list()"
   ]
  },
  {
   "cell_type": "code",
   "execution_count": null,
   "id": "302950ce-21fe-4f85-97c0-4d1cd14f76a4",
   "metadata": {},
   "outputs": [],
   "source": []
  }
 ],
 "metadata": {
  "kernelspec": {
   "display_name": "Python 3 (ipykernel)",
   "language": "python",
   "name": "python3"
  },
  "language_info": {
   "codemirror_mode": {
    "name": "ipython",
    "version": 3
   },
   "file_extension": ".py",
   "mimetype": "text/x-python",
   "name": "python",
   "nbconvert_exporter": "python",
   "pygments_lexer": "ipython3",
   "version": "3.10.5"
  }
 },
 "nbformat": 4,
 "nbformat_minor": 5
}
