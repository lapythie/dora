{
 "cells": [
  {
   "cell_type": "code",
   "execution_count": 1,
   "id": "d7097d5b-d5e1-4f0b-a89e-6ba028d1279a",
   "metadata": {},
   "outputs": [],
   "source": [
    "from bs4 import BeautifulSoup\n",
    "from collections import Counter, defaultdict\n",
    "import json\n",
    "import regex as re\n",
    "from tqdm import tqdm"
   ]
  },
  {
   "cell_type": "code",
   "execution_count": 20,
   "id": "9886b7d0-5cfe-4686-b1bf-fc9274177d85",
   "metadata": {},
   "outputs": [],
   "source": [
    "with open(\"data/href2dramapage.json\", encoding=\"utf-8\") as f:\n",
    "    href2dramapage = json.load(f)"
   ]
  },
  {
   "cell_type": "code",
   "execution_count": 26,
   "id": "a093aff9-8b50-4c5d-aaa5-e325ecbf4840",
   "metadata": {},
   "outputs": [
    {
     "name": "stderr",
     "output_type": "stream",
     "text": [
      "100%|████████████████████████████████████████████████████████████████████████████| 19462/19462 [36:16<00:00,  8.94it/s]\n"
     ]
    }
   ],
   "source": [
    "# href2synopsis = {}\n",
    "\n",
    "for href, page in tqdm(href2dramapage.items()):\n",
    "    if href not in href2synopsis:\n",
    "        \n",
    "        soup = BeautifulSoup(page)\n",
    "        \n",
    "        for el in soup.find_all(\"a\", {\"class\": \"text-primary\"}):\n",
    "            el.decompose()\n",
    "        for el in soup.find_all(\"ul\", {\"class\": \"mdl-synopsis-languages\"}):\n",
    "            el.decompose()\n",
    "        \n",
    "        synopses = soup.find_all(\"div\", {\"class\": \"show-synopsis\"})\n",
    "        \n",
    "        if synopses:\n",
    "            \n",
    "            assert len(synopses) == 1\n",
    "\n",
    "            href2synopsis[href] = synopses[0].get_text().strip()"
   ]
  },
  {
   "cell_type": "code",
   "execution_count": 22,
   "id": "4713b65e-73f3-4516-a20b-461570d52248",
   "metadata": {},
   "outputs": [
    {
     "data": {
      "text/plain": [
       "{'/710067-maiagare': 'Iwakura Mai lives with her parents Kota and Megumi and older brother Haruto. Her father Kota runs a small factory in Higashi Osaka, a district that is known for its craftsmen. Mai is shy and withdrawn. But when she visits her grandmother Shoko who lives on Nagasaki’s Goto Islands which has a rich natural environment, she is entranced by the Baramon kites that catch the wind and soar high in the sky. Wanting to fly high in the sky like these kites, Mai’s longing swells into a dream to become a pilot. Even though she works hard, the path to getting there is tougher than she had imagined. As Mai deepens her ties with the people living in her two hometowns of Higashi Osaka and Goto, her dream eventually takes a new form. She gathers enthusiastic friends to build a small electric plane that can fly to and from the islands. Her dream becomes a wing that carries everyone’s dreams and takes off.\\n\\n(Source: jdrama.wordpress)'}"
      ]
     },
     "execution_count": 22,
     "metadata": {},
     "output_type": "execute_result"
    }
   ],
   "source": [
    "href2synopsis"
   ]
  },
  {
   "cell_type": "code",
   "execution_count": 27,
   "id": "18dbc0a0-98bc-4960-9f5e-d34ed9ac5b33",
   "metadata": {},
   "outputs": [
    {
     "data": {
      "text/plain": [
       "19393"
      ]
     },
     "execution_count": 27,
     "metadata": {},
     "output_type": "execute_result"
    }
   ],
   "source": [
    "len(href2synopsis)"
   ]
  },
  {
   "cell_type": "code",
   "execution_count": 34,
   "id": "4bdab371-88db-48fb-819e-6464019b5fcd",
   "metadata": {},
   "outputs": [
    {
     "name": "stdout",
     "output_type": "stream",
     "text": [
      "CPU times: total: 156 ms\n",
      "Wall time: 157 ms\n"
     ]
    }
   ],
   "source": [
    "# %%time\n",
    "# with open(\"data/href2synopsis.json\", \"w\", encoding=\"utf-8\") as fw:\n",
    "#     json.dump(href2synopsis, fw, ensure_ascii=False)"
   ]
  },
  {
   "cell_type": "code",
   "execution_count": 33,
   "id": "eafb11a4-4fd6-4148-b92d-3c3ccee85595",
   "metadata": {},
   "outputs": [
    {
     "data": {
      "text/plain": [
       "[('', 1019),\n",
       " ('N/A', 9),\n",
       " ('Go Fighting! is classified as a game-variety-reality show, and the MCs and guests complete missions at a landmark to win the objective. Usually each episode will also have an over-arching theme or story. Each episode varies in the challenges and the instructions given to the MCs, and rules are not strictly enforced, resulting in a largely unscripted show.',\n",
       "  7),\n",
       " ('New season.', 5),\n",
       " ('The cast live in a little rural or fishing village three days a week and use whatever food they find there to create three meals a day, while various celebrities from Seoul make guest appearances for dinner.\\n\\n(Source: Wikipedia)',\n",
       "  5),\n",
       " ('.', 5),\n",
       " ('Special behind the scenes.', 4),\n",
       " ('A reality TV show, hosted by Watanabe Naomi, that follows 8 young actors and actresses performing kiss scenes for dramas.\\n\\n(Source: MyDramaList)',\n",
       "  4),\n",
       " ('A reality show platform which offers talented singers the chance to make their dreams of stardom a reality.',\n",
       "  4),\n",
       " ('In a prologue, the cast is introduced to the settings and suspects of a murder case for the new episode. The cast then chooses their role in the episode, as a particular suspect or the detective. Other than the detective, each person is given detailed information about the suspect they are portraying including their personalities, alibi, relationship to the victim and other suspects, history, criminal motive, etc. Every suspect can conceal information until explicitly questioned by other suspects or the detective, but only the criminal can lie.',\n",
       "  4)]"
      ]
     },
     "execution_count": 33,
     "metadata": {},
     "output_type": "execute_result"
    }
   ],
   "source": [
    "Counter(href2synopsis.values()).most_common(10)"
   ]
  },
  {
   "cell_type": "code",
   "execution_count": 36,
   "id": "00729c82-c13d-45f3-bd7a-b7d2cfd1be39",
   "metadata": {},
   "outputs": [
    {
     "data": {
      "text/plain": [
       "5804"
      ]
     },
     "execution_count": 36,
     "metadata": {},
     "output_type": "execute_result"
    }
   ],
   "source": [
    "len(\n",
    "    sorted(href2synopsis.values(), key=len)[-1]\n",
    ")"
   ]
  },
  {
   "cell_type": "code",
   "execution_count": 41,
   "id": "28dd2a4b-11d6-47b1-946d-161decccc02f",
   "metadata": {},
   "outputs": [
    {
     "name": "stdout",
     "output_type": "stream",
     "text": [
      "***Eien no Hero\n",
      "With the advances in science, the world has developed cyborg technology that draws from the best in human abilities. Monsters abuse this technology, threatening the lives and safety of citizens. In response to this emergency situation, the Japanese government sets up an office within the Tokyo Metropolitan Police Department. A hero suit is created using the latest technology to deal with them. One of the men in this office is Inspector Oba Hiroto (Go Hiromi), who has arrested the most number of monsters. He fights off all sorts of and protect world peace. However, he is too busy with work and hardly has time to meet his precious daughter Aki (Kamishiraishi Mone), and gets through each day with just video chats. He thinks that he will be able to live a sedate life with his daughter next year when he retires. However, the police receives a terror threat from a mysterious person called Master Kaiser which shakes up the world…\n",
      "\n",
      "***Shirazu Mori\n",
      "Haruko (Yoshida Yo) has fallen out with her workaholic husband who neglected the family, and returns to her parents’ home with her son Naoyuki (Takahashi Rai) in tow. She attends an elementary school reunion where she reminisces about her childhood. Haruko decides to dig up the time capsule she had buried 30 years earlier although she has completely no recollection of what she put inside. As she takes the time capsule home with her together with Naoyuki, she remembers the forest that she often played at in the past. When she enters this nostalgic place with Naoyuki, he slips and disappears. All that is left in the forest is his cap and the time capsule that she had dug out just now. Haruko desperately searches for Naoyuki with her husband but they cannot find him at all. Meanwhile, when she tries to open the time capsule, there is something unbelievable inside…\n",
      "\n",
      "***Ningen no Tane\n",
      "Haruta Midori (Kimura Fumino) is an ordinary office lady who works for a design company. Her boyfriend of more than three years has proposed to her, but she cannot give him a reply. There is no one she can confide her troubles in. As Midori makes her way home one night, she impulsively buys seeds called “seeds of happiness”. Then one evening, Midori notices something protruding out from the soil of the flower bed where the seeds were planted. When she takes a closer look, she realises that it’s a child’s hand. She gingerly digs the soil and discovers a human head. This head that has grown from the sprout is Nozomi (Awano Sari), a young girl in a white dress. This mysterious girl wipes off the soil as she picks up a family photo in the living room. “Who are you?” Midori asks. Nozomi replies, “I’m your mother. You planted the seeds, didn’t you?” When Midori casually looks at the bag holding the seeds, she notices the words, “The flowers essential to you will bloom. Type of flower: human” written on it. She is astonished. Nozomi proceeds to say things that only her mother would know. She even stands in the kitchen and starts to make Midori’s favourite cabbage roll. This is the beginning of a queer life between Midori and her mother Nozomi, but...\n",
      "\n",
      "***Sakasama Shoujo no Tame no Piano Sonata\n",
      "Kuroki (Tamamori Yuta) attends the piano faculty at a music college. Even though he has taken a shot at music competitions, he has not achieved good results. He mopes that he that not have talent unlike his classmate Yoshino (Kuroshima Yuina) who has demonstrated her flair for music. One day, Kuroki discovers an unfamiliar second-hand bookstore on a dimly lit street. He drops in and an old collection of music scores in German catches his attention. He is drawn by something on a music score with dark brown smudges which falls out from the set and tries to translate the German words written in the margin. It reads “A piano sonata for an upside down girl” “Never play it”. Kuroki is intrigued and starts search for information on the sonata. He lands on a website that warns of the loss of hands if this piece is not played correctly. His friend Noshita (Ouchida Yuhei) snorts with laughter but Kuroki is so curious about this music score that he decides to take a crack at it. When he starts playing, all the sounds around him suddenly disappear and he is only able to hear the notes of the piano. When he looks up, he realises that even the rain outside, the metronome and the second hand of the clock on the wall have stopped. This is the prologue to the tragedy surrounding a girl gifted in piano.\n",
      "\n",
      "***Daikon Samurai\n",
      "Tachikawa Itsuki (Hamabe Minami) is a high school girl who is the manager of the school’s basketball club. She holds a shopping bag with a white radish inside and walks excitedly to make simmered yellowtail and daikon which is the favourite of Hagiyama Kakeru (Inoue Mizuki), the senior whom she adores, and ends up colliding with a man (Kote Shinya) who is passing by. This man is dressed like a wandering samurai and wears a white radish at his waist like a sword. Itsuki feels suspicious and tries to leave. But the man slashes with the white radish all of a sudden. Despite Itsuki’s attempt to dodge, the tip of the white radish brushes her arm and she bleeds. Itsuki panics and pleads for her life as if in supplication. The man says they will have a duel one month later, which makes no sense to her. After he finds the photo of Hagiyama in Itsuki’s student handbook, he threatens to slash Hagiyama if she flees and tells her to hone her skills well and leaves. While Itsuki is in a daze, she hears an old man ask if she would like to be his disciple. This old man also wears a white radish at his waist. He tells her, “If you take my instructions, you’ll definitely beat that man!” Itsuki is doubtful but begins to train in using vegetables as weapons under the old man...\n",
      "\n",
      "(Souce: jdramas.wordpress)\n"
     ]
    }
   ],
   "source": [
    "print(\n",
    "    sorted(href2synopsis.values(), key=len)[-1]\n",
    ")"
   ]
  },
  {
   "cell_type": "code",
   "execution_count": 2,
   "id": "fc98a7d4-fb43-49d1-8404-ae904f0e2956",
   "metadata": {},
   "outputs": [],
   "source": [
    "with open(\"data/href2synopsis.json\", encoding=\"utf-8\") as f:\n",
    "    href2synopsis = json.load(f)"
   ]
  },
  {
   "cell_type": "code",
   "execution_count": 3,
   "id": "bcc07238-1d9a-4321-8b66-67f28b14b900",
   "metadata": {},
   "outputs": [],
   "source": [
    "chars = Counter()\n",
    "\n",
    "for synopsis in href2synopsis.values():\n",
    "    chars.update(synopsis)"
   ]
  },
  {
   "cell_type": "code",
   "execution_count": 9,
   "id": "b511363a-a03c-4659-80f4-583ff17f9da6",
   "metadata": {
    "collapsed": true,
    "jupyter": {
     "outputs_hidden": true
    },
    "tags": []
   },
   "outputs": [
    {
     "data": {
      "text/plain": [
       "[('ч', 1),\n",
       " ('髙', 1),\n",
       " ('参', 1),\n",
       " ('郁', 1),\n",
       " ('娃', 1),\n",
       " ('湫', 1),\n",
       " ('系', 1),\n",
       " ('棺', 1),\n",
       " ('ฒ', 1),\n",
       " ('兼', 1),\n",
       " ('结', 1),\n",
       " ('睿', 1),\n",
       " ('克', 1),\n",
       " ('슈', 1),\n",
       " ('扣', 1),\n",
       " ('『', 1),\n",
       " ('』', 1),\n",
       " ('饕', 1),\n",
       " ('餮', 1),\n",
       " ('佟', 1),\n",
       " ('婕', 1),\n",
       " ('港', 1),\n",
       " ('霄', 1),\n",
       " ('辛', 1),\n",
       " ('菩', 1),\n",
       " ('薩', 1),\n",
       " ('癞', 1),\n",
       " ('蛤', 1),\n",
       " ('蟆', 1),\n",
       " ('誠', 1),\n",
       " ('侣', 1),\n",
       " ('螢', 1),\n",
       " ('抜', 1),\n",
       " ('짜', 1),\n",
       " ('傻', 1),\n",
       " ('唯', 1),\n",
       " ('崖', 1),\n",
       " ('珂', 1),\n",
       " ('楚', 1),\n",
       " ('堕', 1),\n",
       " ('泥', 1),\n",
       " ('버', 1),\n",
       " ('렌', 1),\n",
       " ('손', 1),\n",
       " ('囧', 1),\n",
       " ('烁', 1),\n",
       " ('鴨', 1),\n",
       " ('耶', 1),\n",
       " ('¿', 1),\n",
       " ('状', 1),\n",
       " ('瓣', 1),\n",
       " ('객', 1),\n",
       " ('恨', 1),\n",
       " ('憶', 1),\n",
       " ('雍', 1),\n",
       " ('좌', 1),\n",
       " ('绝', 1),\n",
       " ('颖', 1),\n",
       " ('떼', 1),\n",
       " ('渊', 1),\n",
       " ('違', 1),\n",
       " ('혈', 1),\n",
       " ('받', 1),\n",
       " ('용', 1),\n",
       " ('묘', 1),\n",
       " ('璧', 1),\n",
       " ('啸', 1),\n",
       " ('渐', 1),\n",
       " ('ב', 1),\n",
       " ('ט', 1),\n",
       " ('י', 1),\n",
       " ('פ', 1),\n",
       " ('ו', 1),\n",
       " ('ל', 1),\n",
       " ('抹', 1),\n",
       " ('緣', 1),\n",
       " ('兹', 1),\n",
       " ('實', 1),\n",
       " ('甫', 1),\n",
       " ('龟', 1),\n",
       " ('潘', 1),\n",
       " ('盜', 1),\n",
       " ('檔', 1),\n",
       " ('漩', 1),\n",
       " ('심', 1),\n",
       " ('뛴', 1),\n",
       " ('飒', 1),\n",
       " ('鹊', 1),\n",
       " ('糧', 1),\n",
       " ('應', 1),\n",
       " ('浦', 1),\n",
       " ('銀', 1),\n",
       " ('父', 1),\n",
       " ('资', 1),\n",
       " ('蕊', 1),\n",
       " ('崂', 1),\n",
       " ('฿', 1),\n",
       " ('ê', 1),\n",
       " ('飾', 1),\n",
       " ('亀', 1)]"
      ]
     },
     "execution_count": 9,
     "metadata": {},
     "output_type": "execute_result"
    }
   ],
   "source": [
    "chars.most_common()[-100:]"
   ]
  },
  {
   "cell_type": "code",
   "execution_count": 15,
   "id": "2700a249-fee7-4f7b-863b-4a81adbe605f",
   "metadata": {},
   "outputs": [
    {
     "data": {
      "text/plain": [
       "65374"
      ]
     },
     "execution_count": 15,
     "metadata": {},
     "output_type": "execute_result"
    }
   ],
   "source": [
    "ord(max(chars, key=ord))"
   ]
  },
  {
   "cell_type": "code",
   "execution_count": 22,
   "id": "c6672687-b7c5-4a7a-a473-4992726483ca",
   "metadata": {},
   "outputs": [
    {
     "data": {
      "text/plain": [
       "2330"
      ]
     },
     "execution_count": 22,
     "metadata": {},
     "output_type": "execute_result"
    }
   ],
   "source": [
    "s = [\" \"] * (ord(max(chars, key=ord)) + 1)\n",
    "\n",
    "for char in chars.keys():\n",
    "    s[ord(char)] = char\n",
    "    \n",
    "s = \"\".join(s)\n",
    "\n",
    "char_seqs = re.split(\"\\s+\", s)\n",
    "\n",
    "len(char_seqs)"
   ]
  },
  {
   "cell_type": "code",
   "execution_count": null,
   "id": "0e2d2f6a-663a-40b6-9785-cb2561963047",
   "metadata": {},
   "outputs": [],
   "source": []
  }
 ],
 "metadata": {
  "kernelspec": {
   "display_name": "Python 3 (ipykernel)",
   "language": "python",
   "name": "python3"
  },
  "language_info": {
   "codemirror_mode": {
    "name": "ipython",
    "version": 3
   },
   "file_extension": ".py",
   "mimetype": "text/x-python",
   "name": "python",
   "nbconvert_exporter": "python",
   "pygments_lexer": "ipython3",
   "version": "3.10.5"
  }
 },
 "nbformat": 4,
 "nbformat_minor": 5
}
