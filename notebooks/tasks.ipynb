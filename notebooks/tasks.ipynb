{
 "cells": [
  {
   "cell_type": "markdown",
   "id": "a8047551-ad73-443f-bc53-5c4afa900186",
   "metadata": {},
   "source": [
    "    Target options\n",
    "\n",
    "    regression:\n",
    "        - Score\n",
    "        - Personalized Score\n",
    "        - mean review sentiment score\n",
    "        \n",
    "    classification:\n",
    "        - Score Bin\n",
    "        - Personalized Score Bin\n",
    "        - Country (search for anomalies)\n",
    "        - Dropped status\n",
    "        - PtW status"
   ]
  },
  {
   "cell_type": "markdown",
   "id": "2cda09cf-f79c-44e1-9cbc-7f470bf46dd3",
   "metadata": {},
   "source": [
    "    EDA\n",
    "    \n",
    "    clusterization:\n",
    "        - (unlikely) bot reviews\n",
    "        - friend clusters\n",
    "        - tag-related drama clusters\n",
    "        - tag-related actor clusters\n",
    "        - tag-related screenwriter clusters"
   ]
  },
  {
   "cell_type": "markdown",
   "id": "6489cb1a-d7f0-4c51-9a07-5b731fadf5a8",
   "metadata": {},
   "source": [
    "    Tasks\n",
    "    \n",
    "    semisup visual sentiment analysis of posters\n",
    "    \n",
    "    pretty graphs:\n",
    "        - recommendation edges\n",
    "        - watched by edges\n",
    "        - shared watched dramas edges\n",
    "        - friends edges\n",
    "        - fave actress|actor edges (if any)\n",
    "        - fave tag (if any)\n",
    "        - fave genre (too general but still)\n",
    "        - shared outlier Score (difficult to separate from random Score)\n",
    "        - actors involved in main roles"
   ]
  },
  {
   "cell_type": "code",
   "execution_count": null,
   "id": "2c1ffa84-4873-4bf3-8616-ab740a4f4710",
   "metadata": {},
   "outputs": [],
   "source": []
  }
 ],
 "metadata": {
  "kernelspec": {
   "display_name": "Python 3 (ipykernel)",
   "language": "python",
   "name": "python3"
  },
  "language_info": {
   "codemirror_mode": {
    "name": "ipython",
    "version": 3
   },
   "file_extension": ".py",
   "mimetype": "text/x-python",
   "name": "python",
   "nbconvert_exporter": "python",
   "pygments_lexer": "ipython3",
   "version": "3.10.5"
  }
 },
 "nbformat": 4,
 "nbformat_minor": 5
}
