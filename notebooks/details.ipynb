{
 "cells": [
  {
   "cell_type": "code",
   "execution_count": 1,
   "id": "276df953-0a04-4314-ab4a-91495e034e19",
   "metadata": {},
   "outputs": [],
   "source": [
    "from bs4 import BeautifulSoup\n",
    "from collections import Counter, defaultdict\n",
    "import json\n",
    "from tqdm import tqdm"
   ]
  },
  {
   "cell_type": "code",
   "execution_count": 2,
   "id": "f69ada42-3c2f-431d-ac69-75df51deffe5",
   "metadata": {},
   "outputs": [],
   "source": [
    "with open(\"data/href2dramapage.json\", encoding=\"utf-8\") as f:\n",
    "    href2dramapage = json.load(f)"
   ]
  },
  {
   "cell_type": "code",
   "execution_count": 15,
   "id": "921af713-96a9-4d2c-8ad6-d16e9ac017a5",
   "metadata": {},
   "outputs": [
    {
     "name": "stderr",
     "output_type": "stream",
     "text": [
      "  0%|                                                                                        | 0/19462 [00:00<?, ?it/s]\n"
     ]
    }
   ],
   "source": [
    "href2details = defaultdict(dict)\n",
    "\n",
    "for href, page in tqdm(href2dramapage.items()):\n",
    "    if href not in href2details:\n",
    "        \n",
    "        soup = BeautifulSoup(page)\n",
    "        details = soup.find_all(\"ul\", {\"class\": \"list m-b-0\"})\n",
    "        if details:\n",
    "            \n",
    "            for details_block in details:\n",
    "                separate_details = details_block.find_all(\"li\", {\"class\": \"list-item p-a-0\"})\n",
    "                \n",
    "                for separate_detail in separate_details:\n",
    "                    pass\n",
    "                    \n",
    "        \n",
    "    break"
   ]
  },
  {
   "cell_type": "code",
   "execution_count": 16,
   "id": "8f9feae9-599e-446a-89e6-c60373d94c5b",
   "metadata": {},
   "outputs": [
    {
     "data": {
      "text/plain": [
       "<li class=\"list-item p-a-0\"><b class=\"inline\">Score:</b> 8.2 <span class=\"hft\">(scored by 12 users)</span></li>"
      ]
     },
     "execution_count": 16,
     "metadata": {},
     "output_type": "execute_result"
    }
   ],
   "source": [
    "separate_details[0]"
   ]
  },
  {
   "cell_type": "code",
   "execution_count": 17,
   "id": "b771c1d2-d758-4f41-a02a-c4fae618471a",
   "metadata": {},
   "outputs": [
    {
     "data": {
      "text/plain": [
       "<ul class=\"list m-b-0\"> <li class=\"list-item p-a-0\"><b class=\"inline\">Score:</b> 8.2 <span class=\"hft\">(scored by 12 users)</span></li> <li class=\"list-item p-a-0\"><b class=\"inline\">Ranked:</b> #37553</li> <li class=\"list-item p-a-0\"><b class=\"inline\">Popularity:</b> #12666</li> <li class=\"list-item p-a-0\"><b class=\"inline\">Watchers:</b> 302</li> <li class=\"list-item p-a-0\" style=\"display:none;\"><b class=\"inline\">Favorites:</b> 0</li> </ul>"
      ]
     },
     "execution_count": 17,
     "metadata": {},
     "output_type": "execute_result"
    }
   ],
   "source": [
    "details[1]"
   ]
  },
  {
   "cell_type": "code",
   "execution_count": null,
   "id": "aa374961-e605-4c66-919b-30f48d2f8d47",
   "metadata": {},
   "outputs": [],
   "source": []
  }
 ],
 "metadata": {
  "kernelspec": {
   "display_name": "Python 3 (ipykernel)",
   "language": "python",
   "name": "python3"
  },
  "language_info": {
   "codemirror_mode": {
    "name": "ipython",
    "version": 3
   },
   "file_extension": ".py",
   "mimetype": "text/x-python",
   "name": "python",
   "nbconvert_exporter": "python",
   "pygments_lexer": "ipython3",
   "version": "3.10.5"
  }
 },
 "nbformat": 4,
 "nbformat_minor": 5
}
