{
 "cells": [
  {
   "cell_type": "code",
   "execution_count": 14,
   "id": "276df953-0a04-4314-ab4a-91495e034e19",
   "metadata": {},
   "outputs": [],
   "source": [
    "from bs4 import BeautifulSoup\n",
    "from collections import Counter, defaultdict\n",
    "import json\n",
    "import seaborn as sns\n",
    "from tqdm import tqdm"
   ]
  },
  {
   "cell_type": "code",
   "execution_count": 2,
   "id": "f69ada42-3c2f-431d-ac69-75df51deffe5",
   "metadata": {},
   "outputs": [],
   "source": [
    "with open(\"data/href2dramapage.json\", encoding=\"utf-8\") as f:\n",
    "    href2dramapage = json.load(f)"
   ]
  },
  {
   "cell_type": "code",
   "execution_count": null,
   "id": "1a3e4b19-74d0-4a18-99d3-6eb54b9fe585",
   "metadata": {},
   "outputs": [],
   "source": []
  },
  {
   "cell_type": "code",
   "execution_count": 27,
   "id": "921af713-96a9-4d2c-8ad6-d16e9ac017a5",
   "metadata": {},
   "outputs": [
    {
     "name": "stderr",
     "output_type": "stream",
     "text": [
      "100%|████████████████████████████████████████████████████████████████████████████| 19462/19462 [30:23<00:00, 10.67it/s]\n"
     ]
    }
   ],
   "source": [
    "# href2details = defaultdict(dict)\n",
    "\n",
    "for href, page in tqdm(href2dramapage.items()):\n",
    "    if href not in href2details:\n",
    "        \n",
    "        soup = BeautifulSoup(page)\n",
    "        details = soup.find_all(\"ul\", {\"class\": \"list m-b-0\"})\n",
    "        if details:\n",
    "            \n",
    "            for details_block in details:\n",
    "                separate_details = details_block.find_all(\"li\", {\"class\": \"list-item p-a-0\"})\n",
    "                \n",
    "                for separate_detail in separate_details:\n",
    "                    \n",
    "                    detail_prefix = separate_detail.find_all(\"b\", {\"class\": \"inline\"})\n",
    "                    assert len(detail_prefix) == 1\n",
    "                    \n",
    "                    detail_key = detail_prefix[0].get_text()\n",
    "                    detail_value = separate_detail.get_text()\n",
    "                    assert detail_value.startswith(detail_key)\n",
    "                    \n",
    "                    assert detail_key not in href2details[href]\n",
    "                    href2details[href][detail_key] = detail_value"
   ]
  },
  {
   "cell_type": "code",
   "execution_count": 28,
   "id": "f4bf3c7e-ffd1-4d67-a6db-c404b7b9da6f",
   "metadata": {},
   "outputs": [
    {
     "name": "stdout",
     "output_type": "stream",
     "text": [
      "CPU times: total: 922 ms\n",
      "Wall time: 956 ms\n"
     ]
    }
   ],
   "source": [
    "# %%time\n",
    "# with open(\"data/href2details.json\", \"w\", encoding=\"utf-8\") as fw:\n",
    "#     json.dump(href2details, fw, ensure_ascii=False)"
   ]
  },
  {
   "cell_type": "code",
   "execution_count": 30,
   "id": "7803e0c1-c5a7-4148-9236-a3e4ec808ec6",
   "metadata": {},
   "outputs": [
    {
     "data": {
      "text/plain": [
       "19462"
      ]
     },
     "execution_count": 30,
     "metadata": {},
     "output_type": "execute_result"
    }
   ],
   "source": [
    "len(href2dramapage)"
   ]
  },
  {
   "cell_type": "code",
   "execution_count": 34,
   "id": "fa47b0eb-c368-4d8f-9611-79f937edabb4",
   "metadata": {},
   "outputs": [
    {
     "data": {
      "text/plain": [
       "['/697659-big-mouth',\n",
       " '/697661-big-mouth',\n",
       " '/28640-see-you-again',\n",
       " '/744221-pretty-guardian-of-the-city',\n",
       " '/22041-magic-journey-to-africa',\n",
       " '/54603-run-bts-season-4',\n",
       " '/730725-reverse',\n",
       " '/716857-floor',\n",
       " '/32134-sanctuary',\n",
       " '/712575-shimobee',\n",
       " '/26061-faded',\n",
       " '/706905-the-remarried-empress',\n",
       " '/68071-beats-per-mizu',\n",
       " '/714027-the-hidden-fox',\n",
       " '/77971-off-gun-fun-night-season-2-special',\n",
       " '/23766-four-men',\n",
       " '/27100-dong-witch-and-me',\n",
       " '/685235-mentalist',\n",
       " '/20150-soulmates-the-series',\n",
       " '/22147-housewife-detective',\n",
       " '/17067-blue-in-my-heart',\n",
       " '/32734-hot-place',\n",
       " '/53895-wet-season',\n",
       " '/32769-younger',\n",
       " '/683333-triple-do-you-want',\n",
       " '/701285-last-twilight-in-phuket',\n",
       " '/682103-kirei-kamisama-to-machiawaseshita-onna',\n",
       " '/732917-cang-lan-jue',\n",
       " '/715703-cherry-maho-the-movie',\n",
       " '/15959-battle-of-nujiang',\n",
       " '/18836-angels-revenge',\n",
       " '/732821-new-untitled-sbs-reality-program',\n",
       " '/730863-we-are-the-champions',\n",
       " '/28343-saja',\n",
       " '/26952-2015-dream-concert',\n",
       " '/21912-the-happiest-time-of-my-life',\n",
       " '/700339-kun-ning',\n",
       " '/32595-that-s-my-umbrella',\n",
       " '/685919-penthouse-hidden-room',\n",
       " '/15944-mermaids-prince',\n",
       " '/29266-love-sick-the-series-season-3',\n",
       " '/30569-history2-boundary-crossing-2',\n",
       " '/729453-eden',\n",
       " '/8411-tazza-hand-of-god',\n",
       " '/30432-heartbeat-the-series',\n",
       " '/23880-mess-with-the-world',\n",
       " '/714207-skz-code-2',\n",
       " '/685073-sticks-and-stones',\n",
       " '/56833-voice-of-the-death',\n",
       " '/26908-great-seducer',\n",
       " '/725613-time-to-twice-soulmate',\n",
       " '/711707-prisoners-of-the-ghostland',\n",
       " '/71039-kiss-of-the-rabbit-god',\n",
       " '/727097-out-the-boyz-newborn-edition',\n",
       " '/5314-pulgasari',\n",
       " '/741127-stories-of-our-youth',\n",
       " '/27373-history2-trap',\n",
       " '/734173-jump-the-series',\n",
       " '/29180-kamen-rider-ex-aid-trilogy-another-ending',\n",
       " '/33044-sbs-super-concert-in-suwon',\n",
       " '/24208-uchuu-keiji-gavan-vs.-tokusou-sentai-dekaranger',\n",
       " '/60341-a-miraculous-rematch-aruto-vs-fukkinhoukai-taro-fateful-gag-battle',\n",
       " '/724679-the-last-dining-table',\n",
       " '/725775-hole-in-love',\n",
       " '/41217-the-files-of-teenagers-in-the-concessions',\n",
       " '/26228-signal-season-2',\n",
       " '/714149-don-t-say-no-special-episode',\n",
       " '/5578-your-majesty',\n",
       " '/23632-closer-to-uijeongbu-than-a-shrine']"
      ]
     },
     "execution_count": 34,
     "metadata": {},
     "output_type": "execute_result"
    }
   ],
   "source": [
    "[href for href in href2dramapage if href not in href2details]"
   ]
  },
  {
   "cell_type": "code",
   "execution_count": 32,
   "id": "6ee994f5-72f1-4105-86de-25c810231bed",
   "metadata": {},
   "outputs": [
    {
     "data": {
      "text/plain": [
       "[('Country:', 19393),\n",
       " ('Score:', 19393),\n",
       " ('Ranked:', 19393),\n",
       " ('Popularity:', 19393),\n",
       " ('Watchers:', 19393),\n",
       " ('Favorites:', 19393),\n",
       " ('Duration:', 18055),\n",
       " ('Episodes:', 13028),\n",
       " ('Aired:', 12258),\n",
       " ('Original Network:', 10738),\n",
       " ('Aired On:', 10189),\n",
       " ('Drama:', 9735),\n",
       " ('Movie:', 6365),\n",
       " ('Release Date:', 6365),\n",
       " ('TV Show:', 2101),\n",
       " ('Special:', 1192),\n",
       " ('Airs:', 770),\n",
       " ('Airs On:', 47)]"
      ]
     },
     "execution_count": 32,
     "metadata": {},
     "output_type": "execute_result"
    }
   ],
   "source": [
    "Counter([k for d in href2details.values() for k in d.keys()]).most_common()"
   ]
  },
  {
   "cell_type": "code",
   "execution_count": 16,
   "id": "8f9feae9-599e-446a-89e6-c60373d94c5b",
   "metadata": {},
   "outputs": [
    {
     "data": {
      "text/plain": [
       "<li class=\"list-item p-a-0\"><b class=\"inline\">Score:</b> 8.2 <span class=\"hft\">(scored by 12 users)</span></li>"
      ]
     },
     "execution_count": 16,
     "metadata": {},
     "output_type": "execute_result"
    }
   ],
   "source": [
    "separate_details[0]"
   ]
  },
  {
   "cell_type": "code",
   "execution_count": 17,
   "id": "b771c1d2-d758-4f41-a02a-c4fae618471a",
   "metadata": {},
   "outputs": [
    {
     "data": {
      "text/plain": [
       "<ul class=\"list m-b-0\"> <li class=\"list-item p-a-0\"><b class=\"inline\">Score:</b> 8.2 <span class=\"hft\">(scored by 12 users)</span></li> <li class=\"list-item p-a-0\"><b class=\"inline\">Ranked:</b> #37553</li> <li class=\"list-item p-a-0\"><b class=\"inline\">Popularity:</b> #12666</li> <li class=\"list-item p-a-0\"><b class=\"inline\">Watchers:</b> 302</li> <li class=\"list-item p-a-0\" style=\"display:none;\"><b class=\"inline\">Favorites:</b> 0</li> </ul>"
      ]
     },
     "execution_count": 17,
     "metadata": {},
     "output_type": "execute_result"
    }
   ],
   "source": [
    "details[1]"
   ]
  },
  {
   "cell_type": "code",
   "execution_count": 3,
   "id": "aa374961-e605-4c66-919b-30f48d2f8d47",
   "metadata": {},
   "outputs": [],
   "source": [
    "with open(\"data/href2details.json\", encoding=\"utf-8\") as f:\n",
    "    href2details = json.load(f)"
   ]
  },
  {
   "cell_type": "code",
   "execution_count": 4,
   "id": "a110fcd5-1f1a-47e4-ad2a-417dcdefc8e7",
   "metadata": {},
   "outputs": [],
   "source": [
    "import pandas as pd\n",
    "\n",
    "df = pd.DataFrame({\"details\": href2details.values()})\n",
    "df = pd.json_normalize(df[\"details\"])\n",
    "df[\"href\"] = href2details.keys()"
   ]
  },
  {
   "cell_type": "code",
   "execution_count": 5,
   "id": "d609f7da-b939-478c-978b-d38b1500b141",
   "metadata": {},
   "outputs": [],
   "source": [
    "for col in df.columns:\n",
    "    if col.endswith(\":\"):\n",
    "        df[col] = df[col].apply(\n",
    "            lambda x: (x[len(col):].strip() if (type(x) == str) else x)\n",
    "        )"
   ]
  },
  {
   "cell_type": "code",
   "execution_count": 6,
   "id": "e40f6be2-1dd8-4379-a939-bce1c7a36e84",
   "metadata": {},
   "outputs": [],
   "source": [
    "df[\"Watchers:\"] = df[\"Watchers:\"].apply(\n",
    "    lambda x: int(x.replace(\",\", \"\"))\n",
    ")"
   ]
  },
  {
   "cell_type": "code",
   "execution_count": 7,
   "id": "27444cd0-f2de-4472-a10b-5114fa3e4aa1",
   "metadata": {},
   "outputs": [],
   "source": [
    "df[\"scorers\"] = df[\"Score:\"].apply(\n",
    "    lambda x: int(x.split()[-2].replace(\",\", \"\"))\n",
    ")\n",
    "df[\"Score\"] = df[\"Score:\"].apply(\n",
    "    lambda x: x.split()[0]\n",
    ")\n",
    "\n",
    "df[\"Score\"] = df[\"Score\"].apply(\n",
    "    lambda x: None if (x == 'N/A') else float(x)\n",
    ")"
   ]
  },
  {
   "cell_type": "code",
   "execution_count": 9,
   "id": "559b6b7c-5cf8-4956-a1e1-eadc83a6917b",
   "metadata": {},
   "outputs": [
    {
     "data": {
      "text/html": [
       "<div>\n",
       "<style scoped>\n",
       "    .dataframe tbody tr th:only-of-type {\n",
       "        vertical-align: middle;\n",
       "    }\n",
       "\n",
       "    .dataframe tbody tr th {\n",
       "        vertical-align: top;\n",
       "    }\n",
       "\n",
       "    .dataframe thead tr th {\n",
       "        text-align: left;\n",
       "    }\n",
       "\n",
       "    .dataframe thead tr:last-of-type th {\n",
       "        text-align: right;\n",
       "    }\n",
       "</style>\n",
       "<table border=\"1\" class=\"dataframe\">\n",
       "  <thead>\n",
       "    <tr>\n",
       "      <th></th>\n",
       "      <th colspan=\"2\" halign=\"left\">Watchers:</th>\n",
       "      <th>Original Network:</th>\n",
       "      <th colspan=\"2\" halign=\"left\">Score</th>\n",
       "    </tr>\n",
       "    <tr>\n",
       "      <th></th>\n",
       "      <th>median</th>\n",
       "      <th>mean</th>\n",
       "      <th>nunique</th>\n",
       "      <th>mean</th>\n",
       "      <th>median</th>\n",
       "    </tr>\n",
       "    <tr>\n",
       "      <th>Country:</th>\n",
       "      <th></th>\n",
       "      <th></th>\n",
       "      <th></th>\n",
       "      <th></th>\n",
       "      <th></th>\n",
       "    </tr>\n",
       "  </thead>\n",
       "  <tbody>\n",
       "    <tr>\n",
       "      <th>Philippines</th>\n",
       "      <td>114.5</td>\n",
       "      <td>556.150000</td>\n",
       "      <td>9</td>\n",
       "      <td>7.444240</td>\n",
       "      <td>7.5</td>\n",
       "    </tr>\n",
       "    <tr>\n",
       "      <th>Hong Kong</th>\n",
       "      <td>202.0</td>\n",
       "      <td>390.447059</td>\n",
       "      <td>16</td>\n",
       "      <td>7.365303</td>\n",
       "      <td>7.5</td>\n",
       "    </tr>\n",
       "    <tr>\n",
       "      <th>Japan</th>\n",
       "      <td>350.0</td>\n",
       "      <td>1232.555932</td>\n",
       "      <td>80</td>\n",
       "      <td>7.424339</td>\n",
       "      <td>7.5</td>\n",
       "    </tr>\n",
       "    <tr>\n",
       "      <th>China</th>\n",
       "      <td>464.0</td>\n",
       "      <td>1940.104172</td>\n",
       "      <td>171</td>\n",
       "      <td>7.610948</td>\n",
       "      <td>7.6</td>\n",
       "    </tr>\n",
       "    <tr>\n",
       "      <th>Thailand</th>\n",
       "      <td>611.0</td>\n",
       "      <td>2523.874016</td>\n",
       "      <td>40</td>\n",
       "      <td>7.482297</td>\n",
       "      <td>7.5</td>\n",
       "    </tr>\n",
       "    <tr>\n",
       "      <th>Taiwan</th>\n",
       "      <td>621.0</td>\n",
       "      <td>2339.784257</td>\n",
       "      <td>59</td>\n",
       "      <td>7.394562</td>\n",
       "      <td>7.4</td>\n",
       "    </tr>\n",
       "    <tr>\n",
       "      <th>South Korea</th>\n",
       "      <td>771.0</td>\n",
       "      <td>5113.669519</td>\n",
       "      <td>137</td>\n",
       "      <td>7.731071</td>\n",
       "      <td>7.7</td>\n",
       "    </tr>\n",
       "  </tbody>\n",
       "</table>\n",
       "</div>"
      ],
      "text/plain": [
       "            Watchers:              Original Network:     Score       \n",
       "               median         mean           nunique      mean median\n",
       "Country:                                                             \n",
       "Philippines     114.5   556.150000                 9  7.444240    7.5\n",
       "Hong Kong       202.0   390.447059                16  7.365303    7.5\n",
       "Japan           350.0  1232.555932                80  7.424339    7.5\n",
       "China           464.0  1940.104172               171  7.610948    7.6\n",
       "Thailand        611.0  2523.874016                40  7.482297    7.5\n",
       "Taiwan          621.0  2339.784257                59  7.394562    7.4\n",
       "South Korea     771.0  5113.669519               137  7.731071    7.7"
      ]
     },
     "execution_count": 9,
     "metadata": {},
     "output_type": "execute_result"
    }
   ],
   "source": [
    "cols = [\"Country:\"]\n",
    "df.groupby(cols).agg({\n",
    "    \"Watchers:\": [\"median\", \"mean\"]\n",
    "    , \"Original Network:\": [\"nunique\"]\n",
    "    , \"Score\": [\"mean\", \"median\"]\n",
    "}).sort_values((\"Watchers:\", \"median\"))"
   ]
  },
  {
   "cell_type": "code",
   "execution_count": 8,
   "id": "f2f872f2-3ce7-4612-b2bc-d0db051f6490",
   "metadata": {},
   "outputs": [],
   "source": [
    "def duration_to_minutes(s: str) -> int:\n",
    "    if type(s) != str:\n",
    "        return s\n",
    "    lst = s.split()\n",
    "    if len(lst) == 2:\n",
    "        return int(lst[0])\n",
    "    if len(lst) == 4:\n",
    "        return (int(lst[0]) * 60) + int(lst[2])\n",
    "    return s\n",
    "\n",
    "df[\"Duration\"] = df[\"Duration:\"].apply(duration_to_minutes)"
   ]
  },
  {
   "cell_type": "code",
   "execution_count": 12,
   "id": "ca523814-ec10-4349-afec-ca0485b089b7",
   "metadata": {},
   "outputs": [
    {
     "data": {
      "text/html": [
       "<div>\n",
       "<style scoped>\n",
       "    .dataframe tbody tr th:only-of-type {\n",
       "        vertical-align: middle;\n",
       "    }\n",
       "\n",
       "    .dataframe tbody tr th {\n",
       "        vertical-align: top;\n",
       "    }\n",
       "\n",
       "    .dataframe thead tr th {\n",
       "        text-align: left;\n",
       "    }\n",
       "\n",
       "    .dataframe thead tr:last-of-type th {\n",
       "        text-align: right;\n",
       "    }\n",
       "</style>\n",
       "<table border=\"1\" class=\"dataframe\">\n",
       "  <thead>\n",
       "    <tr>\n",
       "      <th></th>\n",
       "      <th colspan=\"2\" halign=\"left\">Duration</th>\n",
       "    </tr>\n",
       "    <tr>\n",
       "      <th></th>\n",
       "      <th>mean</th>\n",
       "      <th>median</th>\n",
       "    </tr>\n",
       "    <tr>\n",
       "      <th>Country:</th>\n",
       "      <th></th>\n",
       "      <th></th>\n",
       "    </tr>\n",
       "  </thead>\n",
       "  <tbody>\n",
       "    <tr>\n",
       "      <th>Philippines</th>\n",
       "      <td>28.649533</td>\n",
       "      <td>30.0</td>\n",
       "    </tr>\n",
       "    <tr>\n",
       "      <th>China</th>\n",
       "      <td>37.559842</td>\n",
       "      <td>45.0</td>\n",
       "    </tr>\n",
       "    <tr>\n",
       "      <th>Japan</th>\n",
       "      <td>39.161027</td>\n",
       "      <td>45.0</td>\n",
       "    </tr>\n",
       "    <tr>\n",
       "      <th>Hong Kong</th>\n",
       "      <td>44.080508</td>\n",
       "      <td>45.0</td>\n",
       "    </tr>\n",
       "    <tr>\n",
       "      <th>South Korea</th>\n",
       "      <td>47.269392</td>\n",
       "      <td>60.0</td>\n",
       "    </tr>\n",
       "    <tr>\n",
       "      <th>Taiwan</th>\n",
       "      <td>59.995327</td>\n",
       "      <td>60.0</td>\n",
       "    </tr>\n",
       "    <tr>\n",
       "      <th>Thailand</th>\n",
       "      <td>67.752657</td>\n",
       "      <td>60.0</td>\n",
       "    </tr>\n",
       "  </tbody>\n",
       "</table>\n",
       "</div>"
      ],
      "text/plain": [
       "              Duration       \n",
       "                  mean median\n",
       "Country:                     \n",
       "Philippines  28.649533   30.0\n",
       "China        37.559842   45.0\n",
       "Japan        39.161027   45.0\n",
       "Hong Kong    44.080508   45.0\n",
       "South Korea  47.269392   60.0\n",
       "Taiwan       59.995327   60.0\n",
       "Thailand     67.752657   60.0"
      ]
     },
     "execution_count": 12,
     "metadata": {},
     "output_type": "execute_result"
    }
   ],
   "source": [
    "df[\n",
    "    df[\"Drama:\"].notna()\n",
    "].groupby(\"Country:\").agg({\"Duration\": [\"mean\", \"median\"]}).sort_values((\"Duration\", \"mean\"))"
   ]
  },
  {
   "cell_type": "code",
   "execution_count": 9,
   "id": "532f856d-9712-4949-a089-43fa52d336dc",
   "metadata": {},
   "outputs": [],
   "source": [
    "df[\"Episodes\"] = df[\"Episodes:\"].apply(\n",
    "    lambda x: int(x) if (type(x) == str) else x\n",
    ")"
   ]
  },
  {
   "cell_type": "code",
   "execution_count": 10,
   "id": "3b7ed0d0-4f9c-4a98-89d8-ca7b32a82225",
   "metadata": {},
   "outputs": [],
   "source": [
    "df[\"total_duration\"] = [\n",
    "    t.Duration * t.Episodes\n",
    "    if (t.Duration and t.Episodes)\n",
    "    else None\n",
    "    for t in df.itertuples()\n",
    "]"
   ]
  },
  {
   "cell_type": "code",
   "execution_count": 11,
   "id": "7634a0b0-b2cf-44d7-8087-1a5282969b75",
   "metadata": {},
   "outputs": [],
   "source": [
    "df[\"Popularity\"] = df[\"Popularity:\"].apply(\n",
    "    lambda x: int(x[1:]) if (x != \"#99999\") else None\n",
    ")"
   ]
  },
  {
   "cell_type": "code",
   "execution_count": 12,
   "id": "37a478e6-6a69-444d-9456-f00e5072adf0",
   "metadata": {},
   "outputs": [],
   "source": [
    "df[\"Ranked\"] = df[\"Ranked:\"].apply(\n",
    "    lambda x: int(x[1:]) if (x != \"#99999\") else None\n",
    ")"
   ]
  },
  {
   "cell_type": "code",
   "execution_count": 13,
   "id": "e5829660-c5fa-4cf4-8cc5-eb2e793f37bc",
   "metadata": {},
   "outputs": [
    {
     "data": {
      "text/html": [
       "<div>\n",
       "<style scoped>\n",
       "    .dataframe tbody tr th:only-of-type {\n",
       "        vertical-align: middle;\n",
       "    }\n",
       "\n",
       "    .dataframe tbody tr th {\n",
       "        vertical-align: top;\n",
       "    }\n",
       "\n",
       "    .dataframe thead th {\n",
       "        text-align: right;\n",
       "    }\n",
       "</style>\n",
       "<table border=\"1\" class=\"dataframe\">\n",
       "  <thead>\n",
       "    <tr style=\"text-align: right;\">\n",
       "      <th></th>\n",
       "      <th>Score</th>\n",
       "      <th>Duration</th>\n",
       "      <th>Episodes</th>\n",
       "      <th>total_duration</th>\n",
       "      <th>scorers</th>\n",
       "      <th>Popularity</th>\n",
       "      <th>Ranked</th>\n",
       "    </tr>\n",
       "  </thead>\n",
       "  <tbody>\n",
       "    <tr>\n",
       "      <th>Score</th>\n",
       "      <td>1.000000</td>\n",
       "      <td>-0.078422</td>\n",
       "      <td>0.038440</td>\n",
       "      <td>0.025866</td>\n",
       "      <td>0.173525</td>\n",
       "      <td>-0.231818</td>\n",
       "      <td>-0.352680</td>\n",
       "    </tr>\n",
       "    <tr>\n",
       "      <th>Duration</th>\n",
       "      <td>-0.078422</td>\n",
       "      <td>1.000000</td>\n",
       "      <td>0.023807</td>\n",
       "      <td>0.070518</td>\n",
       "      <td>-0.006726</td>\n",
       "      <td>0.020296</td>\n",
       "      <td>-0.017381</td>\n",
       "    </tr>\n",
       "    <tr>\n",
       "      <th>Episodes</th>\n",
       "      <td>0.038440</td>\n",
       "      <td>0.023807</td>\n",
       "      <td>1.000000</td>\n",
       "      <td>0.886674</td>\n",
       "      <td>-0.014250</td>\n",
       "      <td>0.027139</td>\n",
       "      <td>0.024601</td>\n",
       "    </tr>\n",
       "    <tr>\n",
       "      <th>total_duration</th>\n",
       "      <td>0.025866</td>\n",
       "      <td>0.070518</td>\n",
       "      <td>0.886674</td>\n",
       "      <td>1.000000</td>\n",
       "      <td>-0.005888</td>\n",
       "      <td>0.005096</td>\n",
       "      <td>0.010465</td>\n",
       "    </tr>\n",
       "    <tr>\n",
       "      <th>scorers</th>\n",
       "      <td>0.173525</td>\n",
       "      <td>-0.006726</td>\n",
       "      <td>-0.014250</td>\n",
       "      <td>-0.005888</td>\n",
       "      <td>1.000000</td>\n",
       "      <td>-0.422350</td>\n",
       "      <td>-0.296139</td>\n",
       "    </tr>\n",
       "    <tr>\n",
       "      <th>Popularity</th>\n",
       "      <td>-0.231818</td>\n",
       "      <td>0.020296</td>\n",
       "      <td>0.027139</td>\n",
       "      <td>0.005096</td>\n",
       "      <td>-0.422350</td>\n",
       "      <td>1.000000</td>\n",
       "      <td>0.749527</td>\n",
       "    </tr>\n",
       "    <tr>\n",
       "      <th>Ranked</th>\n",
       "      <td>-0.352680</td>\n",
       "      <td>-0.017381</td>\n",
       "      <td>0.024601</td>\n",
       "      <td>0.010465</td>\n",
       "      <td>-0.296139</td>\n",
       "      <td>0.749527</td>\n",
       "      <td>1.000000</td>\n",
       "    </tr>\n",
       "  </tbody>\n",
       "</table>\n",
       "</div>"
      ],
      "text/plain": [
       "                   Score  Duration  Episodes  total_duration   scorers  \\\n",
       "Score           1.000000 -0.078422  0.038440        0.025866  0.173525   \n",
       "Duration       -0.078422  1.000000  0.023807        0.070518 -0.006726   \n",
       "Episodes        0.038440  0.023807  1.000000        0.886674 -0.014250   \n",
       "total_duration  0.025866  0.070518  0.886674        1.000000 -0.005888   \n",
       "scorers         0.173525 -0.006726 -0.014250       -0.005888  1.000000   \n",
       "Popularity     -0.231818  0.020296  0.027139        0.005096 -0.422350   \n",
       "Ranked         -0.352680 -0.017381  0.024601        0.010465 -0.296139   \n",
       "\n",
       "                Popularity    Ranked  \n",
       "Score            -0.231818 -0.352680  \n",
       "Duration          0.020296 -0.017381  \n",
       "Episodes          0.027139  0.024601  \n",
       "total_duration    0.005096  0.010465  \n",
       "scorers          -0.422350 -0.296139  \n",
       "Popularity        1.000000  0.749527  \n",
       "Ranked            0.749527  1.000000  "
      ]
     },
     "execution_count": 13,
     "metadata": {},
     "output_type": "execute_result"
    }
   ],
   "source": [
    "df[[\"Score\", \"Duration\", \"Episodes\", \"total_duration\", \"scorers\", \"Popularity\", \"Ranked\"]].corr()"
   ]
  },
  {
   "cell_type": "code",
   "execution_count": 16,
   "id": "59689a8c-7a86-486a-8f7a-9b195854fa20",
   "metadata": {},
   "outputs": [
    {
     "data": {
      "text/html": [
       "<div>\n",
       "<style scoped>\n",
       "    .dataframe tbody tr th:only-of-type {\n",
       "        vertical-align: middle;\n",
       "    }\n",
       "\n",
       "    .dataframe tbody tr th {\n",
       "        vertical-align: top;\n",
       "    }\n",
       "\n",
       "    .dataframe thead th {\n",
       "        text-align: right;\n",
       "    }\n",
       "</style>\n",
       "<table border=\"1\" class=\"dataframe\">\n",
       "  <thead>\n",
       "    <tr style=\"text-align: right;\">\n",
       "      <th></th>\n",
       "      <th>Score</th>\n",
       "      <th>Duration</th>\n",
       "      <th>Episodes</th>\n",
       "      <th>total_duration</th>\n",
       "      <th>scorers</th>\n",
       "      <th>Popularity</th>\n",
       "      <th>Ranked</th>\n",
       "    </tr>\n",
       "    <tr>\n",
       "      <th>Country:</th>\n",
       "      <th></th>\n",
       "      <th></th>\n",
       "      <th></th>\n",
       "      <th></th>\n",
       "      <th></th>\n",
       "      <th></th>\n",
       "      <th></th>\n",
       "    </tr>\n",
       "  </thead>\n",
       "  <tbody>\n",
       "    <tr>\n",
       "      <th>China</th>\n",
       "      <td>7.6</td>\n",
       "      <td>45.0</td>\n",
       "      <td>26.0</td>\n",
       "      <td>1200.0</td>\n",
       "      <td>70.0</td>\n",
       "      <td>6606.5</td>\n",
       "      <td>34464.0</td>\n",
       "    </tr>\n",
       "    <tr>\n",
       "      <th>Hong Kong</th>\n",
       "      <td>7.5</td>\n",
       "      <td>90.0</td>\n",
       "      <td>25.0</td>\n",
       "      <td>1125.0</td>\n",
       "      <td>85.0</td>\n",
       "      <td>10568.5</td>\n",
       "      <td>44142.5</td>\n",
       "    </tr>\n",
       "    <tr>\n",
       "      <th>Japan</th>\n",
       "      <td>7.5</td>\n",
       "      <td>55.0</td>\n",
       "      <td>10.0</td>\n",
       "      <td>360.0</td>\n",
       "      <td>110.0</td>\n",
       "      <td>7885.0</td>\n",
       "      <td>40286.0</td>\n",
       "    </tr>\n",
       "    <tr>\n",
       "      <th>Philippines</th>\n",
       "      <td>7.5</td>\n",
       "      <td>45.0</td>\n",
       "      <td>10.0</td>\n",
       "      <td>280.0</td>\n",
       "      <td>32.5</td>\n",
       "      <td>8984.5</td>\n",
       "      <td>40810.5</td>\n",
       "    </tr>\n",
       "    <tr>\n",
       "      <th>South Korea</th>\n",
       "      <td>7.7</td>\n",
       "      <td>65.0</td>\n",
       "      <td>12.0</td>\n",
       "      <td>560.0</td>\n",
       "      <td>227.0</td>\n",
       "      <td>5273.0</td>\n",
       "      <td>7526.0</td>\n",
       "    </tr>\n",
       "    <tr>\n",
       "      <th>Taiwan</th>\n",
       "      <td>7.4</td>\n",
       "      <td>70.0</td>\n",
       "      <td>15.0</td>\n",
       "      <td>1163.0</td>\n",
       "      <td>168.0</td>\n",
       "      <td>6711.0</td>\n",
       "      <td>8522.0</td>\n",
       "    </tr>\n",
       "    <tr>\n",
       "      <th>Thailand</th>\n",
       "      <td>7.5</td>\n",
       "      <td>60.0</td>\n",
       "      <td>12.0</td>\n",
       "      <td>782.0</td>\n",
       "      <td>131.0</td>\n",
       "      <td>6321.0</td>\n",
       "      <td>34008.0</td>\n",
       "    </tr>\n",
       "  </tbody>\n",
       "</table>\n",
       "</div>"
      ],
      "text/plain": [
       "             Score  Duration  Episodes  total_duration  scorers  Popularity  \\\n",
       "Country:                                                                      \n",
       "China          7.6      45.0      26.0          1200.0     70.0      6606.5   \n",
       "Hong Kong      7.5      90.0      25.0          1125.0     85.0     10568.5   \n",
       "Japan          7.5      55.0      10.0           360.0    110.0      7885.0   \n",
       "Philippines    7.5      45.0      10.0           280.0     32.5      8984.5   \n",
       "South Korea    7.7      65.0      12.0           560.0    227.0      5273.0   \n",
       "Taiwan         7.4      70.0      15.0          1163.0    168.0      6711.0   \n",
       "Thailand       7.5      60.0      12.0           782.0    131.0      6321.0   \n",
       "\n",
       "              Ranked  \n",
       "Country:              \n",
       "China        34464.0  \n",
       "Hong Kong    44142.5  \n",
       "Japan        40286.0  \n",
       "Philippines  40810.5  \n",
       "South Korea   7526.0  \n",
       "Taiwan        8522.0  \n",
       "Thailand     34008.0  "
      ]
     },
     "execution_count": 16,
     "metadata": {},
     "output_type": "execute_result"
    }
   ],
   "source": [
    "tmp = df.groupby(\"Country:\").agg({\n",
    "    col: \"median\" for col \n",
    "    in [\"Score\", \"Duration\", \"Episodes\", \"total_duration\", \"scorers\", \"Popularity\", \"Ranked\"]\n",
    "})\n",
    "\n",
    "tmp"
   ]
  },
  {
   "cell_type": "code",
   "execution_count": 19,
   "id": "69da22ec-ac94-4266-90c0-de8a17acc266",
   "metadata": {},
   "outputs": [],
   "source": [
    "# sns.heatmap((tmp-tmp.mean())/tmp.std(), annot=True);"
   ]
  },
  {
   "cell_type": "code",
   "execution_count": 27,
   "id": "a3fe6ee6-9355-4d8a-ba83-fb72b53b2ef6",
   "metadata": {},
   "outputs": [
    {
     "data": {
      "text/plain": [
       "Friday                                                            1283\n",
       "Saturday                                                           999\n",
       "Sunday                                                             984\n",
       "Thursday                                                           761\n",
       "Monday, Tuesday                                                    660\n",
       "Wednesday, Thursday                                                624\n",
       "Monday, Tuesday, Wednesday, Thursday, Friday                       615\n",
       "Wednesday                                                          597\n",
       "Monday, Tuesday, Wednesday, Thursday, Friday, Saturday, Sunday     595\n",
       "Tuesday                                                            539\n",
       "Monday                                                             522\n",
       "Name: Aired On:, dtype: int64"
      ]
     },
     "execution_count": 27,
     "metadata": {},
     "output_type": "execute_result"
    }
   ],
   "source": [
    "df[\"Aired On:\"].value_counts().head(11)"
   ]
  },
  {
   "cell_type": "code",
   "execution_count": null,
   "id": "852025f6-18d7-4add-b006-41cc3199734e",
   "metadata": {},
   "outputs": [],
   "source": []
  }
 ],
 "metadata": {
  "kernelspec": {
   "display_name": "Python 3 (ipykernel)",
   "language": "python",
   "name": "python3"
  },
  "language_info": {
   "codemirror_mode": {
    "name": "ipython",
    "version": 3
   },
   "file_extension": ".py",
   "mimetype": "text/x-python",
   "name": "python",
   "nbconvert_exporter": "python",
   "pygments_lexer": "ipython3",
   "version": "3.10.5"
  }
 },
 "nbformat": 4,
 "nbformat_minor": 5
}
