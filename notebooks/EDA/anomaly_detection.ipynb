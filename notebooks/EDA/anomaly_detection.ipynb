{
 "cells": [
  {
   "cell_type": "code",
   "execution_count": 1,
   "id": "78ff8982-ac6e-4976-9655-42c2b3c55118",
   "metadata": {},
   "outputs": [],
   "source": [
    "import json\n",
    "import numpy as np\n",
    "import pandas as pd\n",
    "from collections import Counter\n",
    "\n",
    "from nltk import word_tokenize, sent_tokenize\n",
    "\n",
    "from tqdm.auto import tqdm\n",
    "tqdm.pandas()\n",
    "\n",
    "pd.set_option('display.max_colwidth', 200)"
   ]
  },
  {
   "cell_type": "code",
   "execution_count": 2,
   "id": "161b4803-4e64-40ac-b3e5-5cca5b8922df",
   "metadata": {},
   "outputs": [],
   "source": [
    "with open(\"../data/href2synopsis.json\", encoding=\"utf-8\") as f:\n",
    "    href2synopsis = json.load(f)"
   ]
  },
  {
   "cell_type": "markdown",
   "id": "8a2190a7-a0b1-46ea-b8cb-9e995fd1ff91",
   "metadata": {},
   "source": [
    "# BOW stats"
   ]
  },
  {
   "cell_type": "code",
   "execution_count": 3,
   "id": "05b12d69-ed5e-456b-a366-7de2226a5796",
   "metadata": {},
   "outputs": [],
   "source": [
    "data = pd.DataFrame()\n",
    "\n",
    "data[\"href\"] = href2synopsis.keys()\n",
    "data[\"synopsis\"] = href2synopsis.values()"
   ]
  },
  {
   "cell_type": "code",
   "execution_count": 14,
   "id": "2e34ca49-9d27-46ce-9db5-f449166f6ab2",
   "metadata": {},
   "outputs": [],
   "source": [
    "data = data[data[\"synopsis\"] != \"\"]"
   ]
  },
  {
   "cell_type": "code",
   "execution_count": 4,
   "id": "2b001110-3de6-47f6-819b-0fa70adfedb1",
   "metadata": {},
   "outputs": [
    {
     "data": {
      "application/json": {
       "ascii": false,
       "bar_format": null,
       "colour": null,
       "elapsed": 0.05283164978027344,
       "initial": 0,
       "n": 0,
       "ncols": null,
       "nrows": 31,
       "postfix": null,
       "prefix": "",
       "rate": null,
       "total": 19393,
       "unit": "it",
       "unit_divisor": 1000,
       "unit_scale": false
      },
      "application/vnd.jupyter.widget-view+json": {
       "model_id": "f83bc1ccfdba42aabf81861b4a110ca2",
       "version_major": 2,
       "version_minor": 0
      },
      "text/plain": [
       "  0%|          | 0/19393 [00:00<?, ?it/s]"
      ]
     },
     "metadata": {},
     "output_type": "display_data"
    },
    {
     "data": {
      "application/json": {
       "ascii": false,
       "bar_format": null,
       "colour": null,
       "elapsed": 0.05075550079345703,
       "initial": 0,
       "n": 0,
       "ncols": null,
       "nrows": 31,
       "postfix": null,
       "prefix": "",
       "rate": null,
       "total": 19393,
       "unit": "it",
       "unit_divisor": 1000,
       "unit_scale": false
      },
      "application/vnd.jupyter.widget-view+json": {
       "model_id": "6fc1984a117041cfb39ec4302c3a4726",
       "version_major": 2,
       "version_minor": 0
      },
      "text/plain": [
       "  0%|          | 0/19393 [00:00<?, ?it/s]"
      ]
     },
     "metadata": {},
     "output_type": "display_data"
    },
    {
     "data": {
      "application/json": {
       "ascii": false,
       "bar_format": null,
       "colour": null,
       "elapsed": 0.024124622344970703,
       "initial": 0,
       "n": 0,
       "ncols": null,
       "nrows": 31,
       "postfix": null,
       "prefix": "",
       "rate": null,
       "total": 19393,
       "unit": "it",
       "unit_divisor": 1000,
       "unit_scale": false
      },
      "application/vnd.jupyter.widget-view+json": {
       "model_id": "d27909f8206a4ba0ad6bfece8a65d9e1",
       "version_major": 2,
       "version_minor": 0
      },
      "text/plain": [
       "  0%|          | 0/19393 [00:00<?, ?it/s]"
      ]
     },
     "metadata": {},
     "output_type": "display_data"
    }
   ],
   "source": [
    "data[\"char_total\"] = data[\"synopsis\"].progress_apply(len)\n",
    "data[\"token_total\"] = data[\"synopsis\"].progress_apply(lambda x: len(word_tokenize(x)))\n",
    "data[\"sent_total\"] = data[\"synopsis\"].progress_apply(lambda x: len(sent_tokenize(x)))"
   ]
  },
  {
   "cell_type": "code",
   "execution_count": 27,
   "id": "ecf37e02-fcb7-415d-9bb2-5ef90e7e964f",
   "metadata": {},
   "outputs": [
    {
     "data": {
      "application/json": {
       "ascii": false,
       "bar_format": null,
       "colour": null,
       "elapsed": 0.029372453689575195,
       "initial": 0,
       "n": 0,
       "ncols": null,
       "nrows": 31,
       "postfix": null,
       "prefix": "",
       "rate": null,
       "total": 19393,
       "unit": "it",
       "unit_divisor": 1000,
       "unit_scale": false
      },
      "application/vnd.jupyter.widget-view+json": {
       "model_id": "702511647edf426d9f15c117f07c1693",
       "version_major": 2,
       "version_minor": 0
      },
      "text/plain": [
       "  0%|          | 0/19393 [00:00<?, ?it/s]"
      ]
     },
     "metadata": {},
     "output_type": "display_data"
    }
   ],
   "source": [
    "data[\"lines_total\"] = data[\"synopsis\"].progress_apply(lambda x: len(x.split(\"\\n\")))"
   ]
  },
  {
   "cell_type": "code",
   "execution_count": 5,
   "id": "7bfe7015-9c56-4eff-af20-1559fb2a9e87",
   "metadata": {},
   "outputs": [
    {
     "data": {
      "application/json": {
       "ascii": false,
       "bar_format": null,
       "colour": null,
       "elapsed": 0.01822948455810547,
       "initial": 0,
       "n": 0,
       "ncols": null,
       "nrows": 31,
       "postfix": null,
       "prefix": "",
       "rate": null,
       "total": 19393,
       "unit": "it",
       "unit_divisor": 1000,
       "unit_scale": false
      },
      "application/vnd.jupyter.widget-view+json": {
       "model_id": "470ea2068d1945ed9d6e4b6daf612183",
       "version_major": 2,
       "version_minor": 0
      },
      "text/plain": [
       "  0%|          | 0/19393 [00:00<?, ?it/s]"
      ]
     },
     "metadata": {},
     "output_type": "display_data"
    },
    {
     "data": {
      "application/json": {
       "ascii": false,
       "bar_format": null,
       "colour": null,
       "elapsed": 0.04676222801208496,
       "initial": 0,
       "n": 0,
       "ncols": null,
       "nrows": 31,
       "postfix": null,
       "prefix": "",
       "rate": null,
       "total": 19393,
       "unit": "it",
       "unit_divisor": 1000,
       "unit_scale": false
      },
      "application/vnd.jupyter.widget-view+json": {
       "model_id": "e6508da238494596b05daeeb866b3b8b",
       "version_major": 2,
       "version_minor": 0
      },
      "text/plain": [
       "  0%|          | 0/19393 [00:00<?, ?it/s]"
      ]
     },
     "metadata": {},
     "output_type": "display_data"
    },
    {
     "data": {
      "application/json": {
       "ascii": false,
       "bar_format": null,
       "colour": null,
       "elapsed": 0.029623746871948242,
       "initial": 0,
       "n": 0,
       "ncols": null,
       "nrows": 31,
       "postfix": null,
       "prefix": "",
       "rate": null,
       "total": 19393,
       "unit": "it",
       "unit_divisor": 1000,
       "unit_scale": false
      },
      "application/vnd.jupyter.widget-view+json": {
       "model_id": "b8aa8ad9b13a4107a05501c44a2488a8",
       "version_major": 2,
       "version_minor": 0
      },
      "text/plain": [
       "  0%|          | 0/19393 [00:00<?, ?it/s]"
      ]
     },
     "metadata": {},
     "output_type": "display_data"
    }
   ],
   "source": [
    "data[\"token_max_char_len\"] = data[\"synopsis\"].progress_apply(\n",
    "    lambda x: max([len(t) for t in word_tokenize(x)]) if x.strip() else 0\n",
    ")\n",
    "\n",
    "data[\"sent_max_char_len\"] = data[\"synopsis\"].progress_apply(\n",
    "    lambda x: max([len(t) for t in sent_tokenize(x)]) if x.strip() else 0\n",
    ")\n",
    "\n",
    "data[\"line_max_char_len\"] = data[\"synopsis\"].progress_apply(\n",
    "    lambda x: max([len(t) for t in x.split(\"\\n\")]) if x.strip() else 0\n",
    ")"
   ]
  },
  {
   "cell_type": "code",
   "execution_count": 16,
   "id": "e6d30ba1-dd5e-4d12-87d8-c7e54047486c",
   "metadata": {},
   "outputs": [],
   "source": [
    "data[\"sent_char_ratio\"] = [t.sent_total/t.char_total for t in data.itertuples()]\n",
    "data[\"sent_token_ratio\"] = [t.sent_total/t.token_total for t in data.itertuples()]\n",
    "data[\"token_char_ratio\"] = [t.token_total/t.char_total for t in data.itertuples()]\n",
    "data[\"token_sent_ratio\"] = [t.token_total/t.sent_total for t in data.itertuples()]\n",
    "data[\"char_sent_ratio\"] = [t.char_total/t.sent_total for t in data.itertuples()]\n",
    "data[\"char_token_ratio\"] = [t.char_total/t.token_total for t in data.itertuples()]"
   ]
  },
  {
   "cell_type": "code",
   "execution_count": 17,
   "id": "37083f6a-439f-4805-8333-cc2268e8e1c6",
   "metadata": {},
   "outputs": [
    {
     "data": {
      "text/html": [
       "<div>\n",
       "<style scoped>\n",
       "    .dataframe tbody tr th:only-of-type {\n",
       "        vertical-align: middle;\n",
       "    }\n",
       "\n",
       "    .dataframe tbody tr th {\n",
       "        vertical-align: top;\n",
       "    }\n",
       "\n",
       "    .dataframe thead th {\n",
       "        text-align: right;\n",
       "    }\n",
       "</style>\n",
       "<table border=\"1\" class=\"dataframe\">\n",
       "  <thead>\n",
       "    <tr style=\"text-align: right;\">\n",
       "      <th></th>\n",
       "      <th>char_total</th>\n",
       "      <th>token_total</th>\n",
       "      <th>sent_total</th>\n",
       "      <th>token_max_char_len</th>\n",
       "      <th>sent_max_char_len</th>\n",
       "      <th>line_max_char_len</th>\n",
       "      <th>sent_char_ratio</th>\n",
       "      <th>sent_token_ratio</th>\n",
       "      <th>token_char_ratio</th>\n",
       "      <th>token_sent_ratio</th>\n",
       "      <th>char_sent_ratio</th>\n",
       "      <th>char_token_ratio</th>\n",
       "    </tr>\n",
       "  </thead>\n",
       "  <tbody>\n",
       "    <tr>\n",
       "      <th>count</th>\n",
       "      <td>18374</td>\n",
       "      <td>18374</td>\n",
       "      <td>18374</td>\n",
       "      <td>18374</td>\n",
       "      <td>18374</td>\n",
       "      <td>18374</td>\n",
       "      <td>18374</td>\n",
       "      <td>18374</td>\n",
       "      <td>18374</td>\n",
       "      <td>18374</td>\n",
       "      <td>18374</td>\n",
       "      <td>18374</td>\n",
       "    </tr>\n",
       "    <tr>\n",
       "      <th>mean</th>\n",
       "      <td>521</td>\n",
       "      <td>105</td>\n",
       "      <td>5</td>\n",
       "      <td>12</td>\n",
       "      <td>157</td>\n",
       "      <td>393</td>\n",
       "      <td>0</td>\n",
       "      <td>0</td>\n",
       "      <td>0</td>\n",
       "      <td>20</td>\n",
       "      <td>102</td>\n",
       "      <td>4</td>\n",
       "    </tr>\n",
       "    <tr>\n",
       "      <th>std</th>\n",
       "      <td>349</td>\n",
       "      <td>70</td>\n",
       "      <td>3</td>\n",
       "      <td>2</td>\n",
       "      <td>61</td>\n",
       "      <td>230</td>\n",
       "      <td>0</td>\n",
       "      <td>0</td>\n",
       "      <td>0</td>\n",
       "      <td>7</td>\n",
       "      <td>39</td>\n",
       "      <td>1</td>\n",
       "    </tr>\n",
       "    <tr>\n",
       "      <th>min</th>\n",
       "      <td>1</td>\n",
       "      <td>1</td>\n",
       "      <td>1</td>\n",
       "      <td>1</td>\n",
       "      <td>1</td>\n",
       "      <td>1</td>\n",
       "      <td>0</td>\n",
       "      <td>0</td>\n",
       "      <td>0</td>\n",
       "      <td>1</td>\n",
       "      <td>1</td>\n",
       "      <td>1</td>\n",
       "    </tr>\n",
       "    <tr>\n",
       "      <th>25%</th>\n",
       "      <td>262</td>\n",
       "      <td>53</td>\n",
       "      <td>3</td>\n",
       "      <td>11</td>\n",
       "      <td>118</td>\n",
       "      <td>225</td>\n",
       "      <td>0</td>\n",
       "      <td>0</td>\n",
       "      <td>0</td>\n",
       "      <td>16</td>\n",
       "      <td>78</td>\n",
       "      <td>4</td>\n",
       "    </tr>\n",
       "    <tr>\n",
       "      <th>50%</th>\n",
       "      <td>454</td>\n",
       "      <td>92</td>\n",
       "      <td>5</td>\n",
       "      <td>12</td>\n",
       "      <td>151</td>\n",
       "      <td>364</td>\n",
       "      <td>0</td>\n",
       "      <td>0</td>\n",
       "      <td>0</td>\n",
       "      <td>19</td>\n",
       "      <td>97</td>\n",
       "      <td>4</td>\n",
       "    </tr>\n",
       "    <tr>\n",
       "      <th>75%</th>\n",
       "      <td>702</td>\n",
       "      <td>141</td>\n",
       "      <td>7</td>\n",
       "      <td>13</td>\n",
       "      <td>188</td>\n",
       "      <td>515</td>\n",
       "      <td>0</td>\n",
       "      <td>0</td>\n",
       "      <td>0</td>\n",
       "      <td>24</td>\n",
       "      <td>120</td>\n",
       "      <td>5</td>\n",
       "    </tr>\n",
       "    <tr>\n",
       "      <th>max</th>\n",
       "      <td>5804</td>\n",
       "      <td>1201</td>\n",
       "      <td>75</td>\n",
       "      <td>188</td>\n",
       "      <td>1701</td>\n",
       "      <td>2865</td>\n",
       "      <td>1</td>\n",
       "      <td>1</td>\n",
       "      <td>1</td>\n",
       "      <td>124</td>\n",
       "      <td>1701</td>\n",
       "      <td>130</td>\n",
       "    </tr>\n",
       "  </tbody>\n",
       "</table>\n",
       "</div>"
      ],
      "text/plain": [
       "       char_total  token_total  sent_total  token_max_char_len  \\\n",
       "count       18374        18374       18374               18374   \n",
       "mean          521          105           5                  12   \n",
       "std           349           70           3                   2   \n",
       "min             1            1           1                   1   \n",
       "25%           262           53           3                  11   \n",
       "50%           454           92           5                  12   \n",
       "75%           702          141           7                  13   \n",
       "max          5804         1201          75                 188   \n",
       "\n",
       "       sent_max_char_len  line_max_char_len  sent_char_ratio  \\\n",
       "count              18374              18374            18374   \n",
       "mean                 157                393                0   \n",
       "std                   61                230                0   \n",
       "min                    1                  1                0   \n",
       "25%                  118                225                0   \n",
       "50%                  151                364                0   \n",
       "75%                  188                515                0   \n",
       "max                 1701               2865                1   \n",
       "\n",
       "       sent_token_ratio  token_char_ratio  token_sent_ratio  char_sent_ratio  \\\n",
       "count             18374             18374             18374            18374   \n",
       "mean                  0                 0                20              102   \n",
       "std                   0                 0                 7               39   \n",
       "min                   0                 0                 1                1   \n",
       "25%                   0                 0                16               78   \n",
       "50%                   0                 0                19               97   \n",
       "75%                   0                 0                24              120   \n",
       "max                   1                 1               124             1701   \n",
       "\n",
       "       char_token_ratio  \n",
       "count             18374  \n",
       "mean                  4  \n",
       "std                   1  \n",
       "min                   1  \n",
       "25%                   4  \n",
       "50%                   4  \n",
       "75%                   5  \n",
       "max                 130  "
      ]
     },
     "execution_count": 17,
     "metadata": {},
     "output_type": "execute_result"
    }
   ],
   "source": [
    "data.describe().astype(int)"
   ]
  },
  {
   "cell_type": "code",
   "execution_count": 18,
   "id": "a9e2f70f-f979-41fd-9510-cefafa51031d",
   "metadata": {},
   "outputs": [],
   "source": [
    "stats = data.drop(columns=[\"href\", \"synopsis\"])"
   ]
  },
  {
   "cell_type": "markdown",
   "id": "55b0182b-a22c-4772-a131-4192604d0e1d",
   "metadata": {},
   "source": [
    "# Outlier detection\n",
    "\n",
    "[The svm.OneClassSVM is known to be sensitive to outliers and thus does not perform very well for outlier detection](https://scikit-learn.org/stable/modules/outlier_detection.html#outlier-detection)"
   ]
  },
  {
   "cell_type": "code",
   "execution_count": 19,
   "id": "2ab5f722-23fd-4880-b752-36fa8d209af3",
   "metadata": {},
   "outputs": [],
   "source": [
    "from sklearn.neighbors import LocalOutlierFactor\n",
    "from sklearn.ensemble import IsolationForest"
   ]
  },
  {
   "cell_type": "code",
   "execution_count": 20,
   "id": "8a388991-78ad-47dd-817f-9a3f4ffa0b64",
   "metadata": {},
   "outputs": [],
   "source": [
    "clf = LocalOutlierFactor(n_neighbors=20)\n",
    "preds = clf.fit_predict(stats)\n",
    "# clf.negative_outlier_factor_\n",
    "data[\"pred\"] = preds\n",
    "data[\"negative_outlier_factor_\"] = clf.negative_outlier_factor_"
   ]
  },
  {
   "cell_type": "code",
   "execution_count": 25,
   "id": "a87341ab-da27-4bce-8fc6-fa15a5ca0cd4",
   "metadata": {},
   "outputs": [],
   "source": [
    "# data[data[\"pred\"] == -1][\"synopsis\"].sample(10).to_list()"
   ]
  },
  {
   "cell_type": "code",
   "execution_count": null,
   "id": "b849eec6-90d7-40b9-aec6-a3462361221d",
   "metadata": {},
   "outputs": [],
   "source": []
  },
  {
   "cell_type": "code",
   "execution_count": 31,
   "id": "302950ce-21fe-4f85-97c0-4d1cd14f76a4",
   "metadata": {},
   "outputs": [
    {
     "data": {
      "text/html": [
       "<div>\n",
       "<style scoped>\n",
       "    .dataframe tbody tr th:only-of-type {\n",
       "        vertical-align: middle;\n",
       "    }\n",
       "\n",
       "    .dataframe tbody tr th {\n",
       "        vertical-align: top;\n",
       "    }\n",
       "\n",
       "    .dataframe thead th {\n",
       "        text-align: right;\n",
       "    }\n",
       "</style>\n",
       "<table border=\"1\" class=\"dataframe\">\n",
       "  <thead>\n",
       "    <tr style=\"text-align: right;\">\n",
       "      <th></th>\n",
       "      <th>href</th>\n",
       "      <th>synopsis</th>\n",
       "      <th>negative_outlier_factor_</th>\n",
       "    </tr>\n",
       "  </thead>\n",
       "  <tbody>\n",
       "    <tr>\n",
       "      <th>9039</th>\n",
       "      <td>/740317-la-itzy</td>\n",
       "      <td>ITZY spends a special youth friendship trip in Los Angeles, U.S.A.\\n\\n(Source: Korean = News.Naver.com || Tranlateion = MyDramaList)</td>\n",
       "      <td>-8.094004</td>\n",
       "    </tr>\n",
       "    <tr>\n",
       "      <th>9387</th>\n",
       "      <td>/56367-test-content-season-4</td>\n",
       "      <td>押イおッ人高ラヘ致24格会ケロヲク放文イメラシ倍極ろぼるけ島判険おが会影のたト床用じフ索手工ふ決39客芝2会促縮繰しー。議づだーめ景能オマ囲索趣こイが車74客芝6交いかへづ談情そゆあん明臨ヲホセサ博位カフク逃転地掘ークゃ年柏沼烈翌け。樹ネエ未著艦ぎう請報ア時阪便テコス学医テニ限物うてを嘉一るなむあ豪権ノマ慢活ーひや頑受やきイょ制団ぴゅめ捕活そクぱ泡死スチメ法乏咋塞墨はラい。\\n\\n扱ドみば...</td>\n",
       "      <td>-7.934917</td>\n",
       "    </tr>\n",
       "    <tr>\n",
       "      <th>11213</th>\n",
       "      <td>/3471-beauties-of-the-emperor</td>\n",
       "      <td>He loved her and threw in his empire for her but they had no fate...\\n\\nShe wanted to be the Emperor's woman and finally claimed the empire, but the one beside her wasn't him...</td>\n",
       "      <td>-7.623897</td>\n",
       "    </tr>\n",
       "    <tr>\n",
       "      <th>11287</th>\n",
       "      <td>/69817-num-kala</td>\n",
       "      <td>Path can't give up searching for his love Prim who, because of her debt, can't help but ran away from him...\\nHow much longer will he keep waiting for her and will they ever meet again?</td>\n",
       "      <td>-7.217971</td>\n",
       "    </tr>\n",
       "    <tr>\n",
       "      <th>18052</th>\n",
       "      <td>/31000-replaylist</td>\n",
       "      <td>Three different web dramas :\\nFirst episode -Seventeen - Yang Yoseop - On the Road\\nSecond episode - Not All Right, But It's Alright - Rothy - Butterfly Effect\\nThird episode - Just One Bite - BEN...</td>\n",
       "      <td>-6.440586</td>\n",
       "    </tr>\n",
       "    <tr>\n",
       "      <th>11140</th>\n",
       "      <td>/8355-spec-rei</td>\n",
       "      <td>This is a prequel to Keizoku 2: SPEC, it depicts how Saya Toma lost her \\nleft hand and how Sebumi Takeru joined SIT.</td>\n",
       "      <td>-6.266474</td>\n",
       "    </tr>\n",
       "    <tr>\n",
       "      <th>12393</th>\n",
       "      <td>/724485-spring-is-gone-by-chance</td>\n",
       "      <td>A popular romance webtoon writer, 'Woo-yeon'\\nA no-boyfriend-since-birth who haven't dated anyone, 'Hyang-gi'\\nAnd her younger sibling and cute love coach, 'Ro-woon'\\n\\nA heart-fluttering romance ...</td>\n",
       "      <td>-6.034445</td>\n",
       "    </tr>\n",
       "    <tr>\n",
       "      <th>14223</th>\n",
       "      <td>/41937-2012-big-bang-alive-tour-bigshow</td>\n",
       "      <td>2012 Big Bang Alive Tour: Bigshow\\nnative\\t2012 빅뱅 얼라이브 투어: 빅쇼</td>\n",
       "      <td>-5.870948</td>\n",
       "    </tr>\n",
       "    <tr>\n",
       "      <th>12251</th>\n",
       "      <td>/54215-alien-the-joker</td>\n",
       "      <td>Third movie of the \"Alien\" series:\\nA mysterious killer dressed as a clown appears in town and Lan Jue starts to investigate.</td>\n",
       "      <td>-5.436620</td>\n",
       "    </tr>\n",
       "    <tr>\n",
       "      <th>18488</th>\n",
       "      <td>/39935-i-am-yu-huanshui</td>\n",
       "      <td>I Am Yu Huanshui is a story for the underdogs about a man who tolerates as much as he can, yet things change when he discovers that he is terminal ill.\\n\\n(Source: DramaPanda)\\n\\n~~ Adapted from t...</td>\n",
       "      <td>-5.108256</td>\n",
       "    </tr>\n",
       "    <tr>\n",
       "      <th>11504</th>\n",
       "      <td>/696617-a-man-s-crazy-heart</td>\n",
       "      <td>A loving friend, a son, and lover, who is being haunted by his deep dark past...\\n \\nA story of love, betrayal, and revenge...</td>\n",
       "      <td>-5.047142</td>\n",
       "    </tr>\n",
       "    <tr>\n",
       "      <th>11426</th>\n",
       "      <td>/732969-family-gravesite</td>\n",
       "      <td>A woman who inherits a gravesite under mysterious circumstances as her family's history starts to unravel\\n\\n(Source: The Swoon Netflix)</td>\n",
       "      <td>-4.953720</td>\n",
       "    </tr>\n",
       "    <tr>\n",
       "      <th>16179</th>\n",
       "      <td>/726063-hidden-video-perfect-secretary-izu-s-lecture-room</td>\n",
       "      <td>Aruto seems to lack basic President knowledge, so Izu teaches him a lesson...\\n\\n(Source: Kamen Rider Wiki)</td>\n",
       "      <td>-4.837720</td>\n",
       "    </tr>\n",
       "    <tr>\n",
       "      <th>19259</th>\n",
       "      <td>/10748-goodbye-ani</td>\n",
       "      <td>Story is based on Korean movie \"Two Faces of My Girlfriend.”  \\r\\n\\r\\n\"Goodbye Ani” won the Most Promising Project to Invest Award of the CO-FPC (Co-production Film Pitch and Catch) at the 2009 Sh...</td>\n",
       "      <td>-4.652704</td>\n",
       "    </tr>\n",
       "    <tr>\n",
       "      <th>13341</th>\n",
       "      <td>/680919-the-sweet-robot</td>\n",
       "      <td>White inherited from his father a large house built for him, and discovered in the basement of the house, a laboratory, where he met the robot guy V.\\n\\n(Source: shameejaa on MyDramaList)</td>\n",
       "      <td>-4.245269</td>\n",
       "    </tr>\n",
       "    <tr>\n",
       "      <th>6175</th>\n",
       "      <td>/743975-txt-log</td>\n",
       "      <td>TXT's individual vlogs filmed during their time in the U.S.A.\\n\\n(Source: MyDramaList)</td>\n",
       "      <td>-4.045315</td>\n",
       "    </tr>\n",
       "    <tr>\n",
       "      <th>4914</th>\n",
       "      <td>/699509-half</td>\n",
       "      <td>“How long can we love someone without talking, without conversation, without eye contact and no interaction at all anymore?” \\n\\nA chapter from the book “This may be a sad chapter but you are not ...</td>\n",
       "      <td>-4.008264</td>\n",
       "    </tr>\n",
       "    <tr>\n",
       "      <th>6767</th>\n",
       "      <td>/35149-yo-nimo-kimyou-na-monogatari-2019-rain-special</td>\n",
       "      <td>***Eien no Hero\\nWith the advances in science, the world has developed cyborg technology that draws from the best in human abilities. Monsters abuse this technology, threatening the lives and safe...</td>\n",
       "      <td>-3.803767</td>\n",
       "    </tr>\n",
       "    <tr>\n",
       "      <th>17413</th>\n",
       "      <td>/32166-zenaku-no-kuzu</td>\n",
       "      <td>Adapted from the Manga by Watanabe Daisuke\\nOriginal work is a work depicting Kamono Obama (duck) who runs an old book store and Shigeru Shimada Tora (Tiger) taking charge of revenge under the cri...</td>\n",
       "      <td>-3.798785</td>\n",
       "    </tr>\n",
       "    <tr>\n",
       "      <th>18704</th>\n",
       "      <td>/735861-the-love-that-dare-not-speak-its-name-season-1-5</td>\n",
       "      <td>This time, there will be 8 independent short films, allowing everyone to spy on the future of the store manager and office worker...\\n\\n(Source: 糧食供應所 on YouTube)\\n\\n~~ All the content will be ope...</td>\n",
       "      <td>-3.781493</td>\n",
       "    </tr>\n",
       "  </tbody>\n",
       "</table>\n",
       "</div>"
      ],
      "text/plain": [
       "                                                            href  \\\n",
       "9039                                             /740317-la-itzy   \n",
       "9387                                /56367-test-content-season-4   \n",
       "11213                              /3471-beauties-of-the-emperor   \n",
       "11287                                            /69817-num-kala   \n",
       "18052                                          /31000-replaylist   \n",
       "11140                                             /8355-spec-rei   \n",
       "12393                           /724485-spring-is-gone-by-chance   \n",
       "14223                    /41937-2012-big-bang-alive-tour-bigshow   \n",
       "12251                                     /54215-alien-the-joker   \n",
       "18488                                    /39935-i-am-yu-huanshui   \n",
       "11504                                /696617-a-man-s-crazy-heart   \n",
       "11426                                   /732969-family-gravesite   \n",
       "16179  /726063-hidden-video-perfect-secretary-izu-s-lecture-room   \n",
       "19259                                         /10748-goodbye-ani   \n",
       "13341                                    /680919-the-sweet-robot   \n",
       "6175                                             /743975-txt-log   \n",
       "4914                                                /699509-half   \n",
       "6767       /35149-yo-nimo-kimyou-na-monogatari-2019-rain-special   \n",
       "17413                                      /32166-zenaku-no-kuzu   \n",
       "18704   /735861-the-love-that-dare-not-speak-its-name-season-1-5   \n",
       "\n",
       "                                                                                                                                                                                                      synopsis  \\\n",
       "9039                                                                      ITZY spends a special youth friendship trip in Los Angeles, U.S.A.\\n\\n(Source: Korean = News.Naver.com || Tranlateion = MyDramaList)   \n",
       "9387   押イおッ人高ラヘ致24格会ケロヲク放文イメラシ倍極ろぼるけ島判険おが会影のたト床用じフ索手工ふ決39客芝2会促縮繰しー。議づだーめ景能オマ囲索趣こイが車74客芝6交いかへづ談情そゆあん明臨ヲホセサ博位カフク逃転地掘ークゃ年柏沼烈翌け。樹ネエ未著艦ぎう請報ア時阪便テコス学医テニ限物うてを嘉一るなむあ豪権ノマ慢活ーひや頑受やきイょ制団ぴゅめ捕活そクぱ泡死スチメ法乏咋塞墨はラい。\\n\\n扱ドみば...   \n",
       "11213                        He loved her and threw in his empire for her but they had no fate...\\n\\nShe wanted to be the Emperor's woman and finally claimed the empire, but the one beside her wasn't him...   \n",
       "11287                Path can't give up searching for his love Prim who, because of her debt, can't help but ran away from him...\\nHow much longer will he keep waiting for her and will they ever meet again?   \n",
       "18052  Three different web dramas :\\nFirst episode -Seventeen - Yang Yoseop - On the Road\\nSecond episode - Not All Right, But It's Alright - Rothy - Butterfly Effect\\nThird episode - Just One Bite - BEN...   \n",
       "11140                                                                                    This is a prequel to Keizoku 2: SPEC, it depicts how Saya Toma lost her \\nleft hand and how Sebumi Takeru joined SIT.   \n",
       "12393  A popular romance webtoon writer, 'Woo-yeon'\\nA no-boyfriend-since-birth who haven't dated anyone, 'Hyang-gi'\\nAnd her younger sibling and cute love coach, 'Ro-woon'\\n\\nA heart-fluttering romance ...   \n",
       "14223                                                                                                                                           2012 Big Bang Alive Tour: Bigshow\\nnative\\t2012 빅뱅 얼라이브 투어: 빅쇼   \n",
       "12251                                                                            Third movie of the \"Alien\" series:\\nA mysterious killer dressed as a clown appears in town and Lan Jue starts to investigate.   \n",
       "18488  I Am Yu Huanshui is a story for the underdogs about a man who tolerates as much as he can, yet things change when he discovers that he is terminal ill.\\n\\n(Source: DramaPanda)\\n\\n~~ Adapted from t...   \n",
       "11504                                                                           A loving friend, a son, and lover, who is being haunted by his deep dark past...\\n \\nA story of love, betrayal, and revenge...   \n",
       "11426                                                                 A woman who inherits a gravesite under mysterious circumstances as her family's history starts to unravel\\n\\n(Source: The Swoon Netflix)   \n",
       "16179                                                                                              Aruto seems to lack basic President knowledge, so Izu teaches him a lesson...\\n\\n(Source: Kamen Rider Wiki)   \n",
       "19259  Story is based on Korean movie \"Two Faces of My Girlfriend.”  \\r\\n\\r\\n\"Goodbye Ani” won the Most Promising Project to Invest Award of the CO-FPC (Co-production Film Pitch and Catch) at the 2009 Sh...   \n",
       "13341              White inherited from his father a large house built for him, and discovered in the basement of the house, a laboratory, where he met the robot guy V.\\n\\n(Source: shameejaa on MyDramaList)   \n",
       "6175                                                                                                                    TXT's individual vlogs filmed during their time in the U.S.A.\\n\\n(Source: MyDramaList)   \n",
       "4914   “How long can we love someone without talking, without conversation, without eye contact and no interaction at all anymore?” \\n\\nA chapter from the book “This may be a sad chapter but you are not ...   \n",
       "6767   ***Eien no Hero\\nWith the advances in science, the world has developed cyborg technology that draws from the best in human abilities. Monsters abuse this technology, threatening the lives and safe...   \n",
       "17413  Adapted from the Manga by Watanabe Daisuke\\nOriginal work is a work depicting Kamono Obama (duck) who runs an old book store and Shigeru Shimada Tora (Tiger) taking charge of revenge under the cri...   \n",
       "18704  This time, there will be 8 independent short films, allowing everyone to spy on the future of the store manager and office worker...\\n\\n(Source: 糧食供應所 on YouTube)\\n\\n~~ All the content will be ope...   \n",
       "\n",
       "       negative_outlier_factor_  \n",
       "9039                  -8.094004  \n",
       "9387                  -7.934917  \n",
       "11213                 -7.623897  \n",
       "11287                 -7.217971  \n",
       "18052                 -6.440586  \n",
       "11140                 -6.266474  \n",
       "12393                 -6.034445  \n",
       "14223                 -5.870948  \n",
       "12251                 -5.436620  \n",
       "18488                 -5.108256  \n",
       "11504                 -5.047142  \n",
       "11426                 -4.953720  \n",
       "16179                 -4.837720  \n",
       "19259                 -4.652704  \n",
       "13341                 -4.245269  \n",
       "6175                  -4.045315  \n",
       "4914                  -4.008264  \n",
       "6767                  -3.803767  \n",
       "17413                 -3.798785  \n",
       "18704                 -3.781493  "
      ]
     },
     "execution_count": 31,
     "metadata": {},
     "output_type": "execute_result"
    }
   ],
   "source": [
    "data[data[\"pred\"] == -1].sort_values(by=\"negative_outlier_factor_\"\n",
    "                                    )[['href', 'synopsis', 'negative_outlier_factor_']].head(20)"
   ]
  }
 ],
 "metadata": {
  "kernelspec": {
   "display_name": "Python 3 (ipykernel)",
   "language": "python",
   "name": "python3"
  },
  "language_info": {
   "codemirror_mode": {
    "name": "ipython",
    "version": 3
   },
   "file_extension": ".py",
   "mimetype": "text/x-python",
   "name": "python",
   "nbconvert_exporter": "python",
   "pygments_lexer": "ipython3",
   "version": "3.10.5"
  }
 },
 "nbformat": 4,
 "nbformat_minor": 5
}
