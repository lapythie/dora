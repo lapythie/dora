{
 "cells": [
  {
   "cell_type": "code",
   "execution_count": 1,
   "id": "276df953-0a04-4314-ab4a-91495e034e19",
   "metadata": {},
   "outputs": [],
   "source": [
    "from bs4 import BeautifulSoup\n",
    "from collections import Counter, defaultdict\n",
    "import json\n",
    "from tqdm import tqdm"
   ]
  },
  {
   "cell_type": "code",
   "execution_count": 2,
   "id": "f69ada42-3c2f-431d-ac69-75df51deffe5",
   "metadata": {},
   "outputs": [],
   "source": [
    "with open(\"data/href2dramapage.json\", encoding=\"utf-8\") as f:\n",
    "    href2dramapage = json.load(f)"
   ]
  },
  {
   "cell_type": "code",
   "execution_count": 24,
   "id": "921af713-96a9-4d2c-8ad6-d16e9ac017a5",
   "metadata": {},
   "outputs": [
    {
     "name": "stderr",
     "output_type": "stream",
     "text": [
      "100%|██████████████████████████████████████████████████████████████████████████████████| 10/10 [00:00<00:00, 11.44it/s]\n"
     ]
    }
   ],
   "source": [
    "href2details = defaultdict(dict)\n",
    "\n",
    "for href, page in tqdm(list(href2dramapage.items())[:10]):\n",
    "    if href not in href2details:\n",
    "        \n",
    "        soup = BeautifulSoup(page)\n",
    "        details = soup.find_all(\"ul\", {\"class\": \"list m-b-0\"})\n",
    "        if details:\n",
    "            \n",
    "            for details_block in details:\n",
    "                separate_details = details_block.find_all(\"li\", {\"class\": \"list-item p-a-0\"})\n",
    "                \n",
    "                for separate_detail in separate_details:\n",
    "                    \n",
    "                    detail_prefix = separate_detail.find_all(\"b\", {\"class\": \"inline\"})\n",
    "                    assert len(detail_prefix) == 1\n",
    "                    \n",
    "                    detail_key = detail_prefix[0].get_text()\n",
    "                    detail_value = separate_detail.get_text()\n",
    "                    assert detail_value.startswith(detail_key)\n",
    "                    \n",
    "                    assert detail_key not in href2details[href]\n",
    "                    href2details[href][detail_key] = detail_value"
   ]
  },
  {
   "cell_type": "code",
   "execution_count": 25,
   "id": "47fa0725-b779-4cbb-8843-c0d66d006746",
   "metadata": {},
   "outputs": [
    {
     "data": {
      "text/plain": [
       "defaultdict(dict,\n",
       "            {'/710067-maiagare': {'Drama:': 'Drama: Mai Agare!',\n",
       "              'Country:': 'Country: Japan ',\n",
       "              'Episodes:': 'Episodes: 126',\n",
       "              'Aired:': 'Aired: Oct  3, 2022 - Mar 31, 2023',\n",
       "              'Aired On:': 'Aired On: Monday, Tuesday, Wednesday, Thursday, Friday',\n",
       "              'Original Network:': 'Original Network: NHK ',\n",
       "              'Duration:': 'Duration: 15 min.',\n",
       "              'Score:': 'Score: 8.2 (scored by 12 users)',\n",
       "              'Ranked:': 'Ranked: #37553',\n",
       "              'Popularity:': 'Popularity: #12666',\n",
       "              'Watchers:': 'Watchers: 302',\n",
       "              'Favorites:': 'Favorites: 0'},\n",
       "             '/737587-kodoku-no-gurume-season-10': {'Drama:': 'Drama: Kodoku no Gurume Season 10',\n",
       "              'Country:': 'Country: Japan ',\n",
       "              'Episodes:': 'Episodes: 12',\n",
       "              'Aired:': 'Aired: Oct  7, 2022 - Dec 23, 2022',\n",
       "              'Aired On:': 'Aired On: Friday',\n",
       "              'Original Network:': 'Original Network: TV Tokyo ',\n",
       "              'Duration:': 'Duration: 30 min.',\n",
       "              'Score:': 'Score: 8.2 (scored by 25 users)',\n",
       "              'Ranked:': 'Ranked: #37593',\n",
       "              'Popularity:': 'Popularity: #99999',\n",
       "              'Watchers:': 'Watchers: 62',\n",
       "              'Favorites:': 'Favorites: 0'},\n",
       "             '/10632-kodoku-no-gurume-season-4': {'Drama:': 'Drama: Kodoku no Gurume Season 4',\n",
       "              'Country:': 'Country: Japan ',\n",
       "              'Episodes:': 'Episodes: 12',\n",
       "              'Aired:': 'Aired: Jul  9, 2014 - Sep 24, 2014',\n",
       "              'Aired On:': 'Aired On: Wednesday',\n",
       "              'Original Network:': 'Original Network: TV Tokyo ',\n",
       "              'Duration:': 'Duration: 32 min.',\n",
       "              'Score:': 'Score: 8.1 (scored by 120 users)',\n",
       "              'Ranked:': 'Ranked: #38277',\n",
       "              'Popularity:': 'Popularity: #13541',\n",
       "              'Watchers:': 'Watchers: 263',\n",
       "              'Favorites:': 'Favorites: 0'},\n",
       "             '/702899-kodoku-no-gurume-season-9': {'Drama:': 'Drama: Kodoku no Gurume Season 9',\n",
       "              'Country:': 'Country: Japan ',\n",
       "              'Episodes:': 'Episodes: 12',\n",
       "              'Aired:': 'Aired: Jul  9, 2021 - Sep 24, 2021',\n",
       "              'Aired On:': 'Aired On: Friday',\n",
       "              'Original Network:': 'Original Network: TV Tokyo ',\n",
       "              'Duration:': 'Duration: 30 min.',\n",
       "              'Score:': 'Score: 8.4 (scored by 50 users)',\n",
       "              'Ranked:': 'Ranked: #36898',\n",
       "              'Popularity:': 'Popularity: #99999',\n",
       "              'Watchers:': 'Watchers: 120',\n",
       "              'Favorites:': 'Favorites: 0'},\n",
       "             '/39997-kodoku-no-gurume-season-8': {'Drama:': 'Drama: Kodoku no Gurume Season 8',\n",
       "              'Country:': 'Country: Japan ',\n",
       "              'Episodes:': 'Episodes: 12',\n",
       "              'Aired:': 'Aired: Oct  4, 2019 - Dec 20, 2019',\n",
       "              'Aired On:': 'Aired On: Friday',\n",
       "              'Original Network:': 'Original Network: TV Tokyo ',\n",
       "              'Duration:': 'Duration: 30 min.',\n",
       "              'Score:': 'Score: 8.4 (scored by 52 users)',\n",
       "              'Ranked:': 'Ranked: #36531',\n",
       "              'Popularity:': 'Popularity: #99999',\n",
       "              'Watchers:': 'Watchers: 130',\n",
       "              'Favorites:': 'Favorites: 0'},\n",
       "             '/15713-kodoku-no-gurume-season-5': {'Drama:': 'Drama: Kodoku no Gurume Season 5',\n",
       "              'Country:': 'Country: Japan ',\n",
       "              'Episodes:': 'Episodes: 12',\n",
       "              'Aired:': 'Aired: Oct  2, 2015 - Dec 18, 2015',\n",
       "              'Aired On:': 'Aired On: Friday',\n",
       "              'Original Network:': 'Original Network: TV Tokyo ',\n",
       "              'Duration:': 'Duration: 30 min.',\n",
       "              'Score:': 'Score: 8.1 (scored by 102 users)',\n",
       "              'Ranked:': 'Ranked: #38715',\n",
       "              'Popularity:': 'Popularity: #14588',\n",
       "              'Watchers:': 'Watchers: 223',\n",
       "              'Favorites:': 'Favorites: 0'},\n",
       "             '/5539-kodoku-no-gurume-season-2': {'Drama:': 'Drama: Kodoku no Gurume Season 2',\n",
       "              'Country:': 'Country: Japan ',\n",
       "              'Episodes:': 'Episodes: 12',\n",
       "              'Aired:': 'Aired: Oct  9, 2012 - Dec 26, 2012',\n",
       "              'Aired On:': 'Aired On: Tuesday',\n",
       "              'Original Network:': 'Original Network: TV Tokyo ',\n",
       "              'Duration:': 'Duration: 47 min.',\n",
       "              'Score:': 'Score: 8.0 (scored by 183 users)',\n",
       "              'Ranked:': 'Ranked: #39315',\n",
       "              'Popularity:': 'Popularity: #11322',\n",
       "              'Watchers:': 'Watchers: 377',\n",
       "              'Favorites:': 'Favorites: 0'},\n",
       "             '/7338-kodoku-no-gurume-season-3': {'Drama:': 'Drama: Kodoku no Gurume Season 3',\n",
       "              'Country:': 'Country: Japan ',\n",
       "              'Episodes:': 'Episodes: 12',\n",
       "              'Aired:': 'Aired: Jul 10, 2013 - Sep 25, 2013',\n",
       "              'Aired On:': 'Aired On: Wednesday',\n",
       "              'Original Network:': 'Original Network: TV Tokyo ',\n",
       "              'Duration:': 'Duration: 35 min.',\n",
       "              'Score:': 'Score: 8.0 (scored by 144 users)',\n",
       "              'Ranked:': 'Ranked: #38883',\n",
       "              'Popularity:': 'Popularity: #12596',\n",
       "              'Watchers:': 'Watchers: 305',\n",
       "              'Favorites:': 'Favorites: 0'},\n",
       "             '/78455-last-idol-season-3': {'TV Show:': 'TV Show: Last Idol: Season 3',\n",
       "              'Country:': 'Country: Japan ',\n",
       "              'Episodes:': 'Episodes: 21',\n",
       "              'Aired:': 'Aired: Apr 15, 2018 - Sep 30, 2018',\n",
       "              'Aired On:': 'Aired On: Sunday',\n",
       "              'Original Network:': 'Original Network: TV Asahi ',\n",
       "              'Duration:': 'Duration: 25 min.',\n",
       "              'Score:': 'Score: 8.1 (scored by 5 users)',\n",
       "              'Ranked:': 'Ranked: #38576',\n",
       "              'Popularity:': 'Popularity: #99999',\n",
       "              'Watchers:': 'Watchers: 11',\n",
       "              'Favorites:': 'Favorites: 0'},\n",
       "             '/731795-koi-to-dangan': {'Drama:': 'Drama: Koi to Dangan',\n",
       "              'Country:': 'Country: Japan ',\n",
       "              'Episodes:': 'Episodes: 9',\n",
       "              'Aired:': 'Aired: Oct 28, 2022 - Dec 23, 2022',\n",
       "              'Aired On:': 'Aired On: Friday',\n",
       "              'Original Network:': 'Original Network: MBS ',\n",
       "              'Duration:': 'Duration: 24 min.',\n",
       "              'Score:': 'Score: 7.1 (scored by 930 users)',\n",
       "              'Ranked:': 'Ranked: #7436',\n",
       "              'Popularity:': 'Popularity: #3384',\n",
       "              'Watchers:': 'Watchers: 2,836',\n",
       "              'Favorites:': 'Favorites: 0'}})"
      ]
     },
     "execution_count": 25,
     "metadata": {},
     "output_type": "execute_result"
    }
   ],
   "source": [
    "href2details"
   ]
  },
  {
   "cell_type": "code",
   "execution_count": 16,
   "id": "8f9feae9-599e-446a-89e6-c60373d94c5b",
   "metadata": {},
   "outputs": [
    {
     "data": {
      "text/plain": [
       "<li class=\"list-item p-a-0\"><b class=\"inline\">Score:</b> 8.2 <span class=\"hft\">(scored by 12 users)</span></li>"
      ]
     },
     "execution_count": 16,
     "metadata": {},
     "output_type": "execute_result"
    }
   ],
   "source": [
    "separate_details[0]"
   ]
  },
  {
   "cell_type": "code",
   "execution_count": 17,
   "id": "b771c1d2-d758-4f41-a02a-c4fae618471a",
   "metadata": {},
   "outputs": [
    {
     "data": {
      "text/plain": [
       "<ul class=\"list m-b-0\"> <li class=\"list-item p-a-0\"><b class=\"inline\">Score:</b> 8.2 <span class=\"hft\">(scored by 12 users)</span></li> <li class=\"list-item p-a-0\"><b class=\"inline\">Ranked:</b> #37553</li> <li class=\"list-item p-a-0\"><b class=\"inline\">Popularity:</b> #12666</li> <li class=\"list-item p-a-0\"><b class=\"inline\">Watchers:</b> 302</li> <li class=\"list-item p-a-0\" style=\"display:none;\"><b class=\"inline\">Favorites:</b> 0</li> </ul>"
      ]
     },
     "execution_count": 17,
     "metadata": {},
     "output_type": "execute_result"
    }
   ],
   "source": [
    "details[1]"
   ]
  },
  {
   "cell_type": "code",
   "execution_count": null,
   "id": "aa374961-e605-4c66-919b-30f48d2f8d47",
   "metadata": {},
   "outputs": [],
   "source": []
  }
 ],
 "metadata": {
  "kernelspec": {
   "display_name": "Python 3 (ipykernel)",
   "language": "python",
   "name": "python3"
  },
  "language_info": {
   "codemirror_mode": {
    "name": "ipython",
    "version": 3
   },
   "file_extension": ".py",
   "mimetype": "text/x-python",
   "name": "python",
   "nbconvert_exporter": "python",
   "pygments_lexer": "ipython3",
   "version": "3.10.5"
  }
 },
 "nbformat": 4,
 "nbformat_minor": 5
}
