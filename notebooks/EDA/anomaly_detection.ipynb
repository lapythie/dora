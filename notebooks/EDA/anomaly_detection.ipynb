{
 "cells": [
  {
   "cell_type": "code",
   "execution_count": 56,
   "id": "78ff8982-ac6e-4976-9655-42c2b3c55118",
   "metadata": {},
   "outputs": [],
   "source": [
    "import json\n",
    "import pandas as pd\n",
    "from collections import Counter\n",
    "\n",
    "from nltk import word_tokenize, sent_tokenize\n",
    "\n",
    "from tqdm.auto import tqdm\n",
    "tqdm.pandas()\n",
    "\n",
    "pd.set_option('display.max_colwidth', 200)"
   ]
  },
  {
   "cell_type": "code",
   "execution_count": 31,
   "id": "161b4803-4e64-40ac-b3e5-5cca5b8922df",
   "metadata": {},
   "outputs": [],
   "source": [
    "with open(\"../data/href2synopsis.json\", encoding=\"utf-8\") as f:\n",
    "    href2synopsis = json.load(f)"
   ]
  },
  {
   "cell_type": "markdown",
   "id": "8a2190a7-a0b1-46ea-b8cb-9e995fd1ff91",
   "metadata": {},
   "source": [
    "# BOW stats"
   ]
  },
  {
   "cell_type": "code",
   "execution_count": 63,
   "id": "05b12d69-ed5e-456b-a366-7de2226a5796",
   "metadata": {},
   "outputs": [],
   "source": [
    "data = pd.DataFrame()\n",
    "\n",
    "data[\"href\"] = href2synopsis.keys()\n",
    "data[\"synopsis\"] = href2synopsis.values()"
   ]
  },
  {
   "cell_type": "code",
   "execution_count": 64,
   "id": "2b001110-3de6-47f6-819b-0fa70adfedb1",
   "metadata": {},
   "outputs": [
    {
     "data": {
      "application/json": {
       "ascii": false,
       "bar_format": null,
       "colour": null,
       "elapsed": 0.013772010803222656,
       "initial": 0,
       "n": 0,
       "ncols": null,
       "nrows": 31,
       "postfix": null,
       "prefix": "",
       "rate": null,
       "total": 19393,
       "unit": "it",
       "unit_divisor": 1000,
       "unit_scale": false
      },
      "application/vnd.jupyter.widget-view+json": {
       "model_id": "127237fca6b241a9a73ac6949024de2e",
       "version_major": 2,
       "version_minor": 0
      },
      "text/plain": [
       "  0%|          | 0/19393 [00:00<?, ?it/s]"
      ]
     },
     "metadata": {},
     "output_type": "display_data"
    },
    {
     "data": {
      "application/json": {
       "ascii": false,
       "bar_format": null,
       "colour": null,
       "elapsed": 0.01600027084350586,
       "initial": 0,
       "n": 0,
       "ncols": null,
       "nrows": 31,
       "postfix": null,
       "prefix": "",
       "rate": null,
       "total": 19393,
       "unit": "it",
       "unit_divisor": 1000,
       "unit_scale": false
      },
      "application/vnd.jupyter.widget-view+json": {
       "model_id": "19e84cbce092404286e075bea1d3fbf0",
       "version_major": 2,
       "version_minor": 0
      },
      "text/plain": [
       "  0%|          | 0/19393 [00:00<?, ?it/s]"
      ]
     },
     "metadata": {},
     "output_type": "display_data"
    },
    {
     "data": {
      "application/json": {
       "ascii": false,
       "bar_format": null,
       "colour": null,
       "elapsed": 0.022499799728393555,
       "initial": 0,
       "n": 0,
       "ncols": null,
       "nrows": 31,
       "postfix": null,
       "prefix": "",
       "rate": null,
       "total": 19393,
       "unit": "it",
       "unit_divisor": 1000,
       "unit_scale": false
      },
      "application/vnd.jupyter.widget-view+json": {
       "model_id": "0faee794f7174f64bf357d7f4555db29",
       "version_major": 2,
       "version_minor": 0
      },
      "text/plain": [
       "  0%|          | 0/19393 [00:00<?, ?it/s]"
      ]
     },
     "metadata": {},
     "output_type": "display_data"
    }
   ],
   "source": [
    "data[\"char_len\"] = data[\"synopsis\"].progress_apply(len)\n",
    "data[\"token_len\"] = data[\"synopsis\"].progress_apply(lambda x: len(word_tokenize(x)))\n",
    "data[\"sent_len\"] = data[\"synopsis\"].progress_apply(lambda x: len(sent_tokenize(x)))"
   ]
  },
  {
   "cell_type": "code",
   "execution_count": 62,
   "id": "37083f6a-439f-4805-8333-cc2268e8e1c6",
   "metadata": {},
   "outputs": [
    {
     "data": {
      "text/html": [
       "<div>\n",
       "<style scoped>\n",
       "    .dataframe tbody tr th:only-of-type {\n",
       "        vertical-align: middle;\n",
       "    }\n",
       "\n",
       "    .dataframe tbody tr th {\n",
       "        vertical-align: top;\n",
       "    }\n",
       "\n",
       "    .dataframe thead th {\n",
       "        text-align: right;\n",
       "    }\n",
       "</style>\n",
       "<table border=\"1\" class=\"dataframe\">\n",
       "  <thead>\n",
       "    <tr style=\"text-align: right;\">\n",
       "      <th></th>\n",
       "      <th>char_len</th>\n",
       "      <th>token_len</th>\n",
       "      <th>sent_len</th>\n",
       "    </tr>\n",
       "  </thead>\n",
       "  <tbody>\n",
       "    <tr>\n",
       "      <th>count</th>\n",
       "      <td>19393.00</td>\n",
       "      <td>19393.00</td>\n",
       "      <td>19393.00</td>\n",
       "    </tr>\n",
       "    <tr>\n",
       "      <th>mean</th>\n",
       "      <td>493.76</td>\n",
       "      <td>99.52</td>\n",
       "      <td>4.99</td>\n",
       "    </tr>\n",
       "    <tr>\n",
       "      <th>std</th>\n",
       "      <td>359.10</td>\n",
       "      <td>72.71</td>\n",
       "      <td>3.60</td>\n",
       "    </tr>\n",
       "    <tr>\n",
       "      <th>min</th>\n",
       "      <td>0.00</td>\n",
       "      <td>0.00</td>\n",
       "      <td>0.00</td>\n",
       "    </tr>\n",
       "    <tr>\n",
       "      <th>25%</th>\n",
       "      <td>233.00</td>\n",
       "      <td>46.00</td>\n",
       "      <td>2.00</td>\n",
       "    </tr>\n",
       "    <tr>\n",
       "      <th>50%</th>\n",
       "      <td>433.00</td>\n",
       "      <td>87.00</td>\n",
       "      <td>4.00</td>\n",
       "    </tr>\n",
       "    <tr>\n",
       "      <th>75%</th>\n",
       "      <td>683.00</td>\n",
       "      <td>138.00</td>\n",
       "      <td>7.00</td>\n",
       "    </tr>\n",
       "    <tr>\n",
       "      <th>max</th>\n",
       "      <td>5804.00</td>\n",
       "      <td>1201.00</td>\n",
       "      <td>75.00</td>\n",
       "    </tr>\n",
       "  </tbody>\n",
       "</table>\n",
       "</div>"
      ],
      "text/plain": [
       "       char_len  token_len  sent_len\n",
       "count  19393.00   19393.00  19393.00\n",
       "mean     493.76      99.52      4.99\n",
       "std      359.10      72.71      3.60\n",
       "min        0.00       0.00      0.00\n",
       "25%      233.00      46.00      2.00\n",
       "50%      433.00      87.00      4.00\n",
       "75%      683.00     138.00      7.00\n",
       "max     5804.00    1201.00     75.00"
      ]
     },
     "execution_count": 65,
     "metadata": {},
     "output_type": "execute_result"
    }
   ],
   "source": [
    "data.describe().round(2)"
   ]
  },
  {
   "cell_type": "markdown",
   "id": "55b0182b-a22c-4772-a131-4192604d0e1d",
   "metadata": {},
   "source": [
    "# Outlier detection\n",
    "\n",
    "[The svm.OneClassSVM is known to be sensitive to outliers and thus does not perform very well for outlier detection](https://scikit-learn.org/stable/modules/outlier_detection.html#outlier-detection)"
   ]
  },
  {
   "cell_type": "code",
   "execution_count": 22,
   "id": "2ab5f722-23fd-4880-b752-36fa8d209af3",
   "metadata": {},
   "outputs": [],
   "source": [
    "from sklearn.neighbors import LocalOutlierFactor\n",
    "from sklearn.ensemble import IsolationForest"
   ]
  },
  {
   "cell_type": "code",
   "execution_count": 52,
   "id": "8a388991-78ad-47dd-817f-9a3f4ffa0b64",
   "metadata": {},
   "outputs": [],
   "source": [
    "clf = LocalOutlierFactor(n_neighbors=20)\n",
    "preds = clf.fit_predict(stats)\n",
    "# clf.negative_outlier_factor_"
   ]
  },
  {
   "cell_type": "code",
   "execution_count": 53,
   "id": "28177adc-12a4-4083-89d2-df620d1d7133",
   "metadata": {},
   "outputs": [],
   "source": [
    "data[\"pred\"] = preds"
   ]
  }
 ],
 "metadata": {
  "kernelspec": {
   "display_name": "Python 3 (ipykernel)",
   "language": "python",
   "name": "python3"
  },
  "language_info": {
   "codemirror_mode": {
    "name": "ipython",
    "version": 3
   },
   "file_extension": ".py",
   "mimetype": "text/x-python",
   "name": "python",
   "nbconvert_exporter": "python",
   "pygments_lexer": "ipython3",
   "version": "3.10.5"
  }
 },
 "nbformat": 4,
 "nbformat_minor": 5
}
