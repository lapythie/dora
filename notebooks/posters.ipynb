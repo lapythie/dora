{
 "cells": [
  {
   "cell_type": "code",
   "execution_count": 10,
   "id": "ff7d1547-c0fb-48d2-98a2-9e554291454d",
   "metadata": {},
   "outputs": [],
   "source": [
    "from bs4 import BeautifulSoup\n",
    "from collections import Counter, defaultdict\n",
    "import json\n",
    "import requests\n",
    "import shutil\n",
    "from tqdm import tqdm\n",
    "\n",
    "headers = {\"User-Agent\": \"My User Agent\"}"
   ]
  },
  {
   "cell_type": "code",
   "execution_count": 8,
   "id": "4d60f65d-a9fe-4fda-b110-6571b8cd7740",
   "metadata": {},
   "outputs": [],
   "source": [
    "url = input()"
   ]
  },
  {
   "cell_type": "code",
   "execution_count": 18,
   "id": "1145c794-7a0f-4e95-815e-cfbf1242571e",
   "metadata": {},
   "outputs": [],
   "source": [
    "response = requests.get(url, stream=True, headers=headers)\n",
    "with open('example.jpg', 'wb') as out_file:\n",
    "    shutil.copyfileobj(response.raw, out_file)"
   ]
  },
  {
   "cell_type": "code",
   "execution_count": null,
   "id": "ed5d2844-bb20-46b2-becb-eda6a15307e6",
   "metadata": {},
   "outputs": [],
   "source": []
  },
  {
   "cell_type": "code",
   "execution_count": 3,
   "id": "7cbf7cbf-4661-4f72-a593-b73a53934362",
   "metadata": {},
   "outputs": [],
   "source": [
    "with open(\"data/titlepart2href.json\", encoding=\"utf-8\") as f:\n",
    "    titlepart2href = json.load(f)"
   ]
  },
  {
   "cell_type": "code",
   "execution_count": 4,
   "id": "8bfbd6f1-3151-41cb-867c-d42ba4cc2b93",
   "metadata": {},
   "outputs": [],
   "source": [
    "hrefs = Counter([href for v in titlepart2href.values() for href in v])"
   ]
  },
  {
   "cell_type": "code",
   "execution_count": 5,
   "id": "3cb5dae6-5439-4296-9a70-309ab9ae477f",
   "metadata": {},
   "outputs": [
    {
     "data": {
      "text/plain": [
       "[('/53101-missing', 2),\n",
       " ('/19510-romantic-doctor-teacher-kim', 2),\n",
       " ('/38301-romantic-doctor-teacher-kim-2', 2)]"
      ]
     },
     "execution_count": 5,
     "metadata": {},
     "output_type": "execute_result"
    }
   ],
   "source": [
    "hrefs.most_common(3)"
   ]
  },
  {
   "cell_type": "code",
   "execution_count": 6,
   "id": "e7c5f2fc-60aa-4cb4-a0da-1dd74e2b34e6",
   "metadata": {},
   "outputs": [
    {
     "data": {
      "text/plain": [
       "Counter({'/': 19461, 'h': 15})"
      ]
     },
     "execution_count": 6,
     "metadata": {},
     "output_type": "execute_result"
    }
   ],
   "source": [
    "Counter([href[0] for href in hrefs])"
   ]
  },
  {
   "cell_type": "code",
   "execution_count": 7,
   "id": "3cf31f4d-6403-478a-8d9b-413dd4d56fa1",
   "metadata": {},
   "outputs": [
    {
     "data": {
      "text/plain": [
       "15"
      ]
     },
     "execution_count": 7,
     "metadata": {},
     "output_type": "execute_result"
    }
   ],
   "source": [
    "optional_prefix = \"https://mydramalist.com\"\n",
    "len([href for href in hrefs if href.startswith(optional_prefix)])"
   ]
  },
  {
   "cell_type": "code",
   "execution_count": 8,
   "id": "5de58770-179f-4bd1-a73f-94483558bc9a",
   "metadata": {},
   "outputs": [
    {
     "name": "stderr",
     "output_type": "stream",
     "text": [
      "100%|████████████████████████████████████████████████████████████████████████████| 19476/19476 [13:32<00:00, 23.96it/s]\n"
     ]
    }
   ],
   "source": [
    "# href2dramapage = {}\n",
    "with open(\"data/href2dramapage.json\", encoding=\"utf-8\") as f:\n",
    "    href2dramapage = json.load(f)\n",
    "\n",
    "for href in tqdm(hrefs):\n",
    "    if href.startswith(optional_prefix):\n",
    "        href = href[len(optional_prefix):]\n",
    "        \n",
    "    if href not in href2dramapage:\n",
    "        \n",
    "        page = requests.get(f\"https://mydramalist.com{href}\", headers=headers)\n",
    "        href2dramapage[href] = page.text"
   ]
  },
  {
   "cell_type": "code",
   "execution_count": 9,
   "id": "60f27d0b-5e92-4666-9e50-4d6fed75cb31",
   "metadata": {},
   "outputs": [
    {
     "data": {
      "text/plain": [
       "19462"
      ]
     },
     "execution_count": 9,
     "metadata": {},
     "output_type": "execute_result"
    }
   ],
   "source": [
    "len(href2dramapage)"
   ]
  },
  {
   "cell_type": "code",
   "execution_count": 10,
   "id": "997e9767-3746-4fdc-b5fe-88172b540672",
   "metadata": {},
   "outputs": [
    {
     "name": "stdout",
     "output_type": "stream",
     "text": [
      "CPU times: total: 30.1 s\n",
      "Wall time: 31 s\n"
     ]
    }
   ],
   "source": [
    "# %%time\n",
    "# with open(\"data/href2dramapage.json\", \"w\", encoding=\"utf-8\") as fw:\n",
    "#     json.dump(href2dramapage, fw, ensure_ascii=False)"
   ]
  },
  {
   "cell_type": "code",
   "execution_count": 24,
   "id": "f9e45821-a4d3-4f92-906f-e2cd2a2795b6",
   "metadata": {},
   "outputs": [
    {
     "name": "stderr",
     "output_type": "stream",
     "text": [
      "100%|████████████████████████████████████████████████████████████████████████████| 19462/19462 [28:14<00:00, 11.49it/s]\n"
     ]
    }
   ],
   "source": [
    "# href2postersrc = {}\n",
    "\n",
    "for href, page in tqdm(href2dramapage.items()):\n",
    "    \n",
    "    if href not in href2postersrc:\n",
    "        \n",
    "        soup = BeautifulSoup(page)\n",
    "        \n",
    "        img = soup.find(\"div\", {\"class\": \"col-sm-4 film-cover cover\"})\n",
    "        if img:\n",
    "\n",
    "            img = img.find_all(\"img\", {\"class\": \"img-responsive\"})\n",
    "            assert len(img) == 1\n",
    "\n",
    "            href2postersrc[href] = img[0][\"src\"]"
   ]
  },
  {
   "cell_type": "code",
   "execution_count": 23,
   "id": "7c5cd2bc-0a50-408d-95af-b10eedd7b92d",
   "metadata": {},
   "outputs": [
    {
     "data": {
      "text/plain": [
       "'/697659-big-mouth'"
      ]
     },
     "execution_count": 23,
     "metadata": {},
     "output_type": "execute_result"
    }
   ],
   "source": [
    "href"
   ]
  },
  {
   "cell_type": "code",
   "execution_count": 25,
   "id": "32579ba8-1529-4a83-ad58-0c75b6e4dc8b",
   "metadata": {},
   "outputs": [
    {
     "data": {
      "text/plain": [
       "(19393, 19462)"
      ]
     },
     "execution_count": 25,
     "metadata": {},
     "output_type": "execute_result"
    }
   ],
   "source": [
    "len(href2postersrc), len(href2dramapage)"
   ]
  },
  {
   "cell_type": "code",
   "execution_count": 49,
   "id": "6ed942db-8e65-475c-97ee-e1d5fea6182e",
   "metadata": {},
   "outputs": [
    {
     "name": "stderr",
     "output_type": "stream",
     "text": [
      "100%|██████████████████████████████████████████████████████████████████████████| 18393/18393 [3:48:24<00:00,  1.34it/s]\n"
     ]
    }
   ],
   "source": [
    "postersrc_prefix = \"https://i.mydramalist.com/\"\n",
    "postersrc_suffix = \"?v=1\"\n",
    "\n",
    "href_prefix = \"/\"\n",
    "\n",
    "for href, postersrc in tqdm(list(href2postersrc.items())[1000:]):\n",
    "    \n",
    "    assert href.startswith(href_prefix)\n",
    "    assert postersrc.startswith(postersrc_prefix) and postersrc.endswith(postersrc_suffix)\n",
    "    \n",
    "    filename = postersrc[len(postersrc_prefix):-len(postersrc_suffix)]\n",
    "    filepath = f\"data/posters/{href[len(href_prefix):]}_{filename}\"\n",
    "    \n",
    "    response = requests.get(postersrc, stream=True)\n",
    "    \n",
    "    with open(filepath, 'wb') as f:\n",
    "        f.write(response.content)"
   ]
  },
  {
   "cell_type": "code",
   "execution_count": null,
   "id": "2d4e80eb-af88-419e-ae32-3a67f5737d78",
   "metadata": {},
   "outputs": [
    {
     "data": {
      "text/plain": [
       "'https://i.mydramalist.com/BkrBq_4c.jpg?v=1'"
      ]
     },
     "execution_count": 39,
     "metadata": {},
     "output_type": "execute_result"
    }
   ],
   "source": [
    "postersrc"
   ]
  },
  {
   "cell_type": "code",
   "execution_count": 12,
   "id": "797ffb4d-39e7-448d-91df-20d43c95c19d",
   "metadata": {},
   "outputs": [],
   "source": []
  },
  {
   "cell_type": "code",
   "execution_count": 11,
   "id": "8c329129-7849-4503-b456-a91110971180",
   "metadata": {},
   "outputs": [
    {
     "name": "stderr",
     "output_type": "stream",
     "text": [
      "100%|██████████████████████████████████████████████████████████████████████████| 19394/19394 [00:05<00:00, 3289.93it/s]\n"
     ]
    }
   ],
   "source": [
    "import os\n",
    "posterpath2filesize = {}\n",
    "\n",
    "root = \"data/posters\"\n",
    "\n",
    "for filename in tqdm(os.listdir(root)):\n",
    "    posterpath = os.path.join(root, filename)\n",
    "    file_stats = os.stat(posterpath)\n",
    "    \n",
    "    if file_stats.st_size:\n",
    "        posterpath2filesize[posterpath] = file_stats.st_size"
   ]
  },
  {
   "cell_type": "code",
   "execution_count": null,
   "id": "9319f96f-af88-4591-866a-c82ea581e94f",
   "metadata": {},
   "outputs": [],
   "source": []
  }
 ],
 "metadata": {
  "kernelspec": {
   "display_name": "Python 3 (ipykernel)",
   "language": "python",
   "name": "python3"
  },
  "language_info": {
   "codemirror_mode": {
    "name": "ipython",
    "version": 3
   },
   "file_extension": ".py",
   "mimetype": "text/x-python",
   "name": "python",
   "nbconvert_exporter": "python",
   "pygments_lexer": "ipython3",
   "version": "3.10.5"
  }
 },
 "nbformat": 4,
 "nbformat_minor": 5
}
