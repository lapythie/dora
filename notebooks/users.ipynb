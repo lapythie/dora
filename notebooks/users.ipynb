{
 "cells": [
  {
   "cell_type": "code",
   "execution_count": 1,
   "id": "78e791d3-7cbd-4c31-bd13-b1b8f7e0002f",
   "metadata": {},
   "outputs": [],
   "source": [
    "import json\n",
    "import requests\n",
    "from tqdm import tqdm\n",
    "from bs4 import BeautifulSoup\n",
    "from collections import Counter, defaultdict\n",
    "import seaborn as sns\n",
    "\n",
    "headers = {\"User-Agent\": \"My User Agent\"}"
   ]
  },
  {
   "cell_type": "code",
   "execution_count": null,
   "id": "4946ad06-084a-4afa-a269-4a9b86641147",
   "metadata": {},
   "outputs": [],
   "source": [
    "start_username = input()"
   ]
  },
  {
   "cell_type": "code",
   "execution_count": 7,
   "id": "33233c68-4158-43d8-88af-6e0139d6b9f2",
   "metadata": {},
   "outputs": [],
   "source": [
    "profile = f\"/profile/{start_username}\"\n",
    "\n",
    "page = requests.get(f\"https://mydramalist.com{profile}\", headers=headers)\n",
    "soup = BeautifulSoup(page.text)\n",
    "profile2friends = {f'/profile/{start_username}': ['/profile/pinkmoonlight']}\n",
    "profile2page = {}"
   ]
  },
  {
   "cell_type": "code",
   "execution_count": 42,
   "id": "7f38dd86-e81a-4f85-b05c-3ac79e7797ce",
   "metadata": {
    "tags": []
   },
   "outputs": [
    {
     "name": "stderr",
     "output_type": "stream",
     "text": [
      "100%|████████████████████████████████████████████████████████████████████████████████████| 2/2 [00:01<00:00,  1.69it/s]\n"
     ]
    }
   ],
   "source": [
    "for profile in tqdm(\n",
    "    set(\n",
    "        [profile for profiles in profile2friends.values() for profile in profiles]\n",
    "    ) - set(profile2friends.keys())\n",
    "):\n",
    "\n",
    "    if profile not in profile2page:\n",
    "        page = requests.get(f\"https://mydramalist.com{profile}\", headers=headers)\n",
    "        soup = BeautifulSoup(page.text)\n",
    "        profile2friends[profile] = [x[\"href\"] for x in soup.find_all(\"a\", {\"class\": \"w-38 avatar\"}, href=True)]\n",
    "        profile2page[profile] = page.text"
   ]
  },
  {
   "cell_type": "code",
   "execution_count": 53,
   "id": "6dbdd471-5c1c-4ec7-8fd3-4a24b20cbcc6",
   "metadata": {},
   "outputs": [
    {
     "data": {
      "text/plain": [
       "52983"
      ]
     },
     "execution_count": 53,
     "metadata": {},
     "output_type": "execute_result"
    }
   ],
   "source": [
    "len(profile2friends)"
   ]
  },
  {
   "cell_type": "code",
   "execution_count": 44,
   "id": "0c39533f-d01f-4ded-ab8c-99ce5f68bc92",
   "metadata": {},
   "outputs": [
    {
     "data": {
      "text/plain": [
       "0"
      ]
     },
     "execution_count": 44,
     "metadata": {},
     "output_type": "execute_result"
    }
   ],
   "source": [
    "len(\n",
    "    set([profile for profiles in profile2friends.values() for profile in profiles]\n",
    "       ) - set(profile2friends.keys())\n",
    ")"
   ]
  },
  {
   "cell_type": "code",
   "execution_count": 45,
   "id": "1d1c85ad-b22c-47a8-8848-7adfe8d7a933",
   "metadata": {},
   "outputs": [
    {
     "name": "stdout",
     "output_type": "stream",
     "text": [
      "CPU times: total: 25 s\n",
      "Wall time: 25.7 s\n"
     ]
    }
   ],
   "source": [
    "%%time\n",
    "with open(\"data/profile2page.json\", \"w\", encoding=\"utf-8\") as fw:\n",
    "    json.dump(profile2page, fw, ensure_ascii=False)"
   ]
  },
  {
   "cell_type": "code",
   "execution_count": 54,
   "id": "827af8ef-f6ac-434d-a977-ceb66aa03d4d",
   "metadata": {},
   "outputs": [],
   "source": [
    "with open(\"data/profile2friends.json\", \"w\", encoding=\"utf-8\") as fw:\n",
    "    json.dump(profile2friends, fw, ensure_ascii=False)"
   ]
  },
  {
   "cell_type": "code",
   "execution_count": 64,
   "id": "980fe634-0d28-4835-8fd7-c6a1fdf0b89a",
   "metadata": {},
   "outputs": [
    {
     "name": "stderr",
     "output_type": "stream",
     "text": [
      "100%|█████████████████████████████████████████████████████████████████████████| 52983/52983 [10:07:21<00:00,  1.45it/s]\n"
     ]
    }
   ],
   "source": [
    "# dramalist2page = {}\n",
    "\n",
    "for profile in tqdm(profile2friends):\n",
    "    \n",
    "    dramalist = f\"/dramalist/{profile.split('/')[-1]}\"\n",
    "    \n",
    "    if dramalist not in dramalist2page:\n",
    "        \n",
    "        page = requests.get(f\"https://mydramalist.com{dramalist}\", headers=headers)\n",
    "        dramalist2page[dramalist] = page.text"
   ]
  },
  {
   "cell_type": "code",
   "execution_count": 91,
   "id": "492571d9-1346-43d2-b424-c88b718cf766",
   "metadata": {},
   "outputs": [],
   "source": [
    "with open(\"data/dramalist2page.json\", \"w\", encoding=\"utf-8\") as fw:\n",
    "    json.dump({k:v for i, (k,v) in enumerate(dramalist2page.items()) \n",
    "               # if 50_000 <= i # < 50_000\n",
    "              }, fw, ensure_ascii=False)"
   ]
  },
  {
   "cell_type": "code",
   "execution_count": 82,
   "id": "6888a842-d394-45ed-9ed8-7f6d676eeeaf",
   "metadata": {},
   "outputs": [],
   "source": [
    "# !pip3 install lxml"
   ]
  },
  {
   "cell_type": "code",
   "execution_count": 96,
   "id": "23422599-d078-4057-a40d-f7be480e917e",
   "metadata": {},
   "outputs": [
    {
     "data": {
      "text/plain": [
       "['Currently Watching', 'Completed', 'Plan to Watch', 'On-hold', 'Dropped']"
      ]
     },
     "execution_count": 96,
     "metadata": {},
     "output_type": "execute_result"
    }
   ],
   "source": [
    "[x.get_text() for x in soup.find_all(\"h3\", {\"class\": \"mdl-style-list-label\"})]"
   ]
  },
  {
   "cell_type": "code",
   "execution_count": 99,
   "id": "cd90789b-14be-4a81-ba14-c92b8e963852",
   "metadata": {},
   "outputs": [
    {
     "name": "stderr",
     "output_type": "stream",
     "text": [
      "100%|██████████████████████████████████████████████████████████████████████████| 52983/52983 [4:52:10<00:00,  3.02it/s]\n"
     ]
    }
   ],
   "source": [
    "username2tablenames = {}\n",
    "\n",
    "etalon_tablenames = ['Currently Watching', 'Completed', 'Plan to Watch', 'On-hold', 'Dropped']\n",
    "\n",
    "for i, (dramalist, page_text) in tqdm(enumerate(dramalist2page.items()), total=len(dramalist2page)):\n",
    "    username = dramalist.split(\"/\")[-1]\n",
    "    if username not in username2tablenames:\n",
    "        soup = BeautifulSoup(page_text)\n",
    "        tablenames = [x.get_text() for x in soup.find_all(\"h3\", {\"class\": \"mdl-style-list-label\"})]\n",
    "        if tablenames != etalon_tablenames:\n",
    "            \n",
    "            username2tablenames[username] = tablenames"
   ]
  },
  {
   "cell_type": "code",
   "execution_count": 100,
   "id": "02e7a699-9d81-444b-b10a-c081ae675f82",
   "metadata": {},
   "outputs": [
    {
     "data": {
      "text/plain": [
       "28363"
      ]
     },
     "execution_count": 100,
     "metadata": {},
     "output_type": "execute_result"
    }
   ],
   "source": [
    "len(username2tablenames)"
   ]
  },
  {
   "cell_type": "code",
   "execution_count": 101,
   "id": "09a46d54-7c0f-4bd8-aa44-bb58ac7e4567",
   "metadata": {},
   "outputs": [],
   "source": [
    "with open(\"data/username2tablenames.json\", \"w\", encoding=\"utf-8\") as fw:\n",
    "    json.dump(username2tablenames, fw, ensure_ascii=False)"
   ]
  },
  {
   "cell_type": "code",
   "execution_count": 12,
   "id": "d45d65bd-76b4-4425-a016-894ff6c54676",
   "metadata": {},
   "outputs": [
    {
     "name": "stderr",
     "output_type": "stream",
     "text": [
      "100%|██████████████████████████████████████████████████████████████████████████| 52983/52983 [7:52:20<00:00,  1.87it/s]\n"
     ]
    }
   ],
   "source": [
    "title2hrefs = defaultdict(Counter)\n",
    "\n",
    "for i, profile in tqdm(enumerate(profile2friends.keys()), total=len(profile2friends)):\n",
    "    \n",
    "    if i >= 11775:\n",
    "    \n",
    "        username = profile.split('/')[-1]\n",
    "        dramalist = f\"/dramalist/{username}\"\n",
    "\n",
    "        page = requests.get(f\"https://mydramalist.com{dramalist}\", headers=headers)\n",
    "        soup = BeautifulSoup(page.text)\n",
    "\n",
    "        for x in soup.find_all(\"a\", {\"class\": \"title text-primary _600\"}, href=True):\n",
    "            title2hrefs[\n",
    "                x.get_text()\n",
    "            ].update([\n",
    "                x[\"href\"]\n",
    "            ])"
   ]
  },
  {
   "cell_type": "code",
   "execution_count": 23,
   "id": "38eae178-cde2-4d50-a526-a40e5c464099",
   "metadata": {},
   "outputs": [],
   "source": [
    "with open(\"data/title2hrefs.json\", \"w\", encoding=\"utf-8\") as fw:\n",
    "    json.dump(title2hrefs, fw, ensure_ascii=False)"
   ]
  },
  {
   "cell_type": "code",
   "execution_count": 22,
   "id": "bffa2047-7113-4bfc-a417-074312b64f42",
   "metadata": {},
   "outputs": [
    {
     "data": {
      "text/plain": [
       "[Counter({'/2380-the-promise': 394,\n",
       "          '/27732-pangako-sa-yo': 143,\n",
       "          '/16287-the-promise': 953,\n",
       "          '/28307-the-promise': 19,\n",
       "          '/27525-the-promise': 182,\n",
       "          '/743733-the-promise': 36,\n",
       "          '/52377-the-promise': 5,\n",
       "          '/693511-i-can-see-you-the-promise': 3}),\n",
       " Counter({'/19810-one-day': 367,\n",
       "          '/18926-one-day': 1072,\n",
       "          '/1850-one-day': 450,\n",
       "          '/735335-one-day': 9,\n",
       "          '/722665-one-day': 6,\n",
       "          '/44087-one-day': 2,\n",
       "          '/23497-one-day': 5,\n",
       "          '/49277-one-day': 1})]"
      ]
     },
     "execution_count": 22,
     "metadata": {},
     "output_type": "execute_result"
    }
   ],
   "source": [
    "[v for k, v in title2hrefs.items() if len(v) == 8]"
   ]
  },
  {
   "cell_type": "markdown",
   "id": "40631a53-7912-41c2-ba7d-03cbab6a49cb",
   "metadata": {},
   "source": [
    "# Recently Watched By"
   ]
  },
  {
   "cell_type": "code",
   "execution_count": 2,
   "id": "3a5826d9-3cd9-4e45-b95d-9d571a256534",
   "metadata": {},
   "outputs": [],
   "source": [
    "with open(\"data/num2dramapage.json\", encoding=\"utf-8\") as f:\n",
    "    num2dramapage = json.load(f)"
   ]
  },
  {
   "cell_type": "code",
   "execution_count": 20,
   "id": "3f94729a-e528-4a56-bbae-637b97245f2b",
   "metadata": {},
   "outputs": [
    {
     "name": "stderr",
     "output_type": "stream",
     "text": [
      "100%|████████████████████████████████████████████████████████████████████████████| 12079/12079 [18:31<00:00, 10.87it/s]\n"
     ]
    }
   ],
   "source": [
    "# num2rwbprofiles = {}\n",
    "\n",
    "# for num, dramapage in tqdm(num2dramapage.items()):\n",
    "#     soup = BeautifulSoup(dramapage)\n",
    "#     res = soup.find_all(\"span\", {\"class\": \"w-38 avatar in-link\"})\n",
    "#     num2rwbprofiles[num] = [r[\"data-href\"] for r in res]"
   ]
  },
  {
   "cell_type": "code",
   "execution_count": 6,
   "id": "b33ee962-97cb-4dbd-a956-067ff3ee08c6",
   "metadata": {},
   "outputs": [],
   "source": [
    "with open(\"data/profile2friends.json\", encoding=\"utf-8\") as f:\n",
    "    profile2friends = json.load(f)"
   ]
  },
  {
   "cell_type": "code",
   "execution_count": 24,
   "id": "14f5bd97-545a-4919-8917-37b6b53a37af",
   "metadata": {},
   "outputs": [
    {
     "data": {
      "text/plain": [
       "29496"
      ]
     },
     "execution_count": 24,
     "metadata": {},
     "output_type": "execute_result"
    }
   ],
   "source": [
    "len(set([profile for v in num2rwbprofiles.values() for profile in v]))"
   ]
  },
  {
   "cell_type": "code",
   "execution_count": 23,
   "id": "d5a0b8c6-7e0b-42a1-9ada-beb1730ea2bf",
   "metadata": {},
   "outputs": [
    {
     "data": {
      "text/plain": [
       "52983"
      ]
     },
     "execution_count": 23,
     "metadata": {},
     "output_type": "execute_result"
    }
   ],
   "source": [
    "len(profile2friends)"
   ]
  },
  {
   "cell_type": "code",
   "execution_count": 25,
   "id": "903a49e5-02a2-4e18-b0e2-8cb3b8cae799",
   "metadata": {},
   "outputs": [
    {
     "data": {
      "text/plain": [
       "8809"
      ]
     },
     "execution_count": 25,
     "metadata": {},
     "output_type": "execute_result"
    }
   ],
   "source": [
    "len(\n",
    "    set(profile2friends.keys()) \n",
    "    & set([profile for v in num2rwbprofiles.values() for profile in v])\n",
    ")"
   ]
  },
  {
   "cell_type": "code",
   "execution_count": 26,
   "id": "34c62c57-b397-401e-bfc9-99b9c4071dbe",
   "metadata": {},
   "outputs": [
    {
     "data": {
      "text/plain": [
       "20687"
      ]
     },
     "execution_count": 26,
     "metadata": {},
     "output_type": "execute_result"
    }
   ],
   "source": [
    "len(\n",
    "    set([profile for v in num2rwbprofiles.values() for profile in v])\n",
    "    - set(profile2friends.keys())\n",
    ")\n",
    "# unfriendly profiles"
   ]
  },
  {
   "cell_type": "code",
   "execution_count": 2,
   "id": "b98b27e3-ad2d-4816-969b-fd7301667608",
   "metadata": {},
   "outputs": [],
   "source": [
    "# %%time\n",
    "# with open(\"data/rwbprofiles_from_numdramapages.json\", \"w\", encoding=\"utf-8\") as fw:\n",
    "#     json.dump(\n",
    "#         sorted(set([profile for v in num2rwbprofiles.values() for profile in v]))\n",
    "#         , fw, ensure_ascii=False)"
   ]
  },
  {
   "cell_type": "code",
   "execution_count": 7,
   "id": "7ca6a6e7-cc05-4274-9878-64c6c3d422af",
   "metadata": {},
   "outputs": [],
   "source": [
    "with open(\"data/rwbprofiles_from_numdramapages.json\", encoding=\"utf-8\") as f:\n",
    "    rwbprofiles_from_numdramapages = json.load(f)"
   ]
  },
  {
   "cell_type": "code",
   "execution_count": null,
   "id": "6af92234-d409-47e3-b3c7-3498f5621ef6",
   "metadata": {},
   "outputs": [],
   "source": []
  },
  {
   "cell_type": "code",
   "execution_count": null,
   "id": "36cb3492-eba2-4e19-b727-b48f0fdee3e4",
   "metadata": {},
   "outputs": [],
   "source": []
  },
  {
   "cell_type": "code",
   "execution_count": 3,
   "id": "70187e41-dfbb-4d8d-9142-61ec5ac3aeda",
   "metadata": {},
   "outputs": [],
   "source": [
    "with open(\"data/href2dramapage.json\", encoding=\"utf-8\") as f:\n",
    "    href2dramapage = json.load(f)"
   ]
  },
  {
   "cell_type": "code",
   "execution_count": 4,
   "id": "e5f1ce54-5cf8-4001-80de-2b7e951777d9",
   "metadata": {},
   "outputs": [
    {
     "name": "stderr",
     "output_type": "stream",
     "text": [
      "100%|████████████████████████████████████████████████████████████████████████████| 19462/19462 [34:26<00:00,  9.42it/s]\n"
     ]
    }
   ],
   "source": [
    "href2rwbprofiles = {}\n",
    "\n",
    "for href, dramapage in tqdm(href2dramapage.items()):\n",
    "    soup = BeautifulSoup(dramapage)\n",
    "    res = soup.find_all(\"span\", {\"class\": \"w-38 avatar in-link\"})\n",
    "    href2rwbprofiles[href] = [r[\"data-href\"] for r in res]"
   ]
  },
  {
   "cell_type": "code",
   "execution_count": 8,
   "id": "6a0b429a-0d82-4f61-92e3-f91eccb93e2e",
   "metadata": {},
   "outputs": [
    {
     "data": {
      "text/plain": [
       "453742"
      ]
     },
     "execution_count": 8,
     "metadata": {},
     "output_type": "execute_result"
    }
   ],
   "source": [
    "len([profile for v in href2rwbprofiles.values() for profile in v])"
   ]
  },
  {
   "cell_type": "code",
   "execution_count": 9,
   "id": "f43e5d46-1708-425d-a2b0-5c854419b0af",
   "metadata": {},
   "outputs": [
    {
     "data": {
      "text/plain": [
       "75483"
      ]
     },
     "execution_count": 9,
     "metadata": {},
     "output_type": "execute_result"
    }
   ],
   "source": [
    "len(set([profile for v in href2rwbprofiles.values() for profile in v]))"
   ]
  },
  {
   "cell_type": "code",
   "execution_count": 11,
   "id": "e2db3dee-b9a6-4c40-bce4-6eb1a687e4a6",
   "metadata": {},
   "outputs": [
    {
     "data": {
      "text/plain": [
       "44813"
      ]
     },
     "execution_count": 11,
     "metadata": {},
     "output_type": "execute_result"
    }
   ],
   "source": [
    "len(\n",
    "    set([profile for v in href2rwbprofiles.values() for profile in v]) - \n",
    "    (set(profile2friends.keys()) | set(rwbprofiles_from_numdramapages))\n",
    ")"
   ]
  },
  {
   "cell_type": "code",
   "execution_count": 12,
   "id": "f550efbc-9f81-406e-b366-ff1b1711259a",
   "metadata": {},
   "outputs": [],
   "source": [
    "with open(\"data/rwbprofiles_from_dramapages.json\", \"w\", encoding=\"utf-8\") as fw:\n",
    "    json.dump(\n",
    "        sorted(set([profile for v in href2rwbprofiles.values() for profile in v]))\n",
    "        , fw, ensure_ascii=False)"
   ]
  },
  {
   "cell_type": "code",
   "execution_count": 13,
   "id": "106242ed-cabc-4000-a54c-d7c51f9555cd",
   "metadata": {},
   "outputs": [
    {
     "data": {
      "text/plain": [
       "118483"
      ]
     },
     "execution_count": 13,
     "metadata": {},
     "output_type": "execute_result"
    }
   ],
   "source": [
    "len(\n",
    "    set([profile for v in href2rwbprofiles.values() for profile in v]) \n",
    "    | set(profile2friends.keys())\n",
    "    | set(rwbprofiles_from_numdramapages)\n",
    ")"
   ]
  },
  {
   "cell_type": "code",
   "execution_count": 20,
   "id": "94848997-143f-41b1-b005-7303e50e1d76",
   "metadata": {},
   "outputs": [
    {
     "name": "stderr",
     "output_type": "stream",
     "text": [
      "/profile/9122993 has friends: 100%|████████████████████████████████████████████| 65500/65500 [9:21:13<00:00,  1.95it/s]\n"
     ]
    }
   ],
   "source": [
    "# unfriendly2friends = {}\n",
    "\n",
    "progress_bar = tqdm(\n",
    "    (\n",
    "        set(rwbprofiles_from_numdramapages) \n",
    "        | set([profile for v in href2rwbprofiles.values() for profile in v])\n",
    "    ) - set(profile2friends.keys())\n",
    "\n",
    ")\n",
    "    \n",
    "for profile in progress_bar:\n",
    "\n",
    "    if profile not in unfriendly2friends:\n",
    "        page = requests.get(f\"https://mydramalist.com{profile}\", headers=headers)\n",
    "        soup = BeautifulSoup(page.text)\n",
    "        friends = [x[\"href\"] for x in soup.find_all(\"a\", {\"class\": \"w-38 avatar\"}, href=True)]\n",
    "        if friends:\n",
    "            unfriendly2friends[profile] = friends\n",
    "            progress_bar.set_description(f\"{profile} has friends\")"
   ]
  },
  {
   "cell_type": "code",
   "execution_count": 21,
   "id": "79c17ef6-27e9-4694-86f2-fb0003aa7417",
   "metadata": {},
   "outputs": [],
   "source": [
    "# with open(\"data/unfriendly2friends.json\", \"w\", encoding=\"utf-8\") as fw:\n",
    "#     json.dump(\n",
    "#         unfriendly2friends\n",
    "#         , fw, ensure_ascii=False)"
   ]
  },
  {
   "cell_type": "code",
   "execution_count": 2,
   "id": "57e55058-cfb3-44b5-ad6f-f8c91e60c4e7",
   "metadata": {},
   "outputs": [],
   "source": [
    "with open(\"data/unfriendly2friends.json\", encoding=\"utf-8\") as f:\n",
    "    unfriendly2friends = json.load(f)"
   ]
  },
  {
   "cell_type": "code",
   "execution_count": 4,
   "id": "f2700e7d-8825-4feb-b1c4-ab0a5bde0928",
   "metadata": {},
   "outputs": [
    {
     "data": {
      "image/png": "[encoded data removed]",
      "text/plain": [
       "<Figure size 640x480 with 1 Axes>"
      ]
     },
     "metadata": {},
     "output_type": "display_data"
    }
   ],
   "source": [
    "sns.histplot(\n",
    "    list(map(len, unfriendly2friends.values()))\n",
    ", binrange=(1, 5));"
   ]
  },
  {
   "cell_type": "code",
   "execution_count": null,
   "id": "d4eab164-c553-4574-be0d-3ec78265291e",
   "metadata": {},
   "outputs": [],
   "source": []
  }
 ],
 "metadata": {
  "kernelspec": {
   "display_name": "Python 3 (ipykernel)",
   "language": "python",
   "name": "python3"
  },
  "language_info": {
   "codemirror_mode": {
    "name": "ipython",
    "version": 3
   },
   "file_extension": ".py",
   "mimetype": "text/x-python",
   "name": "python",
   "nbconvert_exporter": "python",
   "pygments_lexer": "ipython3",
   "version": "3.10.5"
  }
 },
 "nbformat": 4,
 "nbformat_minor": 5
}
