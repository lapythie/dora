{
 "cells": [
  {
   "cell_type": "code",
   "execution_count": 1,
   "id": "78ff8982-ac6e-4976-9655-42c2b3c55118",
   "metadata": {},
   "outputs": [],
   "source": [
    "import json\n",
    "import numpy as np\n",
    "import pandas as pd\n",
    "from collections import Counter\n",
    "\n",
    "from nltk import word_tokenize, sent_tokenize\n",
    "\n",
    "from tqdm.auto import tqdm\n",
    "tqdm.pandas()\n",
    "\n",
    "pd.set_option('display.max_colwidth', 200)"
   ]
  },
  {
   "cell_type": "code",
   "execution_count": 2,
   "id": "161b4803-4e64-40ac-b3e5-5cca5b8922df",
   "metadata": {},
   "outputs": [],
   "source": [
    "with open(\"../data/href2synopsis.json\", encoding=\"utf-8\") as f:\n",
    "    href2synopsis = json.load(f)"
   ]
  },
  {
   "cell_type": "markdown",
   "id": "d74f6694-1997-4e2a-aa8d-845e73c0150f",
   "metadata": {},
   "source": [
    "    Takeaways:\n",
    "        - replace \\n or \\r sequences with single \\n\n",
    "        - use language-specific tokenizer\n",
    "        - when using max_count_token_ratio make sure do delete stopwords\n",
    "            (unless you specifically wish to locate examples with too much stopwords)\n",
    "        - "
   ]
  },
  {
   "cell_type": "markdown",
   "id": "8a2190a7-a0b1-46ea-b8cb-9e995fd1ff91",
   "metadata": {},
   "source": [
    "# BOW stats\n",
    "    # TODO: add actual bow stats"
   ]
  },
  {
   "cell_type": "code",
   "execution_count": 13,
   "id": "05b12d69-ed5e-456b-a366-7de2226a5796",
   "metadata": {},
   "outputs": [],
   "source": [
    "data = pd.DataFrame()\n",
    "\n",
    "data[\"href\"] = href2synopsis.keys()\n",
    "data[\"synopsis\"] = href2synopsis.values()"
   ]
  },
  {
   "cell_type": "code",
   "execution_count": 14,
   "id": "2e34ca49-9d27-46ce-9db5-f449166f6ab2",
   "metadata": {},
   "outputs": [],
   "source": [
    "data = data[data[\"synopsis\"] != \"\"]"
   ]
  },
  {
   "cell_type": "code",
   "execution_count": 15,
   "id": "7544f9ee-3e14-4128-88b3-21a43824cf37",
   "metadata": {},
   "outputs": [],
   "source": [
    "import regex as re\n",
    "\n",
    "data[\"synopsis\"] = data[\"synopsis\"].apply(\n",
    "    lambda x: re.sub(\"\\s*\\n\\s*\", \"\\n\", x).strip()\n",
    ")"
   ]
  },
  {
   "cell_type": "code",
   "execution_count": 75,
   "id": "5f3ee1de-090f-46d6-a82a-334e48342382",
   "metadata": {},
   "outputs": [],
   "source": [
    "# data[\"min_ord\"] = data[\"synopsis\"].progress_apply(\n",
    "#     lambda s: min([ord(char) for char in s])\n",
    "# )\n",
    "\n",
    "# data[\"max_ord\"] = data[\"synopsis\"].progress_apply(\n",
    "#     lambda s: max([ord(char) for char in s])\n",
    "# )\n",
    "\n",
    "# data[\"mean_ord\"] = data[\"synopsis\"].progress_apply(\n",
    "#     lambda s: np.mean([ord(char) for char in s])\n",
    "# )\n",
    "\n",
    "# data[\"median_ord\"] = data[\"synopsis\"].progress_apply(\n",
    "#     lambda s: np.median([ord(char) for char in s])\n",
    "# )\n",
    "\n",
    "# data[\"mode_ord\"] = data[\"synopsis\"].progress_apply(\n",
    "#     lambda s: Counter([ord(char) for char in s]).most_common()[0][0]\n",
    "# )"
   ]
  },
  {
   "cell_type": "code",
   "execution_count": 16,
   "id": "1f507345-ba1b-4d57-9a15-dc8c29e1c811",
   "metadata": {},
   "outputs": [
    {
     "data": {
      "application/json": {
       "ascii": false,
       "bar_format": null,
       "colour": null,
       "elapsed": 0.02461099624633789,
       "initial": 0,
       "n": 0,
       "ncols": null,
       "nrows": 31,
       "postfix": null,
       "prefix": "",
       "rate": null,
       "total": 18374,
       "unit": "it",
       "unit_divisor": 1000,
       "unit_scale": false
      },
      "application/vnd.jupyter.widget-view+json": {
       "model_id": "f2fadb7cf3554cfe83c633c72ffd8196",
       "version_major": 2,
       "version_minor": 0
      },
      "text/plain": [
       "  0%|          | 0/18374 [00:00<?, ?it/s]"
      ]
     },
     "metadata": {},
     "output_type": "display_data"
    }
   ],
   "source": [
    "# data[\"mode_count\"] = data[\"synopsis\"].progress_apply(\n",
    "#     lambda s: Counter(s).most_common()[0][1]\n",
    "# )\n",
    "\n",
    "# data[\"mode_ratio\"] = data[\"synopsis\"].progress_apply(\n",
    "#     lambda s: Counter(s).most_common()[0][1]/len(s)\n",
    "# )\n",
    "\n",
    "# data[\"mean_char_count\"] = data[\"synopsis\"].progress_apply(\n",
    "#     lambda s: np.mean(list(Counter(s).values()))\n",
    "# )\n",
    "\n",
    "# data[\"mean_token_count\"] = data[\"synopsis\"].progress_apply(\n",
    "#     lambda s: np.mean(list(Counter([w.lower() for w in word_tokenize(s)]).values()))\n",
    "# )\n",
    "\n",
    "data[\"max_count_token_ratio\"] = data[\"synopsis\"].progress_apply(\n",
    "    lambda s: Counter([w.lower() for w in word_tokenize(s)]).most_common()[0][1]/len(word_tokenize(s))\n",
    ")"
   ]
  },
  {
   "cell_type": "code",
   "execution_count": null,
   "id": "6c21c0a4-725f-4734-be12-f661afe1f278",
   "metadata": {},
   "outputs": [],
   "source": []
  },
  {
   "cell_type": "code",
   "execution_count": 12,
   "id": "2b001110-3de6-47f6-819b-0fa70adfedb1",
   "metadata": {},
   "outputs": [
    {
     "data": {
      "application/json": {
       "ascii": false,
       "bar_format": null,
       "colour": null,
       "elapsed": 0.02100229263305664,
       "initial": 0,
       "n": 0,
       "ncols": null,
       "nrows": 31,
       "postfix": null,
       "prefix": "",
       "rate": null,
       "total": 18374,
       "unit": "it",
       "unit_divisor": 1000,
       "unit_scale": false
      },
      "application/vnd.jupyter.widget-view+json": {
       "model_id": "c93a97138cb044f2acf1c1f8a8ed5899",
       "version_major": 2,
       "version_minor": 0
      },
      "text/plain": [
       "  0%|          | 0/18374 [00:00<?, ?it/s]"
      ]
     },
     "metadata": {},
     "output_type": "display_data"
    },
    {
     "data": {
      "application/json": {
       "ascii": false,
       "bar_format": null,
       "colour": null,
       "elapsed": 0.04766440391540527,
       "initial": 0,
       "n": 0,
       "ncols": null,
       "nrows": 31,
       "postfix": null,
       "prefix": "",
       "rate": null,
       "total": 18374,
       "unit": "it",
       "unit_divisor": 1000,
       "unit_scale": false
      },
      "application/vnd.jupyter.widget-view+json": {
       "model_id": "ec0363cfd4fc45a4b3295271eaa21045",
       "version_major": 2,
       "version_minor": 0
      },
      "text/plain": [
       "  0%|          | 0/18374 [00:00<?, ?it/s]"
      ]
     },
     "metadata": {},
     "output_type": "display_data"
    },
    {
     "data": {
      "application/json": {
       "ascii": false,
       "bar_format": null,
       "colour": null,
       "elapsed": 0.03160500526428223,
       "initial": 0,
       "n": 0,
       "ncols": null,
       "nrows": 31,
       "postfix": null,
       "prefix": "",
       "rate": null,
       "total": 18374,
       "unit": "it",
       "unit_divisor": 1000,
       "unit_scale": false
      },
      "application/vnd.jupyter.widget-view+json": {
       "model_id": "90969686f7374906846c343549a80da6",
       "version_major": 2,
       "version_minor": 0
      },
      "text/plain": [
       "  0%|          | 0/18374 [00:00<?, ?it/s]"
      ]
     },
     "metadata": {},
     "output_type": "display_data"
    }
   ],
   "source": [
    "data[\"char_total\"] = data[\"synopsis\"].progress_apply(len)\n",
    "data[\"token_total\"] = data[\"synopsis\"].progress_apply(\n",
    "    lambda x: len(word_tokenize(x))\n",
    ")\n",
    "data[\"sent_total\"] = data[\"synopsis\"].progress_apply(\n",
    "    lambda x: len([sent for line in x.split(\"\\n\") for sent in  sent_tokenize(line) if line.strip()])\n",
    ")"
   ]
  },
  {
   "cell_type": "code",
   "execution_count": 27,
   "id": "ecf37e02-fcb7-415d-9bb2-5ef90e7e964f",
   "metadata": {},
   "outputs": [
    {
     "data": {
      "application/json": {
       "ascii": false,
       "bar_format": null,
       "colour": null,
       "elapsed": 0.029372453689575195,
       "initial": 0,
       "n": 0,
       "ncols": null,
       "nrows": 31,
       "postfix": null,
       "prefix": "",
       "rate": null,
       "total": 19393,
       "unit": "it",
       "unit_divisor": 1000,
       "unit_scale": false
      },
      "application/vnd.jupyter.widget-view+json": {
       "model_id": "702511647edf426d9f15c117f07c1693",
       "version_major": 2,
       "version_minor": 0
      },
      "text/plain": [
       "  0%|          | 0/19393 [00:00<?, ?it/s]"
      ]
     },
     "metadata": {},
     "output_type": "display_data"
    }
   ],
   "source": [
    "# data[\"lines_total\"] = data[\"synopsis\"].progress_apply(lambda x: len(x.split(\"\\n\")))"
   ]
  },
  {
   "cell_type": "code",
   "execution_count": 5,
   "id": "7bfe7015-9c56-4eff-af20-1559fb2a9e87",
   "metadata": {},
   "outputs": [
    {
     "data": {
      "application/json": {
       "ascii": false,
       "bar_format": null,
       "colour": null,
       "elapsed": 0.01822948455810547,
       "initial": 0,
       "n": 0,
       "ncols": null,
       "nrows": 31,
       "postfix": null,
       "prefix": "",
       "rate": null,
       "total": 19393,
       "unit": "it",
       "unit_divisor": 1000,
       "unit_scale": false
      },
      "application/vnd.jupyter.widget-view+json": {
       "model_id": "470ea2068d1945ed9d6e4b6daf612183",
       "version_major": 2,
       "version_minor": 0
      },
      "text/plain": [
       "  0%|          | 0/19393 [00:00<?, ?it/s]"
      ]
     },
     "metadata": {},
     "output_type": "display_data"
    },
    {
     "data": {
      "application/json": {
       "ascii": false,
       "bar_format": null,
       "colour": null,
       "elapsed": 0.04676222801208496,
       "initial": 0,
       "n": 0,
       "ncols": null,
       "nrows": 31,
       "postfix": null,
       "prefix": "",
       "rate": null,
       "total": 19393,
       "unit": "it",
       "unit_divisor": 1000,
       "unit_scale": false
      },
      "application/vnd.jupyter.widget-view+json": {
       "model_id": "e6508da238494596b05daeeb866b3b8b",
       "version_major": 2,
       "version_minor": 0
      },
      "text/plain": [
       "  0%|          | 0/19393 [00:00<?, ?it/s]"
      ]
     },
     "metadata": {},
     "output_type": "display_data"
    },
    {
     "data": {
      "application/json": {
       "ascii": false,
       "bar_format": null,
       "colour": null,
       "elapsed": 0.029623746871948242,
       "initial": 0,
       "n": 0,
       "ncols": null,
       "nrows": 31,
       "postfix": null,
       "prefix": "",
       "rate": null,
       "total": 19393,
       "unit": "it",
       "unit_divisor": 1000,
       "unit_scale": false
      },
      "application/vnd.jupyter.widget-view+json": {
       "model_id": "b8aa8ad9b13a4107a05501c44a2488a8",
       "version_major": 2,
       "version_minor": 0
      },
      "text/plain": [
       "  0%|          | 0/19393 [00:00<?, ?it/s]"
      ]
     },
     "metadata": {},
     "output_type": "display_data"
    }
   ],
   "source": [
    "data[\"token_max_char_len\"] = data[\"synopsis\"].progress_apply(\n",
    "    lambda x: max([len(t) for t in word_tokenize(x)]) if x.strip() else 0\n",
    ")\n",
    "\n",
    "data[\"sent_max_char_len\"] = data[\"synopsis\"].progress_apply(\n",
    "    lambda x: max([len(t) for t in sent_tokenize(x)]) if x.strip() else 0\n",
    ")\n",
    "\n",
    "data[\"line_max_char_len\"] = data[\"synopsis\"].progress_apply(\n",
    "    lambda x: max([len(t) for t in x.split(\"\\n\")]) if x.strip() else 0\n",
    ")"
   ]
  },
  {
   "cell_type": "code",
   "execution_count": 16,
   "id": "e6d30ba1-dd5e-4d12-87d8-c7e54047486c",
   "metadata": {},
   "outputs": [],
   "source": [
    "data[\"sent_char_ratio\"] = [t.sent_total/t.char_total for t in data.itertuples()]\n",
    "data[\"sent_token_ratio\"] = [t.sent_total/t.token_total for t in data.itertuples()]\n",
    "data[\"token_char_ratio\"] = [t.token_total/t.char_total for t in data.itertuples()]\n",
    "data[\"token_sent_ratio\"] = [t.token_total/t.sent_total for t in data.itertuples()]\n",
    "data[\"char_sent_ratio\"] = [t.char_total/t.sent_total for t in data.itertuples()]\n",
    "data[\"char_token_ratio\"] = [t.char_total/t.token_total for t in data.itertuples()]"
   ]
  },
  {
   "cell_type": "code",
   "execution_count": 20,
   "id": "37083f6a-439f-4805-8333-cc2268e8e1c6",
   "metadata": {},
   "outputs": [
    {
     "data": {
      "text/html": [
       "<div>\n",
       "<style scoped>\n",
       "    .dataframe tbody tr th:only-of-type {\n",
       "        vertical-align: middle;\n",
       "    }\n",
       "\n",
       "    .dataframe tbody tr th {\n",
       "        vertical-align: top;\n",
       "    }\n",
       "\n",
       "    .dataframe thead th {\n",
       "        text-align: right;\n",
       "    }\n",
       "</style>\n",
       "<table border=\"1\" class=\"dataframe\">\n",
       "  <thead>\n",
       "    <tr style=\"text-align: right;\">\n",
       "      <th></th>\n",
       "      <th>max_count_token_ratio</th>\n",
       "    </tr>\n",
       "  </thead>\n",
       "  <tbody>\n",
       "    <tr>\n",
       "      <th>count</th>\n",
       "      <td>18368.000000</td>\n",
       "    </tr>\n",
       "    <tr>\n",
       "      <th>mean</th>\n",
       "      <td>0.072083</td>\n",
       "    </tr>\n",
       "    <tr>\n",
       "      <th>std</th>\n",
       "      <td>0.037292</td>\n",
       "    </tr>\n",
       "    <tr>\n",
       "      <th>min</th>\n",
       "      <td>0.026321</td>\n",
       "    </tr>\n",
       "    <tr>\n",
       "      <th>25%</th>\n",
       "      <td>0.054932</td>\n",
       "    </tr>\n",
       "    <tr>\n",
       "      <th>50%</th>\n",
       "      <td>0.065796</td>\n",
       "    </tr>\n",
       "    <tr>\n",
       "      <th>75%</th>\n",
       "      <td>0.081055</td>\n",
       "    </tr>\n",
       "    <tr>\n",
       "      <th>max</th>\n",
       "      <td>1.000000</td>\n",
       "    </tr>\n",
       "  </tbody>\n",
       "</table>\n",
       "</div>"
      ],
      "text/plain": [
       "       max_count_token_ratio\n",
       "count           18368.000000\n",
       "mean                0.072083\n",
       "std                 0.037292\n",
       "min                 0.026321\n",
       "25%                 0.054932\n",
       "50%                 0.065796\n",
       "75%                 0.081055\n",
       "max                 1.000000"
      ]
     },
     "execution_count": 20,
     "metadata": {},
     "output_type": "execute_result"
    }
   ],
   "source": [
    "data.describe().astype(\"float16\")"
   ]
  },
  {
   "cell_type": "code",
   "execution_count": 23,
   "id": "a9e2f70f-f979-41fd-9510-cefafa51031d",
   "metadata": {},
   "outputs": [],
   "source": [
    "stats = data.drop(columns=[\"href\", \"synopsis\"]) #.drop(columns=[\"line_max_char_len\"])"
   ]
  },
  {
   "cell_type": "markdown",
   "id": "55b0182b-a22c-4772-a131-4192604d0e1d",
   "metadata": {},
   "source": [
    "# Outlier detection\n",
    "\n",
    "[The svm.OneClassSVM is known to be sensitive to outliers and thus does not perform very well for outlier detection](https://scikit-learn.org/stable/modules/outlier_detection.html#outlier-detection)"
   ]
  },
  {
   "cell_type": "code",
   "execution_count": 24,
   "id": "2ab5f722-23fd-4880-b752-36fa8d209af3",
   "metadata": {},
   "outputs": [],
   "source": [
    "from sklearn.neighbors import LocalOutlierFactor\n",
    "from sklearn.ensemble import IsolationForest"
   ]
  },
  {
   "cell_type": "code",
   "execution_count": 25,
   "id": "8a388991-78ad-47dd-817f-9a3f4ffa0b64",
   "metadata": {},
   "outputs": [],
   "source": [
    "clf = LocalOutlierFactor(n_neighbors=20)\n",
    "preds = clf.fit_predict(stats)\n",
    "\n",
    "data[\"pred\"] = preds\n",
    "data[\"negative_outlier_factor_\"] = clf.negative_outlier_factor_"
   ]
  },
  {
   "cell_type": "code",
   "execution_count": 26,
   "id": "a87341ab-da27-4bce-8fc6-fa15a5ca0cd4",
   "metadata": {},
   "outputs": [],
   "source": [
    "# data[data[\"pred\"] == -1][\"synopsis\"].sample(10).to_list()"
   ]
  },
  {
   "cell_type": "code",
   "execution_count": 31,
   "id": "302950ce-21fe-4f85-97c0-4d1cd14f76a4",
   "metadata": {},
   "outputs": [
    {
     "data": {
      "text/plain": [
       "['Second installment of GOT7ing.\\n\"NO script, NO mission, NO game, NO penalty\" !',\n",
       " 'The drama tells the story of the life of Dae Jo Yeong, also known as the founder of the kingdom of Balhae.',\n",
       " 'The story is about the love triangle between the fourth prince, the crown prince and the number one female scholar – ShuYuan during the Qing dynasty. With the war for love is also the war for the throne. The feminist plot, the uniqueness of the characters, and the ups and downs of the events are geared towards female viewers.',\n",
       " 'The members of BTS take part in creating their beloved  LINE  characters - RJ, Shooky, Mang, Koya, Chimmy, Tata, Cooky and VAN.',\n",
       " '\"LODI X\" is a survival show created to find the best female idol group in Thailand. Bringing together 20 girl groups, they go through battles to decide the best group chosen by the jury. The show includes DAISY DAISY, FEVER, SUMOMO, RedSpin, SY51 , Cheesy Pie, Tossagirls, Wish23, I-MI, Melt Mallow, Pretzelle, AKIRA-KURØ, S16 New Gen Project, SECRET12, ShiningStars, Siam☆Dream, SIXTER, AMERYU, ASTER, and VioletWink.\\n(Source: Workpoint YouTube, T-Pop Wiki)',\n",
       " 'Destined/Fated is a story of love, betrayal, family, and friendship.',\n",
       " 'Special episodes that show behind the scenes footage and the first meetings with the actors before the filming for the drama starts.',\n",
       " 'This is the special episode or behind the scenes episode of the drama \"The Moment\".',\n",
       " 'About a con artist posing as a magician.',\n",
       " 'Adapted from the Japanese Manga of the same name',\n",
       " 'Drama special to Kyou Kara Ore wa!!',\n",
       " 'About the supernatural events occurring in the city.',\n",
       " 'The stories detailing the aspirations of young people.',\n",
       " 'Depicts the bloody siege of the fortress Port Arthur during the Russo-Japanese War 1904 - 1905. In the story dominated the character Lt Takeshi Kogyo, teachers, and a reserve officer who became commander of the platoon and later company. At the same time monitors the conduct of the army commander general Nogi, which was commissioned by the emperor Matsuhito to the conquest of the fort.',\n",
       " 'A woman teacher with a broken heart and a prestering ex-boyfriend. A mysterious woman on the run and a ruthless and dangerous lover. A bunch of naughty and mischievous students and a bunch of weirdos in a tour. A threatening provocation and a bloody murder. Inside a \"Classroom\" and out on \"Vacation\" Horror exists where you least expected...',\n",
       " 'Scary stories based on true Japanese incidents.\\nStory 1 - Only two of us\\nStory 2 - Three people are coming\\nStory 3 - Copy Machine\\nStory 4 - Blue Raincoat\\nStory 5 - Animal Odour\\nStory 6 - Sleepy Head\\nStory 7 - Visitor\\nStory 8 - A Snapshot\\nStory 9 - Ghost of Ohatsutenjin\\nStory 10 - Greetings\\nStory 11 - The Music Box\\nStory 12 - House of Restless Spirit\\nStory 13 - Behind You',\n",
       " 'This story is the tale of two brothers: one a successful counterfeiter and the younger a fledgling graduate of the HK police academy. The plot revolves around the split when the younger brother learns the other is a criminal and the efforts of the criminal brother to reform. Along the way are plenty of heists, double-crosses, and shootouts.\\n(Source: IMDb)',\n",
       " 'This is the first movie in the Alien series. Lan Jue, a detective with half-alien blood, relies on the Gegula Star to go back twenty years into the past, where he searches for the owner of the ring and the demon in the nightmares.',\n",
       " \"In the far part of the Tohoku region, Gounai Shindou runs a store, Ogamiya, where he solves the problems of his clients with prayers. Only among those problems, there are some that involve supernatural phenomena. He's living with his wife, Mayumi now, but the mysterious girl, Kirishima Kanae, appears before him once again. Moreover, a spirit medium, Kobashi Mikoto, brings a problem, that needs a solution...\",\n",
       " 'The show follows the nine members of TWICE — Nayeon, Jihyo, Jungyeon, Mina, Sana, Momo, Chaeyoung, Dahyun and Tzuyu — a South Korean girl group formed by JYP Entertainment, in their idol lifes. The episodes show to fans, the course of their days in recordings, games, photo shoots and everything else. In this season, the girls traveled to Singapore in their vacation.',\n",
       " 'During the Ming Dynasty, the chief of the fleet , Yang Lie  led the fleet to travel secretly to the East Sea. In the stormy situation while being attacked by the Sea Dragon they were rescued by  Xiyin and brought to her home the  dream-like Penglai Xian Island Yang Lie was fascinated by the treasures of the island and  after a while stern man and the kind and innocent mermaid Xiyin slowly started developing feelings to each other while confronting the dark forces that threaten the island.',\n",
       " \"Super TV is a show that twists all of variety show formats in the world and presents them in Super Junior’s own way. This format is called Super Junior Crazy Idol Variety. The show's format will include quiz show, talk show, game show, eating show, reality, documentary, sports, film, and comedy.\\nSuper TV stars members Leeteuk, Heechul, Yesung, Shindong, Eunhyuk, and Donghae, with slogan that saying 'There are some who are less crazy, but there’s no one that’s not crazy'\",\n",
       " 'Movie adaptation of the japanese drama of the same name.\\nThis movie, scheduled to hit theaters nationwide in October, will feature Johnny’s Jr. members Iwamoto Hikaru, Sakuma Daisuke, Abe Ryohei, Watanabe Shota, Fukasawa Tatsuya, and Miyadate Ryota in addition to AKB48’s Team 4 members Kato Rena, Takeuchi Miyu, Kawaei Rina, Takahashi Juri, and Ichikawa Miori.',\n",
       " '\"Real Actor\" combines the three concepts of studio, workplace and battlefield. By recording the actors\\' workplace and the survival of the studio, the audience can see the real actor\\'s suffering, the actor\\'s difficulty, the actor\\'s specialty, and see the most realistic \"acting school\".',\n",
       " \"At the birthday banquet, the emperor asked to travel the world. The immortals were unable to resist, but in order to ensure world order, they removed all of the Heaven Emperor's mana and succeeded with the Three Kingdoms Lower Stone Realm. The descendant emperor was sent to the government for destroying the statue. The emperor was punished in the temple, but he had a good impression of the fox girl who came to Shangxiang. The fox tricks the emperor to the brothel, and the demon emperor turns into an old bustard and steals the Stone of the Three Kingdoms, to kill the emperor. At this time, Xu Mengjiao led a team to investigate the case, and the two green and white snakes that received the report also ran towards the savior.\\n(Source: Baidu)\",\n",
       " 'The film tells the story of the protagonist Chen Sang accepting the appointment of the provincial government to break into the drug dealers, and with years of experience and wisdom in successfully obtaining the trust of the just-appointed female drug lord Su Yu, and bringing the whole drug gang away in one fell swoop.\\n(Source: dramaflavor.com)',\n",
       " 'Following the death of Alex, the protagonist of the first season, the masterminds behind the evil APP gradually emerged. A police officer who falls into the trap set by the APP becomes deeply entangled in its mysteries. (Source: IMDb)',\n",
       " \"The film tells the story of Yang Jian (Erlang Shen) breaking the tower of wind and thunder and fighting the three evil spirits, punishing the evil gods and opening the eyes of the gods. He and lotus picker girl Mengyue and Mayor Yu Lang's son formed the Heavenly Clan of the God of Death to break the Nine Tribulations of the Formation of the Yellow River and protect the people on one side.\\n(Source: TMDB)\",\n",
       " \"The story takes place a month after ko one remember, where the great battle in the iron dimension is still ongoing. simultaneously in the gold dimension, there was a huge storm in the seams of dimensions. some were swallowed by the darkness, Gu Zhan was seriously injured, leaving Qiu Qiu to blame herself. With the ultimate class falling apart, it uncovers the battle between the gold dimension and the darkness. The legendary Ya Se Wang has returned as the new class teacher, determined to lead the students into university. The cold commander Lan Si Luo, the world's weakest high-schooler Xiao Hu, Wan Shuang Long who was released from prison after being wanted everywhere, all fight for the new position as the class leader, the reopening of the Martial Arts Syndicate, the mask that the evil guy behind-the-scenes keeps borrowing, powers are about to shuffle around.\\n(Source: Maplestage)\",\n",
       " 'Set during the Manchurian-ruled Qing Dynasty, \"The Guillotines\" tells the story of a secret assassination squad, known as the Guillotines, who find their loyalty to the emperor tested when they discover that the emperor has ordered another team of assassins to carry out the same mission.\\nSimilar to the Brocade-Clad Guards of the Ming Dynasty, the Guillotines were bound to serve only the emperor. With the flying guillotine as their weapon of choice, they fulfill their missions by decapitating their targets. Once heavily favored by Emperor Yong Zheng, the Guillotines were deemed expendable after the ascent of Emperor Qian Long to the throne. In the midst of betrayal, bloody violence, and torture, the Guillotines fight for their own survival.']"
      ]
     },
     "execution_count": 31,
     "metadata": {},
     "output_type": "execute_result"
    }
   ],
   "source": [
    "data[data[\"pred\"] == -1].sort_values(by=\"negative_outlier_factor_\"\n",
    "                                    )[['href', 'synopsis', 'pred', 'negative_outlier_factor_']].head(30)[\"synopsis\"].to_list()"
   ]
  },
  {
   "cell_type": "code",
   "execution_count": null,
   "id": "539cf98d-4ae4-4f30-9876-1d6cc4e00a2d",
   "metadata": {},
   "outputs": [],
   "source": []
  }
 ],
 "metadata": {
  "kernelspec": {
   "display_name": "Python 3 (ipykernel)",
   "language": "python",
   "name": "python3"
  },
  "language_info": {
   "codemirror_mode": {
    "name": "ipython",
    "version": 3
   },
   "file_extension": ".py",
   "mimetype": "text/x-python",
   "name": "python",
   "nbconvert_exporter": "python",
   "pygments_lexer": "ipython3",
   "version": "3.10.5"
  }
 },
 "nbformat": 4,
 "nbformat_minor": 5
}
