{
 "cells": [
  {
   "cell_type": "code",
   "execution_count": 24,
   "id": "ff7d1547-c0fb-48d2-98a2-9e554291454d",
   "metadata": {},
   "outputs": [],
   "source": [
    "import requests\n",
    "from tqdm import tqdm\n",
    "import shutil\n",
    "from collections import Counter, defaultdict\n",
    "\n",
    "headers = {\"User-Agent\": \"My User Agent\"}"
   ]
  },
  {
   "cell_type": "code",
   "execution_count": 8,
   "id": "4d60f65d-a9fe-4fda-b110-6571b8cd7740",
   "metadata": {},
   "outputs": [],
   "source": [
    "url = input()"
   ]
  },
  {
   "cell_type": "code",
   "execution_count": 18,
   "id": "1145c794-7a0f-4e95-815e-cfbf1242571e",
   "metadata": {},
   "outputs": [],
   "source": [
    "response = requests.get(url, stream=True, headers=headers)\n",
    "with open('example.jpg', 'wb') as out_file:\n",
    "    shutil.copyfileobj(response.raw, out_file)"
   ]
  },
  {
   "cell_type": "code",
   "execution_count": null,
   "id": "ed5d2844-bb20-46b2-becb-eda6a15307e6",
   "metadata": {},
   "outputs": [],
   "source": []
  },
  {
   "cell_type": "code",
   "execution_count": 19,
   "id": "7cbf7cbf-4661-4f72-a593-b73a53934362",
   "metadata": {},
   "outputs": [],
   "source": [
    "with open(\"data/titlepart2href.json\", encoding=\"utf-8\") as f:\n",
    "    titlepart2href = json.load(f)"
   ]
  },
  {
   "cell_type": "code",
   "execution_count": 25,
   "id": "8bfbd6f1-3151-41cb-867c-d42ba4cc2b93",
   "metadata": {},
   "outputs": [],
   "source": [
    "hrefs = Counter([href for v in titlepart2href.values() for href in v])"
   ]
  },
  {
   "cell_type": "code",
   "execution_count": 29,
   "id": "3cb5dae6-5439-4296-9a70-309ab9ae477f",
   "metadata": {},
   "outputs": [
    {
     "data": {
      "text/plain": [
       "[('/53101-missing', 2),\n",
       " ('/19510-romantic-doctor-teacher-kim', 2),\n",
       " ('/38301-romantic-doctor-teacher-kim-2', 2)]"
      ]
     },
     "execution_count": 29,
     "metadata": {},
     "output_type": "execute_result"
    }
   ],
   "source": [
    "hrefs.most_common(3)"
   ]
  },
  {
   "cell_type": "code",
   "execution_count": 27,
   "id": "e7c5f2fc-60aa-4cb4-a0da-1dd74e2b34e6",
   "metadata": {},
   "outputs": [
    {
     "data": {
      "text/plain": [
       "Counter({'/': 19461, 'h': 15})"
      ]
     },
     "execution_count": 27,
     "metadata": {},
     "output_type": "execute_result"
    }
   ],
   "source": [
    "Counter([href[0] for href in hrefs])"
   ]
  },
  {
   "cell_type": "code",
   "execution_count": 28,
   "id": "3cf31f4d-6403-478a-8d9b-413dd4d56fa1",
   "metadata": {},
   "outputs": [
    {
     "data": {
      "text/plain": [
       "15"
      ]
     },
     "execution_count": 28,
     "metadata": {},
     "output_type": "execute_result"
    }
   ],
   "source": [
    "optional_prefix = \"https://mydramalist.com\"\n",
    "len([href for href in hrefs if href.startswith(optional_prefix)])"
   ]
  },
  {
   "cell_type": "code",
   "execution_count": null,
   "id": "5de58770-179f-4bd1-a73f-94483558bc9a",
   "metadata": {},
   "outputs": [],
   "source": []
  }
 ],
 "metadata": {
  "kernelspec": {
   "display_name": "Python 3 (ipykernel)",
   "language": "python",
   "name": "python3"
  },
  "language_info": {
   "codemirror_mode": {
    "name": "ipython",
    "version": 3
   },
   "file_extension": ".py",
   "mimetype": "text/x-python",
   "name": "python",
   "nbconvert_exporter": "python",
   "pygments_lexer": "ipython3",
   "version": "3.10.5"
  }
 },
 "nbformat": 4,
 "nbformat_minor": 5
}
