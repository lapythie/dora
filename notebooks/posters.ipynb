{
 "cells": [
  {
   "cell_type": "code",
   "execution_count": 10,
   "id": "ff7d1547-c0fb-48d2-98a2-9e554291454d",
   "metadata": {},
   "outputs": [],
   "source": [
    "from bs4 import BeautifulSoup\n",
    "from collections import Counter, defaultdict\n",
    "import json\n",
    "import requests\n",
    "import shutil\n",
    "from tqdm import tqdm\n",
    "\n",
    "headers = {\"User-Agent\": \"My User Agent\"}"
   ]
  },
  {
   "cell_type": "code",
   "execution_count": 8,
   "id": "4d60f65d-a9fe-4fda-b110-6571b8cd7740",
   "metadata": {},
   "outputs": [],
   "source": [
    "url = input()"
   ]
  },
  {
   "cell_type": "code",
   "execution_count": 18,
   "id": "1145c794-7a0f-4e95-815e-cfbf1242571e",
   "metadata": {},
   "outputs": [],
   "source": [
    "response = requests.get(url, stream=True, headers=headers)\n",
    "with open('example.jpg', 'wb') as out_file:\n",
    "    shutil.copyfileobj(response.raw, out_file)"
   ]
  },
  {
   "cell_type": "code",
   "execution_count": null,
   "id": "ed5d2844-bb20-46b2-becb-eda6a15307e6",
   "metadata": {},
   "outputs": [],
   "source": []
  },
  {
   "cell_type": "code",
   "execution_count": 3,
   "id": "7cbf7cbf-4661-4f72-a593-b73a53934362",
   "metadata": {},
   "outputs": [],
   "source": [
    "with open(\"data/titlepart2href.json\", encoding=\"utf-8\") as f:\n",
    "    titlepart2href = json.load(f)"
   ]
  },
  {
   "cell_type": "code",
   "execution_count": 4,
   "id": "8bfbd6f1-3151-41cb-867c-d42ba4cc2b93",
   "metadata": {},
   "outputs": [],
   "source": [
    "hrefs = Counter([href for v in titlepart2href.values() for href in v])"
   ]
  },
  {
   "cell_type": "code",
   "execution_count": 5,
   "id": "3cb5dae6-5439-4296-9a70-309ab9ae477f",
   "metadata": {},
   "outputs": [
    {
     "data": {
      "text/plain": [
       "[('/53101-missing', 2),\n",
       " ('/19510-romantic-doctor-teacher-kim', 2),\n",
       " ('/38301-romantic-doctor-teacher-kim-2', 2)]"
      ]
     },
     "execution_count": 5,
     "metadata": {},
     "output_type": "execute_result"
    }
   ],
   "source": [
    "hrefs.most_common(3)"
   ]
  },
  {
   "cell_type": "code",
   "execution_count": 6,
   "id": "e7c5f2fc-60aa-4cb4-a0da-1dd74e2b34e6",
   "metadata": {},
   "outputs": [
    {
     "data": {
      "text/plain": [
       "Counter({'/': 19461, 'h': 15})"
      ]
     },
     "execution_count": 6,
     "metadata": {},
     "output_type": "execute_result"
    }
   ],
   "source": [
    "Counter([href[0] for href in hrefs])"
   ]
  },
  {
   "cell_type": "code",
   "execution_count": 7,
   "id": "3cf31f4d-6403-478a-8d9b-413dd4d56fa1",
   "metadata": {},
   "outputs": [
    {
     "data": {
      "text/plain": [
       "15"
      ]
     },
     "execution_count": 7,
     "metadata": {},
     "output_type": "execute_result"
    }
   ],
   "source": [
    "optional_prefix = \"https://mydramalist.com\"\n",
    "len([href for href in hrefs if href.startswith(optional_prefix)])"
   ]
  },
  {
   "cell_type": "code",
   "execution_count": 8,
   "id": "5de58770-179f-4bd1-a73f-94483558bc9a",
   "metadata": {},
   "outputs": [
    {
     "name": "stderr",
     "output_type": "stream",
     "text": [
      "100%|████████████████████████████████████████████████████████████████████████████| 19476/19476 [13:32<00:00, 23.96it/s]\n"
     ]
    }
   ],
   "source": [
    "# href2dramapage = {}\n",
    "with open(\"data/href2dramapage.json\", encoding=\"utf-8\") as f:\n",
    "    href2dramapage = json.load(f)\n",
    "\n",
    "for href in tqdm(hrefs):\n",
    "    if href.startswith(optional_prefix):\n",
    "        href = href[len(optional_prefix):]\n",
    "        \n",
    "    if href not in href2dramapage:\n",
    "        \n",
    "        page = requests.get(f\"https://mydramalist.com{href}\", headers=headers)\n",
    "        href2dramapage[href] = page.text"
   ]
  },
  {
   "cell_type": "code",
   "execution_count": 9,
   "id": "60f27d0b-5e92-4666-9e50-4d6fed75cb31",
   "metadata": {},
   "outputs": [
    {
     "data": {
      "text/plain": [
       "19462"
      ]
     },
     "execution_count": 9,
     "metadata": {},
     "output_type": "execute_result"
    }
   ],
   "source": [
    "len(href2dramapage)"
   ]
  },
  {
   "cell_type": "code",
   "execution_count": 10,
   "id": "997e9767-3746-4fdc-b5fe-88172b540672",
   "metadata": {},
   "outputs": [
    {
     "name": "stdout",
     "output_type": "stream",
     "text": [
      "CPU times: total: 30.1 s\n",
      "Wall time: 31 s\n"
     ]
    }
   ],
   "source": [
    "# %%time\n",
    "# with open(\"data/href2dramapage.json\", \"w\", encoding=\"utf-8\") as fw:\n",
    "#     json.dump(href2dramapage, fw, ensure_ascii=False)"
   ]
  },
  {
   "cell_type": "code",
   "execution_count": 24,
   "id": "f9e45821-a4d3-4f92-906f-e2cd2a2795b6",
   "metadata": {},
   "outputs": [
    {
     "name": "stderr",
     "output_type": "stream",
     "text": [
      "100%|████████████████████████████████████████████████████████████████████████████| 19462/19462 [28:14<00:00, 11.49it/s]\n"
     ]
    }
   ],
   "source": [
    "# href2postersrc = {}\n",
    "\n",
    "for href, page in tqdm(href2dramapage.items()):\n",
    "    \n",
    "    if href not in href2postersrc:\n",
    "        \n",
    "        soup = BeautifulSoup(page)\n",
    "        \n",
    "        img = soup.find(\"div\", {\"class\": \"col-sm-4 film-cover cover\"})\n",
    "        if img:\n",
    "\n",
    "            img = img.find_all(\"img\", {\"class\": \"img-responsive\"})\n",
    "            assert len(img) == 1\n",
    "\n",
    "            href2postersrc[href] = img[0][\"src\"]"
   ]
  },
  {
   "cell_type": "code",
   "execution_count": 23,
   "id": "7c5cd2bc-0a50-408d-95af-b10eedd7b92d",
   "metadata": {},
   "outputs": [
    {
     "data": {
      "text/plain": [
       "'/697659-big-mouth'"
      ]
     },
     "execution_count": 23,
     "metadata": {},
     "output_type": "execute_result"
    }
   ],
   "source": [
    "href"
   ]
  },
  {
   "cell_type": "code",
   "execution_count": 25,
   "id": "32579ba8-1529-4a83-ad58-0c75b6e4dc8b",
   "metadata": {},
   "outputs": [
    {
     "data": {
      "text/plain": [
       "(19393, 19462)"
      ]
     },
     "execution_count": 25,
     "metadata": {},
     "output_type": "execute_result"
    }
   ],
   "source": [
    "len(href2postersrc), len(href2dramapage)"
   ]
  },
  {
   "cell_type": "code",
   "execution_count": 49,
   "id": "6ed942db-8e65-475c-97ee-e1d5fea6182e",
   "metadata": {},
   "outputs": [
    {
     "name": "stderr",
     "output_type": "stream",
     "text": [
      "100%|██████████████████████████████████████████████████████████████████████████| 18393/18393 [3:48:24<00:00,  1.34it/s]\n"
     ]
    }
   ],
   "source": [
    "postersrc_prefix = \"https://i.mydramalist.com/\"\n",
    "postersrc_suffix = \"?v=1\"\n",
    "\n",
    "href_prefix = \"/\"\n",
    "\n",
    "for href, postersrc in tqdm(list(href2postersrc.items())[1000:]):\n",
    "    \n",
    "    assert href.startswith(href_prefix)\n",
    "    assert postersrc.startswith(postersrc_prefix) and postersrc.endswith(postersrc_suffix)\n",
    "    \n",
    "    filename = postersrc[len(postersrc_prefix):-len(postersrc_suffix)]\n",
    "    filepath = f\"data/posters/{href[len(href_prefix):]}_{filename}\"\n",
    "    \n",
    "    response = requests.get(postersrc, stream=True)\n",
    "    \n",
    "    with open(filepath, 'wb') as f:\n",
    "        f.write(response.content)"
   ]
  },
  {
   "cell_type": "code",
   "execution_count": null,
   "id": "2d4e80eb-af88-419e-ae32-3a67f5737d78",
   "metadata": {},
   "outputs": [
    {
     "data": {
      "text/plain": [
       "'https://i.mydramalist.com/BkrBq_4c.jpg?v=1'"
      ]
     },
     "execution_count": 39,
     "metadata": {},
     "output_type": "execute_result"
    }
   ],
   "source": [
    "postersrc"
   ]
  },
  {
   "cell_type": "code",
   "execution_count": 12,
   "id": "797ffb4d-39e7-448d-91df-20d43c95c19d",
   "metadata": {},
   "outputs": [],
   "source": []
  },
  {
   "cell_type": "code",
   "execution_count": 11,
   "id": "8c329129-7849-4503-b456-a91110971180",
   "metadata": {},
   "outputs": [
    {
     "name": "stderr",
     "output_type": "stream",
     "text": [
      "100%|██████████████████████████████████████████████████████████████████████████| 19394/19394 [00:05<00:00, 3289.93it/s]\n"
     ]
    }
   ],
   "source": [
    "import os\n",
    "posterpath2filesize = {}\n",
    "\n",
    "root = \"data/posters\"\n",
    "\n",
    "for filename in tqdm(os.listdir(root)):\n",
    "    posterpath = os.path.join(root, filename)\n",
    "    file_stats = os.stat(posterpath)\n",
    "    \n",
    "    if file_stats.st_size:\n",
    "        posterpath2filesize[posterpath] = file_stats.st_size"
   ]
  },
  {
   "cell_type": "code",
   "execution_count": 15,
   "id": "9319f96f-af88-4591-866a-c82ea581e94f",
   "metadata": {},
   "outputs": [
    {
     "data": {
      "text/plain": [
       "[(34347, 6), (33277, 5), (33654, 5), (36560, 5), (33126, 5)]"
      ]
     },
     "execution_count": 15,
     "metadata": {},
     "output_type": "execute_result"
    }
   ],
   "source": [
    "Counter(posterpath2filesize.values()).most_common(5)"
   ]
  },
  {
   "cell_type": "code",
   "execution_count": 21,
   "id": "eabdc5a5-c9e4-4b12-8c3d-6b091becfe7f",
   "metadata": {},
   "outputs": [
    {
     "data": {
      "text/plain": [
       "['data/posters\\\\741545-young-hoon_Q3r4v_4c.jpg']"
      ]
     },
     "execution_count": 21,
     "metadata": {},
     "output_type": "execute_result"
    }
   ],
   "source": [
    "[k for k, v in posterpath2filesize.items() \n",
    " if v == min(posterpath2filesize.values())]"
   ]
  },
  {
   "cell_type": "code",
   "execution_count": 20,
   "id": "5ea00d2c-4937-419b-b1a9-465720746a7d",
   "metadata": {},
   "outputs": [
    {
     "data": {
      "text/plain": [
       "['data/posters\\\\51997-don-t-look-back_RrPKPc.jpg']"
      ]
     },
     "execution_count": 20,
     "metadata": {},
     "output_type": "execute_result"
    }
   ],
   "source": [
    "[k for k, v in posterpath2filesize.items() \n",
    " if v == max(posterpath2filesize.values())]"
   ]
  },
  {
   "cell_type": "code",
   "execution_count": 23,
   "id": "bd71ba52-b2f4-4375-95bc-8b9e2fef1d73",
   "metadata": {},
   "outputs": [
    {
     "data": {
      "image/png": "[encoded data removed]",
      "text/plain": [
       "<Figure size 640x480 with 1 Axes>"
      ]
     },
     "metadata": {},
     "output_type": "display_data"
    }
   ],
   "source": [
    "import seaborn as sns\n",
    "\n",
    "sns.histplot(\n",
    "    posterpath2filesize.values()\n",
    "    , binrange=(0, 100_000)\n",
    ");"
   ]
  },
  {
   "cell_type": "code",
   "execution_count": 30,
   "id": "4facee1c-d644-48ac-a74d-085f78d3d0ab",
   "metadata": {},
   "outputs": [
    {
     "data": {
      "image/png": "[encoded data removed]",
      "text/plain": [
       "<Figure size 640x480 with 1 Axes>"
      ]
     },
     "metadata": {},
     "output_type": "display_data"
    }
   ],
   "source": [
    "some_filesize = 25_000\n",
    "\n",
    "sns.histplot(\n",
    "    posterpath2filesize.values()\n",
    "    , binrange=(0, some_filesize)\n",
    "    , bins=200\n",
    ");"
   ]
  },
  {
   "cell_type": "code",
   "execution_count": null,
   "id": "98e8a3e1-e347-41f2-b58d-c570f9f91e64",
   "metadata": {},
   "outputs": [],
   "source": []
  },
  {
   "cell_type": "code",
   "execution_count": 51,
   "id": "b48e1249-ec69-48bb-b048-3ed1e34e47c7",
   "metadata": {},
   "outputs": [
    {
     "name": "stderr",
     "output_type": "stream",
     "text": [
      "100%|██████████████████████████████████████████████████████████████████████████| 19393/19393 [00:10<00:00, 1842.04it/s]\n"
     ]
    }
   ],
   "source": [
    "import torch\n",
    "from torchvision import transforms\n",
    "from PIL import Image\n",
    "\n",
    "tup2posterpaths = defaultdict(list)\n",
    "\n",
    "convert_tensor = transforms.ToTensor()\n",
    "\n",
    "for posterpath, filesize in tqdm(posterpath2filesize.items()):\n",
    "    \n",
    "    if filesize < some_filesize:\n",
    "\n",
    "        img = Image.open(posterpath)\n",
    "\n",
    "        tensor = convert_tensor(img)\n",
    "        \n",
    "        tup = tuple(tensor[:, :, 0].flatten().tolist())\n",
    "        \n",
    "        tup2posterpaths[tup].append(posterpath)"
   ]
  },
  {
   "cell_type": "code",
   "execution_count": 60,
   "id": "3293a4b9-5513-4215-ba03-c9c7eaed8d4e",
   "metadata": {},
   "outputs": [
    {
     "data": {
      "text/plain": [
       "[['data/posters\\\\10748-goodbye-ani_1Nyd7_4c.jpg',\n",
       "  'data/posters\\\\10851-fly-high-2015_vkR6D_4c.jpg',\n",
       "  'data/posters\\\\15323-mr.-shark_6mYnp_4c.jpg',\n",
       "  'data/posters\\\\18880-fifth-column_282yk_4c.jpg',\n",
       "  'data/posters\\\\21900-city-of-stars_py5BQ_4c.jpg',\n",
       "  'data/posters\\\\23739-longmen-express-3_jn6Vb_4c.jpg',\n",
       "  'data/posters\\\\23962-invisible-man_jno88_4c.jpg',\n",
       "  'data/posters\\\\24170-trapeze_powVy_4c.jpg',\n",
       "  'data/posters\\\\24656-goddess-of-the-court_XlpDX_4c.jpg',\n",
       "  'data/posters\\\\24957-control_R6LQR_4c.jpg',\n",
       "  'data/posters\\\\25558-double-play_xZlv0_4c.jpg',\n",
       "  'data/posters\\\\25560-moving_rJlJp_4c.jpg',\n",
       "  'data/posters\\\\27319-the-golden-hairpin_k644m_4c.jpg',\n",
       "  'data/posters\\\\30909-new-princess-huai-yu_2RpX7_4c.jpg',\n",
       "  'data/posters\\\\31211-the-moon-that-rises-in-the-day_vwr1g_4c.jpg',\n",
       "  'data/posters\\\\31799-the-mentalist_16Aey_4c.jpg',\n",
       "  'data/posters\\\\32085-poo-yai-lee-gub-nang-ma_WE20D_4c.jpg',\n",
       "  'data/posters\\\\32218-along-with-the-gods-3_4lKO1_4c.jpg',\n",
       "  'data/posters\\\\32219-along-with-the-gods-4_v7w2q_4c.jpg',\n",
       "  'data/posters\\\\33811-eastern-palace_6BNq0_4c.jpg',\n",
       "  'data/posters\\\\34649-rebound_4JBp1_4c.jpg',\n",
       "  'data/posters\\\\34791-daxi-make-a-wish_dp2vD_4c.jpg',\n",
       "  'data/posters\\\\36227-hulai-sanguo_pq2OD_4c.jpg',\n",
       "  'data/posters\\\\40509-persona-2_BQWY1_4c.jpg',\n",
       "  'data/posters\\\\40705-que-sera-sera_XY7Eq_4c.jpg',\n",
       "  'data/posters\\\\41279-na-rae-kicking-out_XWJNX_4c.jpg',\n",
       "  'data/posters\\\\48949-here_wQRyA_4c.jpg',\n",
       "  'data/posters\\\\49997-a-good-day-to-be-a-dog_E6w3z_4c.jpg',\n",
       "  'data/posters\\\\50711-deceased-s-soul_0ZBVk_4c.jpg',\n",
       "  'data/posters\\\\52003-joseon-firefighter_woKRN_4c.jpg',\n",
       "  'data/posters\\\\54697-golden-hour_EKbJm_4c.jpg',\n",
       "  'data/posters\\\\5660-weekend-prince_46lrw_4c.jpg',\n",
       "  'data/posters\\\\57785-smoking-gun_X7lVO_4c.jpg',\n",
       "  'data/posters\\\\59095-agent-scholar_EBp00_4c.jpg',\n",
       "  'data/posters\\\\60765-doctor-prisoner-2_py63n_4c.jpg',\n",
       "  'data/posters\\\\61433-borrowed-body_1y3w6_4c.jpg',\n",
       "  'data/posters\\\\61613-comeback-home_6ROWK_4c.jpg',\n",
       "  'data/posters\\\\62573-blue-sky_vKYrg_4c.jpg',\n",
       "  'data/posters\\\\67963-k-school_xqn8N_4c.jpg',\n",
       "  'data/posters\\\\680295-legend-of-madame-xi_w1QWb_4c.jpg',\n",
       "  'data/posters\\\\680725-until-the-morning-comes_wBpN8_4c.jpg',\n",
       "  'data/posters\\\\681055-19-days_4vgk6_4c.jpg',\n",
       "  'data/posters\\\\681057-kuai-shu-zhi-da-lian-kuang-mo_eOz3e_4c.jpg',\n",
       "  'data/posters\\\\683671-the-fairy-and-the-bald-idol_BK8ZV_4c.jpg',\n",
       "  'data/posters\\\\684131-desperate-woman_wB4oY_4c.jpg',\n",
       "  'data/posters\\\\685961-the-victory-academy_eqgne_4c.jpg',\n",
       "  'data/posters\\\\686117-kan-wan-shan-hong-bian_w1Qjg_4c.jpg',\n",
       "  'data/posters\\\\686337-long-cheng-bao-dao_RwjJV_4c.jpg',\n",
       "  'data/posters\\\\687501-agent-family-wagaya-no-tokushu-ninmu_E1n7m_4c.jpg',\n",
       "  'data/posters\\\\689211-the-shinru-of-hash_2RPw7_4c.jpg',\n",
       "  'data/posters\\\\689831-someday-or-one-day_1BPqy_4c.jpg',\n",
       "  'data/posters\\\\693737-lhom-pud-parn-dao_EVzp5_4c.jpg',\n",
       "  'data/posters\\\\694757-oasis_EweyW_4c.jpg',\n",
       "  'data/posters\\\\695711-open-the-door_EKbob_4c.jpg',\n",
       "  'data/posters\\\\69765-the-land-of-miracles_26ZRw_4c.jpg',\n",
       "  'data/posters\\\\69819-cabriole_B6LNA_4c.jpg',\n",
       "  'data/posters\\\\698685-wo-de-nv-you-shi-jieyao_026e7_4c.jpg',\n",
       "  'data/posters\\\\700443-goodbye-romance_pw3Yn_4c.jpg',\n",
       "  'data/posters\\\\701635-no-kids_11Vw3_4c.jpg',\n",
       "  'data/posters\\\\701881-hounds_jDmAB_4c.jpg',\n",
       "  'data/posters\\\\703025-pamyo_66VKp_4c.jpg',\n",
       "  'data/posters\\\\703415-new-journey-to-the-west-season-9_EEzQ7_4c.jpg',\n",
       "  'data/posters\\\\703733-get-rich_eev6Q_4c.jpg',\n",
       "  'data/posters\\\\704535-killer-queen_e635Y_4c.jpg',\n",
       "  'data/posters\\\\704883-kingdom-the-crown-prince_1yzkd_4c.jpg',\n",
       "  'data/posters\\\\705077-courier_e22NK_4c.jpg',\n",
       "  'data/posters\\\\705621-real-man_1J2J7_4c.jpg',\n",
       "  'data/posters\\\\705671-my-man-is-cupid_k1Bwr_4c.jpg',\n",
       "  'data/posters\\\\705721-sweet-home-2_2j0rw_4c.jpg',\n",
       "  'data/posters\\\\705863-kill-bok-soon_q06PD_4c.jpg',\n",
       "  'data/posters\\\\706227-star-struck_wQ278_4c.jpg',\n",
       "  'data/posters\\\\706581-untitled-song-hye-kyo-and-lee-eung-bok-pd-drama_421Wd_4c.jpg',\n",
       "  'data/posters\\\\707575-money-game_pb1XB_4c.jpg',\n",
       "  'data/posters\\\\707577-windbreaker_6ABWg_4c.jpg',\n",
       "  'data/posters\\\\708313-voice-5_jJ5lr_4c.jpg',\n",
       "  'data/posters\\\\708557-cruel-mrs-ae-ran_wQ4ZY_4c.jpg',\n",
       "  'data/posters\\\\708775-celebrity_W6drp_4c.jpg',\n",
       "  'data/posters\\\\708917-hive_q6nod_4c.jpg',\n",
       "  'data/posters\\\\709247-space-sweepers-2_p6vpQ_4c.jpg',\n",
       "  'data/posters\\\\709685-hwanyeo_d6xwe_4c.jpg',\n",
       "  'data/posters\\\\709879-the-incident_4VR7J_4c.jpg',\n",
       "  'data/posters\\\\710855-blood-riding-love_xlRmr_4c.jpg',\n",
       "  'data/posters\\\\710859-sad-tropical_X6qgp_4c.jpg',\n",
       "  'data/posters\\\\710987-aquaman_d6lgg_4c.jpg',\n",
       "  'data/posters\\\\711173-thief_xl3rq_4c.jpg',\n",
       "  'data/posters\\\\711331-2-o-clock-date_2WmOP_4c.jpg',\n",
       "  'data/posters\\\\711569-out-of-the-blue_dDyLz_4c.jpg',\n",
       "  'data/posters\\\\711627-hospital-playlist-2-special_eq8Lp_4c.jpg',\n",
       "  'data/posters\\\\712333-gangster_0Pey7_4c.jpg',\n",
       "  'data/posters\\\\712407-super-note_WDlN5_4c.jpg',\n",
       "  'data/posters\\\\712521-tale-of-the-nine-tailed-season-2_XxNOO_4c.jpg',\n",
       "  'data/posters\\\\712523-tale-of-the-nine-tailed-season-3_EWoQ0_4c.jpg',\n",
       "  'data/posters\\\\712913-rikon-shiyou-yo_xdLvw_4c.jpg',\n",
       "  'data/posters\\\\713365-concrete-market_qXylB_4c.jpg',\n",
       "  'data/posters\\\\713549-d-p-season-2_x3lWj_4c.jpg',\n",
       "  'data/posters\\\\713703-love-afloat_e4RBn_4c.jpg',\n",
       "  'data/posters\\\\713829-witch-notes_2Y5y2_4c.jpg',\n",
       "  'data/posters\\\\714071-bungee-jumping-of-their-own_pEpAV_4c.jpg',\n",
       "  'data/posters\\\\714205-house-in-love_kZn3v_4c.jpg',\n",
       "  'data/posters\\\\714241-mae-kong_dmDnz_4c.jpg',\n",
       "  'data/posters\\\\714707-follow-the-wind_2Y13k_4c.jpg',\n",
       "  'data/posters\\\\714709-bon-appetit_RlwZg_4c.jpg',\n",
       "  'data/posters\\\\714881-harbin_kbAlj_4c.jpg',\n",
       "  'data/posters\\\\715361-love-affair_qKwrK_4c.jpg',\n",
       "  'data/posters\\\\715439-shark-season-2_rQxOD_4c.jpg',\n",
       "  'data/posters\\\\715503-mask-girl_xqw83_4c.jpg',\n",
       "  'data/posters\\\\715657-timetable_v4Ee2_4c.jpg',\n",
       "  'data/posters\\\\716297-kanrikan-king_ZxOkj_4c.jpg',\n",
       "  'data/posters\\\\717141-spring-in-seoul_2K7kR_4c.jpg',\n",
       "  'data/posters\\\\717539-the-devil_2KPxd_4c.jpg',\n",
       "  'data/posters\\\\718109-doctor-cha-jung-sook_Q6LPW_4c.jpg',\n",
       "  'data/posters\\\\718859-rak-sood-jai-yai-tua-saeb_Xolpx_4c.jpg',\n",
       "  'data/posters\\\\719367-the-world-s-worst-boy_EOY1p_4c.jpg',\n",
       "  'data/posters\\\\720639-trouble-maker_11Jk5_4c.jpg',\n",
       "  'data/posters\\\\720647-sorceror_WRKqW_4c.jpg',\n",
       "  'data/posters\\\\720737-morning-comes-to-the-mental-ward_qZ6O8_4c.jpg',\n",
       "  'data/posters\\\\721011-doctor-john-2_eee3W_4c.jpg',\n",
       "  'data/posters\\\\721049-hot-bamee-and-yummy-gyogung_dqrDK_4c.jpg',\n",
       "  'data/posters\\\\721085-the-eighth-sense_EO1PW_4c.jpg',\n",
       "  'data/posters\\\\721135-beneficial-fraud_X5jxO_4c.jpg',\n",
       "  'data/posters\\\\721477-mission-to-impossible_26YDk_4c.jpg',\n",
       "  'data/posters\\\\721627-end-love_jnlvJ_4c.jpg',\n",
       "  'data/posters\\\\722171-first-frost_eArOQ_4c.jpg',\n",
       "  'data/posters\\\\723247-lee-doo-na_1B1WQ_4c.jpg',\n",
       "  'data/posters\\\\723281-vampire-chef_qm3R8_4c.jpg',\n",
       "  'data/posters\\\\723383-eul-s-love_R77KR_4c.jpg',\n",
       "  'data/posters\\\\723547-men-want-the-first-women-want-the-last_BPAy1_4c.jpg',\n",
       "  'data/posters\\\\723833-possession_E1mn0_4c.jpg',\n",
       "  'data/posters\\\\723885-the-worst-evil_20w8V_4c.jpg',\n",
       "  'data/posters\\\\724177-exelixia_k8vkv_4c.jpg',\n",
       "  'data/posters\\\\724265-after_0rxyE_4c.jpg',\n",
       "  'data/posters\\\\724633-love-do-it_WZAzl_4c.jpg',\n",
       "  'data/posters\\\\724645-just-a-girl-he-knows_EB3Nb_4c.jpg',\n",
       "  'data/posters\\\\724647-georae_jdb3w_4c.jpg',\n",
       "  'data/posters\\\\724829-angel-flight_1yzgy_4c.jpg',\n",
       "  'data/posters\\\\725367-untitled-park-ji-eun-project_eAQQK_4c.jpg',\n",
       "  'data/posters\\\\725465-i-love-you-too_0rggk_4c.jpg',\n",
       "  'data/posters\\\\725573-i-m-serious-about-dating_ZVe6L_4c.jpg',\n",
       "  'data/posters\\\\725749-ballerina_Rolvx_4c.jpg',\n",
       "  'data/posters\\\\72607-still-life_kwpEO_4c.jpg',\n",
       "  'data/posters\\\\726273-king-the-lander_RowpE_4c.jpg',\n",
       "  'data/posters\\\\726285-pilot_1yDP7_4c.jpg',\n",
       "  'data/posters\\\\726783-seven-escape_E6wDz_4c.jpg',\n",
       "  'data/posters\\\\727253-taereung-zombie-village_6DL2j_4c.jpg',\n",
       "  'data/posters\\\\727315-pachinko-season-2_j7xWB_4c.jpg',\n",
       "  'data/posters\\\\727867-the-good-man_j7ZKB_4c.jpg',\n",
       "  'data/posters\\\\728977-sweet-and-warm_BX7eA_4c.jpg',\n",
       "  'data/posters\\\\728985-the-miracle-brothers_06nA7_4c.jpg',\n",
       "  'data/posters\\\\729841-heesu-in-class-2_wpKOn_4c.jpg',\n",
       "  'data/posters\\\\730125-the-great-flood_R6r3Y_4c.jpg',\n",
       "  'data/posters\\\\731187-sweet-home-3_Ez1e7_4c.jpg',\n",
       "  'data/posters\\\\731381-game-gohng-game_Qz0q4_4c.jpg',\n",
       "  'data/posters\\\\731681-namnam_288pP_4c.jpg',\n",
       "  'data/posters\\\\731705-dominant-species_WLeo5_4c.jpg',\n",
       "  'data/posters\\\\731827-hwaran_po6K8_4c.jpg',\n",
       "  'data/posters\\\\731941-lok-mun-rab-te_QZ5zA_4c.jpg',\n",
       "  'data/posters\\\\731965-the-goryeo-khitan-war_v036q_4c.jpg',\n",
       "  'data/posters\\\\732161-the-gray_xDl60_4c.jpg',\n",
       "  'data/posters\\\\732363-summer-vacation_W2EBm_4c.jpg',\n",
       "  'data/posters\\\\732527-the-world-s-little-mad-doctor_w57rp_4c.jpg',\n",
       "  'data/posters\\\\733317-happy-merry-ending_WYO6W_4c.jpg',\n",
       "  'data/posters\\\\733387-liquor_6YJb2_4c.jpg',\n",
       "  'data/posters\\\\733393-bts-monuments-beyond-the-star_j5P1d_4c.jpg',\n",
       "  'data/posters\\\\733399-love-puzzle_d7mDd_4c.jpg',\n",
       "  'data/posters\\\\733807-jam-laeng-rak_033A6_4c.jpg',\n",
       "  'data/posters\\\\733821-lovers_j5zNO_4c.jpg',\n",
       "  'data/posters\\\\733871-transplant_RDq8o_4c.jpg',\n",
       "  'data/posters\\\\734275-tao-tie-niang-zi_R6YAz_4c.jpg',\n",
       "  'data/posters\\\\734371-hip_Zlzg8_4c.jpg',\n",
       "  'data/posters\\\\734713-sat-sau-fai-j_vVWxD_4c.jpg',\n",
       "  'data/posters\\\\734799-honto-ni-atta-kowai-hanashi-summer-special-2022_ekR5E_4c.jpg',\n",
       "  'data/posters\\\\7350-fist-fighting_jKzEy_4c.jpg',\n",
       "  'data/posters\\\\735019-happy-boy_rP5Pp_4c.jpg',\n",
       "  'data/posters\\\\735043-life_26zpP_4c.jpg',\n",
       "  'data/posters\\\\735261-is-it-fate_66l3K_4c.jpg',\n",
       "  'data/posters\\\\735603-tanman_46dr1_4c.jpg',\n",
       "  'data/posters\\\\735763-see-you-after-work_B6E77_4c.jpg',\n",
       "  'data/posters\\\\735945-rak-ray_ek6vQ_4c.jpg',\n",
       "  'data/posters\\\\736603-a-very-lucky-day_XYLpq_4c.jpg',\n",
       "  'data/posters\\\\736639-30-days_pywvb_4c.jpg',\n",
       "  'data/posters\\\\736643-oh-youngsimi_rP4bE_4c.jpg',\n",
       "  'data/posters\\\\736691-rak-thum-tung_vV08p_4c.jpg',\n",
       "  'data/posters\\\\736953-flower-of-death_ZpqmJ_4c.jpg',\n",
       "  'data/posters\\\\737225-jie-zi-gui-cheng_r4qqZ_4c.jpg',\n",
       "  'data/posters\\\\737309-shin-nobunaga-kouki-gaiden_jkXqw_4c.jpg',\n",
       "  'data/posters\\\\737545-show-music-core-coin-karaoke_v0q4D_4c.jpg',\n",
       "  'data/posters\\\\737549-kimi-ni-todoke_2pz2k_4c.jpg',\n",
       "  'data/posters\\\\737591-heart-is-beating_xZx6r_4c.jpg',\n",
       "  'data/posters\\\\737697-hail-to-hell_xZxXw_4c.jpg',\n",
       "  'data/posters\\\\738123-park-ha-kyung-travel-diary_R1nJR_4c.jpg',\n",
       "  'data/posters\\\\738193-la-pluie_xVx1w_4c.jpg',\n",
       "  'data/posters\\\\738599-us_EKLAz_4c.jpg',\n",
       "  'data/posters\\\\738645-my-x-like-20_QDRjA_4c.jpg',\n",
       "  'data/posters\\\\738683-no-secret_BkV0z_4c.jpg',\n",
       "  'data/posters\\\\738823-pure-boxer_2pKnR_4c.jpg',\n",
       "  'data/posters\\\\740073-mu-prab-maha-wut_jKAEy_4c.jpg',\n",
       "  'data/posters\\\\740165-hijacking_poW1n_4c.jpg',\n",
       "  'data/posters\\\\740197-a-house-with-a-yard_XnemO_4c.jpg',\n",
       "  'data/posters\\\\740743-zhong-dou-de-gua_w1e8n_4c.jpg',\n",
       "  'data/posters\\\\740805-analog-squad_edjqY_4c.jpg',\n",
       "  'data/posters\\\\740907-hi-cookie_XnOZx_4c.jpg',\n",
       "  'data/posters\\\\741001-love-is-right_2R5QE_4c.jpg',\n",
       "  'data/posters\\\\741645-zhu-yu-zai-ce-jun-ke-zhi_BQ487_4c.jpg',\n",
       "  'data/posters\\\\741683-nan-sheng-qin-shi-233_ed2yE_4c.jpg',\n",
       "  'data/posters\\\\741693-wongsakanayat_BQzr5_4c.jpg',\n",
       "  'data/posters\\\\741697-kong-gang_qrdn2_4c.jpg',\n",
       "  'data/posters\\\\741707-ai-qing-kai-dai-ji-shi_kQj7m_4c.jpg',\n",
       "  'data/posters\\\\741783-girlfriend-project-day-1-season-2_WO8YD_4c.jpg',\n",
       "  'data/posters\\\\741811-shadow-detective-season-2_Q3LD5_4c.jpg',\n",
       "  'data/posters\\\\741833-fence_ryjnZ_4c.jpg',\n",
       "  'data/posters\\\\741909-walkman-season-2_ed40p_4c.jpg',\n",
       "  'data/posters\\\\741935-ro-gi-wan_02nvk_4c.jpg',\n",
       "  'data/posters\\\\741937-super-couple_ed4pn_4c.jpg',\n",
       "  'data/posters\\\\741939-stranger-season-3_vD7pZ_4c.jpg',\n",
       "  'data/posters\\\\742107-fai-nam-kang_poLpV_4c.jpg',\n",
       "  'data/posters\\\\742187-royal-loader_EmOZm_4c.jpg',\n",
       "  'data/posters\\\\742191-big-family_ryDXE_4c.jpg',\n",
       "  'data/posters\\\\742193-youn-s-kitchen-season-3_6jOZW_4c.jpg',\n",
       "  'data/posters\\\\742269-matching_Q3Oz6_4c.jpg',\n",
       "  'data/posters\\\\742271-the-woman-who-plays_4XOvK_4c.jpg',\n",
       "  'data/posters\\\\742441-start-up_edp8K_4c.jpg',\n",
       "  'data/posters\\\\742447-slyth-the-hunt-saga_EmzJp_4c.jpg',\n",
       "  'data/posters\\\\742611-maestra_ZYl4W_4c.jpg',\n",
       "  'data/posters\\\\742649-re-la-gun-tang_vDVnq_4c.jpg',\n",
       "  'data/posters\\\\742695-national-death-penalty-vote_d0rRnA_4c.jpg',\n",
       "  'data/posters\\\\742725-handwritten_2RR5V_4c.jpg',\n",
       "  'data/posters\\\\742727-persist-until-the-end_WOOeX_4c.jpg',\n",
       "  'data/posters\\\\742731-gyeongseong-creature-season-2_6jjAO_4c.jpg',\n",
       "  'data/posters\\\\742981-second-chance_21m3V_4c.jpg',\n",
       "  'data/posters\\\\743119-the-real-thing-appears_dpz6W_4c.jpg',\n",
       "  'data/posters\\\\743233-bump-up-business_eOlwd_4c.jpg',\n",
       "  'data/posters\\\\743235-remember_w50Dn_4c.jpg',\n",
       "  'data/posters\\\\743655-ji-sheng_w5VxA_4c.jpg',\n",
       "  'data/posters\\\\743683-flowers-that-bloom-at-night_eOEye_4c.jpg',\n",
       "  'data/posters\\\\743685-silent-documentary_Wy3v3_4c.jpg',\n",
       "  'data/posters\\\\743727-how-women-kill_eOoPW_4c.jpg',\n",
       "  'data/posters\\\\743729-wo-de-chong-sheng-di-ji_X0bRZ_4c.jpg',\n",
       "  'data/posters\\\\743779-unexpected-business-season-3_0ZdKY_4c.jpg',\n",
       "  'data/posters\\\\743867-don-t-call-it-mystery-the-movie_1D8xK_4c.jpg',\n",
       "  'data/posters\\\\743877-four-lords_rB3R2_4c.jpg',\n",
       "  'data/posters\\\\743895-cheongdam-international-high-school_0Ze4Y_4c.jpg',\n",
       "  'data/posters\\\\744065-hyde_rBlbm_4c.jpg',\n",
       "  'data/posters\\\\744073-taisetsu-wo-sagashite_4vA3Y_4c.jpg',\n",
       "  'data/posters\\\\744133-bian-shui-wang-shi_w5DVp_4c.jpg',\n",
       "  'data/posters\\\\744135-the-killer-s-shopping-mall_Wyq3m_4c.jpg',\n",
       "  'data/posters\\\\744195-mina-ni-ko-are_q7NN0_4c.jpg',\n",
       "  'data/posters\\\\744259-cho-ningen-yosai-hiroshi-senki_EAn6W_4c.jpg',\n",
       "  'data/posters\\\\744271-emergency-couple_w5Q2A_4c.jpg',\n",
       "  'data/posters\\\\744307-accounting-firm_21lLk_4c.jpg',\n",
       "  'data/posters\\\\744345-house-of-the-owl_WyDPl_4c.jpg',\n",
       "  'data/posters\\\\744347-soundtrack-2_BXWd6_4c.jpg',\n",
       "  'data/posters\\\\744349-the-zone-survival-mission-season-2_w5bOA_4c.jpg',\n",
       "  'data/posters\\\\744353-big-bet-season-2_klnvO_4c.jpg',\n",
       "  'data/posters\\\\744355-wonderhatch-soratobu-ryu-no-shima_0ZP4E_4c.jpg',\n",
       "  'data/posters\\\\744485-the-taste-of-fresh-milk_21ebd_4c.jpg',\n",
       "  'data/posters\\\\74885-blazing-sunlight_v0Qx8_4c.jpg',\n",
       "  'data/posters\\\\75835-bitter-sweet_4W2qK_4c.jpg',\n",
       "  'data/posters\\\\76695-queen-maker_QALDA_4c.jpg',\n",
       "  'data/posters\\\\78121-younger_wP3DJ_4c.jpg',\n",
       "  'data/posters\\\\78659-my-lucky-star_6wB8K_4c.jpg',\n",
       "  'data/posters\\\\78963-romantic-factory_42AOY_4c.jpg',\n",
       "  'data/posters\\\\8399-botox_jO5Lv_4c.jpg'],\n",
       " ['data/posters\\\\16713-ten-years_kvmD8c.jpg',\n",
       "  'data/posters\\\\19786-challenge-game_LBPQyc.jpg',\n",
       "  'data/posters\\\\21411-futari_zEJbOc.jpg',\n",
       "  'data/posters\\\\24351-im-not-a-robot_X4LAdc.jpg',\n",
       "  'data/posters\\\\2634-spring-summer-autumn-winter...-and-spring_wj0X1c.jpg',\n",
       "  'data/posters\\\\27212-miss-devil-hr-s-devil-mako-tsubaki_yEA04c.jpg',\n",
       "  'data/posters\\\\27341-2014-idol-star-athletics-championships_gZ40Xc.jpg',\n",
       "  'data/posters\\\\28003-i-m-not-a-robot-special_kkX4bc.jpg',\n",
       "  'data/posters\\\\29616-real-class-elementary-school_ndQoxc.jpg',\n",
       "  'data/posters\\\\31013-off-the-boyz_24RzEc.jpg',\n",
       "  'data/posters\\\\37577-vixx-tv-3_B2mk1c.jpg',\n",
       "  'data/posters\\\\38715-in-my-mind-the-series_Z1w7Wc.jpg',\n",
       "  'data/posters\\\\48663-o2_eRqZpc.jpg',\n",
       "  'data/posters\\\\49021-channie-s-room_vl0Ve_4c.jpg',\n",
       "  'data/posters\\\\57243-love-sick-the-movie_2qvlRc.jpg',\n",
       "  'data/posters\\\\57379-johnny-s-communication-center_WvV3Oc.jpg',\n",
       "  'data/posters\\\\58623-txt-episode_dA415c.jpg',\n",
       "  'data/posters\\\\61103-if-seventeen_ZwrpJ_4c.jpg',\n",
       "  'data/posters\\\\62015-sometoon_q6E3B_4c.jpg',\n",
       "  'data/posters\\\\67925-itadaki-high-jump-pilot_EQJ4m_4c.jpg',\n",
       "  'data/posters\\\\695573-i-love-you-today_48BWZ_4c.jpg',\n",
       "  'data/posters\\\\69979-2020-idol-woof-woof-athletics-championships-chuseok-special_QPok4_4c.jpg',\n",
       "  'data/posters\\\\701081-summer-new-residence_xO4By_4c.jpg',\n",
       "  'data/posters\\\\711371-inssa-oppa-season-5_EW7y5_4c.jpg',\n",
       "  'data/posters\\\\712921-nadao-s-vlog_jDBwB_4c.jpg',\n",
       "  'data/posters\\\\713307-kick-a-goal-season-2_EWAK5_4c.jpg',\n",
       "  'data/posters\\\\717829-qu-yuan_vLBNq_4c.jpg',\n",
       "  'data/posters\\\\720787-ske48-no-mikanzen-tv_2Vlyk_4c.jpg',\n",
       "  'data/posters\\\\72187-love-and-redemption-2_xymLr_4c.jpg',\n",
       "  'data/posters\\\\72321-boyfriends-challenge_172q7_4c.jpg',\n",
       "  'data/posters\\\\723377-life-after-one-minute_R7EQE_4c.jpg',\n",
       "  'data/posters\\\\731545-my-alcohol-diary_6RoVO_4c.jpg',\n",
       "  'data/posters\\\\732319-dreamcatcher-s-vlog_wZx0n_4c.jpg',\n",
       "  'data/posters\\\\732943-shadow_jzpPw_4c.jpg',\n",
       "  'data/posters\\\\733459-sing-china-season-7_XL7YO_4c.jpg',\n",
       "  'data/posters\\\\733509-ting-shuo-hen-hao-chi-2_B8VB7_4c.jpg',\n",
       "  'data/posters\\\\737993-be-my-baby_qmlld_4c.jpg',\n",
       "  'data/posters\\\\739241-shang-yuan-jin-xiu_vDnEe_4c.jpg',\n",
       "  'data/posters\\\\743187-what-s-nct_ZZ5Pq_4c.jpg',\n",
       "  'data/posters\\\\77809-imera_xWdX3_4c.jpg',\n",
       "  'data/posters\\\\955-kaette-kita-jikou-keisatsu_9oQexc.jpg'],\n",
       " ['data/posters\\\\11123-scarlet-innocence_nOpREc.jpg',\n",
       "  'data/posters\\\\18932-savage-heat_lERdbc.jpg',\n",
       "  'data/posters\\\\29116-the-call_RAn8oc.jpg',\n",
       "  'data/posters\\\\29660-got2day_NrbZRc.jpg',\n",
       "  'data/posters\\\\32615-the-road_rqEk7c.jpg',\n",
       "  'data/posters\\\\34197-t-time_RvKYr_4c.jpg',\n",
       "  'data/posters\\\\34631-everglow-s-epic-log_QKVEgc.jpg',\n",
       "  'data/posters\\\\35271-a-straight-man-like-you_xmeZ0c.jpg',\n",
       "  'data/posters\\\\37743-n_k3wb8_4c.jpg',\n",
       "  'data/posters\\\\38743-got2day_pvbx8c.jpg',\n",
       "  'data/posters\\\\53105-so-you_xXJjwc.jpg',\n",
       "  'data/posters\\\\54723-wayv-ariety-play-v_R3YdVc.jpg',\n",
       "  'data/posters\\\\58155-itzy-it-z-tourbook-2-usa_012QOc.jpg',\n",
       "  'data/posters\\\\60903-time-to-twice-noraebang-battle_ZodBWc.jpg',\n",
       "  'data/posters\\\\61009-living_QllB5_4c.jpg',\n",
       "  'data/posters\\\\61247-kalel-15_RJ5jgc.jpg',\n",
       "  'data/posters\\\\62141-twice-tv-more-more_ejyY8c.jpg',\n",
       "  'data/posters\\\\64553-unconditional_RXkXV_4c.jpg',\n",
       "  'data/posters\\\\681205-time-to-twice-crime-scene_jejkw_4c.jpg',\n",
       "  'data/posters\\\\681279-lodi-x_vxEm2_4c.jpg',\n",
       "  'data/posters\\\\682073-month-settlement-by-enhypen_B62R5_4c.jpg',\n",
       "  'data/posters\\\\682435-ehypen-episode_xy0Wq_4c.jpg',\n",
       "  'data/posters\\\\687705-blackpink-the-show-behind_jYoOz_4c.jpg',\n",
       "  'data/posters\\\\702577-ushiku_eQAv8_4c.jpg',\n",
       "  'data/posters\\\\709091-channel-9_j6Wxd_4c.jpg',\n",
       "  'data/posters\\\\709661-just-do-it_X6rXq_4c.jpg',\n",
       "  'data/posters\\\\71835-note_v32Vg_4c.jpg',\n",
       "  'data/posters\\\\720243-stars-academy-season-2_Wpol3_4c.jpg',\n",
       "  'data/posters\\\\723493-a-road_BPA1l_4c.jpg',\n",
       "  'data/posters\\\\730493-the-elephant-joke_1nZB3_4c.jpg',\n",
       "  'data/posters\\\\733383-triples-sweets_XLkpg_4c.jpg',\n",
       "  'data/posters\\\\733385-triples-sssignal_B8z85_4c.jpg',\n",
       "  'data/posters\\\\734069-miss-who_B8Rl7_4c.jpg',\n",
       "  'data/posters\\\\734687-the-heirs_E6w25_4c.jpg',\n",
       "  'data/posters\\\\735995-triples-secretbase_vVBqD_4c.jpg',\n",
       "  'data/posters\\\\738609-yours_BkLR6_4c.jpg',\n",
       "  'data/posters\\\\738635-china-style-season-3_R1lWr_4c.jpg',\n",
       "  'data/posters\\\\744379-single8_BXWmb_4c.jpg',\n",
       "  'data/posters\\\\744491-suchwita_1DRpy_4c.jpg',\n",
       "  'data/posters\\\\78819-kingdom_WqoOm_4c.jpg'],\n",
       " ['data/posters\\\\31144-something-happened-in-bali_r62E7_4c.jpg',\n",
       "  'data/posters\\\\704081-snow-white-must-die_e68LK_4c.jpg',\n",
       "  'data/posters\\\\71577-because-of-you-2_eZN3E_4c.jpg',\n",
       "  'data/posters\\\\721889-useless-lies_jnrpb_4c.jpg',\n",
       "  'data/posters\\\\722193-the-villainess-of-the-century_rAXqy_4c.jpg',\n",
       "  'data/posters\\\\722195-fight-on-yeo-manager_48x06_4c.jpg',\n",
       "  'data/posters\\\\722197-gaydar-girl_QEyK4_4c.jpg',\n",
       "  'data/posters\\\\722199-jogukkkwa-minjok_eZbve_4c.jpg',\n",
       "  'data/posters\\\\722205-killing-stalking_BPZ0z_4c.jpg',\n",
       "  'data/posters\\\\727983-joseon-lawyer_rKQJm_4c.jpg',\n",
       "  'data/posters\\\\728033-perfect-admirer_W0K5P_4c.jpg',\n",
       "  'data/posters\\\\728563-race_4PZXZ_4c.jpg',\n",
       "  'data/posters\\\\728585-the-couple-are-playing_6DRRK_4c.jpg',\n",
       "  'data/posters\\\\729303-the-murderer-and-the-toy_wpA1b_4c.jpg',\n",
       "  'data/posters\\\\730485-hellbound-season-2_XpNpX_4c.jpg',\n",
       "  'data/posters\\\\730561-family_jpwob_4c.jpg',\n",
       "  'data/posters\\\\730903-unwritten-law_wpbYg_4c.jpg',\n",
       "  'data/posters\\\\732599-nara-who-wants-to-become-an-insider_038jO_4c.jpg',\n",
       "  'data/posters\\\\732627-han-river_RDbKx_4c.jpg',\n",
       "  'data/posters\\\\732723-veteran-2_q4Pm2_4c.jpg',\n",
       "  'data/posters\\\\732969-family-gravesite_ZnXXY_4c.jpg',\n",
       "  'data/posters\\\\733003-bad-mother_vP6KZ_4c.jpg',\n",
       "  'data/posters\\\\733475-ms-lee-who-kills_Znypq_4c.jpg',\n",
       "  'data/posters\\\\736969-pinocchio_qmn65_4c.jpg',\n",
       "  'data/posters\\\\736975-uncle-samsik_EK7Lz_4c.jpg',\n",
       "  'data/posters\\\\737001-grace-no-rireki_dERZ0_4c.jpg',\n",
       "  'data/posters\\\\737003-whirlwind_BkpNR_4c.jpg',\n",
       "  'data/posters\\\\737137-0-confession-1st-round_0WO67_4c.jpg',\n",
       "  'data/posters\\\\737445-happiness-battle_QDppv_4c.jpg',\n",
       "  'data/posters\\\\737743-vip_EKZV5_4c.jpg',\n",
       "  'data/posters\\\\737971-sajangdol-mart_WLqYP_4c.jpg',\n",
       "  'data/posters\\\\739073-square-pavilion_42n3k_4c.jpg',\n",
       "  'data/posters\\\\739119-the-condor-heroes_r4P5N_4c.jpg',\n",
       "  'data/posters\\\\739355-i-ve-been-waiting-for-you-for-a-long-time_42K71_4c.jpg',\n",
       "  'data/posters\\\\739437-ye-ye-xiang-jian-bu-shi-jun_xV6Ez_4c.jpg',\n",
       "  'data/posters\\\\739463-finnish-papa_BQvgq_4c.jpg',\n",
       "  'data/posters\\\\739469-i-m-short-of-money_kQzxO_4c.jpg',\n",
       "  'data/posters\\\\739603-sparkling-watermelon_edYNQ_4c.jpg',\n",
       "  'data/posters\\\\744311-doctor-slump_w5RLk_4c.jpg']]"
      ]
     },
     "execution_count": 60,
     "metadata": {},
     "output_type": "execute_result"
    }
   ],
   "source": [
    "sorted(tup2posterpaths.values(), key=len, reverse=True)[:4]"
   ]
  },
  {
   "cell_type": "code",
   "execution_count": null,
   "id": "77f9da50-e22d-406e-9291-aaba89c3d873",
   "metadata": {},
   "outputs": [],
   "source": []
  }
 ],
 "metadata": {
  "kernelspec": {
   "display_name": "Python 3 (ipykernel)",
   "language": "python",
   "name": "python3"
  },
  "language_info": {
   "codemirror_mode": {
    "name": "ipython",
    "version": 3
   },
   "file_extension": ".py",
   "mimetype": "text/x-python",
   "name": "python",
   "nbconvert_exporter": "python",
   "pygments_lexer": "ipython3",
   "version": "3.10.5"
  }
 },
 "nbformat": 4,
 "nbformat_minor": 5
}
