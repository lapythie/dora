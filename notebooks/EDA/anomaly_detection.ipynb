{
 "cells": [
  {
   "cell_type": "code",
   "execution_count": 1,
   "id": "78ff8982-ac6e-4976-9655-42c2b3c55118",
   "metadata": {},
   "outputs": [],
   "source": [
    "import json\n",
    "import numpy as np\n",
    "import pandas as pd\n",
    "from collections import Counter\n",
    "\n",
    "from nltk import word_tokenize, sent_tokenize\n",
    "\n",
    "from tqdm.auto import tqdm\n",
    "tqdm.pandas()\n",
    "\n",
    "pd.set_option('display.max_colwidth', 200)"
   ]
  },
  {
   "cell_type": "code",
   "execution_count": 2,
   "id": "161b4803-4e64-40ac-b3e5-5cca5b8922df",
   "metadata": {},
   "outputs": [],
   "source": [
    "with open(\"../data/href2synopsis.json\", encoding=\"utf-8\") as f:\n",
    "    href2synopsis = json.load(f)"
   ]
  },
  {
   "cell_type": "markdown",
   "id": "d74f6694-1997-4e2a-aa8d-845e73c0150f",
   "metadata": {},
   "source": [
    "    Takeaways:\n",
    "        - replace \\n or \\r sequences with single \\n\n",
    "        - use language-specific tokenizer"
   ]
  },
  {
   "cell_type": "markdown",
   "id": "8a2190a7-a0b1-46ea-b8cb-9e995fd1ff91",
   "metadata": {},
   "source": [
    "# BOW stats\n",
    "    # TODO: add actual bow stats"
   ]
  },
  {
   "cell_type": "code",
   "execution_count": 61,
   "id": "05b12d69-ed5e-456b-a366-7de2226a5796",
   "metadata": {},
   "outputs": [],
   "source": [
    "data = pd.DataFrame()\n",
    "\n",
    "data[\"href\"] = href2synopsis.keys()\n",
    "data[\"synopsis\"] = href2synopsis.values()"
   ]
  },
  {
   "cell_type": "code",
   "execution_count": 62,
   "id": "2e34ca49-9d27-46ce-9db5-f449166f6ab2",
   "metadata": {},
   "outputs": [],
   "source": [
    "data = data[data[\"synopsis\"] != \"\"]"
   ]
  },
  {
   "cell_type": "code",
   "execution_count": 63,
   "id": "7544f9ee-3e14-4128-88b3-21a43824cf37",
   "metadata": {},
   "outputs": [],
   "source": [
    "import regex as re\n",
    "\n",
    "data[\"synopsis\"] = data[\"synopsis\"].apply(\n",
    "    lambda x: re.sub(\"\\s*\\n\\s*\", \"\\n\", x).strip()\n",
    ")"
   ]
  },
  {
   "cell_type": "code",
   "execution_count": 44,
   "id": "5f3ee1de-090f-46d6-a82a-334e48342382",
   "metadata": {},
   "outputs": [
    {
     "data": {
      "application/json": {
       "ascii": false,
       "bar_format": null,
       "colour": null,
       "elapsed": 0.019383907318115234,
       "initial": 0,
       "n": 0,
       "ncols": null,
       "nrows": 31,
       "postfix": null,
       "prefix": "",
       "rate": null,
       "total": 18374,
       "unit": "it",
       "unit_divisor": 1000,
       "unit_scale": false
      },
      "application/vnd.jupyter.widget-view+json": {
       "model_id": "8b0e0a63bf2d46aea4aabb820e1d8847",
       "version_major": 2,
       "version_minor": 0
      },
      "text/plain": [
       "  0%|          | 0/18374 [00:00<?, ?it/s]"
      ]
     },
     "metadata": {},
     "output_type": "display_data"
    }
   ],
   "source": [
    "# data[\"min_ord\"] = data[\"synopsis\"].progress_apply(\n",
    "#     lambda s: min([ord(char) for char in s])\n",
    "# )\n",
    "\n",
    "# data[\"max_ord\"] = data[\"synopsis\"].progress_apply(\n",
    "#     lambda s: max([ord(char) for char in s])\n",
    "# )\n",
    "\n",
    "# data[\"mean_ord\"] = data[\"synopsis\"].progress_apply(\n",
    "#     lambda s: np.mean([ord(char) for char in s])\n",
    "# )\n",
    "\n",
    "# data[\"median_ord\"] = data[\"synopsis\"].progress_apply(\n",
    "#     lambda s: np.median([ord(char) for char in s])\n",
    "# )\n",
    "\n",
    "# data[\"mode_ord\"] = data[\"synopsis\"].progress_apply(\n",
    "#     lambda s: Counter([ord(char) for char in s]).most_common()[0][0]\n",
    "# )"
   ]
  },
  {
   "cell_type": "code",
   "execution_count": 64,
   "id": "1f507345-ba1b-4d57-9a15-dc8c29e1c811",
   "metadata": {},
   "outputs": [
    {
     "data": {
      "application/json": {
       "ascii": false,
       "bar_format": null,
       "colour": null,
       "elapsed": 0.017493724822998047,
       "initial": 0,
       "n": 0,
       "ncols": null,
       "nrows": 31,
       "postfix": null,
       "prefix": "",
       "rate": null,
       "total": 18374,
       "unit": "it",
       "unit_divisor": 1000,
       "unit_scale": false
      },
      "application/vnd.jupyter.widget-view+json": {
       "model_id": "de2318079a08470eac1338e47a20d01f",
       "version_major": 2,
       "version_minor": 0
      },
      "text/plain": [
       "  0%|          | 0/18374 [00:00<?, ?it/s]"
      ]
     },
     "metadata": {},
     "output_type": "display_data"
    }
   ],
   "source": [
    "# data[\"mode_count\"] = data[\"synopsis\"].progress_apply(\n",
    "#     lambda s: Counter(s).most_common()[0][1]\n",
    "# )\n",
    "\n",
    "data[\"mode_ratio\"] = data[\"synopsis\"].progress_apply(\n",
    "    lambda s: Counter(s).most_common()[0][1]/len(s)\n",
    ")"
   ]
  },
  {
   "cell_type": "code",
   "execution_count": 12,
   "id": "2b001110-3de6-47f6-819b-0fa70adfedb1",
   "metadata": {},
   "outputs": [
    {
     "data": {
      "application/json": {
       "ascii": false,
       "bar_format": null,
       "colour": null,
       "elapsed": 0.02100229263305664,
       "initial": 0,
       "n": 0,
       "ncols": null,
       "nrows": 31,
       "postfix": null,
       "prefix": "",
       "rate": null,
       "total": 18374,
       "unit": "it",
       "unit_divisor": 1000,
       "unit_scale": false
      },
      "application/vnd.jupyter.widget-view+json": {
       "model_id": "c93a97138cb044f2acf1c1f8a8ed5899",
       "version_major": 2,
       "version_minor": 0
      },
      "text/plain": [
       "  0%|          | 0/18374 [00:00<?, ?it/s]"
      ]
     },
     "metadata": {},
     "output_type": "display_data"
    },
    {
     "data": {
      "application/json": {
       "ascii": false,
       "bar_format": null,
       "colour": null,
       "elapsed": 0.04766440391540527,
       "initial": 0,
       "n": 0,
       "ncols": null,
       "nrows": 31,
       "postfix": null,
       "prefix": "",
       "rate": null,
       "total": 18374,
       "unit": "it",
       "unit_divisor": 1000,
       "unit_scale": false
      },
      "application/vnd.jupyter.widget-view+json": {
       "model_id": "ec0363cfd4fc45a4b3295271eaa21045",
       "version_major": 2,
       "version_minor": 0
      },
      "text/plain": [
       "  0%|          | 0/18374 [00:00<?, ?it/s]"
      ]
     },
     "metadata": {},
     "output_type": "display_data"
    },
    {
     "data": {
      "application/json": {
       "ascii": false,
       "bar_format": null,
       "colour": null,
       "elapsed": 0.03160500526428223,
       "initial": 0,
       "n": 0,
       "ncols": null,
       "nrows": 31,
       "postfix": null,
       "prefix": "",
       "rate": null,
       "total": 18374,
       "unit": "it",
       "unit_divisor": 1000,
       "unit_scale": false
      },
      "application/vnd.jupyter.widget-view+json": {
       "model_id": "90969686f7374906846c343549a80da6",
       "version_major": 2,
       "version_minor": 0
      },
      "text/plain": [
       "  0%|          | 0/18374 [00:00<?, ?it/s]"
      ]
     },
     "metadata": {},
     "output_type": "display_data"
    }
   ],
   "source": [
    "data[\"char_total\"] = data[\"synopsis\"].progress_apply(len)\n",
    "data[\"token_total\"] = data[\"synopsis\"].progress_apply(\n",
    "    lambda x: len(word_tokenize(x))\n",
    ")\n",
    "data[\"sent_total\"] = data[\"synopsis\"].progress_apply(\n",
    "    lambda x: len([sent for line in x.split(\"\\n\") for sent in  sent_tokenize(line) if line.strip()])\n",
    ")"
   ]
  },
  {
   "cell_type": "code",
   "execution_count": 27,
   "id": "ecf37e02-fcb7-415d-9bb2-5ef90e7e964f",
   "metadata": {},
   "outputs": [
    {
     "data": {
      "application/json": {
       "ascii": false,
       "bar_format": null,
       "colour": null,
       "elapsed": 0.029372453689575195,
       "initial": 0,
       "n": 0,
       "ncols": null,
       "nrows": 31,
       "postfix": null,
       "prefix": "",
       "rate": null,
       "total": 19393,
       "unit": "it",
       "unit_divisor": 1000,
       "unit_scale": false
      },
      "application/vnd.jupyter.widget-view+json": {
       "model_id": "702511647edf426d9f15c117f07c1693",
       "version_major": 2,
       "version_minor": 0
      },
      "text/plain": [
       "  0%|          | 0/19393 [00:00<?, ?it/s]"
      ]
     },
     "metadata": {},
     "output_type": "display_data"
    }
   ],
   "source": [
    "# data[\"lines_total\"] = data[\"synopsis\"].progress_apply(lambda x: len(x.split(\"\\n\")))"
   ]
  },
  {
   "cell_type": "code",
   "execution_count": 5,
   "id": "7bfe7015-9c56-4eff-af20-1559fb2a9e87",
   "metadata": {},
   "outputs": [
    {
     "data": {
      "application/json": {
       "ascii": false,
       "bar_format": null,
       "colour": null,
       "elapsed": 0.01822948455810547,
       "initial": 0,
       "n": 0,
       "ncols": null,
       "nrows": 31,
       "postfix": null,
       "prefix": "",
       "rate": null,
       "total": 19393,
       "unit": "it",
       "unit_divisor": 1000,
       "unit_scale": false
      },
      "application/vnd.jupyter.widget-view+json": {
       "model_id": "470ea2068d1945ed9d6e4b6daf612183",
       "version_major": 2,
       "version_minor": 0
      },
      "text/plain": [
       "  0%|          | 0/19393 [00:00<?, ?it/s]"
      ]
     },
     "metadata": {},
     "output_type": "display_data"
    },
    {
     "data": {
      "application/json": {
       "ascii": false,
       "bar_format": null,
       "colour": null,
       "elapsed": 0.04676222801208496,
       "initial": 0,
       "n": 0,
       "ncols": null,
       "nrows": 31,
       "postfix": null,
       "prefix": "",
       "rate": null,
       "total": 19393,
       "unit": "it",
       "unit_divisor": 1000,
       "unit_scale": false
      },
      "application/vnd.jupyter.widget-view+json": {
       "model_id": "e6508da238494596b05daeeb866b3b8b",
       "version_major": 2,
       "version_minor": 0
      },
      "text/plain": [
       "  0%|          | 0/19393 [00:00<?, ?it/s]"
      ]
     },
     "metadata": {},
     "output_type": "display_data"
    },
    {
     "data": {
      "application/json": {
       "ascii": false,
       "bar_format": null,
       "colour": null,
       "elapsed": 0.029623746871948242,
       "initial": 0,
       "n": 0,
       "ncols": null,
       "nrows": 31,
       "postfix": null,
       "prefix": "",
       "rate": null,
       "total": 19393,
       "unit": "it",
       "unit_divisor": 1000,
       "unit_scale": false
      },
      "application/vnd.jupyter.widget-view+json": {
       "model_id": "b8aa8ad9b13a4107a05501c44a2488a8",
       "version_major": 2,
       "version_minor": 0
      },
      "text/plain": [
       "  0%|          | 0/19393 [00:00<?, ?it/s]"
      ]
     },
     "metadata": {},
     "output_type": "display_data"
    }
   ],
   "source": [
    "data[\"token_max_char_len\"] = data[\"synopsis\"].progress_apply(\n",
    "    lambda x: max([len(t) for t in word_tokenize(x)]) if x.strip() else 0\n",
    ")\n",
    "\n",
    "data[\"sent_max_char_len\"] = data[\"synopsis\"].progress_apply(\n",
    "    lambda x: max([len(t) for t in sent_tokenize(x)]) if x.strip() else 0\n",
    ")\n",
    "\n",
    "data[\"line_max_char_len\"] = data[\"synopsis\"].progress_apply(\n",
    "    lambda x: max([len(t) for t in x.split(\"\\n\")]) if x.strip() else 0\n",
    ")"
   ]
  },
  {
   "cell_type": "code",
   "execution_count": 16,
   "id": "e6d30ba1-dd5e-4d12-87d8-c7e54047486c",
   "metadata": {},
   "outputs": [],
   "source": [
    "data[\"sent_char_ratio\"] = [t.sent_total/t.char_total for t in data.itertuples()]\n",
    "data[\"sent_token_ratio\"] = [t.sent_total/t.token_total for t in data.itertuples()]\n",
    "data[\"token_char_ratio\"] = [t.token_total/t.char_total for t in data.itertuples()]\n",
    "data[\"token_sent_ratio\"] = [t.token_total/t.sent_total for t in data.itertuples()]\n",
    "data[\"char_sent_ratio\"] = [t.char_total/t.sent_total for t in data.itertuples()]\n",
    "data[\"char_token_ratio\"] = [t.char_total/t.token_total for t in data.itertuples()]"
   ]
  },
  {
   "cell_type": "code",
   "execution_count": 13,
   "id": "37083f6a-439f-4805-8333-cc2268e8e1c6",
   "metadata": {},
   "outputs": [
    {
     "data": {
      "text/html": [
       "<div>\n",
       "<style scoped>\n",
       "    .dataframe tbody tr th:only-of-type {\n",
       "        vertical-align: middle;\n",
       "    }\n",
       "\n",
       "    .dataframe tbody tr th {\n",
       "        vertical-align: top;\n",
       "    }\n",
       "\n",
       "    .dataframe thead th {\n",
       "        text-align: right;\n",
       "    }\n",
       "</style>\n",
       "<table border=\"1\" class=\"dataframe\">\n",
       "  <thead>\n",
       "    <tr style=\"text-align: right;\">\n",
       "      <th></th>\n",
       "      <th>char_total</th>\n",
       "      <th>token_total</th>\n",
       "      <th>sent_total</th>\n",
       "    </tr>\n",
       "  </thead>\n",
       "  <tbody>\n",
       "    <tr>\n",
       "      <th>count</th>\n",
       "      <td>18374</td>\n",
       "      <td>18374</td>\n",
       "      <td>18374</td>\n",
       "    </tr>\n",
       "    <tr>\n",
       "      <th>mean</th>\n",
       "      <td>519</td>\n",
       "      <td>105</td>\n",
       "      <td>5</td>\n",
       "    </tr>\n",
       "    <tr>\n",
       "      <th>std</th>\n",
       "      <td>348</td>\n",
       "      <td>70</td>\n",
       "      <td>3</td>\n",
       "    </tr>\n",
       "    <tr>\n",
       "      <th>min</th>\n",
       "      <td>1</td>\n",
       "      <td>1</td>\n",
       "      <td>1</td>\n",
       "    </tr>\n",
       "    <tr>\n",
       "      <th>25%</th>\n",
       "      <td>262</td>\n",
       "      <td>53</td>\n",
       "      <td>3</td>\n",
       "    </tr>\n",
       "    <tr>\n",
       "      <th>50%</th>\n",
       "      <td>454</td>\n",
       "      <td>92</td>\n",
       "      <td>5</td>\n",
       "    </tr>\n",
       "    <tr>\n",
       "      <th>75%</th>\n",
       "      <td>700</td>\n",
       "      <td>141</td>\n",
       "      <td>7</td>\n",
       "    </tr>\n",
       "    <tr>\n",
       "      <th>max</th>\n",
       "      <td>5799</td>\n",
       "      <td>1201</td>\n",
       "      <td>79</td>\n",
       "    </tr>\n",
       "  </tbody>\n",
       "</table>\n",
       "</div>"
      ],
      "text/plain": [
       "       char_total  token_total  sent_total\n",
       "count       18374        18374       18374\n",
       "mean          519          105           5\n",
       "std           348           70           3\n",
       "min             1            1           1\n",
       "25%           262           53           3\n",
       "50%           454           92           5\n",
       "75%           700          141           7\n",
       "max          5799         1201          79"
      ]
     },
     "execution_count": 13,
     "metadata": {},
     "output_type": "execute_result"
    }
   ],
   "source": [
    "data.describe().astype(int)"
   ]
  },
  {
   "cell_type": "code",
   "execution_count": 66,
   "id": "a9e2f70f-f979-41fd-9510-cefafa51031d",
   "metadata": {},
   "outputs": [],
   "source": [
    "stats = data.drop(columns=[\"href\", \"synopsis\"]) #.drop(columns=[\"line_max_char_len\"])"
   ]
  },
  {
   "cell_type": "markdown",
   "id": "55b0182b-a22c-4772-a131-4192604d0e1d",
   "metadata": {},
   "source": [
    "# Outlier detection\n",
    "\n",
    "[The svm.OneClassSVM is known to be sensitive to outliers and thus does not perform very well for outlier detection](https://scikit-learn.org/stable/modules/outlier_detection.html#outlier-detection)"
   ]
  },
  {
   "cell_type": "code",
   "execution_count": 68,
   "id": "2ab5f722-23fd-4880-b752-36fa8d209af3",
   "metadata": {},
   "outputs": [],
   "source": [
    "from sklearn.neighbors import LocalOutlierFactor\n",
    "from sklearn.ensemble import IsolationForest"
   ]
  },
  {
   "cell_type": "code",
   "execution_count": 69,
   "id": "8a388991-78ad-47dd-817f-9a3f4ffa0b64",
   "metadata": {},
   "outputs": [],
   "source": [
    "clf = LocalOutlierFactor(n_neighbors=20)\n",
    "preds = clf.fit_predict(stats)\n",
    "\n",
    "data[\"pred\"] = preds\n",
    "data[\"negative_outlier_factor_\"] = clf.negative_outlier_factor_"
   ]
  },
  {
   "cell_type": "code",
   "execution_count": 70,
   "id": "a87341ab-da27-4bce-8fc6-fa15a5ca0cd4",
   "metadata": {},
   "outputs": [],
   "source": [
    "# data[data[\"pred\"] == -1][\"synopsis\"].sample(10).to_list()"
   ]
  },
  {
   "cell_type": "code",
   "execution_count": 71,
   "id": "302950ce-21fe-4f85-97c0-4d1cd14f76a4",
   "metadata": {},
   "outputs": [
    {
     "data": {
      "text/html": [
       "<div>\n",
       "<style scoped>\n",
       "    .dataframe tbody tr th:only-of-type {\n",
       "        vertical-align: middle;\n",
       "    }\n",
       "\n",
       "    .dataframe tbody tr th {\n",
       "        vertical-align: top;\n",
       "    }\n",
       "\n",
       "    .dataframe thead th {\n",
       "        text-align: right;\n",
       "    }\n",
       "</style>\n",
       "<table border=\"1\" class=\"dataframe\">\n",
       "  <thead>\n",
       "    <tr style=\"text-align: right;\">\n",
       "      <th></th>\n",
       "      <th>href</th>\n",
       "      <th>synopsis</th>\n",
       "      <th>pred</th>\n",
       "      <th>negative_outlier_factor_</th>\n",
       "    </tr>\n",
       "  </thead>\n",
       "  <tbody>\n",
       "    <tr>\n",
       "      <th>6519</th>\n",
       "      <td>/728809-avataro-sentai-donbrothers-meets-senpaiger</td>\n",
       "      <td>What's up with all those transformations, DON Momotaro!? Avatar Changes into veteran heroes! How many of them you DON't know?\\n(Source: powerrangers.fandom.com)</td>\n",
       "      <td>-1</td>\n",
       "      <td>-6.032770e+06</td>\n",
       "    </tr>\n",
       "    <tr>\n",
       "      <th>4895</th>\n",
       "      <td>/736283-xi-juan-chang-an-cheng</td>\n",
       "      <td>In a dilapidated mansion under heavy debts, there are two heaven-sent marriages across social classes, three young women and four brothers.\\n(Source: ChineseDrama.info)</td>\n",
       "      <td>-1</td>\n",
       "      <td>-5.861415e+06</td>\n",
       "    </tr>\n",
       "    <tr>\n",
       "      <th>11337</th>\n",
       "      <td>/728943-astrophile-special</td>\n",
       "      <td>A behind-the-scenes look at the creation of Astrophile with interviews from the cast and creator.\\n(Source: MyDramaList)</td>\n",
       "      <td>-1</td>\n",
       "      <td>-5.555888e+06</td>\n",
       "    </tr>\n",
       "    <tr>\n",
       "      <th>7637</th>\n",
       "      <td>/78585-before-i-love-you-phu-x-tawan-uncut</td>\n",
       "      <td>This UnCut scene tells the feelings of both before starting a relationship.\\n(Source: heyhotshot at MyDramaList)</td>\n",
       "      <td>-1</td>\n",
       "      <td>-4.615862e+06</td>\n",
       "    </tr>\n",
       "    <tr>\n",
       "      <th>17696</th>\n",
       "      <td>/28522-amo</td>\n",
       "      <td>Despite the Philippine government's crackdown on narcotics, high schooler Joseph expands his drug business while his cop uncle profits from corruption.\\n(Source: Netflix)</td>\n",
       "      <td>-1</td>\n",
       "      <td>-4.090938e+06</td>\n",
       "    </tr>\n",
       "    <tr>\n",
       "      <th>3199</th>\n",
       "      <td>/75551-light-the-night</td>\n",
       "      <td>In the red-light district of 1980s Taipei, women at a popular Japanese nightclub navigate jealousy, heartbreak, friendship, love, and betrayal.\\n(Source: Netflix)</td>\n",
       "      <td>-1</td>\n",
       "      <td>-3.268206e+06</td>\n",
       "    </tr>\n",
       "    <tr>\n",
       "      <th>8322</th>\n",
       "      <td>/695971-sf9-center</td>\n",
       "      <td>This show is about Inseong and Jaeyoon granting the members' wishes.\\n(Source: DeobiMars at MyDramaList)</td>\n",
       "      <td>-1</td>\n",
       "      <td>-2.009253e+06</td>\n",
       "    </tr>\n",
       "    <tr>\n",
       "      <th>18615</th>\n",
       "      <td>/740141-glamorous-chinese-ethnic-idol-season-2</td>\n",
       "      <td>In 2014, the second season of \"Glamorous Chinese Ethnic Idol\" continued. Among the seven ethnic minorities of Tujia, Miao, Dai, Yao, Dong, Daur and Kazakh, after national registration, competition...</td>\n",
       "      <td>-1</td>\n",
       "      <td>-1.618614e+06</td>\n",
       "    </tr>\n",
       "    <tr>\n",
       "      <th>3739</th>\n",
       "      <td>/3587-seija-no-koushin</td>\n",
       "      <td>Exploring the perception and treatment of mentally-challenged youth and their similarities to juvenile delinquents in Japanese society, this drama series follows the trials and tribulations of a g...</td>\n",
       "      <td>-1</td>\n",
       "      <td>-1.608829e+06</td>\n",
       "    </tr>\n",
       "    <tr>\n",
       "      <th>16614</th>\n",
       "      <td>/7774-young-style</td>\n",
       "      <td>An up-to-the-minute look at the pressure-cooker environment of Beijing high schoolers prepping for college entry.</td>\n",
       "      <td>-1</td>\n",
       "      <td>-1.489695e+06</td>\n",
       "    </tr>\n",
       "  </tbody>\n",
       "</table>\n",
       "</div>"
      ],
      "text/plain": [
       "                                                     href  \\\n",
       "6519   /728809-avataro-sentai-donbrothers-meets-senpaiger   \n",
       "4895                       /736283-xi-juan-chang-an-cheng   \n",
       "11337                          /728943-astrophile-special   \n",
       "7637           /78585-before-i-love-you-phu-x-tawan-uncut   \n",
       "17696                                          /28522-amo   \n",
       "3199                               /75551-light-the-night   \n",
       "8322                                   /695971-sf9-center   \n",
       "18615      /740141-glamorous-chinese-ethnic-idol-season-2   \n",
       "3739                               /3587-seija-no-koushin   \n",
       "16614                                   /7774-young-style   \n",
       "\n",
       "                                                                                                                                                                                                      synopsis  \\\n",
       "6519                                          What's up with all those transformations, DON Momotaro!? Avatar Changes into veteran heroes! How many of them you DON't know?\\n(Source: powerrangers.fandom.com)   \n",
       "4895                                  In a dilapidated mansion under heavy debts, there are two heaven-sent marriages across social classes, three young women and four brothers.\\n(Source: ChineseDrama.info)   \n",
       "11337                                                                                 A behind-the-scenes look at the creation of Astrophile with interviews from the cast and creator.\\n(Source: MyDramaList)   \n",
       "7637                                                                                          This UnCut scene tells the feelings of both before starting a relationship.\\n(Source: heyhotshot at MyDramaList)   \n",
       "17696                               Despite the Philippine government's crackdown on narcotics, high schooler Joseph expands his drug business while his cop uncle profits from corruption.\\n(Source: Netflix)   \n",
       "3199                                        In the red-light district of 1980s Taipei, women at a popular Japanese nightclub navigate jealousy, heartbreak, friendship, love, and betrayal.\\n(Source: Netflix)   \n",
       "8322                                                                                                  This show is about Inseong and Jaeyoon granting the members' wishes.\\n(Source: DeobiMars at MyDramaList)   \n",
       "18615  In 2014, the second season of \"Glamorous Chinese Ethnic Idol\" continued. Among the seven ethnic minorities of Tujia, Miao, Dai, Yao, Dong, Daur and Kazakh, after national registration, competition...   \n",
       "3739   Exploring the perception and treatment of mentally-challenged youth and their similarities to juvenile delinquents in Japanese society, this drama series follows the trials and tribulations of a g...   \n",
       "16614                                                                                        An up-to-the-minute look at the pressure-cooker environment of Beijing high schoolers prepping for college entry.   \n",
       "\n",
       "       pred  negative_outlier_factor_  \n",
       "6519     -1             -6.032770e+06  \n",
       "4895     -1             -5.861415e+06  \n",
       "11337    -1             -5.555888e+06  \n",
       "7637     -1             -4.615862e+06  \n",
       "17696    -1             -4.090938e+06  \n",
       "3199     -1             -3.268206e+06  \n",
       "8322     -1             -2.009253e+06  \n",
       "18615    -1             -1.618614e+06  \n",
       "3739     -1             -1.608829e+06  \n",
       "16614    -1             -1.489695e+06  "
      ]
     },
     "execution_count": 71,
     "metadata": {},
     "output_type": "execute_result"
    }
   ],
   "source": [
    "data[data[\"pred\"] == -1].sort_values(by=\"negative_outlier_factor_\"\n",
    "                                    )[['href', 'synopsis', 'pred', 'negative_outlier_factor_']].head(10)"
   ]
  },
  {
   "cell_type": "code",
   "execution_count": null,
   "id": "539cf98d-4ae4-4f30-9876-1d6cc4e00a2d",
   "metadata": {},
   "outputs": [],
   "source": []
  }
 ],
 "metadata": {
  "kernelspec": {
   "display_name": "Python 3 (ipykernel)",
   "language": "python",
   "name": "python3"
  },
  "language_info": {
   "codemirror_mode": {
    "name": "ipython",
    "version": 3
   },
   "file_extension": ".py",
   "mimetype": "text/x-python",
   "name": "python",
   "nbconvert_exporter": "python",
   "pygments_lexer": "ipython3",
   "version": "3.10.5"
  }
 },
 "nbformat": 4,
 "nbformat_minor": 5
}
