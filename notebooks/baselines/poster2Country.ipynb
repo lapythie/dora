{
 "cells": [
  {
   "cell_type": "code",
   "execution_count": 1,
   "id": "33d1cf6b-075d-49cd-9683-977cf2ae88cb",
   "metadata": {},
   "outputs": [],
   "source": [
    "import os\n",
    "import json\n",
    "from PIL import Image\n",
    "\n",
    "import torch\n",
    "from transformers import CLIPProcessor, CLIPModel\n",
    "\n",
    "import numpy as np\n",
    "import pandas as pd\n",
    "from tqdm.auto import tqdm\n",
    "tqdm.pandas()\n",
    "\n",
    "RANDOM_STATE = 0"
   ]
  },
  {
   "cell_type": "code",
   "execution_count": null,
   "id": "63f77508-2845-4c21-b676-1089ce72e815",
   "metadata": {},
   "outputs": [],
   "source": []
  },
  {
   "cell_type": "markdown",
   "id": "59a0c688-a84c-45f6-ade4-fb5e669b9bfe",
   "metadata": {},
   "source": [
    "# Data"
   ]
  },
  {
   "cell_type": "code",
   "execution_count": 2,
   "id": "71c3ea79-6f70-4b42-8e7c-8f6658419b3c",
   "metadata": {},
   "outputs": [],
   "source": [
    "with open(\"../data/href2details.json\", encoding=\"utf-8\") as f:\n",
    "    href2details = json.load(f)\n",
    "with open(\"../data/num2details.json\", encoding=\"utf-8\") as f:\n",
    "    num2details = json.load(f)"
   ]
  },
  {
   "cell_type": "code",
   "execution_count": 16,
   "id": "6ce4ec13-8e03-4693-9d32-041f418dd0ab",
   "metadata": {},
   "outputs": [],
   "source": [
    "data = pd.DataFrame()"
   ]
  },
  {
   "cell_type": "code",
   "execution_count": 17,
   "id": "0b4a0116-81c6-43e0-8737-517208bc417f",
   "metadata": {},
   "outputs": [],
   "source": [
    "root = \"../data/posters\"\n",
    "EXT = \".jpg\"\n",
    "\n",
    "data[\"rel_path\"] = [f\"{root}/{fname}\" for fname in os.listdir(root) if fname.endswith(EXT)]\n",
    "\n",
    "data[\"filename\"] = data[\"rel_path\"].apply(os.path.basename)\n",
    "data[\"href\"] = data.filename.apply(\n",
    "    lambda x: x.split(\"_\")[0]\n",
    ")\n",
    "data[\"Country\"] = data[\"href\"].apply(\n",
    "    lambda x: href2details[f\"/{x}\"][\"Country:\"][len(\"Country:\"):].strip()\n",
    ")"
   ]
  },
  {
   "cell_type": "code",
   "execution_count": 35,
   "id": "90749f11-4d87-4919-9526-40966c75b4af",
   "metadata": {},
   "outputs": [
    {
     "data": {
      "text/plain": [
       "South Korea    5825\n",
       "Japan          5590\n",
       "China          4061\n",
       "Thailand       1744\n",
       "Taiwan          682\n",
       "Hong Kong       678\n",
       "Philippines     460\n",
       "Name: Country, dtype: int64"
      ]
     },
     "execution_count": 35,
     "metadata": {},
     "output_type": "execute_result"
    }
   ],
   "source": [
    "data[\"Country\"].value_counts()"
   ]
  },
  {
   "cell_type": "code",
   "execution_count": 75,
   "id": "55f61fed-9143-4398-8564-51b45f36d16c",
   "metadata": {
    "tags": []
   },
   "outputs": [
    {
     "data": {
      "text/html": [
       "<div>\n",
       "<style scoped>\n",
       "    .dataframe tbody tr th:only-of-type {\n",
       "        vertical-align: middle;\n",
       "    }\n",
       "\n",
       "    .dataframe tbody tr th {\n",
       "        vertical-align: top;\n",
       "    }\n",
       "\n",
       "    .dataframe thead th {\n",
       "        text-align: right;\n",
       "    }\n",
       "</style>\n",
       "<table border=\"1\" class=\"dataframe\">\n",
       "  <thead>\n",
       "    <tr style=\"text-align: right;\">\n",
       "      <th></th>\n",
       "      <th>rel_path</th>\n",
       "      <th>filename</th>\n",
       "      <th>href</th>\n",
       "      <th>Country</th>\n",
       "    </tr>\n",
       "  </thead>\n",
       "  <tbody>\n",
       "    <tr>\n",
       "      <th>0</th>\n",
       "      <td>../data/posters/27370-transmission_JxZqXc.jpg</td>\n",
       "      <td>27370-transmission_JxZqXc.jpg</td>\n",
       "      <td>27370-transmission</td>\n",
       "      <td>China</td>\n",
       "    </tr>\n",
       "  </tbody>\n",
       "</table>\n",
       "</div>"
      ],
      "text/plain": [
       "                                        rel_path  \\\n",
       "0  ../data/posters/27370-transmission_JxZqXc.jpg   \n",
       "\n",
       "                        filename                href Country  \n",
       "0  27370-transmission_JxZqXc.jpg  27370-transmission   China  "
      ]
     },
     "execution_count": 75,
     "metadata": {},
     "output_type": "execute_result"
    }
   ],
   "source": [
    "sample = data.groupby(\"Country\", group_keys=False).apply(\n",
    "    lambda x: x.sample(\n",
    "        data[\"Country\"].value_counts().to_list()[-1]\n",
    "        , random_state=RANDOM_STATE\n",
    "    )\n",
    ").reset_index(drop=True)\n",
    "\n",
    "sample.head(1)"
   ]
  },
  {
   "cell_type": "code",
   "execution_count": 76,
   "id": "7f83e6ca-4aea-4f08-853c-d0642fc5a865",
   "metadata": {},
   "outputs": [
    {
     "data": {
      "text/plain": [
       "((3220, 4),\n",
       " China          460\n",
       " Hong Kong      460\n",
       " Japan          460\n",
       " Philippines    460\n",
       " South Korea    460\n",
       " Taiwan         460\n",
       " Thailand       460\n",
       " Name: Country, dtype: int64)"
      ]
     },
     "execution_count": 76,
     "metadata": {},
     "output_type": "execute_result"
    }
   ],
   "source": [
    "sample.shape, sample[\"Country\"].value_counts()"
   ]
  },
  {
   "cell_type": "markdown",
   "id": "d7c03c17-57fb-4548-900a-d92f13b46c84",
   "metadata": {},
   "source": [
    "# Zero-shot"
   ]
  },
  {
   "cell_type": "code",
   "execution_count": 94,
   "id": "b3e2b436-9cb1-4a91-be75-7d6f4dc2b1ad",
   "metadata": {},
   "outputs": [
    {
     "data": {
      "text/plain": [
       "['China',\n",
       " 'Hong Kong',\n",
       " 'Japan',\n",
       " 'Philippines',\n",
       " 'South Korea',\n",
       " 'Taiwan',\n",
       " 'Thailand']"
      ]
     },
     "execution_count": 94,
     "metadata": {},
     "output_type": "execute_result"
    }
   ],
   "source": [
    "# labels = ['China', 'Hong Kong', 'Japan', 'Philippines', 'South Korea', 'Taiwan', 'Thailand']\n",
    "labels = sorted(data[\"Country\"].unique())\n",
    "labels"
   ]
  },
  {
   "cell_type": "code",
   "execution_count": 85,
   "id": "89e371f8-1772-4f12-91c7-9f69205f2bd4",
   "metadata": {},
   "outputs": [],
   "source": [
    "model_id = \"openai/clip-vit-base-patch32\"\n",
    "cache_dir = \"../models/\"\n",
    "\n",
    "model = CLIPModel.from_pretrained(model_id, cache_dir=cache_dir)\n",
    "processor = CLIPProcessor.from_pretrained(model_id, cache_dir=cache_dir)"
   ]
  },
  {
   "cell_type": "code",
   "execution_count": 108,
   "id": "09f27696-fc50-484a-b18f-3763a7ee6dd2",
   "metadata": {},
   "outputs": [
    {
     "data": {
      "text/plain": [
       "device(type='cuda', index=0)"
      ]
     },
     "execution_count": 108,
     "metadata": {},
     "output_type": "execute_result"
    }
   ],
   "source": [
    "if torch.cuda.is_available():\n",
    "    device = torch.device(\"cuda:0\")\n",
    "    model.to(device)\n",
    "model.device"
   ]
  },
  {
   "cell_type": "code",
   "execution_count": 110,
   "id": "da58dd8f-77bb-4106-8839-e7b34b4e41c1",
   "metadata": {},
   "outputs": [],
   "source": [
    "def predict(path2image, labels, processor, model, device):\n",
    "    image = Image.open(path2image)\n",
    "    with torch.no_grad():\n",
    "        \n",
    "        inputs = processor(\n",
    "            text=labels, images=image, return_tensors=\"pt\", padding=True\n",
    "        ).to(device)\n",
    "        \n",
    "        outputs = model(**inputs)\n",
    "        logits_per_image = outputs.logits_per_image # this is the image-text similarity score\n",
    "        probs = logits_per_image.softmax(dim=1) # we can take the softmax to get the label probabilities\n",
    "        return labels[probs.argmax()]\n",
    "    \n",
    "def embed()"
   ]
  },
  {
   "cell_type": "code",
   "execution_count": 127,
   "id": "222d6f16-5023-441a-a2c8-0905f5964836",
   "metadata": {},
   "outputs": [
    {
     "data": {
      "text/plain": [
       "torch.Size([50176])"
      ]
     },
     "execution_count": 127,
     "metadata": {},
     "output_type": "execute_result"
    }
   ],
   "source": [
    "inputs[\"pixel_values\"].squeeze(0).mean(axis=0)."
   ]
  },
  {
   "cell_type": "code",
   "execution_count": 119,
   "id": "3c483c5c-898d-428b-bc7f-b1e955a677ba",
   "metadata": {},
   "outputs": [
    {
     "data": {
      "application/json": {
       "ascii": false,
       "bar_format": null,
       "colour": null,
       "elapsed": 0.01201319694519043,
       "initial": 0,
       "n": 0,
       "ncols": null,
       "nrows": 31,
       "postfix": null,
       "prefix": "",
       "rate": null,
       "total": 1074,
       "unit": "it",
       "unit_divisor": 1000,
       "unit_scale": false
      },
      "application/vnd.jupyter.widget-view+json": {
       "model_id": "f42123de7f0444e69315a85a559801eb",
       "version_major": 2,
       "version_minor": 0
      },
      "text/plain": [
       "  0%|          | 0/1074 [00:00<?, ?it/s]"
      ]
     },
     "metadata": {},
     "output_type": "display_data"
    },
    {
     "name": "stdout",
     "output_type": "stream",
     "text": [
      "              precision    recall  f1-score   support\n",
      "\n",
      "       China       0.35      0.47      0.40       154\n",
      "   Hong Kong       0.35      0.05      0.09       153\n",
      "       Japan       0.63      0.75      0.68       153\n",
      " Philippines       0.87      0.75      0.80       154\n",
      " South Korea       0.59      0.91      0.72       153\n",
      "      Taiwan       0.43      0.58      0.49       153\n",
      "    Thailand       0.92      0.52      0.66       154\n",
      "\n",
      "    accuracy                           0.57      1074\n",
      "   macro avg       0.59      0.57      0.55      1074\n",
      "weighted avg       0.59      0.57      0.55      1074\n",
      "\n"
     ]
    },
    {
     "data": {
      "application/json": {
       "ascii": false,
       "bar_format": null,
       "colour": null,
       "elapsed": 0,
       "initial": 0,
       "n": 0,
       "ncols": null,
       "nrows": 31,
       "postfix": null,
       "prefix": "",
       "rate": null,
       "total": 1073,
       "unit": "it",
       "unit_divisor": 1000,
       "unit_scale": false
      },
      "application/vnd.jupyter.widget-view+json": {
       "model_id": "53f58fcaddc94db384a7abd0386fb001",
       "version_major": 2,
       "version_minor": 0
      },
      "text/plain": [
       "  0%|          | 0/1073 [00:00<?, ?it/s]"
      ]
     },
     "metadata": {},
     "output_type": "display_data"
    },
    {
     "name": "stdout",
     "output_type": "stream",
     "text": [
      "              precision    recall  f1-score   support\n",
      "\n",
      "       China       0.32      0.46      0.38       153\n",
      "   Hong Kong       0.34      0.07      0.12       154\n",
      "       Japan       0.65      0.74      0.69       153\n",
      " Philippines       0.88      0.58      0.70       153\n",
      " South Korea       0.53      0.91      0.67       154\n",
      "      Taiwan       0.40      0.49      0.44       153\n",
      "    Thailand       0.89      0.54      0.67       153\n",
      "\n",
      "    accuracy                           0.54      1073\n",
      "   macro avg       0.57      0.54      0.52      1073\n",
      "weighted avg       0.57      0.54      0.52      1073\n",
      "\n"
     ]
    },
    {
     "data": {
      "application/json": {
       "ascii": false,
       "bar_format": null,
       "colour": null,
       "elapsed": 0.0077838897705078125,
       "initial": 0,
       "n": 0,
       "ncols": null,
       "nrows": 31,
       "postfix": null,
       "prefix": "",
       "rate": null,
       "total": 1073,
       "unit": "it",
       "unit_divisor": 1000,
       "unit_scale": false
      },
      "application/vnd.jupyter.widget-view+json": {
       "model_id": "875f1e57abb24984857d2cc44205097b",
       "version_major": 2,
       "version_minor": 0
      },
      "text/plain": [
       "  0%|          | 0/1073 [00:00<?, ?it/s]"
      ]
     },
     "metadata": {},
     "output_type": "display_data"
    },
    {
     "name": "stdout",
     "output_type": "stream",
     "text": [
      "              precision    recall  f1-score   support\n",
      "\n",
      "       China       0.32      0.46      0.37       153\n",
      "   Hong Kong       0.21      0.05      0.08       153\n",
      "       Japan       0.59      0.70      0.64       154\n",
      " Philippines       0.89      0.73      0.80       153\n",
      " South Korea       0.57      0.84      0.68       153\n",
      "      Taiwan       0.33      0.40      0.36       154\n",
      "    Thailand       0.87      0.52      0.65       153\n",
      "\n",
      "    accuracy                           0.53      1073\n",
      "   macro avg       0.54      0.53      0.51      1073\n",
      "weighted avg       0.54      0.53      0.51      1073\n",
      "\n"
     ]
    }
   ],
   "source": [
    "from sklearn.model_selection import StratifiedKFold\n",
    "\n",
    "X = sample[\"rel_path\"]\n",
    "y = sample[\"Country\"]\n",
    "\n",
    "skf = StratifiedKFold(n_splits=3, shuffle=True, random_state=RANDOM_STATE)\n",
    "# skf.get_n_splits(X, y)\n",
    "\n",
    "for i, (train_index, test_index) in enumerate(skf.split(X, y)):\n",
    "    \n",
    "    fold_test = sample.loc[test_index]\n",
    "    \n",
    "    fold_test[\"pred\"] = fold_test[\"rel_path\"].progress_apply(\n",
    "        lambda x: predict(x, labels, processor, model, device)\n",
    "    )\n",
    "    \n",
    "    print(classification_report(fold_test[\"Country\"], fold_test[\"pred\"]))"
   ]
  },
  {
   "cell_type": "code",
   "execution_count": 128,
   "id": "024282c6-5820-4a90-92e7-9f8557e62c01",
   "metadata": {},
   "outputs": [],
   "source": [
    "# posterpath = \"../data/posters/not_released_yet/27319-the-golden-hairpin_k644m_4c.jpg\"\n",
    "posterpath = \"../data/posters/714369-pepero-was-taken-away-on-pepero-day_e4J7K_4c.jpg\"\n",
    "posterpath = \"../data/posters/711027-enhypen-en-log_BLYz5_4c.jpg\"\n",
    "posterpath = \"../data/posters/693057-siwon-s-fortune-cookie_XND8q_4c.jpg\"\n",
    "posterpath = \"../data/posters/77567-fight-for-love_k36Nw_4c.jpg\" # China\n",
    "posterpath = \"../data/posters/680631-ka-sunscreen_Rg3oo_4c.jpg\" # Thailand\n",
    "posterpath = \"../data/posters/79321-the-serpents-song_BNXKb_4c.jpg\" # Thailand\n",
    "image = Image.open(posterpath)\n",
    "# display(image)"
   ]
  },
  {
   "cell_type": "code",
   "execution_count": null,
   "id": "d1c1fb74-e426-4c62-8e0c-5739e08bf4b4",
   "metadata": {},
   "outputs": [],
   "source": [
    "with torch.no_grad():\n",
    "    \n",
    "    inputs = processor(text=labels, images=image, return_tensors=\"pt\", padding=True)\n",
    "    outputs = model(**inputs)\n",
    "    logits_per_image = outputs.logits_per_image # this is the image-text similarity score\n",
    "    probs = logits_per_image.softmax(dim=1) # we can take the softmax to get the label probabilities"
   ]
  },
  {
   "cell_type": "code",
   "execution_count": 88,
   "id": "d7702490-c5ab-45c1-92c5-6fe4e276cdaf",
   "metadata": {},
   "outputs": [
    {
     "data": {
      "text/plain": [
       "[(tensor(0.4053), 'South Korea'),\n",
       " (tensor(0.2192), 'Japan'),\n",
       " (tensor(0.1207), 'China'),\n",
       " (tensor(0.1014), 'Hong Kong'),\n",
       " (tensor(0.0665), 'Thailand'),\n",
       " (tensor(0.0563), 'Philippines'),\n",
       " (tensor(0.0305), 'Taiwan')]"
      ]
     },
     "execution_count": 88,
     "metadata": {},
     "output_type": "execute_result"
    }
   ],
   "source": [
    "sorted(zip(probs.flatten(), labels), reverse=True)"
   ]
  },
  {
   "cell_type": "markdown",
   "id": "e18fac78-823b-4599-a369-628a53d3131d",
   "metadata": {},
   "source": [
    "# Not released yet"
   ]
  },
  {
   "cell_type": "code",
   "execution_count": 4,
   "id": "80afa2ac-f524-453c-8ad1-f18c1a66e707",
   "metadata": {},
   "outputs": [],
   "source": [
    "for k, v in num2details.items():\n",
    "    href2details[f\"/{k}\"] = v"
   ]
  },
  {
   "cell_type": "code",
   "execution_count": 5,
   "id": "9ec8b522-c45f-474a-9fa4-ed03f75eecf9",
   "metadata": {},
   "outputs": [
    {
     "data": {
      "text/plain": [
       "31454"
      ]
     },
     "execution_count": 5,
     "metadata": {},
     "output_type": "execute_result"
    }
   ],
   "source": [
    "len(href2details)"
   ]
  },
  {
   "cell_type": "code",
   "execution_count": 3,
   "id": "a90df896-d535-48f3-be15-89d022c49e71",
   "metadata": {},
   "outputs": [],
   "source": [
    "data = pd.DataFrame()"
   ]
  },
  {
   "cell_type": "code",
   "execution_count": 7,
   "id": "addc2e8a-2a7f-4103-bd07-16d49ee4f3b8",
   "metadata": {},
   "outputs": [],
   "source": [
    "root = \"../data/posters/not_released_yet\"\n",
    "EXT = \".jpg\"\n",
    "\n",
    "data[\"rel_path\"] = [f\"{root}/{fname}\" for fname in os.listdir(root) if fname.endswith(EXT)]\n",
    "\n",
    "data[\"filename\"] = data[\"rel_path\"].apply(os.path.basename)\n",
    "data[\"href\"] = data.filename.apply(\n",
    "    lambda x: x.split(\"_\")[0]\n",
    ")\n",
    "\n",
    "\n",
    "\n",
    "data[\"Country\"] = data[\"href\"].apply(\n",
    "    lambda x: href2details[f\"/{x}\"][\"Country:\"][len(\"Country:\"):].strip()\n",
    ")"
   ]
  },
  {
   "cell_type": "code",
   "execution_count": 8,
   "id": "6c6e299e-8004-4c6a-ad31-e38d5c31ffbc",
   "metadata": {},
   "outputs": [
    {
     "data": {
      "text/plain": [
       "South Korea    250\n",
       "China           36\n",
       "Thailand        34\n",
       "Japan           24\n",
       "Taiwan           4\n",
       "Hong Kong        2\n",
       "Name: Country, dtype: int64"
      ]
     },
     "execution_count": 8,
     "metadata": {},
     "output_type": "execute_result"
    }
   ],
   "source": [
    "data[\"Country\"].value_counts()"
   ]
  },
  {
   "cell_type": "code",
   "execution_count": 11,
   "id": "e57d9afb-0fd9-4136-9cc9-21ba88598700",
   "metadata": {},
   "outputs": [
    {
     "data": {
      "text/plain": [
       "South Korea    280\n",
       "China           41\n",
       "Thailand        35\n",
       "Japan           31\n",
       "Hong Kong        4\n",
       "Taiwan           4\n",
       "Name: Country, dtype: int64"
      ]
     },
     "execution_count": 11,
     "metadata": {},
     "output_type": "execute_result"
    }
   ],
   "source": [
    "data[\"Country\"].value_counts()"
   ]
  },
  {
   "cell_type": "code",
   "execution_count": 14,
   "id": "911a400a-da19-4029-82f9-42f1d0f1fc62",
   "metadata": {},
   "outputs": [],
   "source": [
    "data = data[data[\"Country\"].apply(lambda x: x not in {'Hong Kong', 'Taiwan'})]"
   ]
  },
  {
   "cell_type": "code",
   "execution_count": 15,
   "id": "a217bce8-2799-4499-851a-e0add33ad521",
   "metadata": {},
   "outputs": [
    {
     "data": {
      "text/plain": [
       "South Korea    280\n",
       "China           41\n",
       "Thailand        35\n",
       "Japan           31\n",
       "Name: Country, dtype: int64"
      ]
     },
     "execution_count": 15,
     "metadata": {},
     "output_type": "execute_result"
    }
   ],
   "source": [
    "data[\"Country\"].value_counts()"
   ]
  },
  {
   "cell_type": "code",
   "execution_count": null,
   "id": "e89581f8-4761-4066-b1e3-d2ba4e0f7e69",
   "metadata": {},
   "outputs": [],
   "source": []
  },
  {
   "cell_type": "code",
   "execution_count": 16,
   "id": "c10962b9-b4b9-4288-bfd3-d954e34a1dc9",
   "metadata": {
    "tags": []
   },
   "outputs": [
    {
     "data": {
      "text/html": [
       "<div>\n",
       "<style scoped>\n",
       "    .dataframe tbody tr th:only-of-type {\n",
       "        vertical-align: middle;\n",
       "    }\n",
       "\n",
       "    .dataframe tbody tr th {\n",
       "        vertical-align: top;\n",
       "    }\n",
       "\n",
       "    .dataframe thead th {\n",
       "        text-align: right;\n",
       "    }\n",
       "</style>\n",
       "<table border=\"1\" class=\"dataframe\">\n",
       "  <thead>\n",
       "    <tr style=\"text-align: right;\">\n",
       "      <th></th>\n",
       "      <th>rel_path</th>\n",
       "      <th>filename</th>\n",
       "      <th>href</th>\n",
       "      <th>Country</th>\n",
       "    </tr>\n",
       "  </thead>\n",
       "  <tbody>\n",
       "    <tr>\n",
       "      <th>0</th>\n",
       "      <td>../data/posters/not_released_yet/737225-jie-zi...</td>\n",
       "      <td>737225-jie-zi-gui-cheng_r4qqZ_4c.jpg</td>\n",
       "      <td>737225-jie-zi-gui-cheng</td>\n",
       "      <td>China</td>\n",
       "    </tr>\n",
       "  </tbody>\n",
       "</table>\n",
       "</div>"
      ],
      "text/plain": [
       "                                            rel_path  \\\n",
       "0  ../data/posters/not_released_yet/737225-jie-zi...   \n",
       "\n",
       "                               filename                     href Country  \n",
       "0  737225-jie-zi-gui-cheng_r4qqZ_4c.jpg  737225-jie-zi-gui-cheng   China  "
      ]
     },
     "execution_count": 16,
     "metadata": {},
     "output_type": "execute_result"
    }
   ],
   "source": [
    "sample = data.groupby(\"Country\", group_keys=False).apply(\n",
    "    lambda x: x.sample(\n",
    "        data[\"Country\"].value_counts().to_list()[-1]\n",
    "        , random_state=RANDOM_STATE\n",
    "    )\n",
    ").reset_index(drop=True)\n",
    "\n",
    "sample.head(1)"
   ]
  },
  {
   "cell_type": "code",
   "execution_count": 17,
   "id": "f9a65b45-84d2-4adc-abfc-2bcfe09841b3",
   "metadata": {},
   "outputs": [
    {
     "data": {
      "text/plain": [
       "((124, 4),\n",
       " China          31\n",
       " Japan          31\n",
       " South Korea    31\n",
       " Thailand       31\n",
       " Name: Country, dtype: int64)"
      ]
     },
     "execution_count": 17,
     "metadata": {},
     "output_type": "execute_result"
    }
   ],
   "source": [
    "sample.shape, sample[\"Country\"].value_counts()"
   ]
  },
  {
   "cell_type": "code",
   "execution_count": null,
   "id": "58776b1c-71f0-4b8d-9a23-2a23ff3127ae",
   "metadata": {},
   "outputs": [],
   "source": []
  }
 ],
 "metadata": {
  "kernelspec": {
   "display_name": "Python 3 (ipykernel)",
   "language": "python",
   "name": "python3"
  },
  "language_info": {
   "codemirror_mode": {
    "name": "ipython",
    "version": 3
   },
   "file_extension": ".py",
   "mimetype": "text/x-python",
   "name": "python",
   "nbconvert_exporter": "python",
   "pygments_lexer": "ipython3",
   "version": "3.10.5"
  }
 },
 "nbformat": 4,
 "nbformat_minor": 5
}
