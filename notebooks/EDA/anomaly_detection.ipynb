{
 "cells": [
  {
   "cell_type": "code",
   "execution_count": 1,
   "id": "78ff8982-ac6e-4976-9655-42c2b3c55118",
   "metadata": {},
   "outputs": [],
   "source": [
    "import json\n",
    "import numpy as np\n",
    "import pandas as pd\n",
    "from collections import Counter\n",
    "\n",
    "from nltk import word_tokenize, sent_tokenize\n",
    "\n",
    "from tqdm.auto import tqdm\n",
    "tqdm.pandas()\n",
    "\n",
    "pd.set_option('display.max_colwidth', 200)"
   ]
  },
  {
   "cell_type": "code",
   "execution_count": 2,
   "id": "161b4803-4e64-40ac-b3e5-5cca5b8922df",
   "metadata": {},
   "outputs": [],
   "source": [
    "with open(\"../data/href2synopsis.json\", encoding=\"utf-8\") as f:\n",
    "    href2synopsis = json.load(f)"
   ]
  },
  {
   "cell_type": "markdown",
   "id": "d74f6694-1997-4e2a-aa8d-845e73c0150f",
   "metadata": {},
   "source": [
    "    Takeaways:\n",
    "        - replace \\n or \\r sequences with single \\n\n",
    "        - use language-specific tokenizer"
   ]
  },
  {
   "cell_type": "markdown",
   "id": "8a2190a7-a0b1-46ea-b8cb-9e995fd1ff91",
   "metadata": {},
   "source": [
    "# BOW stats\n",
    "    # TODO: add actual bow stats"
   ]
  },
  {
   "cell_type": "code",
   "execution_count": 50,
   "id": "05b12d69-ed5e-456b-a366-7de2226a5796",
   "metadata": {},
   "outputs": [],
   "source": [
    "data = pd.DataFrame()\n",
    "\n",
    "data[\"href\"] = href2synopsis.keys()\n",
    "data[\"synopsis\"] = href2synopsis.values()"
   ]
  },
  {
   "cell_type": "code",
   "execution_count": 51,
   "id": "2e34ca49-9d27-46ce-9db5-f449166f6ab2",
   "metadata": {},
   "outputs": [],
   "source": [
    "data = data[data[\"synopsis\"] != \"\"]"
   ]
  },
  {
   "cell_type": "code",
   "execution_count": 52,
   "id": "7544f9ee-3e14-4128-88b3-21a43824cf37",
   "metadata": {},
   "outputs": [],
   "source": [
    "import regex as re\n",
    "\n",
    "data[\"synopsis\"] = data[\"synopsis\"].apply(\n",
    "    lambda x: re.sub(\"\\s*\\n\\s*\", \"\\n\", x).strip()\n",
    ")"
   ]
  },
  {
   "cell_type": "code",
   "execution_count": 44,
   "id": "5f3ee1de-090f-46d6-a82a-334e48342382",
   "metadata": {},
   "outputs": [
    {
     "data": {
      "application/json": {
       "ascii": false,
       "bar_format": null,
       "colour": null,
       "elapsed": 0.019383907318115234,
       "initial": 0,
       "n": 0,
       "ncols": null,
       "nrows": 31,
       "postfix": null,
       "prefix": "",
       "rate": null,
       "total": 18374,
       "unit": "it",
       "unit_divisor": 1000,
       "unit_scale": false
      },
      "application/vnd.jupyter.widget-view+json": {
       "model_id": "8b0e0a63bf2d46aea4aabb820e1d8847",
       "version_major": 2,
       "version_minor": 0
      },
      "text/plain": [
       "  0%|          | 0/18374 [00:00<?, ?it/s]"
      ]
     },
     "metadata": {},
     "output_type": "display_data"
    }
   ],
   "source": [
    "# data[\"min_ord\"] = data[\"synopsis\"].progress_apply(\n",
    "#     lambda s: min([ord(char) for char in s])\n",
    "# )\n",
    "\n",
    "# data[\"max_ord\"] = data[\"synopsis\"].progress_apply(\n",
    "#     lambda s: max([ord(char) for char in s])\n",
    "# )\n",
    "\n",
    "# data[\"mean_ord\"] = data[\"synopsis\"].progress_apply(\n",
    "#     lambda s: np.mean([ord(char) for char in s])\n",
    "# )\n",
    "\n",
    "# data[\"median_ord\"] = data[\"synopsis\"].progress_apply(\n",
    "#     lambda s: np.median([ord(char) for char in s])\n",
    "# )\n",
    "\n",
    "# data[\"mode_ord\"] = data[\"synopsis\"].progress_apply(\n",
    "#     lambda s: Counter([ord(char) for char in s]).most_common()[0][0]\n",
    "# )\n",
    "\n",
    "# mode_count_ratio"
   ]
  },
  {
   "cell_type": "code",
   "execution_count": 53,
   "id": "1f507345-ba1b-4d57-9a15-dc8c29e1c811",
   "metadata": {},
   "outputs": [
    {
     "data": {
      "application/json": {
       "ascii": false,
       "bar_format": null,
       "colour": null,
       "elapsed": 0.01846146583557129,
       "initial": 0,
       "n": 0,
       "ncols": null,
       "nrows": 31,
       "postfix": null,
       "prefix": "",
       "rate": null,
       "total": 18374,
       "unit": "it",
       "unit_divisor": 1000,
       "unit_scale": false
      },
      "application/vnd.jupyter.widget-view+json": {
       "model_id": "3c1b373dd67c4e04b3e7565d6e4b30a0",
       "version_major": 2,
       "version_minor": 0
      },
      "text/plain": [
       "  0%|          | 0/18374 [00:00<?, ?it/s]"
      ]
     },
     "metadata": {},
     "output_type": "display_data"
    }
   ],
   "source": [
    "data[\"mode_count\"] = data[\"synopsis\"].progress_apply(\n",
    "    lambda s: Counter(s).most_common()[0][1]\n",
    ")"
   ]
  },
  {
   "cell_type": "code",
   "execution_count": 12,
   "id": "2b001110-3de6-47f6-819b-0fa70adfedb1",
   "metadata": {},
   "outputs": [
    {
     "data": {
      "application/json": {
       "ascii": false,
       "bar_format": null,
       "colour": null,
       "elapsed": 0.02100229263305664,
       "initial": 0,
       "n": 0,
       "ncols": null,
       "nrows": 31,
       "postfix": null,
       "prefix": "",
       "rate": null,
       "total": 18374,
       "unit": "it",
       "unit_divisor": 1000,
       "unit_scale": false
      },
      "application/vnd.jupyter.widget-view+json": {
       "model_id": "c93a97138cb044f2acf1c1f8a8ed5899",
       "version_major": 2,
       "version_minor": 0
      },
      "text/plain": [
       "  0%|          | 0/18374 [00:00<?, ?it/s]"
      ]
     },
     "metadata": {},
     "output_type": "display_data"
    },
    {
     "data": {
      "application/json": {
       "ascii": false,
       "bar_format": null,
       "colour": null,
       "elapsed": 0.04766440391540527,
       "initial": 0,
       "n": 0,
       "ncols": null,
       "nrows": 31,
       "postfix": null,
       "prefix": "",
       "rate": null,
       "total": 18374,
       "unit": "it",
       "unit_divisor": 1000,
       "unit_scale": false
      },
      "application/vnd.jupyter.widget-view+json": {
       "model_id": "ec0363cfd4fc45a4b3295271eaa21045",
       "version_major": 2,
       "version_minor": 0
      },
      "text/plain": [
       "  0%|          | 0/18374 [00:00<?, ?it/s]"
      ]
     },
     "metadata": {},
     "output_type": "display_data"
    },
    {
     "data": {
      "application/json": {
       "ascii": false,
       "bar_format": null,
       "colour": null,
       "elapsed": 0.03160500526428223,
       "initial": 0,
       "n": 0,
       "ncols": null,
       "nrows": 31,
       "postfix": null,
       "prefix": "",
       "rate": null,
       "total": 18374,
       "unit": "it",
       "unit_divisor": 1000,
       "unit_scale": false
      },
      "application/vnd.jupyter.widget-view+json": {
       "model_id": "90969686f7374906846c343549a80da6",
       "version_major": 2,
       "version_minor": 0
      },
      "text/plain": [
       "  0%|          | 0/18374 [00:00<?, ?it/s]"
      ]
     },
     "metadata": {},
     "output_type": "display_data"
    }
   ],
   "source": [
    "data[\"char_total\"] = data[\"synopsis\"].progress_apply(len)\n",
    "data[\"token_total\"] = data[\"synopsis\"].progress_apply(\n",
    "    lambda x: len(word_tokenize(x))\n",
    ")\n",
    "data[\"sent_total\"] = data[\"synopsis\"].progress_apply(\n",
    "    lambda x: len([sent for line in x.split(\"\\n\") for sent in  sent_tokenize(line) if line.strip()])\n",
    ")"
   ]
  },
  {
   "cell_type": "code",
   "execution_count": 27,
   "id": "ecf37e02-fcb7-415d-9bb2-5ef90e7e964f",
   "metadata": {},
   "outputs": [
    {
     "data": {
      "application/json": {
       "ascii": false,
       "bar_format": null,
       "colour": null,
       "elapsed": 0.029372453689575195,
       "initial": 0,
       "n": 0,
       "ncols": null,
       "nrows": 31,
       "postfix": null,
       "prefix": "",
       "rate": null,
       "total": 19393,
       "unit": "it",
       "unit_divisor": 1000,
       "unit_scale": false
      },
      "application/vnd.jupyter.widget-view+json": {
       "model_id": "702511647edf426d9f15c117f07c1693",
       "version_major": 2,
       "version_minor": 0
      },
      "text/plain": [
       "  0%|          | 0/19393 [00:00<?, ?it/s]"
      ]
     },
     "metadata": {},
     "output_type": "display_data"
    }
   ],
   "source": [
    "# data[\"lines_total\"] = data[\"synopsis\"].progress_apply(lambda x: len(x.split(\"\\n\")))"
   ]
  },
  {
   "cell_type": "code",
   "execution_count": 5,
   "id": "7bfe7015-9c56-4eff-af20-1559fb2a9e87",
   "metadata": {},
   "outputs": [
    {
     "data": {
      "application/json": {
       "ascii": false,
       "bar_format": null,
       "colour": null,
       "elapsed": 0.01822948455810547,
       "initial": 0,
       "n": 0,
       "ncols": null,
       "nrows": 31,
       "postfix": null,
       "prefix": "",
       "rate": null,
       "total": 19393,
       "unit": "it",
       "unit_divisor": 1000,
       "unit_scale": false
      },
      "application/vnd.jupyter.widget-view+json": {
       "model_id": "470ea2068d1945ed9d6e4b6daf612183",
       "version_major": 2,
       "version_minor": 0
      },
      "text/plain": [
       "  0%|          | 0/19393 [00:00<?, ?it/s]"
      ]
     },
     "metadata": {},
     "output_type": "display_data"
    },
    {
     "data": {
      "application/json": {
       "ascii": false,
       "bar_format": null,
       "colour": null,
       "elapsed": 0.04676222801208496,
       "initial": 0,
       "n": 0,
       "ncols": null,
       "nrows": 31,
       "postfix": null,
       "prefix": "",
       "rate": null,
       "total": 19393,
       "unit": "it",
       "unit_divisor": 1000,
       "unit_scale": false
      },
      "application/vnd.jupyter.widget-view+json": {
       "model_id": "e6508da238494596b05daeeb866b3b8b",
       "version_major": 2,
       "version_minor": 0
      },
      "text/plain": [
       "  0%|          | 0/19393 [00:00<?, ?it/s]"
      ]
     },
     "metadata": {},
     "output_type": "display_data"
    },
    {
     "data": {
      "application/json": {
       "ascii": false,
       "bar_format": null,
       "colour": null,
       "elapsed": 0.029623746871948242,
       "initial": 0,
       "n": 0,
       "ncols": null,
       "nrows": 31,
       "postfix": null,
       "prefix": "",
       "rate": null,
       "total": 19393,
       "unit": "it",
       "unit_divisor": 1000,
       "unit_scale": false
      },
      "application/vnd.jupyter.widget-view+json": {
       "model_id": "b8aa8ad9b13a4107a05501c44a2488a8",
       "version_major": 2,
       "version_minor": 0
      },
      "text/plain": [
       "  0%|          | 0/19393 [00:00<?, ?it/s]"
      ]
     },
     "metadata": {},
     "output_type": "display_data"
    }
   ],
   "source": [
    "data[\"token_max_char_len\"] = data[\"synopsis\"].progress_apply(\n",
    "    lambda x: max([len(t) for t in word_tokenize(x)]) if x.strip() else 0\n",
    ")\n",
    "\n",
    "data[\"sent_max_char_len\"] = data[\"synopsis\"].progress_apply(\n",
    "    lambda x: max([len(t) for t in sent_tokenize(x)]) if x.strip() else 0\n",
    ")\n",
    "\n",
    "data[\"line_max_char_len\"] = data[\"synopsis\"].progress_apply(\n",
    "    lambda x: max([len(t) for t in x.split(\"\\n\")]) if x.strip() else 0\n",
    ")"
   ]
  },
  {
   "cell_type": "code",
   "execution_count": 16,
   "id": "e6d30ba1-dd5e-4d12-87d8-c7e54047486c",
   "metadata": {},
   "outputs": [],
   "source": [
    "data[\"sent_char_ratio\"] = [t.sent_total/t.char_total for t in data.itertuples()]\n",
    "data[\"sent_token_ratio\"] = [t.sent_total/t.token_total for t in data.itertuples()]\n",
    "data[\"token_char_ratio\"] = [t.token_total/t.char_total for t in data.itertuples()]\n",
    "data[\"token_sent_ratio\"] = [t.token_total/t.sent_total for t in data.itertuples()]\n",
    "data[\"char_sent_ratio\"] = [t.char_total/t.sent_total for t in data.itertuples()]\n",
    "data[\"char_token_ratio\"] = [t.char_total/t.token_total for t in data.itertuples()]"
   ]
  },
  {
   "cell_type": "code",
   "execution_count": 13,
   "id": "37083f6a-439f-4805-8333-cc2268e8e1c6",
   "metadata": {},
   "outputs": [
    {
     "data": {
      "text/html": [
       "<div>\n",
       "<style scoped>\n",
       "    .dataframe tbody tr th:only-of-type {\n",
       "        vertical-align: middle;\n",
       "    }\n",
       "\n",
       "    .dataframe tbody tr th {\n",
       "        vertical-align: top;\n",
       "    }\n",
       "\n",
       "    .dataframe thead th {\n",
       "        text-align: right;\n",
       "    }\n",
       "</style>\n",
       "<table border=\"1\" class=\"dataframe\">\n",
       "  <thead>\n",
       "    <tr style=\"text-align: right;\">\n",
       "      <th></th>\n",
       "      <th>char_total</th>\n",
       "      <th>token_total</th>\n",
       "      <th>sent_total</th>\n",
       "    </tr>\n",
       "  </thead>\n",
       "  <tbody>\n",
       "    <tr>\n",
       "      <th>count</th>\n",
       "      <td>18374</td>\n",
       "      <td>18374</td>\n",
       "      <td>18374</td>\n",
       "    </tr>\n",
       "    <tr>\n",
       "      <th>mean</th>\n",
       "      <td>519</td>\n",
       "      <td>105</td>\n",
       "      <td>5</td>\n",
       "    </tr>\n",
       "    <tr>\n",
       "      <th>std</th>\n",
       "      <td>348</td>\n",
       "      <td>70</td>\n",
       "      <td>3</td>\n",
       "    </tr>\n",
       "    <tr>\n",
       "      <th>min</th>\n",
       "      <td>1</td>\n",
       "      <td>1</td>\n",
       "      <td>1</td>\n",
       "    </tr>\n",
       "    <tr>\n",
       "      <th>25%</th>\n",
       "      <td>262</td>\n",
       "      <td>53</td>\n",
       "      <td>3</td>\n",
       "    </tr>\n",
       "    <tr>\n",
       "      <th>50%</th>\n",
       "      <td>454</td>\n",
       "      <td>92</td>\n",
       "      <td>5</td>\n",
       "    </tr>\n",
       "    <tr>\n",
       "      <th>75%</th>\n",
       "      <td>700</td>\n",
       "      <td>141</td>\n",
       "      <td>7</td>\n",
       "    </tr>\n",
       "    <tr>\n",
       "      <th>max</th>\n",
       "      <td>5799</td>\n",
       "      <td>1201</td>\n",
       "      <td>79</td>\n",
       "    </tr>\n",
       "  </tbody>\n",
       "</table>\n",
       "</div>"
      ],
      "text/plain": [
       "       char_total  token_total  sent_total\n",
       "count       18374        18374       18374\n",
       "mean          519          105           5\n",
       "std           348           70           3\n",
       "min             1            1           1\n",
       "25%           262           53           3\n",
       "50%           454           92           5\n",
       "75%           700          141           7\n",
       "max          5799         1201          79"
      ]
     },
     "execution_count": 13,
     "metadata": {},
     "output_type": "execute_result"
    }
   ],
   "source": [
    "data.describe().astype(int)"
   ]
  },
  {
   "cell_type": "code",
   "execution_count": 54,
   "id": "a9e2f70f-f979-41fd-9510-cefafa51031d",
   "metadata": {},
   "outputs": [],
   "source": [
    "stats = data.drop(columns=[\"href\", \"synopsis\"]) #.drop(columns=[\"line_max_char_len\"])"
   ]
  },
  {
   "cell_type": "markdown",
   "id": "55b0182b-a22c-4772-a131-4192604d0e1d",
   "metadata": {},
   "source": [
    "# Outlier detection\n",
    "\n",
    "[The svm.OneClassSVM is known to be sensitive to outliers and thus does not perform very well for outlier detection](https://scikit-learn.org/stable/modules/outlier_detection.html#outlier-detection)"
   ]
  },
  {
   "cell_type": "code",
   "execution_count": 55,
   "id": "2ab5f722-23fd-4880-b752-36fa8d209af3",
   "metadata": {},
   "outputs": [],
   "source": [
    "from sklearn.neighbors import LocalOutlierFactor\n",
    "from sklearn.ensemble import IsolationForest"
   ]
  },
  {
   "cell_type": "code",
   "execution_count": 56,
   "id": "8a388991-78ad-47dd-817f-9a3f4ffa0b64",
   "metadata": {},
   "outputs": [],
   "source": [
    "clf = LocalOutlierFactor(n_neighbors=20)\n",
    "preds = clf.fit_predict(stats)\n",
    "\n",
    "data[\"pred\"] = preds\n",
    "data[\"negative_outlier_factor_\"] = clf.negative_outlier_factor_"
   ]
  },
  {
   "cell_type": "code",
   "execution_count": 57,
   "id": "a87341ab-da27-4bce-8fc6-fa15a5ca0cd4",
   "metadata": {},
   "outputs": [],
   "source": [
    "# data[data[\"pred\"] == -1][\"synopsis\"].sample(10).to_list()"
   ]
  },
  {
   "cell_type": "code",
   "execution_count": 60,
   "id": "302950ce-21fe-4f85-97c0-4d1cd14f76a4",
   "metadata": {},
   "outputs": [
    {
     "data": {
      "text/plain": [
       "['As one of the nation’s most beloved stars, Gong Tae Sung is used to living his life in the spotlight. With the eyes of the world constantly on him, Tae Sung does his best to keep a smile on his face and his temper in check. Seen by the people as a kind and polite young man, the only people who don’t buy into his whole good guy persona are those working for his management company.\\nAs the head of that company’s PR team, Oh Han Byeol knows exactly what Tae Sung is really like. Well aware of his strong desire to win and his hot temper, Han Byeol has had to employ her excellent speech and crisis management skills on a number of occasions, in order to keep Tae Sung’s reputation as spotless as it seems. Constantly bickering, there isn’t anyone in the world better suited to the role of natural enemies than Han Byeol and Tae Sung.\\nForever at odds with each other, Tae Sung and Han Byeol seem destined to hate each other forever. But could the time they’re forced to spend together change those feelings or will their mutual loathing last for all eternity?\\n(Source: Viki)',\n",
       " 'Jang Seon Hee is a heartless mother who abandoned her two young children and her husband, Seo Jun Suk. Her son and daughter grew up hating her for what she did. Seo Eun Joo works as a nurse while Seon Hee’s second husband, Moon Yong Gi, is a doctor.\\nLee Yoon Sub is a student of a top university and he dislikes people calling him a house-helper’s kid because his mom is one. Yoon Sub and Eun Joo are in love with each other. Because of his kindheartedness and maturity, he always tries to ‘heal’ Eun Joo’s wounds and stands by her in times of need. Their love is challenged when Choi Dong Gun, the doctor whom Eun Joo is working for falls for her.\\nChoi Dong Gun is a plastic surgeon, who is competent although he’s an orphan and is the object of one-sided affection from Moon Ji Ye, Eun Joo’s half-sister. He falls in love with Eun Joo instead, causing a rivalry between the two half-sisters.\\nIt’s the story of one family that is divided into two on it’s sense of family value and the selfishness of one woman who causes the love and hate between them.\\n(Source: KoreanDrama.org)',\n",
       " 'Heroine Ye Mu from 21st century accidentally obtained an ancient book while performing a mission. What she didn\\'t expect is that she got sucked into the book world and became the General\\'s mistress daughter. Only by protecting Mo Lin Yuan, the little slave who she have been bullying, who is also the future emperor, then only she can return to the real world.\\nYe Mu therefore recruited Mo Lin Yuan as her personal bodyguard and constantly getting on his good side. Cultivating him in the development of morality, intelligence, physique from early age. Under Ye Mu\\'s care and support, Mo Lin Yuan let go of the hatred he have towards her. And the story of the domineering lady and the loyal bodyguard slowly unfold.\\nAs the plot progresses, the two who grew up together gradually develop feelings for each other. However, there are many difficulties and hardships on the road to becoming a king. Can the two work together to overcome the crisis? Will Ye Mu be able to return to the real world smoothly?\\n(Source: Chinese = 163.com || Translation = nekomeowmeow.com)\\n~~ Adapted from the web comic \"Yang Di Wei Huan\" (养敌为患) by Bo Yi Animation (博易动漫), which in turn is adapted from the web novel of the same name by Feng Yu Zi Ran (风与自然).',\n",
       " 'Very much in love with her boyfriend, Cha Ra Ri is devastated when she learns that he has unexpectedly passed away. Unsure how she can ever find the strength to go on living without him, Ra Ri decides to follow her boyfriend in death. But the discovery of a bucket list, which she had written with him ages ago, inspires her to hold off on death for just a while longer.\\nDetermined to fulfill every item of their shared bucket list, Ra Ri sets out to do just that. As she begins checking items off their list, she crosses paths with Kang Hansol, an idol trainee with great potential but terrible stage fright. Brought together by fate, Ra Ri and Hansol begin completing items on her bucket list together, their time together giving them the strength to hold on, just a while longer.\\nWorking their way through the list, Ra Ri and Hansol begin to realize there are unexpected feelings growing between them. Drawing ever closer, the pain they’ve both endured slowly begins to fade. Will their newfound feelings give them the strength they need to continue living despite everything?\\n(Source: Viki)\\n~~ Adapted from a webtoon of the same name.',\n",
       " 'As a man with good looks, a high IQ, and incredible wealth, Zhu Xuan Wen wants for nothing. Somewhat of a rarity, he is the sort of man women dream about, and men wish they could be. Yet, Xuan Wen is not what he seems. Involved in a car accident at a young age, he developed a strange neurosis that worsened with time. Believing he is the Ming Dynasty’s Emperor Jianwen, Xuan Wen cares only for the prosperity of his imaginary empire. He has relegated his daily responsibilities, including his company’s management in the hands of others, preferring to build himself a palace from which to manage his thriving fictional empire. Those closest to him agree they need to seek professional help on his behalf.\\nLuo Kai Huai, a mental health professional whose desperate need for money prompts her to take on Xuan Wen’s unusual condition. Kai Huai becomes a part of his world as a member of the emperor’s harem. Now she must find a way to help Xuan Wen, who constantly attempts to drive her away, making her job all but impossible. Constantly clashing with the would-be emperor, Kai Huai must find a way to help Xuan Wen, but how?\\n(Source: Viki)\\n~~ Adapted from the novel “My Delusional Boyfriend” (我的妄想症男友) by Ye Zi (叶子).',\n",
       " \"Tinrat and Katleya have been in love for 3 years, but because of her ambition, Katleya decided to marry Tinrat's father. Many years have passed, Tinrat's father is now gone, and Katleya wants to get Tinrat back. On the other hand, Tinrat has a new girlfriend for a long time but he still can't forget Katleya.\\nKuat is Katleya's son, Tinrat's brother. He is gay but only his uncle Mai, Katleya's brother, knows about this. When Katleya learns about his being gay, she couldn't accept it, she wanted him to be as perfect as his brother. While being down, Kuat meets with Jomkwan, a rich lady who ran away from home because of family matters. They become very friendly and Jomkwan is pretending to be Kuat's girlfriend. They live together in Kuat's condo.\\nLater on, Kuat is more and more frustrated by his mom, he decided to end his life. Tinrat believes that Jomkwan is the cause of his brother suicide and tried to hurt her. In order to protect herself, Jomkwan lies about being pregnant with Kuat.\\nThis lie made Tinrat and Jomkwan become closer and brought them together, but Katleya is still there trying to have Tinrat back.\",\n",
       " 'The omnibus film will hold episodes centered around the theme of \\'afterlife\\'.\\n> Story 1: \"444\" (444(死死死)) [Director: Min Kyu Dong]\\nDepartment Head Park and new employee Se Young walk into the secret basement storage room to take out old files. Park knows Se Young possesses a freaky talent, which is to communicate with the dead. Park orders Se Young to draw out secrets from cases that are suspected of insurance fraud. At 4:44 AM, when their stories about to end, a dark shadow is cast over them.\\n> Story 2: \"Cliff\" (절벽) [Director: Kim Sung Ho]\\nDong Wook and Sung Kyun are stuck on a dizzying cliff, where they can\\'t see the ground. They only have one candy bar. In order to live, one of them has to die.\\n> Story 3: \"Accident\" (사고) [Director: Kim Hwi]\\nJi Eun, Mi Ra, and Sun Joo fail a teacher certification examination. To cheer themselves up, they set out on a road trip. Due to an accident, it soon turns into a nightmare.\\n> Story 4: \"Escape\" (탈출) [Director: Jung Boom Shik]\\nOn his first day as a trainee teacher, Byung Shin is humiliated by his students. He follows a strange story told by his student Tan Hee, who is possessed by black magic. He then becomes locked in the entrance to Hell.\\n(Source: AsianWiki)',\n",
       " 'Born in a small town in Japan, a young girl named Ai is sent to a cult commune by her religious maniac mother and lives there for seven long years. After the cult is exposed by the police, Ai starts a new stage of life, going to a normal school for the first time, but she can’t find her place to fit in there. Ai drops out from the school and society, spending her life living with a rock-bottom delinquent family full of gangsters and call girls. In a strange twist of fate she finds herself back in a new and normal life, living with a middle-class family, but her troubled life continues to follow her into more deep and seedy paths. The only person who understands Ai and her troubles is another cast off from society, Ryota, who is in love with her. Ryota lives in a shady world of delinquents, though wants to escape and live a normal life. The two teens’ purity gets swallowed up by the urban jungle in a big regional city. A black comedy depicting lives of modern youth and their struggles in a place where there is no way out.',\n",
       " \"Kurata Sui is a 30-year-old man, who is honest and kind to people. He first went on an airplane when he was middle school student. After that, he has always wanted to become an airplane pilot. Finally, after going through rigorous training, he has been promoted as the first officer for an airline. One day, as the first officer of the flight, he experiences a difficult time because of bad weather. Due to the excellent work of a female air traffic controller, Kurata Sui and the captain are able to land the plane safely at Haneda Airport. Since then, even though he doesn't know her name or what she looks like, Kurata Sui has fallen in love with the air traffic controller just by listening to her voice.\\nThe female air traffic controller, who Kurata Sui is in love with, is Shibuya Mayu. As an air traffic controller, she has the skills to respond quickly to emergency situations with a cool and calm, but precise manner. Although she excels in her job as an air traffic controller, her social skills are not nearly as good. She has difficulty with expressing her feelings to others and does not feel comfortable hanging out with others. Suddenly, Kurata Sui appears in front of her and approaches her.\\n(Source: AsianWiki)\",\n",
       " 'When the door to another world opens, demons exist there. Ku San Young is possessed by one of those demons. Yeom Hae Sang can see the demon which has possessed Ku San Young. They try to figure out the truth behind the mysterious deaths related to the five sacred objects.\\nKu San Young is busy working part-time during the day and studying to become a low-ranking public officer at night. One day, she receives some articles left behind by her late father. Since then, mysterious deaths take place around her. She also finds herself slowly changing.\\nYeom Hae Sang comes from a rich background. He teaches Korean folklore at a university. Since he was a child, he has had the special ability to see demons in this world. He even saw his mother killed by a demon in front of him when he was young. Yeom Hae Sang meets Ku San Young and he faces the demon which killed his mother.\\nLee Hong Sae is a lieutenant in the violent crimes investigation team. He only cares about advancing his career in the police department. Due to Ku San Young and Yeom Hae Sang, he gets involved in mysterious cases.\\n(Source: Asianwiki)']"
      ]
     },
     "execution_count": 60,
     "metadata": {},
     "output_type": "execute_result"
    }
   ],
   "source": [
    "data[data[\"pred\"] == -1].sort_values(by=\"negative_outlier_factor_\"\n",
    "                                    )[['href', 'synopsis', 'pred', 'negative_outlier_factor_']].head(10)[\"synopsis\"].to_list()"
   ]
  },
  {
   "cell_type": "code",
   "execution_count": null,
   "id": "539cf98d-4ae4-4f30-9876-1d6cc4e00a2d",
   "metadata": {},
   "outputs": [],
   "source": []
  }
 ],
 "metadata": {
  "kernelspec": {
   "display_name": "Python 3 (ipykernel)",
   "language": "python",
   "name": "python3"
  },
  "language_info": {
   "codemirror_mode": {
    "name": "ipython",
    "version": 3
   },
   "file_extension": ".py",
   "mimetype": "text/x-python",
   "name": "python",
   "nbconvert_exporter": "python",
   "pygments_lexer": "ipython3",
   "version": "3.10.5"
  }
 },
 "nbformat": 4,
 "nbformat_minor": 5
}
