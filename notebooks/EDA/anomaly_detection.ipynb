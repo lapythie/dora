{
 "cells": [
  {
   "cell_type": "code",
   "execution_count": 1,
   "id": "78ff8982-ac6e-4976-9655-42c2b3c55118",
   "metadata": {},
   "outputs": [],
   "source": [
    "import json\n",
    "import numpy as np\n",
    "import pandas as pd\n",
    "from collections import Counter\n",
    "\n",
    "from nltk import word_tokenize, sent_tokenize\n",
    "\n",
    "from tqdm.auto import tqdm\n",
    "tqdm.pandas()\n",
    "\n",
    "pd.set_option('display.max_colwidth', 200)"
   ]
  },
  {
   "cell_type": "code",
   "execution_count": 2,
   "id": "161b4803-4e64-40ac-b3e5-5cca5b8922df",
   "metadata": {},
   "outputs": [],
   "source": [
    "with open(\"../data/href2synopsis.json\", encoding=\"utf-8\") as f:\n",
    "    href2synopsis = json.load(f)"
   ]
  },
  {
   "cell_type": "markdown",
   "id": "d74f6694-1997-4e2a-aa8d-845e73c0150f",
   "metadata": {},
   "source": [
    "    Takeaways:\n",
    "        - replace \\n or \\r sequences with single \\n\n",
    "        - use language-specific tokenizer"
   ]
  },
  {
   "cell_type": "markdown",
   "id": "8a2190a7-a0b1-46ea-b8cb-9e995fd1ff91",
   "metadata": {},
   "source": [
    "# BOW stats"
   ]
  },
  {
   "cell_type": "code",
   "execution_count": 3,
   "id": "05b12d69-ed5e-456b-a366-7de2226a5796",
   "metadata": {},
   "outputs": [],
   "source": [
    "data = pd.DataFrame()\n",
    "\n",
    "data[\"href\"] = href2synopsis.keys()\n",
    "data[\"synopsis\"] = href2synopsis.values()"
   ]
  },
  {
   "cell_type": "code",
   "execution_count": 4,
   "id": "2e34ca49-9d27-46ce-9db5-f449166f6ab2",
   "metadata": {},
   "outputs": [],
   "source": [
    "data = data[data[\"synopsis\"] != \"\"]"
   ]
  },
  {
   "cell_type": "code",
   "execution_count": 8,
   "id": "7544f9ee-3e14-4128-88b3-21a43824cf37",
   "metadata": {},
   "outputs": [],
   "source": [
    "import regex as re\n",
    "\n",
    "data[\"synopsis\"] = data[\"synopsis\"].apply(\n",
    "    lambda x: re.sub(\"\\s*\\n\\s*\", \"\\n\", x).strip()\n",
    ")"
   ]
  },
  {
   "cell_type": "code",
   "execution_count": 20,
   "id": "5f3ee1de-090f-46d6-a82a-334e48342382",
   "metadata": {},
   "outputs": [
    {
     "data": {
      "application/json": {
       "ascii": false,
       "bar_format": null,
       "colour": null,
       "elapsed": 0.019004344940185547,
       "initial": 0,
       "n": 0,
       "ncols": null,
       "nrows": 31,
       "postfix": null,
       "prefix": "",
       "rate": null,
       "total": 18374,
       "unit": "it",
       "unit_divisor": 1000,
       "unit_scale": false
      },
      "application/vnd.jupyter.widget-view+json": {
       "model_id": "c6775b521480495a9917b7bbe461e160",
       "version_major": 2,
       "version_minor": 0
      },
      "text/plain": [
       "  0%|          | 0/18374 [00:00<?, ?it/s]"
      ]
     },
     "metadata": {},
     "output_type": "display_data"
    },
    {
     "data": {
      "application/json": {
       "ascii": false,
       "bar_format": null,
       "colour": null,
       "elapsed": 0.02045154571533203,
       "initial": 0,
       "n": 0,
       "ncols": null,
       "nrows": 31,
       "postfix": null,
       "prefix": "",
       "rate": null,
       "total": 18374,
       "unit": "it",
       "unit_divisor": 1000,
       "unit_scale": false
      },
      "application/vnd.jupyter.widget-view+json": {
       "model_id": "b51b232e25bb4a2685e4d6e3eea10258",
       "version_major": 2,
       "version_minor": 0
      },
      "text/plain": [
       "  0%|          | 0/18374 [00:00<?, ?it/s]"
      ]
     },
     "metadata": {},
     "output_type": "display_data"
    },
    {
     "data": {
      "application/json": {
       "ascii": false,
       "bar_format": null,
       "colour": null,
       "elapsed": 0.04808831214904785,
       "initial": 0,
       "n": 0,
       "ncols": null,
       "nrows": 31,
       "postfix": null,
       "prefix": "",
       "rate": null,
       "total": 18374,
       "unit": "it",
       "unit_divisor": 1000,
       "unit_scale": false
      },
      "application/vnd.jupyter.widget-view+json": {
       "model_id": "d5e821cc39fd46cb9e85dbe501f5cc18",
       "version_major": 2,
       "version_minor": 0
      },
      "text/plain": [
       "  0%|          | 0/18374 [00:00<?, ?it/s]"
      ]
     },
     "metadata": {},
     "output_type": "display_data"
    },
    {
     "data": {
      "application/json": {
       "ascii": false,
       "bar_format": null,
       "colour": null,
       "elapsed": 0.02090001106262207,
       "initial": 0,
       "n": 0,
       "ncols": null,
       "nrows": 31,
       "postfix": null,
       "prefix": "",
       "rate": null,
       "total": 18374,
       "unit": "it",
       "unit_divisor": 1000,
       "unit_scale": false
      },
      "application/vnd.jupyter.widget-view+json": {
       "model_id": "00f628dc634d4ac19de5b764d53167b2",
       "version_major": 2,
       "version_minor": 0
      },
      "text/plain": [
       "  0%|          | 0/18374 [00:00<?, ?it/s]"
      ]
     },
     "metadata": {},
     "output_type": "display_data"
    },
    {
     "data": {
      "application/json": {
       "ascii": false,
       "bar_format": null,
       "colour": null,
       "elapsed": 0.07820558547973633,
       "initial": 0,
       "n": 0,
       "ncols": null,
       "nrows": 31,
       "postfix": null,
       "prefix": "",
       "rate": null,
       "total": 18374,
       "unit": "it",
       "unit_divisor": 1000,
       "unit_scale": false
      },
      "application/vnd.jupyter.widget-view+json": {
       "model_id": "678ed3db6bd943d7a04c89e39e470812",
       "version_major": 2,
       "version_minor": 0
      },
      "text/plain": [
       "  0%|          | 0/18374 [00:00<?, ?it/s]"
      ]
     },
     "metadata": {},
     "output_type": "display_data"
    }
   ],
   "source": [
    "data[\"min_ord\"] = data[\"synopsis\"].progress_apply(\n",
    "    lambda s: min([ord(char) for char in s])\n",
    ")\n",
    "\n",
    "data[\"max_ord\"] = data[\"synopsis\"].progress_apply(\n",
    "    lambda s: max([ord(char) for char in s])\n",
    ")\n",
    "\n",
    "data[\"mean_ord\"] = data[\"synopsis\"].progress_apply(\n",
    "    lambda s: np.mean([ord(char) for char in s])\n",
    ")\n",
    "\n",
    "data[\"median_ord\"] = data[\"synopsis\"].progress_apply(\n",
    "    lambda s: np.median([ord(char) for char in s])\n",
    ")\n",
    "\n",
    "data[\"mode_ord\"] = data[\"synopsis\"].progress_apply(\n",
    "    lambda s: Counter([ord(char) for char in s]).most_common()[0][0]\n",
    ")"
   ]
  },
  {
   "cell_type": "code",
   "execution_count": 12,
   "id": "2b001110-3de6-47f6-819b-0fa70adfedb1",
   "metadata": {},
   "outputs": [
    {
     "data": {
      "application/json": {
       "ascii": false,
       "bar_format": null,
       "colour": null,
       "elapsed": 0.02100229263305664,
       "initial": 0,
       "n": 0,
       "ncols": null,
       "nrows": 31,
       "postfix": null,
       "prefix": "",
       "rate": null,
       "total": 18374,
       "unit": "it",
       "unit_divisor": 1000,
       "unit_scale": false
      },
      "application/vnd.jupyter.widget-view+json": {
       "model_id": "c93a97138cb044f2acf1c1f8a8ed5899",
       "version_major": 2,
       "version_minor": 0
      },
      "text/plain": [
       "  0%|          | 0/18374 [00:00<?, ?it/s]"
      ]
     },
     "metadata": {},
     "output_type": "display_data"
    },
    {
     "data": {
      "application/json": {
       "ascii": false,
       "bar_format": null,
       "colour": null,
       "elapsed": 0.04766440391540527,
       "initial": 0,
       "n": 0,
       "ncols": null,
       "nrows": 31,
       "postfix": null,
       "prefix": "",
       "rate": null,
       "total": 18374,
       "unit": "it",
       "unit_divisor": 1000,
       "unit_scale": false
      },
      "application/vnd.jupyter.widget-view+json": {
       "model_id": "ec0363cfd4fc45a4b3295271eaa21045",
       "version_major": 2,
       "version_minor": 0
      },
      "text/plain": [
       "  0%|          | 0/18374 [00:00<?, ?it/s]"
      ]
     },
     "metadata": {},
     "output_type": "display_data"
    },
    {
     "data": {
      "application/json": {
       "ascii": false,
       "bar_format": null,
       "colour": null,
       "elapsed": 0.03160500526428223,
       "initial": 0,
       "n": 0,
       "ncols": null,
       "nrows": 31,
       "postfix": null,
       "prefix": "",
       "rate": null,
       "total": 18374,
       "unit": "it",
       "unit_divisor": 1000,
       "unit_scale": false
      },
      "application/vnd.jupyter.widget-view+json": {
       "model_id": "90969686f7374906846c343549a80da6",
       "version_major": 2,
       "version_minor": 0
      },
      "text/plain": [
       "  0%|          | 0/18374 [00:00<?, ?it/s]"
      ]
     },
     "metadata": {},
     "output_type": "display_data"
    }
   ],
   "source": [
    "data[\"char_total\"] = data[\"synopsis\"].progress_apply(len)\n",
    "data[\"token_total\"] = data[\"synopsis\"].progress_apply(\n",
    "    lambda x: len(word_tokenize(x))\n",
    ")\n",
    "data[\"sent_total\"] = data[\"synopsis\"].progress_apply(\n",
    "    lambda x: len([sent for line in x.split(\"\\n\") for sent in  sent_tokenize(line) if line.strip()])\n",
    ")"
   ]
  },
  {
   "cell_type": "code",
   "execution_count": 27,
   "id": "ecf37e02-fcb7-415d-9bb2-5ef90e7e964f",
   "metadata": {},
   "outputs": [
    {
     "data": {
      "application/json": {
       "ascii": false,
       "bar_format": null,
       "colour": null,
       "elapsed": 0.029372453689575195,
       "initial": 0,
       "n": 0,
       "ncols": null,
       "nrows": 31,
       "postfix": null,
       "prefix": "",
       "rate": null,
       "total": 19393,
       "unit": "it",
       "unit_divisor": 1000,
       "unit_scale": false
      },
      "application/vnd.jupyter.widget-view+json": {
       "model_id": "702511647edf426d9f15c117f07c1693",
       "version_major": 2,
       "version_minor": 0
      },
      "text/plain": [
       "  0%|          | 0/19393 [00:00<?, ?it/s]"
      ]
     },
     "metadata": {},
     "output_type": "display_data"
    }
   ],
   "source": [
    "# data[\"lines_total\"] = data[\"synopsis\"].progress_apply(lambda x: len(x.split(\"\\n\")))"
   ]
  },
  {
   "cell_type": "code",
   "execution_count": 5,
   "id": "7bfe7015-9c56-4eff-af20-1559fb2a9e87",
   "metadata": {},
   "outputs": [
    {
     "data": {
      "application/json": {
       "ascii": false,
       "bar_format": null,
       "colour": null,
       "elapsed": 0.01822948455810547,
       "initial": 0,
       "n": 0,
       "ncols": null,
       "nrows": 31,
       "postfix": null,
       "prefix": "",
       "rate": null,
       "total": 19393,
       "unit": "it",
       "unit_divisor": 1000,
       "unit_scale": false
      },
      "application/vnd.jupyter.widget-view+json": {
       "model_id": "470ea2068d1945ed9d6e4b6daf612183",
       "version_major": 2,
       "version_minor": 0
      },
      "text/plain": [
       "  0%|          | 0/19393 [00:00<?, ?it/s]"
      ]
     },
     "metadata": {},
     "output_type": "display_data"
    },
    {
     "data": {
      "application/json": {
       "ascii": false,
       "bar_format": null,
       "colour": null,
       "elapsed": 0.04676222801208496,
       "initial": 0,
       "n": 0,
       "ncols": null,
       "nrows": 31,
       "postfix": null,
       "prefix": "",
       "rate": null,
       "total": 19393,
       "unit": "it",
       "unit_divisor": 1000,
       "unit_scale": false
      },
      "application/vnd.jupyter.widget-view+json": {
       "model_id": "e6508da238494596b05daeeb866b3b8b",
       "version_major": 2,
       "version_minor": 0
      },
      "text/plain": [
       "  0%|          | 0/19393 [00:00<?, ?it/s]"
      ]
     },
     "metadata": {},
     "output_type": "display_data"
    },
    {
     "data": {
      "application/json": {
       "ascii": false,
       "bar_format": null,
       "colour": null,
       "elapsed": 0.029623746871948242,
       "initial": 0,
       "n": 0,
       "ncols": null,
       "nrows": 31,
       "postfix": null,
       "prefix": "",
       "rate": null,
       "total": 19393,
       "unit": "it",
       "unit_divisor": 1000,
       "unit_scale": false
      },
      "application/vnd.jupyter.widget-view+json": {
       "model_id": "b8aa8ad9b13a4107a05501c44a2488a8",
       "version_major": 2,
       "version_minor": 0
      },
      "text/plain": [
       "  0%|          | 0/19393 [00:00<?, ?it/s]"
      ]
     },
     "metadata": {},
     "output_type": "display_data"
    }
   ],
   "source": [
    "data[\"token_max_char_len\"] = data[\"synopsis\"].progress_apply(\n",
    "    lambda x: max([len(t) for t in word_tokenize(x)]) if x.strip() else 0\n",
    ")\n",
    "\n",
    "data[\"sent_max_char_len\"] = data[\"synopsis\"].progress_apply(\n",
    "    lambda x: max([len(t) for t in sent_tokenize(x)]) if x.strip() else 0\n",
    ")\n",
    "\n",
    "data[\"line_max_char_len\"] = data[\"synopsis\"].progress_apply(\n",
    "    lambda x: max([len(t) for t in x.split(\"\\n\")]) if x.strip() else 0\n",
    ")"
   ]
  },
  {
   "cell_type": "code",
   "execution_count": 16,
   "id": "e6d30ba1-dd5e-4d12-87d8-c7e54047486c",
   "metadata": {},
   "outputs": [],
   "source": [
    "data[\"sent_char_ratio\"] = [t.sent_total/t.char_total for t in data.itertuples()]\n",
    "data[\"sent_token_ratio\"] = [t.sent_total/t.token_total for t in data.itertuples()]\n",
    "data[\"token_char_ratio\"] = [t.token_total/t.char_total for t in data.itertuples()]\n",
    "data[\"token_sent_ratio\"] = [t.token_total/t.sent_total for t in data.itertuples()]\n",
    "data[\"char_sent_ratio\"] = [t.char_total/t.sent_total for t in data.itertuples()]\n",
    "data[\"char_token_ratio\"] = [t.char_total/t.token_total for t in data.itertuples()]"
   ]
  },
  {
   "cell_type": "code",
   "execution_count": 13,
   "id": "37083f6a-439f-4805-8333-cc2268e8e1c6",
   "metadata": {},
   "outputs": [
    {
     "data": {
      "text/html": [
       "<div>\n",
       "<style scoped>\n",
       "    .dataframe tbody tr th:only-of-type {\n",
       "        vertical-align: middle;\n",
       "    }\n",
       "\n",
       "    .dataframe tbody tr th {\n",
       "        vertical-align: top;\n",
       "    }\n",
       "\n",
       "    .dataframe thead th {\n",
       "        text-align: right;\n",
       "    }\n",
       "</style>\n",
       "<table border=\"1\" class=\"dataframe\">\n",
       "  <thead>\n",
       "    <tr style=\"text-align: right;\">\n",
       "      <th></th>\n",
       "      <th>char_total</th>\n",
       "      <th>token_total</th>\n",
       "      <th>sent_total</th>\n",
       "    </tr>\n",
       "  </thead>\n",
       "  <tbody>\n",
       "    <tr>\n",
       "      <th>count</th>\n",
       "      <td>18374</td>\n",
       "      <td>18374</td>\n",
       "      <td>18374</td>\n",
       "    </tr>\n",
       "    <tr>\n",
       "      <th>mean</th>\n",
       "      <td>519</td>\n",
       "      <td>105</td>\n",
       "      <td>5</td>\n",
       "    </tr>\n",
       "    <tr>\n",
       "      <th>std</th>\n",
       "      <td>348</td>\n",
       "      <td>70</td>\n",
       "      <td>3</td>\n",
       "    </tr>\n",
       "    <tr>\n",
       "      <th>min</th>\n",
       "      <td>1</td>\n",
       "      <td>1</td>\n",
       "      <td>1</td>\n",
       "    </tr>\n",
       "    <tr>\n",
       "      <th>25%</th>\n",
       "      <td>262</td>\n",
       "      <td>53</td>\n",
       "      <td>3</td>\n",
       "    </tr>\n",
       "    <tr>\n",
       "      <th>50%</th>\n",
       "      <td>454</td>\n",
       "      <td>92</td>\n",
       "      <td>5</td>\n",
       "    </tr>\n",
       "    <tr>\n",
       "      <th>75%</th>\n",
       "      <td>700</td>\n",
       "      <td>141</td>\n",
       "      <td>7</td>\n",
       "    </tr>\n",
       "    <tr>\n",
       "      <th>max</th>\n",
       "      <td>5799</td>\n",
       "      <td>1201</td>\n",
       "      <td>79</td>\n",
       "    </tr>\n",
       "  </tbody>\n",
       "</table>\n",
       "</div>"
      ],
      "text/plain": [
       "       char_total  token_total  sent_total\n",
       "count       18374        18374       18374\n",
       "mean          519          105           5\n",
       "std           348           70           3\n",
       "min             1            1           1\n",
       "25%           262           53           3\n",
       "50%           454           92           5\n",
       "75%           700          141           7\n",
       "max          5799         1201          79"
      ]
     },
     "execution_count": 13,
     "metadata": {},
     "output_type": "execute_result"
    }
   ],
   "source": [
    "data.describe().astype(int)"
   ]
  },
  {
   "cell_type": "code",
   "execution_count": 14,
   "id": "a9e2f70f-f979-41fd-9510-cefafa51031d",
   "metadata": {},
   "outputs": [],
   "source": [
    "stats = data.drop(columns=[\"href\", \"synopsis\"]) #.drop(columns=[\"line_max_char_len\"])"
   ]
  },
  {
   "cell_type": "markdown",
   "id": "55b0182b-a22c-4772-a131-4192604d0e1d",
   "metadata": {},
   "source": [
    "# Outlier detection\n",
    "\n",
    "[The svm.OneClassSVM is known to be sensitive to outliers and thus does not perform very well for outlier detection](https://scikit-learn.org/stable/modules/outlier_detection.html#outlier-detection)"
   ]
  },
  {
   "cell_type": "code",
   "execution_count": 15,
   "id": "2ab5f722-23fd-4880-b752-36fa8d209af3",
   "metadata": {},
   "outputs": [],
   "source": [
    "from sklearn.neighbors import LocalOutlierFactor\n",
    "from sklearn.ensemble import IsolationForest"
   ]
  },
  {
   "cell_type": "code",
   "execution_count": 16,
   "id": "8a388991-78ad-47dd-817f-9a3f4ffa0b64",
   "metadata": {},
   "outputs": [],
   "source": [
    "clf = LocalOutlierFactor(n_neighbors=20)\n",
    "preds = clf.fit_predict(stats)\n",
    "# clf.negative_outlier_factor_\n",
    "data[\"pred\"] = preds\n",
    "data[\"negative_outlier_factor_\"] = clf.negative_outlier_factor_"
   ]
  },
  {
   "cell_type": "code",
   "execution_count": 17,
   "id": "a87341ab-da27-4bce-8fc6-fa15a5ca0cd4",
   "metadata": {},
   "outputs": [],
   "source": [
    "# data[data[\"pred\"] == -1][\"synopsis\"].sample(10).to_list()"
   ]
  },
  {
   "cell_type": "code",
   "execution_count": 18,
   "id": "302950ce-21fe-4f85-97c0-4d1cd14f76a4",
   "metadata": {},
   "outputs": [
    {
     "data": {
      "text/html": [
       "<div>\n",
       "<style scoped>\n",
       "    .dataframe tbody tr th:only-of-type {\n",
       "        vertical-align: middle;\n",
       "    }\n",
       "\n",
       "    .dataframe tbody tr th {\n",
       "        vertical-align: top;\n",
       "    }\n",
       "\n",
       "    .dataframe thead th {\n",
       "        text-align: right;\n",
       "    }\n",
       "</style>\n",
       "<table border=\"1\" class=\"dataframe\">\n",
       "  <thead>\n",
       "    <tr style=\"text-align: right;\">\n",
       "      <th></th>\n",
       "      <th>href</th>\n",
       "      <th>synopsis</th>\n",
       "      <th>pred</th>\n",
       "      <th>negative_outlier_factor_</th>\n",
       "    </tr>\n",
       "  </thead>\n",
       "  <tbody>\n",
       "    <tr>\n",
       "      <th>9387</th>\n",
       "      <td>/56367-test-content-season-4</td>\n",
       "      <td>押イおッ人高ラヘ致24格会ケロヲク放文イメラシ倍極ろぼるけ島判険おが会影のたト床用じフ索手工ふ決39客芝2会促縮繰しー。議づだーめ景能オマ囲索趣こイが車74客芝6交いかへづ談情そゆあん明臨ヲホセサ博位カフク逃転地掘ークゃ年柏沼烈翌け。樹ネエ未著艦ぎう請報ア時阪便テコス学医テニ限物うてを嘉一るなむあ豪権ノマ慢活ーひや頑受やきイょ制団ぴゅめ捕活そクぱ泡死スチメ法乏咋塞墨はラい。\\n扱ドみば質削...</td>\n",
       "      <td>-1</td>\n",
       "      <td>-11.101223</td>\n",
       "    </tr>\n",
       "    <tr>\n",
       "      <th>6767</th>\n",
       "      <td>/35149-yo-nimo-kimyou-na-monogatari-2019-rain-special</td>\n",
       "      <td>***Eien no Hero\\nWith the advances in science, the world has developed cyborg technology that draws from the best in human abilities. Monsters abuse this technology, threatening the lives and safe...</td>\n",
       "      <td>-1</td>\n",
       "      <td>-4.931302</td>\n",
       "    </tr>\n",
       "    <tr>\n",
       "      <th>6765</th>\n",
       "      <td>/701325-yo-nimo-kimyou-na-monogatari-2021-fall-special</td>\n",
       "      <td>Story 01 - Die in 15 Seconds\\nAt midnight, the pharmacist Mikami Megumi, who was working in the drug room of the clinic, suddenly got stuck. And in front of her, a red splash and a stationary bull...</td>\n",
       "      <td>-1</td>\n",
       "      <td>-4.135296</td>\n",
       "    </tr>\n",
       "    <tr>\n",
       "      <th>9622</th>\n",
       "      <td>/27458-gay-out-soon-3-some</td>\n",
       "      <td>A South Korean short film collection:\\n• Some (10 mins, 2014)\\n• Turquoise Sky (15 mins, 2014)\\n• Green light (8 mins, 2014)\\n• One Summer Night (10 mins, 2014)\\n• The Name Game (7 mins, 2014)\\n• ...</td>\n",
       "      <td>-1</td>\n",
       "      <td>-3.984794</td>\n",
       "    </tr>\n",
       "    <tr>\n",
       "      <th>6876</th>\n",
       "      <td>/15101-mr.-x-and-i</td>\n",
       "      <td>Four different gay love stories based on real-life events: \"Us Against the World\" (Ep. 1), \"Beijing Beijing\" (Ep. 2), \"The Groomsman\" (Ep. 3), and \"Promise You a City\" (Ep. 4).</td>\n",
       "      <td>-1</td>\n",
       "      <td>-3.703648</td>\n",
       "    </tr>\n",
       "    <tr>\n",
       "      <th>3440</th>\n",
       "      <td>/40105-gank-your-heart-special</td>\n",
       "      <td>The special clips tell seven stories that happen after the finale:\\n1. New Legends team members\\n2. Pei Xi &amp; Summer\\n3. Lin Yi Xuan &amp; Lu Yi Yi\\n4. Mi Ya\\n5. Sun Ze Yi &amp; Shu Wen\\n6. Xia Ling\\n7. Ji...</td>\n",
       "      <td>-1</td>\n",
       "      <td>-3.485384</td>\n",
       "    </tr>\n",
       "    <tr>\n",
       "      <th>14027</th>\n",
       "      <td>/5696-13-real-asian-horror-stories</td>\n",
       "      <td>Scary stories based on true Japanese incidents.\\nStory 1 - Only two of us\\nStory 2 - Three people are coming\\nStory 3 - Copy Machine\\nStory 4 - Blue Raincoat\\nStory 5 - Animal Odour\\nStory 6 - Sle...</td>\n",
       "      <td>-1</td>\n",
       "      <td>-3.390385</td>\n",
       "    </tr>\n",
       "    <tr>\n",
       "      <th>7797</th>\n",
       "      <td>/735329-revival</td>\n",
       "      <td>Documentary using reenactments to explore the potential of beneficial microorganisms in restoring the environment. The documentary focuses on the effects of microbes such as lactic acid bacteria, ...</td>\n",
       "      <td>-1</td>\n",
       "      <td>-3.382842</td>\n",
       "    </tr>\n",
       "    <tr>\n",
       "      <th>17921</th>\n",
       "      <td>/29385-test-title-22341</td>\n",
       "      <td>Donec id justo. Etiam ultricies nisi vael augue. Nulla porta dolor. In hac habitasse platea dictumst. Cras id dui. test\\nIn dui magna, posuere eget, vestibulum et, tempor auctor, justo. Nullam acc...</td>\n",
       "      <td>-1</td>\n",
       "      <td>-3.239255</td>\n",
       "    </tr>\n",
       "    <tr>\n",
       "      <th>4185</th>\n",
       "      <td>/734799-honto-ni-atta-kowai-hanashi-summer-special-2022</td>\n",
       "      <td>Hijou Tsuhou\\nTakahashi Ryota, a new security guard working for a security company, is doing the night shift with a senior colleague Nishida Tetsushi when an emergency call comes in from a centre ...</td>\n",
       "      <td>-1</td>\n",
       "      <td>-3.138633</td>\n",
       "    </tr>\n",
       "    <tr>\n",
       "      <th>6766</th>\n",
       "      <td>/31768-yo-ni-mo-kimyouna-monogatari-2018-spring-special</td>\n",
       "      <td>***Ashita e no Warp\\nKobayashi Mineo, a young man who dreams of being a movie director, has been making his own films while working part-time but has not had his big break yet. All of his classmat...</td>\n",
       "      <td>-1</td>\n",
       "      <td>-3.036211</td>\n",
       "    </tr>\n",
       "    <tr>\n",
       "      <th>16215</th>\n",
       "      <td>/25873-f-x-1cm</td>\n",
       "      <td>Open your eyes and what? f(x) is in front of you? f(x) are in my seat? I'll get f(x)! A hidden camera program.</td>\n",
       "      <td>-1</td>\n",
       "      <td>-2.982211</td>\n",
       "    </tr>\n",
       "    <tr>\n",
       "      <th>9620</th>\n",
       "      <td>/38861-if-i-love-a-boy</td>\n",
       "      <td>Film 1: Mom, Please Do Not Disturb (Son &amp; Pluggy)\\nFilm 2: You Never Eat Alone (Folk &amp; Petch)\\nFilm 3: Hand On Me (Kia &amp; Taro)\\nFilm 4: Everybody Run (Ball &amp; Poori)\\nFilm 5: Night Before Everythin...</td>\n",
       "      <td>-1</td>\n",
       "      <td>-2.973147</td>\n",
       "    </tr>\n",
       "    <tr>\n",
       "      <th>11113</th>\n",
       "      <td>/707085-justice-bao</td>\n",
       "      <td>Contains five units:\\n1. \"Beating the Dragon Robe\" (打龍袍)\\n2. \"The 'White Dragon' Horse\" (白龍駒)\\n3. \"Robbing the Investigator\" (白龍駒)\\n4.  \"Dream of Gold\" (黃金夢)\\n5. \"The Case of Executing Chen Shimei...</td>\n",
       "      <td>-1</td>\n",
       "      <td>-2.957448</td>\n",
       "    </tr>\n",
       "    <tr>\n",
       "      <th>14406</th>\n",
       "      <td>/15714-sweet-temptation</td>\n",
       "      <td>This web drama will have 6 segments each starring a different T-ara Member. The segments will have two episodes each, except for segment 1 and segment 2, which will have only one episode each.\\n1....</td>\n",
       "      <td>-1</td>\n",
       "      <td>-2.873617</td>\n",
       "    </tr>\n",
       "    <tr>\n",
       "      <th>13932</th>\n",
       "      <td>/38551-iqs-season-2</td>\n",
       "      <td>Insane Quiz Show Season 2 (이 세상 퀴즈다 ), also abbreviated as \"이세퀴\" and \"IQS S2\" is a South Korean web variety show hosted by BTOB's Illhoon, ASTRO's MJ &amp; LOONA's Chuu.\\nThe 3 hosts welcome 2 guests ...</td>\n",
       "      <td>-1</td>\n",
       "      <td>-2.844529</td>\n",
       "    </tr>\n",
       "    <tr>\n",
       "      <th>15884</th>\n",
       "      <td>/697033-queer-japan</td>\n",
       "      <td>Trailblazing artists, activists, and everyday people from across the spectrum of gender and sexuality defy social norms and dare to live unconventional lives in this kaleidoscopic view of LGBTQ+ c...</td>\n",
       "      <td>-1</td>\n",
       "      <td>-2.517388</td>\n",
       "    </tr>\n",
       "    <tr>\n",
       "      <th>17142</th>\n",
       "      <td>/728089-in-bed-with-stranger</td>\n",
       "      <td>The most intimate strangers.\\nMarried for 7 years, they are better off apart than together.\\nWho’s the killer? Him? Her? Or both? ​​​\\n(Source: Weibo)</td>\n",
       "      <td>-1</td>\n",
       "      <td>-2.505190</td>\n",
       "    </tr>\n",
       "    <tr>\n",
       "      <th>2457</th>\n",
       "      <td>/79883-dear-karl</td>\n",
       "      <td>Dear Karl,\\nI look forward to the movies you’ll be writing and I’m sure they’ll be better than this. The last month felt like getting drawn into a screen. Thank you for writing me in. It’s been sw...</td>\n",
       "      <td>-1</td>\n",
       "      <td>-2.438449</td>\n",
       "    </tr>\n",
       "    <tr>\n",
       "      <th>9563</th>\n",
       "      <td>/732119-re-born</td>\n",
       "      <td>1. \"Today's Superpower\" (26min, 오늘의 초능력, Oneuleui Choneungryeok) by Lee Min Seob\\nPeople who claim to be able to use superpowers once a day gathered! But why can't they use their superpowers? Do t...</td>\n",
       "      <td>-1</td>\n",
       "      <td>-2.392234</td>\n",
       "    </tr>\n",
       "  </tbody>\n",
       "</table>\n",
       "</div>"
      ],
      "text/plain": [
       "                                                          href  \\\n",
       "9387                              /56367-test-content-season-4   \n",
       "6767     /35149-yo-nimo-kimyou-na-monogatari-2019-rain-special   \n",
       "6765    /701325-yo-nimo-kimyou-na-monogatari-2021-fall-special   \n",
       "9622                                /27458-gay-out-soon-3-some   \n",
       "6876                                        /15101-mr.-x-and-i   \n",
       "3440                            /40105-gank-your-heart-special   \n",
       "14027                       /5696-13-real-asian-horror-stories   \n",
       "7797                                           /735329-revival   \n",
       "17921                                  /29385-test-title-22341   \n",
       "4185   /734799-honto-ni-atta-kowai-hanashi-summer-special-2022   \n",
       "6766   /31768-yo-ni-mo-kimyouna-monogatari-2018-spring-special   \n",
       "16215                                           /25873-f-x-1cm   \n",
       "9620                                    /38861-if-i-love-a-boy   \n",
       "11113                                      /707085-justice-bao   \n",
       "14406                                  /15714-sweet-temptation   \n",
       "13932                                      /38551-iqs-season-2   \n",
       "15884                                      /697033-queer-japan   \n",
       "17142                             /728089-in-bed-with-stranger   \n",
       "2457                                          /79883-dear-karl   \n",
       "9563                                           /732119-re-born   \n",
       "\n",
       "                                                                                                                                                                                                      synopsis  \\\n",
       "9387   押イおッ人高ラヘ致24格会ケロヲク放文イメラシ倍極ろぼるけ島判険おが会影のたト床用じフ索手工ふ決39客芝2会促縮繰しー。議づだーめ景能オマ囲索趣こイが車74客芝6交いかへづ談情そゆあん明臨ヲホセサ博位カフク逃転地掘ークゃ年柏沼烈翌け。樹ネエ未著艦ぎう請報ア時阪便テコス学医テニ限物うてを嘉一るなむあ豪権ノマ慢活ーひや頑受やきイょ制団ぴゅめ捕活そクぱ泡死スチメ法乏咋塞墨はラい。\\n扱ドみば質削...   \n",
       "6767   ***Eien no Hero\\nWith the advances in science, the world has developed cyborg technology that draws from the best in human abilities. Monsters abuse this technology, threatening the lives and safe...   \n",
       "6765   Story 01 - Die in 15 Seconds\\nAt midnight, the pharmacist Mikami Megumi, who was working in the drug room of the clinic, suddenly got stuck. And in front of her, a red splash and a stationary bull...   \n",
       "9622   A South Korean short film collection:\\n• Some (10 mins, 2014)\\n• Turquoise Sky (15 mins, 2014)\\n• Green light (8 mins, 2014)\\n• One Summer Night (10 mins, 2014)\\n• The Name Game (7 mins, 2014)\\n• ...   \n",
       "6876                          Four different gay love stories based on real-life events: \"Us Against the World\" (Ep. 1), \"Beijing Beijing\" (Ep. 2), \"The Groomsman\" (Ep. 3), and \"Promise You a City\" (Ep. 4).   \n",
       "3440   The special clips tell seven stories that happen after the finale:\\n1. New Legends team members\\n2. Pei Xi & Summer\\n3. Lin Yi Xuan & Lu Yi Yi\\n4. Mi Ya\\n5. Sun Ze Yi & Shu Wen\\n6. Xia Ling\\n7. Ji...   \n",
       "14027  Scary stories based on true Japanese incidents.\\nStory 1 - Only two of us\\nStory 2 - Three people are coming\\nStory 3 - Copy Machine\\nStory 4 - Blue Raincoat\\nStory 5 - Animal Odour\\nStory 6 - Sle...   \n",
       "7797   Documentary using reenactments to explore the potential of beneficial microorganisms in restoring the environment. The documentary focuses on the effects of microbes such as lactic acid bacteria, ...   \n",
       "17921  Donec id justo. Etiam ultricies nisi vael augue. Nulla porta dolor. In hac habitasse platea dictumst. Cras id dui. test\\nIn dui magna, posuere eget, vestibulum et, tempor auctor, justo. Nullam acc...   \n",
       "4185   Hijou Tsuhou\\nTakahashi Ryota, a new security guard working for a security company, is doing the night shift with a senior colleague Nishida Tetsushi when an emergency call comes in from a centre ...   \n",
       "6766   ***Ashita e no Warp\\nKobayashi Mineo, a young man who dreams of being a movie director, has been making his own films while working part-time but has not had his big break yet. All of his classmat...   \n",
       "16215                                                                                           Open your eyes and what? f(x) is in front of you? f(x) are in my seat? I'll get f(x)! A hidden camera program.   \n",
       "9620   Film 1: Mom, Please Do Not Disturb (Son & Pluggy)\\nFilm 2: You Never Eat Alone (Folk & Petch)\\nFilm 3: Hand On Me (Kia & Taro)\\nFilm 4: Everybody Run (Ball & Poori)\\nFilm 5: Night Before Everythin...   \n",
       "11113  Contains five units:\\n1. \"Beating the Dragon Robe\" (打龍袍)\\n2. \"The 'White Dragon' Horse\" (白龍駒)\\n3. \"Robbing the Investigator\" (白龍駒)\\n4.  \"Dream of Gold\" (黃金夢)\\n5. \"The Case of Executing Chen Shimei...   \n",
       "14406  This web drama will have 6 segments each starring a different T-ara Member. The segments will have two episodes each, except for segment 1 and segment 2, which will have only one episode each.\\n1....   \n",
       "13932  Insane Quiz Show Season 2 (이 세상 퀴즈다 ), also abbreviated as \"이세퀴\" and \"IQS S2\" is a South Korean web variety show hosted by BTOB's Illhoon, ASTRO's MJ & LOONA's Chuu.\\nThe 3 hosts welcome 2 guests ...   \n",
       "15884  Trailblazing artists, activists, and everyday people from across the spectrum of gender and sexuality defy social norms and dare to live unconventional lives in this kaleidoscopic view of LGBTQ+ c...   \n",
       "17142                                                   The most intimate strangers.\\nMarried for 7 years, they are better off apart than together.\\nWho’s the killer? Him? Her? Or both? ​​​\\n(Source: Weibo)   \n",
       "2457   Dear Karl,\\nI look forward to the movies you’ll be writing and I’m sure they’ll be better than this. The last month felt like getting drawn into a screen. Thank you for writing me in. It’s been sw...   \n",
       "9563   1. \"Today's Superpower\" (26min, 오늘의 초능력, Oneuleui Choneungryeok) by Lee Min Seob\\nPeople who claim to be able to use superpowers once a day gathered! But why can't they use their superpowers? Do t...   \n",
       "\n",
       "       pred  negative_outlier_factor_  \n",
       "9387     -1                -11.101223  \n",
       "6767     -1                 -4.931302  \n",
       "6765     -1                 -4.135296  \n",
       "9622     -1                 -3.984794  \n",
       "6876     -1                 -3.703648  \n",
       "3440     -1                 -3.485384  \n",
       "14027    -1                 -3.390385  \n",
       "7797     -1                 -3.382842  \n",
       "17921    -1                 -3.239255  \n",
       "4185     -1                 -3.138633  \n",
       "6766     -1                 -3.036211  \n",
       "16215    -1                 -2.982211  \n",
       "9620     -1                 -2.973147  \n",
       "11113    -1                 -2.957448  \n",
       "14406    -1                 -2.873617  \n",
       "13932    -1                 -2.844529  \n",
       "15884    -1                 -2.517388  \n",
       "17142    -1                 -2.505190  \n",
       "2457     -1                 -2.438449  \n",
       "9563     -1                 -2.392234  "
      ]
     },
     "execution_count": 18,
     "metadata": {},
     "output_type": "execute_result"
    }
   ],
   "source": [
    "data.sort_values(by=\"negative_outlier_factor_\"\n",
    "                                    )[['href', 'synopsis', 'pred', 'negative_outlier_factor_']].head(20)"
   ]
  },
  {
   "cell_type": "code",
   "execution_count": null,
   "id": "539cf98d-4ae4-4f30-9876-1d6cc4e00a2d",
   "metadata": {},
   "outputs": [],
   "source": []
  }
 ],
 "metadata": {
  "kernelspec": {
   "display_name": "Python 3 (ipykernel)",
   "language": "python",
   "name": "python3"
  },
  "language_info": {
   "codemirror_mode": {
    "name": "ipython",
    "version": 3
   },
   "file_extension": ".py",
   "mimetype": "text/x-python",
   "name": "python",
   "nbconvert_exporter": "python",
   "pygments_lexer": "ipython3",
   "version": "3.10.5"
  }
 },
 "nbformat": 4,
 "nbformat_minor": 5
}
