{
 "cells": [
  {
   "cell_type": "code",
   "execution_count": 1,
   "id": "276df953-0a04-4314-ab4a-91495e034e19",
   "metadata": {},
   "outputs": [],
   "source": [
    "from bs4 import BeautifulSoup\n",
    "from collections import Counter, defaultdict\n",
    "import json\n",
    "from tqdm import tqdm"
   ]
  },
  {
   "cell_type": "code",
   "execution_count": 2,
   "id": "f69ada42-3c2f-431d-ac69-75df51deffe5",
   "metadata": {},
   "outputs": [],
   "source": [
    "with open(\"data/href2dramapage.json\", encoding=\"utf-8\") as f:\n",
    "    href2dramapage = json.load(f)"
   ]
  },
  {
   "cell_type": "code",
   "execution_count": 27,
   "id": "921af713-96a9-4d2c-8ad6-d16e9ac017a5",
   "metadata": {},
   "outputs": [
    {
     "name": "stderr",
     "output_type": "stream",
     "text": [
      "100%|████████████████████████████████████████████████████████████████████████████| 19462/19462 [30:23<00:00, 10.67it/s]\n"
     ]
    }
   ],
   "source": [
    "# href2details = defaultdict(dict)\n",
    "\n",
    "for href, page in tqdm(href2dramapage.items()):\n",
    "    if href not in href2details:\n",
    "        \n",
    "        soup = BeautifulSoup(page)\n",
    "        details = soup.find_all(\"ul\", {\"class\": \"list m-b-0\"})\n",
    "        if details:\n",
    "            \n",
    "            for details_block in details:\n",
    "                separate_details = details_block.find_all(\"li\", {\"class\": \"list-item p-a-0\"})\n",
    "                \n",
    "                for separate_detail in separate_details:\n",
    "                    \n",
    "                    detail_prefix = separate_detail.find_all(\"b\", {\"class\": \"inline\"})\n",
    "                    assert len(detail_prefix) == 1\n",
    "                    \n",
    "                    detail_key = detail_prefix[0].get_text()\n",
    "                    detail_value = separate_detail.get_text()\n",
    "                    assert detail_value.startswith(detail_key)\n",
    "                    \n",
    "                    assert detail_key not in href2details[href]\n",
    "                    href2details[href][detail_key] = detail_value"
   ]
  },
  {
   "cell_type": "code",
   "execution_count": 28,
   "id": "f4bf3c7e-ffd1-4d67-a6db-c404b7b9da6f",
   "metadata": {},
   "outputs": [
    {
     "name": "stdout",
     "output_type": "stream",
     "text": [
      "CPU times: total: 922 ms\n",
      "Wall time: 956 ms\n"
     ]
    }
   ],
   "source": [
    "# %%time\n",
    "# with open(\"data/href2details.json\", \"w\", encoding=\"utf-8\") as fw:\n",
    "#     json.dump(href2details, fw, ensure_ascii=False)"
   ]
  },
  {
   "cell_type": "code",
   "execution_count": 30,
   "id": "7803e0c1-c5a7-4148-9236-a3e4ec808ec6",
   "metadata": {},
   "outputs": [
    {
     "data": {
      "text/plain": [
       "19462"
      ]
     },
     "execution_count": 30,
     "metadata": {},
     "output_type": "execute_result"
    }
   ],
   "source": [
    "len(href2dramapage)"
   ]
  },
  {
   "cell_type": "code",
   "execution_count": 34,
   "id": "fa47b0eb-c368-4d8f-9611-79f937edabb4",
   "metadata": {},
   "outputs": [
    {
     "data": {
      "text/plain": [
       "['/697659-big-mouth',\n",
       " '/697661-big-mouth',\n",
       " '/28640-see-you-again',\n",
       " '/744221-pretty-guardian-of-the-city',\n",
       " '/22041-magic-journey-to-africa',\n",
       " '/54603-run-bts-season-4',\n",
       " '/730725-reverse',\n",
       " '/716857-floor',\n",
       " '/32134-sanctuary',\n",
       " '/712575-shimobee',\n",
       " '/26061-faded',\n",
       " '/706905-the-remarried-empress',\n",
       " '/68071-beats-per-mizu',\n",
       " '/714027-the-hidden-fox',\n",
       " '/77971-off-gun-fun-night-season-2-special',\n",
       " '/23766-four-men',\n",
       " '/27100-dong-witch-and-me',\n",
       " '/685235-mentalist',\n",
       " '/20150-soulmates-the-series',\n",
       " '/22147-housewife-detective',\n",
       " '/17067-blue-in-my-heart',\n",
       " '/32734-hot-place',\n",
       " '/53895-wet-season',\n",
       " '/32769-younger',\n",
       " '/683333-triple-do-you-want',\n",
       " '/701285-last-twilight-in-phuket',\n",
       " '/682103-kirei-kamisama-to-machiawaseshita-onna',\n",
       " '/732917-cang-lan-jue',\n",
       " '/715703-cherry-maho-the-movie',\n",
       " '/15959-battle-of-nujiang',\n",
       " '/18836-angels-revenge',\n",
       " '/732821-new-untitled-sbs-reality-program',\n",
       " '/730863-we-are-the-champions',\n",
       " '/28343-saja',\n",
       " '/26952-2015-dream-concert',\n",
       " '/21912-the-happiest-time-of-my-life',\n",
       " '/700339-kun-ning',\n",
       " '/32595-that-s-my-umbrella',\n",
       " '/685919-penthouse-hidden-room',\n",
       " '/15944-mermaids-prince',\n",
       " '/29266-love-sick-the-series-season-3',\n",
       " '/30569-history2-boundary-crossing-2',\n",
       " '/729453-eden',\n",
       " '/8411-tazza-hand-of-god',\n",
       " '/30432-heartbeat-the-series',\n",
       " '/23880-mess-with-the-world',\n",
       " '/714207-skz-code-2',\n",
       " '/685073-sticks-and-stones',\n",
       " '/56833-voice-of-the-death',\n",
       " '/26908-great-seducer',\n",
       " '/725613-time-to-twice-soulmate',\n",
       " '/711707-prisoners-of-the-ghostland',\n",
       " '/71039-kiss-of-the-rabbit-god',\n",
       " '/727097-out-the-boyz-newborn-edition',\n",
       " '/5314-pulgasari',\n",
       " '/741127-stories-of-our-youth',\n",
       " '/27373-history2-trap',\n",
       " '/734173-jump-the-series',\n",
       " '/29180-kamen-rider-ex-aid-trilogy-another-ending',\n",
       " '/33044-sbs-super-concert-in-suwon',\n",
       " '/24208-uchuu-keiji-gavan-vs.-tokusou-sentai-dekaranger',\n",
       " '/60341-a-miraculous-rematch-aruto-vs-fukkinhoukai-taro-fateful-gag-battle',\n",
       " '/724679-the-last-dining-table',\n",
       " '/725775-hole-in-love',\n",
       " '/41217-the-files-of-teenagers-in-the-concessions',\n",
       " '/26228-signal-season-2',\n",
       " '/714149-don-t-say-no-special-episode',\n",
       " '/5578-your-majesty',\n",
       " '/23632-closer-to-uijeongbu-than-a-shrine']"
      ]
     },
     "execution_count": 34,
     "metadata": {},
     "output_type": "execute_result"
    }
   ],
   "source": [
    "[href for href in href2dramapage if href not in href2details]"
   ]
  },
  {
   "cell_type": "code",
   "execution_count": 32,
   "id": "6ee994f5-72f1-4105-86de-25c810231bed",
   "metadata": {},
   "outputs": [
    {
     "data": {
      "text/plain": [
       "[('Country:', 19393),\n",
       " ('Score:', 19393),\n",
       " ('Ranked:', 19393),\n",
       " ('Popularity:', 19393),\n",
       " ('Watchers:', 19393),\n",
       " ('Favorites:', 19393),\n",
       " ('Duration:', 18055),\n",
       " ('Episodes:', 13028),\n",
       " ('Aired:', 12258),\n",
       " ('Original Network:', 10738),\n",
       " ('Aired On:', 10189),\n",
       " ('Drama:', 9735),\n",
       " ('Movie:', 6365),\n",
       " ('Release Date:', 6365),\n",
       " ('TV Show:', 2101),\n",
       " ('Special:', 1192),\n",
       " ('Airs:', 770),\n",
       " ('Airs On:', 47)]"
      ]
     },
     "execution_count": 32,
     "metadata": {},
     "output_type": "execute_result"
    }
   ],
   "source": [
    "Counter([k for d in href2details.values() for k in d.keys()]).most_common()"
   ]
  },
  {
   "cell_type": "code",
   "execution_count": 16,
   "id": "8f9feae9-599e-446a-89e6-c60373d94c5b",
   "metadata": {},
   "outputs": [
    {
     "data": {
      "text/plain": [
       "<li class=\"list-item p-a-0\"><b class=\"inline\">Score:</b> 8.2 <span class=\"hft\">(scored by 12 users)</span></li>"
      ]
     },
     "execution_count": 16,
     "metadata": {},
     "output_type": "execute_result"
    }
   ],
   "source": [
    "separate_details[0]"
   ]
  },
  {
   "cell_type": "code",
   "execution_count": 17,
   "id": "b771c1d2-d758-4f41-a02a-c4fae618471a",
   "metadata": {},
   "outputs": [
    {
     "data": {
      "text/plain": [
       "<ul class=\"list m-b-0\"> <li class=\"list-item p-a-0\"><b class=\"inline\">Score:</b> 8.2 <span class=\"hft\">(scored by 12 users)</span></li> <li class=\"list-item p-a-0\"><b class=\"inline\">Ranked:</b> #37553</li> <li class=\"list-item p-a-0\"><b class=\"inline\">Popularity:</b> #12666</li> <li class=\"list-item p-a-0\"><b class=\"inline\">Watchers:</b> 302</li> <li class=\"list-item p-a-0\" style=\"display:none;\"><b class=\"inline\">Favorites:</b> 0</li> </ul>"
      ]
     },
     "execution_count": 17,
     "metadata": {},
     "output_type": "execute_result"
    }
   ],
   "source": [
    "details[1]"
   ]
  },
  {
   "cell_type": "code",
   "execution_count": null,
   "id": "aa374961-e605-4c66-919b-30f48d2f8d47",
   "metadata": {},
   "outputs": [],
   "source": []
  }
 ],
 "metadata": {
  "kernelspec": {
   "display_name": "Python 3 (ipykernel)",
   "language": "python",
   "name": "python3"
  },
  "language_info": {
   "codemirror_mode": {
    "name": "ipython",
    "version": 3
   },
   "file_extension": ".py",
   "mimetype": "text/x-python",
   "name": "python",
   "nbconvert_exporter": "python",
   "pygments_lexer": "ipython3",
   "version": "3.10.5"
  }
 },
 "nbformat": 4,
 "nbformat_minor": 5
}
