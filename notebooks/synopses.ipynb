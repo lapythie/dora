{
 "cells": [
  {
   "cell_type": "code",
   "execution_count": 1,
   "id": "d7097d5b-d5e1-4f0b-a89e-6ba028d1279a",
   "metadata": {},
   "outputs": [],
   "source": [
    "from bs4 import BeautifulSoup\n",
    "from collections import Counter, defaultdict\n",
    "import json\n",
    "import regex as re\n",
    "from tqdm import tqdm"
   ]
  },
  {
   "cell_type": "code",
   "execution_count": 20,
   "id": "9886b7d0-5cfe-4686-b1bf-fc9274177d85",
   "metadata": {},
   "outputs": [],
   "source": [
    "with open(\"data/href2dramapage.json\", encoding=\"utf-8\") as f:\n",
    "    href2dramapage = json.load(f)"
   ]
  },
  {
   "cell_type": "code",
   "execution_count": 26,
   "id": "a093aff9-8b50-4c5d-aaa5-e325ecbf4840",
   "metadata": {},
   "outputs": [
    {
     "name": "stderr",
     "output_type": "stream",
     "text": [
      "100%|████████████████████████████████████████████████████████████████████████████| 19462/19462 [36:16<00:00,  8.94it/s]\n"
     ]
    }
   ],
   "source": [
    "# href2synopsis = {}\n",
    "\n",
    "for href, page in tqdm(href2dramapage.items()):\n",
    "    if href not in href2synopsis:\n",
    "        \n",
    "        soup = BeautifulSoup(page)\n",
    "        \n",
    "        for el in soup.find_all(\"a\", {\"class\": \"text-primary\"}):\n",
    "            el.decompose()\n",
    "        for el in soup.find_all(\"ul\", {\"class\": \"mdl-synopsis-languages\"}):\n",
    "            el.decompose()\n",
    "        \n",
    "        synopses = soup.find_all(\"div\", {\"class\": \"show-synopsis\"})\n",
    "        \n",
    "        if synopses:\n",
    "            \n",
    "            assert len(synopses) == 1\n",
    "\n",
    "            href2synopsis[href] = synopses[0].get_text().strip()"
   ]
  },
  {
   "cell_type": "code",
   "execution_count": 22,
   "id": "4713b65e-73f3-4516-a20b-461570d52248",
   "metadata": {},
   "outputs": [
    {
     "data": {
      "text/plain": [
       "{'/710067-maiagare': 'Iwakura Mai lives with her parents Kota and Megumi and older brother Haruto. Her father Kota runs a small factory in Higashi Osaka, a district that is known for its craftsmen. Mai is shy and withdrawn. But when she visits her grandmother Shoko who lives on Nagasaki’s Goto Islands which has a rich natural environment, she is entranced by the Baramon kites that catch the wind and soar high in the sky. Wanting to fly high in the sky like these kites, Mai’s longing swells into a dream to become a pilot. Even though she works hard, the path to getting there is tougher than she had imagined. As Mai deepens her ties with the people living in her two hometowns of Higashi Osaka and Goto, her dream eventually takes a new form. She gathers enthusiastic friends to build a small electric plane that can fly to and from the islands. Her dream becomes a wing that carries everyone’s dreams and takes off.\\n\\n(Source: jdrama.wordpress)'}"
      ]
     },
     "execution_count": 22,
     "metadata": {},
     "output_type": "execute_result"
    }
   ],
   "source": [
    "href2synopsis"
   ]
  },
  {
   "cell_type": "code",
   "execution_count": 27,
   "id": "18dbc0a0-98bc-4960-9f5e-d34ed9ac5b33",
   "metadata": {},
   "outputs": [
    {
     "data": {
      "text/plain": [
       "19393"
      ]
     },
     "execution_count": 27,
     "metadata": {},
     "output_type": "execute_result"
    }
   ],
   "source": [
    "len(href2synopsis)"
   ]
  },
  {
   "cell_type": "code",
   "execution_count": 34,
   "id": "4bdab371-88db-48fb-819e-6464019b5fcd",
   "metadata": {},
   "outputs": [
    {
     "name": "stdout",
     "output_type": "stream",
     "text": [
      "CPU times: total: 156 ms\n",
      "Wall time: 157 ms\n"
     ]
    }
   ],
   "source": [
    "# %%time\n",
    "# with open(\"data/href2synopsis.json\", \"w\", encoding=\"utf-8\") as fw:\n",
    "#     json.dump(href2synopsis, fw, ensure_ascii=False)"
   ]
  },
  {
   "cell_type": "code",
   "execution_count": 33,
   "id": "eafb11a4-4fd6-4148-b92d-3c3ccee85595",
   "metadata": {},
   "outputs": [
    {
     "data": {
      "text/plain": [
       "[('', 1019),\n",
       " ('N/A', 9),\n",
       " ('Go Fighting! is classified as a game-variety-reality show, and the MCs and guests complete missions at a landmark to win the objective. Usually each episode will also have an over-arching theme or story. Each episode varies in the challenges and the instructions given to the MCs, and rules are not strictly enforced, resulting in a largely unscripted show.',\n",
       "  7),\n",
       " ('New season.', 5),\n",
       " ('The cast live in a little rural or fishing village three days a week and use whatever food they find there to create three meals a day, while various celebrities from Seoul make guest appearances for dinner.\\n\\n(Source: Wikipedia)',\n",
       "  5),\n",
       " ('.', 5),\n",
       " ('Special behind the scenes.', 4),\n",
       " ('A reality TV show, hosted by Watanabe Naomi, that follows 8 young actors and actresses performing kiss scenes for dramas.\\n\\n(Source: MyDramaList)',\n",
       "  4),\n",
       " ('A reality show platform which offers talented singers the chance to make their dreams of stardom a reality.',\n",
       "  4),\n",
       " ('In a prologue, the cast is introduced to the settings and suspects of a murder case for the new episode. The cast then chooses their role in the episode, as a particular suspect or the detective. Other than the detective, each person is given detailed information about the suspect they are portraying including their personalities, alibi, relationship to the victim and other suspects, history, criminal motive, etc. Every suspect can conceal information until explicitly questioned by other suspects or the detective, but only the criminal can lie.',\n",
       "  4)]"
      ]
     },
     "execution_count": 33,
     "metadata": {},
     "output_type": "execute_result"
    }
   ],
   "source": [
    "Counter(href2synopsis.values()).most_common(10)"
   ]
  },
  {
   "cell_type": "code",
   "execution_count": 36,
   "id": "00729c82-c13d-45f3-bd7a-b7d2cfd1be39",
   "metadata": {},
   "outputs": [
    {
     "data": {
      "text/plain": [
       "5804"
      ]
     },
     "execution_count": 36,
     "metadata": {},
     "output_type": "execute_result"
    }
   ],
   "source": [
    "len(\n",
    "    sorted(href2synopsis.values(), key=len)[-1]\n",
    ")"
   ]
  },
  {
   "cell_type": "code",
   "execution_count": 41,
   "id": "28dd2a4b-11d6-47b1-946d-161decccc02f",
   "metadata": {},
   "outputs": [
    {
     "name": "stdout",
     "output_type": "stream",
     "text": [
      "***Eien no Hero\n",
      "With the advances in science, the world has developed cyborg technology that draws from the best in human abilities. Monsters abuse this technology, threatening the lives and safety of citizens. In response to this emergency situation, the Japanese government sets up an office within the Tokyo Metropolitan Police Department. A hero suit is created using the latest technology to deal with them. One of the men in this office is Inspector Oba Hiroto (Go Hiromi), who has arrested the most number of monsters. He fights off all sorts of and protect world peace. However, he is too busy with work and hardly has time to meet his precious daughter Aki (Kamishiraishi Mone), and gets through each day with just video chats. He thinks that he will be able to live a sedate life with his daughter next year when he retires. However, the police receives a terror threat from a mysterious person called Master Kaiser which shakes up the world…\n",
      "\n",
      "***Shirazu Mori\n",
      "Haruko (Yoshida Yo) has fallen out with her workaholic husband who neglected the family, and returns to her parents’ home with her son Naoyuki (Takahashi Rai) in tow. She attends an elementary school reunion where she reminisces about her childhood. Haruko decides to dig up the time capsule she had buried 30 years earlier although she has completely no recollection of what she put inside. As she takes the time capsule home with her together with Naoyuki, she remembers the forest that she often played at in the past. When she enters this nostalgic place with Naoyuki, he slips and disappears. All that is left in the forest is his cap and the time capsule that she had dug out just now. Haruko desperately searches for Naoyuki with her husband but they cannot find him at all. Meanwhile, when she tries to open the time capsule, there is something unbelievable inside…\n",
      "\n",
      "***Ningen no Tane\n",
      "Haruta Midori (Kimura Fumino) is an ordinary office lady who works for a design company. Her boyfriend of more than three years has proposed to her, but she cannot give him a reply. There is no one she can confide her troubles in. As Midori makes her way home one night, she impulsively buys seeds called “seeds of happiness”. Then one evening, Midori notices something protruding out from the soil of the flower bed where the seeds were planted. When she takes a closer look, she realises that it’s a child’s hand. She gingerly digs the soil and discovers a human head. This head that has grown from the sprout is Nozomi (Awano Sari), a young girl in a white dress. This mysterious girl wipes off the soil as she picks up a family photo in the living room. “Who are you?” Midori asks. Nozomi replies, “I’m your mother. You planted the seeds, didn’t you?” When Midori casually looks at the bag holding the seeds, she notices the words, “The flowers essential to you will bloom. Type of flower: human” written on it. She is astonished. Nozomi proceeds to say things that only her mother would know. She even stands in the kitchen and starts to make Midori’s favourite cabbage roll. This is the beginning of a queer life between Midori and her mother Nozomi, but...\n",
      "\n",
      "***Sakasama Shoujo no Tame no Piano Sonata\n",
      "Kuroki (Tamamori Yuta) attends the piano faculty at a music college. Even though he has taken a shot at music competitions, he has not achieved good results. He mopes that he that not have talent unlike his classmate Yoshino (Kuroshima Yuina) who has demonstrated her flair for music. One day, Kuroki discovers an unfamiliar second-hand bookstore on a dimly lit street. He drops in and an old collection of music scores in German catches his attention. He is drawn by something on a music score with dark brown smudges which falls out from the set and tries to translate the German words written in the margin. It reads “A piano sonata for an upside down girl” “Never play it”. Kuroki is intrigued and starts search for information on the sonata. He lands on a website that warns of the loss of hands if this piece is not played correctly. His friend Noshita (Ouchida Yuhei) snorts with laughter but Kuroki is so curious about this music score that he decides to take a crack at it. When he starts playing, all the sounds around him suddenly disappear and he is only able to hear the notes of the piano. When he looks up, he realises that even the rain outside, the metronome and the second hand of the clock on the wall have stopped. This is the prologue to the tragedy surrounding a girl gifted in piano.\n",
      "\n",
      "***Daikon Samurai\n",
      "Tachikawa Itsuki (Hamabe Minami) is a high school girl who is the manager of the school’s basketball club. She holds a shopping bag with a white radish inside and walks excitedly to make simmered yellowtail and daikon which is the favourite of Hagiyama Kakeru (Inoue Mizuki), the senior whom she adores, and ends up colliding with a man (Kote Shinya) who is passing by. This man is dressed like a wandering samurai and wears a white radish at his waist like a sword. Itsuki feels suspicious and tries to leave. But the man slashes with the white radish all of a sudden. Despite Itsuki’s attempt to dodge, the tip of the white radish brushes her arm and she bleeds. Itsuki panics and pleads for her life as if in supplication. The man says they will have a duel one month later, which makes no sense to her. After he finds the photo of Hagiyama in Itsuki’s student handbook, he threatens to slash Hagiyama if she flees and tells her to hone her skills well and leaves. While Itsuki is in a daze, she hears an old man ask if she would like to be his disciple. This old man also wears a white radish at his waist. He tells her, “If you take my instructions, you’ll definitely beat that man!” Itsuki is doubtful but begins to train in using vegetables as weapons under the old man...\n",
      "\n",
      "(Souce: jdramas.wordpress)\n"
     ]
    }
   ],
   "source": [
    "print(\n",
    "    sorted(href2synopsis.values(), key=len)[-1]\n",
    ")"
   ]
  },
  {
   "cell_type": "code",
   "execution_count": 2,
   "id": "fc98a7d4-fb43-49d1-8404-ae904f0e2956",
   "metadata": {},
   "outputs": [],
   "source": [
    "with open(\"data/href2synopsis.json\", encoding=\"utf-8\") as f:\n",
    "    href2synopsis = json.load(f)"
   ]
  },
  {
   "cell_type": "code",
   "execution_count": 4,
   "id": "bcc07238-1d9a-4321-8b66-67f28b14b900",
   "metadata": {},
   "outputs": [],
   "source": [
    "chars = Counter()\n",
    "\n",
    "for synopsis in href2synopsis.values():\n",
    "    chars.update(synopsis)"
   ]
  },
  {
   "cell_type": "code",
   "execution_count": 5,
   "id": "b511363a-a03c-4659-80f4-583ff17f9da6",
   "metadata": {
    "collapsed": true,
    "jupyter": {
     "outputs_hidden": true
    },
    "tags": []
   },
   "outputs": [
    {
     "data": {
      "text/plain": [
       "[('ч', 1),\n",
       " ('髙', 1),\n",
       " ('参', 1),\n",
       " ('郁', 1),\n",
       " ('娃', 1),\n",
       " ('湫', 1),\n",
       " ('系', 1),\n",
       " ('棺', 1),\n",
       " ('ฒ', 1),\n",
       " ('兼', 1),\n",
       " ('结', 1),\n",
       " ('睿', 1),\n",
       " ('克', 1),\n",
       " ('슈', 1),\n",
       " ('扣', 1),\n",
       " ('『', 1),\n",
       " ('』', 1),\n",
       " ('饕', 1),\n",
       " ('餮', 1),\n",
       " ('佟', 1),\n",
       " ('婕', 1),\n",
       " ('港', 1),\n",
       " ('霄', 1),\n",
       " ('辛', 1),\n",
       " ('菩', 1),\n",
       " ('薩', 1),\n",
       " ('癞', 1),\n",
       " ('蛤', 1),\n",
       " ('蟆', 1),\n",
       " ('誠', 1),\n",
       " ('侣', 1),\n",
       " ('螢', 1),\n",
       " ('抜', 1),\n",
       " ('짜', 1),\n",
       " ('傻', 1),\n",
       " ('唯', 1),\n",
       " ('崖', 1),\n",
       " ('珂', 1),\n",
       " ('楚', 1),\n",
       " ('堕', 1),\n",
       " ('泥', 1),\n",
       " ('버', 1),\n",
       " ('렌', 1),\n",
       " ('손', 1),\n",
       " ('囧', 1),\n",
       " ('烁', 1),\n",
       " ('鴨', 1),\n",
       " ('耶', 1),\n",
       " ('¿', 1),\n",
       " ('状', 1),\n",
       " ('瓣', 1),\n",
       " ('객', 1),\n",
       " ('恨', 1),\n",
       " ('憶', 1),\n",
       " ('雍', 1),\n",
       " ('좌', 1),\n",
       " ('绝', 1),\n",
       " ('颖', 1),\n",
       " ('떼', 1),\n",
       " ('渊', 1),\n",
       " ('違', 1),\n",
       " ('혈', 1),\n",
       " ('받', 1),\n",
       " ('용', 1),\n",
       " ('묘', 1),\n",
       " ('璧', 1),\n",
       " ('啸', 1),\n",
       " ('渐', 1),\n",
       " ('ב', 1),\n",
       " ('ט', 1),\n",
       " ('י', 1),\n",
       " ('פ', 1),\n",
       " ('ו', 1),\n",
       " ('ל', 1),\n",
       " ('抹', 1),\n",
       " ('緣', 1),\n",
       " ('兹', 1),\n",
       " ('實', 1),\n",
       " ('甫', 1),\n",
       " ('龟', 1),\n",
       " ('潘', 1),\n",
       " ('盜', 1),\n",
       " ('檔', 1),\n",
       " ('漩', 1),\n",
       " ('심', 1),\n",
       " ('뛴', 1),\n",
       " ('飒', 1),\n",
       " ('鹊', 1),\n",
       " ('糧', 1),\n",
       " ('應', 1),\n",
       " ('浦', 1),\n",
       " ('銀', 1),\n",
       " ('父', 1),\n",
       " ('资', 1),\n",
       " ('蕊', 1),\n",
       " ('崂', 1),\n",
       " ('฿', 1),\n",
       " ('ê', 1),\n",
       " ('飾', 1),\n",
       " ('亀', 1)]"
      ]
     },
     "execution_count": 5,
     "metadata": {},
     "output_type": "execute_result"
    }
   ],
   "source": [
    "chars.most_common()[-100:]"
   ]
  },
  {
   "cell_type": "code",
   "execution_count": 6,
   "id": "2700a249-fee7-4f7b-863b-4a81adbe605f",
   "metadata": {},
   "outputs": [
    {
     "data": {
      "text/plain": [
       "65374"
      ]
     },
     "execution_count": 6,
     "metadata": {},
     "output_type": "execute_result"
    }
   ],
   "source": [
    "ord(max(chars, key=ord))"
   ]
  },
  {
   "cell_type": "code",
   "execution_count": 7,
   "id": "c6672687-b7c5-4a7a-a473-4992726483ca",
   "metadata": {},
   "outputs": [
    {
     "data": {
      "text/plain": [
       "2330"
      ]
     },
     "execution_count": 7,
     "metadata": {},
     "output_type": "execute_result"
    }
   ],
   "source": [
    "s = [\" \"] * (ord(max(chars, key=ord)) + 1)\n",
    "\n",
    "for char in chars.keys():\n",
    "    s[ord(char)] = char\n",
    "    \n",
    "s = \"\".join(s)\n",
    "\n",
    "char_seqs = re.split(\"\\s+\", s)\n",
    "\n",
    "len(char_seqs)"
   ]
  },
  {
   "cell_type": "code",
   "execution_count": 8,
   "id": "a896e724-a265-4193-8d8b-70d6b169a3f3",
   "metadata": {},
   "outputs": [
    {
     "data": {
      "text/plain": [
       "358"
      ]
     },
     "execution_count": 8,
     "metadata": {},
     "output_type": "execute_result"
    }
   ],
   "source": [
    "len([char_seq for char_seq in char_seqs if len(char_seq) != 1])"
   ]
  },
  {
   "cell_type": "code",
   "execution_count": 10,
   "id": "0e2d2f6a-663a-40b6-9785-cb2561963047",
   "metadata": {},
   "outputs": [
    {
     "name": "stdout",
     "output_type": "stream",
     "text": [
      "[33, 34, 35, 36, 37, 38, 39, 40, 41, 42, 43, 44, 45, 46, 47, 48, 49, 50, 51, 52, 53, 54, 55, 56, 57, 58, 59, 60, 61, 62, 63, 64, 65, 66, 67, 68, 69, 70, 71, 72, 73, 74, 75, 76, 77, 78, 79, 80, 81, 82, 83, 84, 85, 86, 87, 88, 89, 90, 91]\t!\"#$%&'()*+,-./0123456789:;<=>?@ABCDEFGHIJKLMNOPQRSTUVWXYZ[\n",
      "[93, 94, 95, 96, 97, 98, 99, 100, 101, 102, 103, 104, 105, 106, 107, 108, 109, 110, 111, 112, 113, 114, 115, 116, 117, 118, 119, 120, 121, 122, 123, 124, 125, 126]\t]^_`abcdefghijklmnopqrstuvwxyz{|}~\n",
      "[191, 192]\t¿À\n",
      "[194, 195, 196]\tÂÃÄ\n",
      "[214, 215, 216]\tÖ×Ø\n",
      "[224, 225, 226, 227, 228]\tàáâãä\n",
      "[231, 232, 233, 234]\tçèéê\n",
      "[236, 237, 238, 239]\tìíîï\n",
      "[241, 242, 243, 244]\tñòóô\n",
      "[249, 250]\tùú\n",
      "[256, 257]\tĀā\n",
      "[332, 333]\tŌō\n",
      "[1496, 1497]\tטי\n",
      "[3585, 3586]\tกข\n",
      "[3590, 3591, 3592, 3593, 3594, 3595]\tฆงจฉชซ\n",
      "[3597, 3598, 3599, 3600]\tญฎฏฐ\n",
      "[3602, 3603, 3604, 3605, 3606, 3607, 3608, 3609, 3610, 3611, 3612, 3613, 3614, 3615, 3616, 3617, 3618, 3619, 3620, 3621]\tฒณดตถทธนบปผฝพฟภมยรฤล\n",
      "[3623, 3624, 3625, 3626, 3627]\tวศษสห\n",
      "[3629, 3630]\tอฮ\n",
      "[3632, 3633, 3634, 3635, 3636, 3637, 3638, 3639, 3640, 3641]\tะัาำิีึืุู\n",
      "[3647, 3648, 3649, 3650, 3651, 3652]\t฿เแโใไ\n",
      "[3654, 3655, 3656, 3657, 3658, 3659, 3660, 3661]\tๆ็่้๊๋์ํ\n",
      "[8211, 8212, 8213]\t–—―\n",
      "[8216, 8217]\t‘’\n",
      "[8220, 8221]\t“”\n",
      "[8810, 8811]\t≪≫\n",
      "[9733, 9734]\t★☆\n",
      "[12289, 12290]\t、。\n",
      "[12298, 12299, 12300, 12301, 12302, 12303]\t《》「」『』\n",
      "[12358, 12359, 12360]\tうぇえ\n",
      "[12362, 12363, 12364, 12365, 12366, 12367, 12368, 12369, 12370, 12371, 12372, 12373, 12374, 12375, 12376, 12377, 12378, 12379, 12380, 12381, 12382, 12383, 12384, 12385]\tおかがきぎくぐけげこごさざしじすずせぜそぞただち\n",
      "[12387, 12388, 12389, 12390, 12391, 12392, 12393, 12394, 12395, 12396, 12397, 12398, 12399, 12400, 12401, 12402, 12403, 12404, 12405, 12406]\tっつづてでとどなにぬねのはばぱひびぴふぶ\n",
      "[12408, 12409]\tへべ\n",
      "[12411, 12412, 12413, 12414, 12415, 12416, 12417, 12418, 12419, 12420, 12421, 12422, 12423, 12424, 12425, 12426, 12427, 12428, 12429]\tほぼぽまみむめもゃやゅゆょよらりるれろ\n",
      "[12434, 12435]\tをん\n",
      "[12449, 12450, 12451, 12452]\tァアィイ\n",
      "[12454, 12455, 12456, 12457, 12458, 12459, 12460, 12461, 12462, 12463, 12464, 12465, 12466, 12467, 12468, 12469, 12470, 12471, 12472, 12473, 12474, 12475, 12476, 12477, 12478, 12479, 12480, 12481]\tウェエォオカガキギクグケゲコゴサザシジスズセゼソゾタダチ\n",
      "[12483, 12484, 12485, 12486, 12487, 12488, 12489, 12490, 12491, 12492, 12493, 12494, 12495, 12496, 12497, 12498, 12499, 12500, 12501, 12502, 12503, 12504, 12505, 12506, 12507, 12508, 12509, 12510, 12511, 12512, 12513, 12514, 12515, 12516, 12517, 12518, 12519, 12520, 12521, 12522, 12523, 12524, 12525]\tッツヅテデトドナニヌネノハバパヒビピフブプヘベペホボポマミムメモャヤュユョヨラリルレロ\n",
      "[12529, 12530, 12531, 12532]\tヱヲンヴ\n",
      "[12539, 12540]\t・ー\n",
      "[19968, 19969]\t一丁\n",
      "[19977, 19978, 19979]\t三上下\n",
      "[19981, 19982]\t不与\n",
      "[19987, 19988]\t专且\n",
      "[20004, 20005]\t两严\n",
      "[20010, 20011]\t个丫\n",
      "[20024, 20025, 20026, 20027]\t丸丹为主\n",
      "[20040, 20041]\t么义\n",
      "[20043, 20044]\t之乌\n",
      "[20047, 20048]\t乏乐\n",
      "[20063, 20064]\t也习\n",
      "[20104, 20105]\t予争\n",
      "[20107, 20108]\t事二\n",
      "[20116, 20117]\t五井\n",
      "[20123, 20124]\t些亜\n",
      "[20140, 20141, 20142]\t京亭亮\n",
      "[20170, 20171]\t今介\n",
      "[20184, 20185]\t付仙\n",
      "[20195, 20196, 20197]\t代令以\n",
      "[20213, 20214]\t仵件\n",
      "[20303, 20304, 20305]\t住佐佑\n",
      "[20319, 20320]\t佟你\n",
      "[20384, 20385]\t侠価\n",
      "[20398, 20399]\t侮侯\n",
      "[20497, 20498]\t們倒\n",
      "[20596, 20597, 20598, 20599]\t側偵偶偷\n",
      "[20658, 20659]\t傲傳\n",
      "[20803, 20804, 20805]\t元兄充\n",
      "[20808, 20809]\t先光\n",
      "[20843, 20844, 20845, 20846]\t八公六兮\n",
      "[20848, 20849]\t兰共\n",
      "[20856, 20857]\t典兹\n",
      "[20859, 20860]\t养兼\n",
      "[20869, 20870]\t内円\n",
      "[20876, 20877]\t册再\n",
      "[20911, 20912]\t冯冰\n",
      "[20914, 20915]\t冲决\n",
      "[20955, 20956, 20957]\t凛凜凝\n",
      "[20975, 20976]\t凯凰\n",
      "[20998, 20999]\t分切\n",
      "[21015, 21016, 21017]\t列刘则\n",
      "[21028, 21029]\t判別\n",
      "[21050, 21051]\t刺刻\n",
      "[21091, 21092]\t剣剤\n",
      "[21151, 21152, 21153]\t功加务\n",
      "[21160, 21161]\t动助\n",
      "[21270, 21271]\t化北\n",
      "[21306, 21307]\t区医\n",
      "[21319, 21320]\t升午\n",
      "[21325, 21326]\t卍华\n",
      "[21332, 21333, 21334, 21335]\t協单卖南\n",
      "[21451, 21452]\t友双\n",
      "[21462, 21463]\t取受\n",
      "[21475, 21476, 21477]\t口古句\n",
      "[21482, 21483]\t只叫\n",
      "[21487, 21488]\t可台\n",
      "[21494, 21495, 21496]\t叶号司\n",
      "[21507, 21508]\t吃各\n",
      "[21512, 21513]\t合吉\n",
      "[21516, 21517, 21518, 21519]\t同名后吏\n",
      "[21534, 21535]\t吞吟\n",
      "[21547, 21548]\t含听\n",
      "[21628, 21629]\t呼命\n",
      "[21643, 21644]\t咋和\n",
      "[21704, 21705]\t哈哉\n",
      "[21916, 21917]\t喜喝\n",
      "[22234, 22235]\t囚四\n",
      "[22242, 22243]\t团団\n",
      "[22258, 22259, 22260]\t囲図围\n",
      "[22269, 22270]\t国图\n",
      "[22311, 22312]\t圧在\n",
      "[22805, 22806]\t夕外\n",
      "[22825, 22826, 22827]\t天太夫\n",
      "[22855, 22856]\t奇奈\n",
      "[22899, 22900]\t女奴\n",
      "[22914, 22915, 22916]\t如妃妄\n",
      "[22918, 22919, 22920]\t妆妇妈\n",
      "[22992, 22993]\t姐姑\n",
      "[23383, 23384, 23385]\t字存孙\n",
      "[23395, 23396]\t季孤\n",
      "[23431, 23432, 23433]\t宇守安\n",
      "[23435, 23436]\t宋完\n",
      "[23447, 23448, 23449, 23450]\t宗官宙定\n",
      "[23455, 23456]\t実宠\n",
      "[23480, 23481]\t宸容\n",
      "[23518, 23519]\t寞察\n",
      "[23545, 23546, 23547]\t对寺寻\n",
      "[23558, 23559]\t将將\n",
      "[23562, 23563]\t尊尋\n",
      "[23608, 23609]\t尸尹\n",
      "[23611, 23612, 23613, 23614]\t尻尼尽尾\n",
      "[23626, 23627]\t届屋\n",
      "[23706, 23707]\t岚岛\n",
      "[23776, 23777]\t峠峡\n",
      "[23791, 23792]\t峯峰\n",
      "[24029, 24030]\t川州\n",
      "[24037, 24038]\t工左\n",
      "[24049, 24050]\t己已\n",
      "[24066, 24067]\t市布\n",
      "[24179, 24180]\t平年\n",
      "[24187, 24188, 24189, 24190]\t幻幼幽幾\n",
      "[24195, 24196]\t広庄\n",
      "[24207, 24208]\t序庐\n",
      "[24230, 24231]\t度座\n",
      "[24246, 24247, 24248, 24249]\t庶康庸庹\n",
      "[24265, 24266]\t廉廊\n",
      "[24320, 24321, 24322]\t开弁异\n",
      "[24351, 24352]\t弟张\n",
      "[24402, 24403]\t归当\n",
      "[24448, 24449]\t往征\n",
      "[24517, 24518]\t必忆\n",
      "[24535, 24536]\t志忘\n",
      "[24680, 24681]\t恨恩\n",
      "[24693, 24694]\t恵恶\n",
      "[24735, 24736]\t悟悠\n",
      "[24840, 24841]\t愈愉\n",
      "[24858, 24859]\t愚愛\n",
      "[25103, 25104, 25105]\t戏成我\n",
      "[25143, 25144]\t户戸\n",
      "[25151, 25152]\t房所\n",
      "[25200, 25201]\t扰扱\n",
      "[25215, 25216]\t承技\n",
      "[25252, 25253]\t护报\n",
      "[25288, 25289]\t拈拉\n",
      "[25342, 25343]\t拾拿\n",
      "[25345, 25346]\t持挂\n",
      "[25369, 25370]\t挙挚\n",
      "[25511, 25512]\t控推\n",
      "[25551, 25552]\t描提\n",
      "[25773, 25774]\t播撮\n",
      "[25918, 25919]\t放政\n",
      "[25954, 25955]\t敢散\n",
      "[26011, 26012]\t斛斜\n",
      "[26044, 26045]\t於施\n",
      "[26131, 26132]\t易昔\n",
      "[26143, 26144]\t星映\n",
      "[26222, 26223]\t普景\n",
      "[26262, 26263]\t暖暗\n",
      "[26360, 26361]\t書曹\n",
      "[26366, 26367, 26368]\t曾替最\n",
      "[26376, 26377]\t月有\n",
      "[26410, 26411, 26412]\t未末本\n",
      "[26414, 26415]\t朮术\n",
      "[26446, 26447]\t李杏\n",
      "[26494, 26495]\t松板\n",
      "[26524, 26525]\t果枝\n",
      "[26579, 26580]\t染柔\n",
      "[26611, 26612]\t柳柴\n",
      "[26623, 26624]\t柿栀\n",
      "[26690, 26691]\t桂桃\n",
      "[27004, 27005]\t楼楽\n",
      "[27053, 27054]\t榭榮\n",
      "[27177, 27178, 27179]\t権横樫\n",
      "[27224, 27225]\t橘橙\n",
      "[27424, 27425, 27426, 27427]\t欠次欢欣\n",
      "[27489, 27490, 27491, 27492, 27493, 27494]\t歡止正此步武\n",
      "[27507, 27508]\t歳歴\n",
      "[27578, 27579]\t殺殻\n",
      "[27597, 27598, 27599]\t母毎每\n",
      "[27604, 27605]\t比毕\n",
      "[27703, 27704]\t氷永\n",
      "[27713, 27714]\t汁求\n",
      "[27743, 27744]\t江池\n",
      "[27784, 27785]\t沈沉\n",
      "[27809, 27810]\t没沢\n",
      "[27814, 27815]\t沦沧\n",
      "[27835, 27836]\t治沼\n",
      "[27872, 27873, 27874, 27875]\t泠泡波泣\n",
      "[28009, 28010]\t浩浪\n",
      "[28168, 28169, 28170]\t済渉渊\n",
      "[28435, 28436]\t漓演\n",
      "[28783, 28784]\t灯灰\n",
      "[28857, 28858]\t点為\n",
      "[28865, 28866]\t烁烂\n",
      "[28908, 28909]\t烬热\n",
      "[29237, 29238, 29239]\t爵父爷\n",
      "[29255, 29256]\t片版\n",
      "[29482, 29483]\t猪猫\n",
      "[29701, 29702]\t琅理\n",
      "[29705, 29706]\t琉琊\n",
      "[29747, 29748]\t琳琴\n",
      "[29790, 29791, 29792]\t瑞瑟瑠\n",
      "[29863, 29864]\t璧璨\n",
      "[30000, 30001, 30002, 30003]\t田由甲申\n",
      "[30010, 30011]\t町画\n",
      "[30333, 30334]\t白百\n",
      "[30422, 30423]\t盖盗\n",
      "[30427, 30428]\t盛盜\n",
      "[30475, 30476]\t看県\n",
      "[30494, 30495, 30496]\t眞真眠\n",
      "[31069, 31070]\t祝神\n",
      "[31168, 31169]\t秀私\n",
      "[31185, 31186]\t科秒\n",
      "[31353, 31354]\t穹空\n",
      "[31933, 31934]\t粽精\n",
      "[31957, 31958]\t糕糖\n",
      "[32004, 32005]\t約紅\n",
      "[32025, 32026]\t紙級\n",
      "[32117, 32118]\t絵絶\n",
      "[32190, 32191]\t綾綿\n",
      "[32440, 32441]\t纸纹\n",
      "[32467, 32468, 32469]\t结绔绕\n",
      "[32736, 32737]\t翠翡\n",
      "[32763, 32764]\t翻翼\n",
      "[32768, 32769]\t耀老\n",
      "[32886, 32887]\t聶職\n",
      "[33146, 33147]\t腺腻\n",
      "[33267, 33268]\t至致\n",
      "[33292, 33293]\t舌舍\n",
      "[33310, 33311]\t舞舟\n",
      "[33394, 33395]\t色艳\n",
      "[33454, 33455]\t芮芯\n",
      "[33464, 33465]\t芸芹\n",
      "[33659, 33660]\t荻荼\n",
      "[33713, 33714]\t莱莲\n",
      "[33804, 33805]\t萌萍\n",
      "[34121, 34122]\t蕉蕊\n",
      "[34219, 34220]\t薫薬\n",
      "[34433, 34434]\t蚁蚂\n",
      "[35265, 35266]\t见观\n",
      "[35468, 35469]\t誌認\n",
      "[35500, 35501]\t説読\n",
      "[35831, 35832]\t请诸\n",
      "[35874, 35875]\t谢谣\n",
      "[36143, 36144]\t贯贰\n",
      "[36793, 36794, 36795, 36796]\t边辺辻込\n",
      "[36827, 36828]\t进远\n",
      "[36864, 36865]\t退送\n",
      "[36898, 36899]\t逢連\n",
      "[36913, 36914]\t週進\n",
      "[36938, 36939]\t遊運\n",
      "[36947, 36948, 36949]\t道達違\n",
      "[37085, 37086]\t郝郞\n",
      "[37324, 37325, 37326, 37327]\t里重野量\n",
      "[38271, 38272]\t长門\n",
      "[38378, 38379]\t闪闫\n",
      "[38394, 38395]\t闺闻\n",
      "[38450, 38451, 38452]\t防阳阴\n",
      "[38470, 38471, 38472]\t陆陇陈\n",
      "[38519, 38520]\t陷陸\n",
      "[38543, 38544]\t随隐\n",
      "[38596, 38597, 38598]\t雄雅集\n",
      "[38634, 38635]\t雪雫\n",
      "[38639, 38640]\t雯雰\n",
      "[38646, 38647]\t零雷\n",
      "[38752, 38753, 38754]\t靠靡面\n",
      "[38996, 38997]\t顔顕\n",
      "[39038, 39039]\t顾顿\n",
      "[39134, 39135]\t飞食\n",
      "[39532, 39533]\t马驭\n",
      "[39640, 39641]\t高髙\n",
      "[39745, 39746]\t魁魂\n",
      "[40091, 40092]\t鲛鲜\n",
      "[40179, 40180]\t鳳鳴\n",
      "[40284, 40285]\t鵜鵝\n",
      "[40613, 40614]\t麥麦\n",
      "[40643, 40644]\t黃黄\n",
      "[40657, 40658]\t黑黒\n",
      "[40801, 40802]\t齡齢\n",
      "[44032, 44033]\t가각\n",
      "[44048, 44049]\t감갑\n",
      "[44060, 44061]\t개객\n",
      "[44151, 44152]\t걷걸\n",
      "[44263, 44264]\t곧골\n",
      "[44284, 44285]\t과곽\n",
      "[44396, 44397]\t구국\n",
      "[45208, 45209]\t나낙\n",
      "[45376, 45377]\t녀녁\n",
      "[45432, 45433]\t노녹\n",
      "[45796, 45797]\t다닥\n",
      "[45804, 45805, 45806]\t달닭닮\n",
      "[46020, 46021]\t도독\n",
      "[47000, 47001]\t래랙\n",
      "[47084, 47085]\t러럭\n",
      "[47196, 47197]\t로록\n",
      "[47548, 47549]\t림립\n",
      "[47560, 47561]\t마막\n",
      "[47784, 47785]\t모목\n",
      "[48148, 48149]\t바박\n",
      "[48155, 48156]\t받발\n",
      "[48164, 48165]\t밤밥\n",
      "[48176, 48177]\t배백\n",
      "[48276, 48277]\t범법\n",
      "[48372, 48373]\t보복\n",
      "[48708, 48709]\t비빅\n",
      "[49436, 49437]\t서석\n",
      "[49452, 49453]\t섬섭\n",
      "[49688, 49689]\t수숙\n",
      "[49884, 49885]\t시식\n",
      "[49891, 49892]\t싣실\n",
      "[50472, 50473]\t씨씩\n",
      "[50500, 50501]\t아악\n",
      "[50556, 50557]\t야약\n",
      "[50612, 50613]\t어억\n",
      "[50628, 50629, 50630]\t엄업없\n",
      "[50640, 50641]\t에엑\n",
      "[50668, 50669]\t여역\n",
      "[50724, 50725]\t오옥\n",
      "[51076, 51077]\t임입\n",
      "[51079, 51080]\t잇있\n",
      "[51088, 51089]\t자작\n",
      "[51200, 51201]\t저적\n",
      "[51312, 51313]\t조족\n",
      "[51339, 51340]\t좋좌\n",
      "[51452, 51453]\t주죽\n",
      "[51648, 51649]\t지직\n",
      "[52264, 52265]\t차착\n",
      "[53440, 53441]\t타탁\n",
      "[53468, 53469]\t태택\n",
      "[53664, 53665]\t토톡\n",
      "[54000, 54001]\t티틱\n",
      "[54616, 54617]\t하학\n",
      "[54632, 54633]\t함합\n",
      "[54664, 54665]\t했행\n",
      "[54804, 54805]\t혔형\n",
      "[65288, 65289]\t（）\n",
      "[65292, 65293]\t，－\n"
     ]
    }
   ],
   "source": [
    "for char_seq in char_seqs:\n",
    "    \n",
    "    if len(char_seq) > 1:\n",
    "        print([ord(char) for char in char_seq], char_seq, sep=\"\\t\")"
   ]
  },
  {
   "cell_type": "code",
   "execution_count": 16,
   "id": "4d56ecf8-8e15-4bbc-8234-14f576c2f88a",
   "metadata": {},
   "outputs": [
    {
     "name": "stdout",
     "output_type": "stream",
     "text": [
      "146\t\n",
      "157\t\n",
      "165\t¥\n",
      "169\t©\n",
      "171\t«\n",
      "173\t­\n",
      "176\t°\n",
      "180\t´\n",
      "183\t·\n",
      "187\t»\n",
      "201\tÉ\n",
      "252\tü\n",
      "272\tĐ\n",
      "275\tē\n",
      "283\tě\n",
      "287\tğ\n",
      "299\tī\n",
      "363\tū\n",
      "462\tǎ\n",
      "464\tǐ\n",
      "466\tǒ\n",
      "468\tǔ\n",
      "700\tʼ\n",
      "769\t́\n",
      "916\tΔ\n",
      "928\tΠ\n",
      "936\tΨ\n",
      "960\tπ\n",
      "1053\tН\n",
      "1072\tа\n",
      "1080\tи\n",
      "1093\tх\n",
      "1095\tч\n",
      "1102\tю\n",
      "1489\tב\n",
      "1493\tו\n",
      "1500\tל\n",
      "1508\tפ\n",
      "1586\tز\n",
      "3588\tค\n",
      "8203\t​\n",
      "8206\t‎\n",
      "8226\t•\n",
      "8230\t…\n",
      "8242\t′\n",
      "8361\t₩\n",
      "8364\t€\n",
      "8545\tⅡ\n",
      "8592\t←\n",
      "8594\t→\n",
      "8722\t−\n",
      "9472\t─\n",
      "9670\t◆\n",
      "9675\t○\n",
      "9829\t♥\n",
      "12293\t々\n",
      "12316\t〜\n",
      "12354\tあ\n",
      "12356\tい\n",
      "12431\tわ\n",
      "12441\t゙\n",
      "12527\tワ\n",
      "12615\tㅇ\n",
      "12619\tㅋ\n",
      "65279\t﻿\n",
      "65281\t！\n",
      "65286\t＆\n",
      "65301\t５\n",
      "65303\t７\n",
      "65306\t：\n",
      "65311\t？\n",
      "65374\t～\n"
     ]
    }
   ],
   "source": [
    "for char_seq in char_seqs:\n",
    "    44036\n",
    "    if (len(char_seq) == 1) and (\n",
    "        ord(char_seq) not in range(19971, 40864)) and (\n",
    "        ord(char_seq) not in range(44036, 55149)): # hangeul\n",
    "        print(ord(char_seq), char_seq, sep=\"\\t\")"
   ]
  },
  {
   "cell_type": "code",
   "execution_count": 18,
   "id": "a51633e9-e26b-4afd-981e-49fb0b3934c2",
   "metadata": {},
   "outputs": [
    {
     "data": {
      "text/plain": [
       "'\\ufeff'"
      ]
     },
     "execution_count": 18,
     "metadata": {},
     "output_type": "execute_result"
    }
   ],
   "source": [
    "chr(65279)"
   ]
  },
  {
   "cell_type": "code",
   "execution_count": 32,
   "id": "72d3b735-b327-4af9-81c5-85ee6c865bf4",
   "metadata": {},
   "outputs": [
    {
     "data": {
      "text/plain": [
       "'ㄱㄲㄳㄴㄵㄶㄷㄸㄹㄺㄻㄼㄽㄾㄿㅀㅁㅂㅃㅄㅅㅆㅇㅈㅉㅊㅋㅌㅍㅎㅏㅐㅑㅒㅓㅔㅕㅖㅗㅘㅙㅚㅛㅜㅝㅞㅟㅠㅡㅢㅣㅤㅥㅦㅧㅨㅩㅪㅫㅬㅭㅮㅯㅰㅱㅲㅳㅴㅵㅶㅷㅸㅹㅺㅻㅼㅽㅾㅿㆀㆁㆂㆃㆄㆅㆆㆇㆈㆉㆊㆋㆌ'"
      ]
     },
     "execution_count": 32,
     "metadata": {},
     "output_type": "execute_result"
    }
   ],
   "source": [
    "\"\".join([chr(i) for i in range(12593, 12593+92)])"
   ]
  },
  {
   "cell_type": "code",
   "execution_count": 35,
   "id": "15ba058b-4969-458f-bbb4-e490ade2bb6f",
   "metadata": {},
   "outputs": [
    {
     "name": "stdout",
     "output_type": "stream",
     "text": [
      "/730353-a-day-1n-m2-roo7 {'и'}\n",
      "/20446-the-sniffer-kyuukaku-sousakan {'а', 'х', 'ю', 'ч'}\n"
     ]
    }
   ],
   "source": [
    "for href, synopsis in href2synopsis.items():\n",
    "    if set(synopsis) & {'а', 'и', 'х', 'ч', 'ю'}:\n",
    "        print(href, set(synopsis) & {'а', 'и', 'х', 'ч', 'ю'})"
   ]
  },
  {
   "cell_type": "code",
   "execution_count": 11,
   "id": "fef9e250-4c2f-4115-bc2b-adec2d2a4ecf",
   "metadata": {},
   "outputs": [],
   "source": [
    "from typing import List\n",
    "\n",
    "def ngrammer(tokens: List[str], n: int, sep: str=\" \") -> list:\n",
    "    ngrams = []\n",
    "    for i in range (0, len(tokens) - n + 1):\n",
    "        ngrams.append(sep.join(tokens[i:i+n]))\n",
    "    return ngrams"
   ]
  },
  {
   "cell_type": "code",
   "execution_count": 3,
   "id": "d4c3a2a0-6dea-4df6-a3e6-01e85071707d",
   "metadata": {},
   "outputs": [],
   "source": [
    "# !pip install nltk\n",
    "from nltk import word_tokenize\n",
    "import nltk\n",
    "# nltk.download('punkt')"
   ]
  },
  {
   "cell_type": "code",
   "execution_count": 9,
   "id": "82f616e3-e1a8-4dad-92a7-b6ed61684a85",
   "metadata": {},
   "outputs": [],
   "source": [
    "stop_punct = \"\"\"!\"#$%&'()*+,-./:;<=>?@[\\^_`{|}~–—―‘’“”≪≫★☆、。》「」『』©«­°´·»ʼ​‎•…′←→−─◆○♥﻿！＆：？～\"\"\""
   ]
  },
  {
   "cell_type": "code",
   "execution_count": 5,
   "id": "270a2acf-e9d3-4891-b167-b84ac080c397",
   "metadata": {
    "tags": []
   },
   "outputs": [],
   "source": [
    "# !pip install stopwordsiso\n",
    "from stopwordsiso import stopwords\n"
   ]
  },
  {
   "cell_type": "code",
   "execution_count": 6,
   "id": "47f5e024-87ff-473d-bb03-a6f34eb2c6cf",
   "metadata": {},
   "outputs": [],
   "source": [
    "with open(\"data/stopwords/unigrams.txt\", encoding=\"utf-8\") as f:\n",
    "    custom_stops = set(f.read().split(\"\\n\"))\n",
    "custom_stops |= stopwords(\"en\")"
   ]
  },
  {
   "cell_type": "code",
   "execution_count": 24,
   "id": "e84b33b3-61f3-4285-b777-23e46a87f8fb",
   "metadata": {},
   "outputs": [
    {
     "name": "stderr",
     "output_type": "stream",
     "text": [
      "100%|███████████████████████████████████████████████████████████████████████████| 19393/19393 [01:15<00:00, 257.34it/s]\n"
     ]
    }
   ],
   "source": [
    "unigrams = Counter()\n",
    "bigrams = Counter()\n",
    "trigrams = Counter()\n",
    "quadgrams = Counter()\n",
    "\n",
    "for synopsis in tqdm(href2synopsis.values()):\n",
    "    tokens = word_tokenize(synopsis)\n",
    "    tokens = [t.lower().strip(stop_punct).strip() for t in word_tokenize(synopsis)]\n",
    "    tokens = [t for t in tokens if t]            \n",
    "    \n",
    "    unigrams.update(tokens)\n",
    "    bigrams.update(ngrammer(tokens, 2))\n",
    "    trigrams.update(ngrammer(tokens, 3))\n",
    "    quadgrams.update(ngrammer(tokens, 4))"
   ]
  },
  {
   "cell_type": "code",
   "execution_count": 16,
   "id": "66a2d5ae-6bd7-496e-a69f-e7a03bbe4a2c",
   "metadata": {},
   "outputs": [
    {
     "name": "stdout",
     "output_type": "stream",
     "text": [
      "('school student', 374)\n",
      "('hong kong', 303)\n",
      "('martial arts', 291)\n",
      "('kamen rider', 265)\n",
      "('childhood friend', 219)\n",
      "('true love', 197)\n",
      "('car accident', 194)\n",
      "('police officer', 188)\n",
      "('university student', 156)\n",
      "('college student', 150)\n",
      "('elementary school', 128)\n"
     ]
    }
   ],
   "source": [
    "for t in bigrams.most_common(1000):\n",
    "    if not (set(t[0].split()) & custom_stops):\n",
    "        print(t)"
   ]
  },
  {
   "cell_type": "code",
   "execution_count": 23,
   "id": "9232f720-6682-4cf5-aaa9-3281d1a64b84",
   "metadata": {},
   "outputs": [
    {
     "name": "stdout",
     "output_type": "stream",
     "text": [
      "('metropolitan police department', 71)\n",
      "('tokyo metropolitan police', 56)\n",
      "('release dates oct', 23)\n",
      "('pu song ling', 23)\n",
      "('elementary school student', 20)\n",
      "('special investigation team', 19)\n",
      "('middle school student', 18)\n",
      "('tada kaoru 多田かおる', 16)\n",
      "('elementary school teacher', 16)\n",
      "('real estate company', 15)\n",
      "('hong kong police', 15)\n",
      "('real estate agent', 15)\n",
      "('xiao yan zi', 15)\n"
     ]
    }
   ],
   "source": [
    "for t in trigrams.most_common(5000):\n",
    "    if not (set(t[0].split()) & custom_stops):\n",
    "        print(t)"
   ]
  },
  {
   "cell_type": "code",
   "execution_count": 27,
   "id": "0923e41e-14f4-443c-b704-149a6c059b67",
   "metadata": {},
   "outputs": [
    {
     "name": "stdout",
     "output_type": "stream",
     "text": [
      "('falls in love', 492)\n",
      "('fall in love', 404)\n",
      "('fell in love', 205)\n",
      "('falling in love', 129)\n",
      "('metropolitan police department', 71)\n",
      "('father s death', 68)\n",
      "('life and death', 58)\n",
      "('junior high school', 57)\n",
      "('tokyo metropolitan police', 56)\n",
      "('uncover the truth', 49)\n",
      "('fallen in love', 49)\n",
      "('sense of justice', 44)\n",
      "('solve the mystery', 44)\n",
      "('love and friendship', 37)\n",
      "('mother s death', 35)\n",
      "('female high school', 35)\n",
      "('deeply in love', 35)\n",
      "('released from prison', 35)\n",
      "('secretly in love', 35)\n",
      "('edited by soju', 34)\n",
      "('receives a phone', 33)\n",
      "('edited by lee', 32)\n",
      "('family and friends', 30)\n",
      "('twist of fate', 30)\n",
      "('win her heart', 28)\n",
      "('republic of china', 28)\n"
     ]
    }
   ],
   "source": [
    "for t in trigrams.most_common(2000):\n",
    "    if not (set(t[0].split()[-1:]) & custom_stops):\n",
    "        if not (set(t[0].split()[:1]) & custom_stops):\n",
    "            print(t)"
   ]
  },
  {
   "cell_type": "code",
   "execution_count": null,
   "id": "9c6c1217-107c-4336-a670-63d69aac317d",
   "metadata": {},
   "outputs": [],
   "source": [
    "# len([t[0] for t in unigrams.most_common(300) if t[0] not in stopwords(\"en\")])"
   ]
  },
  {
   "cell_type": "markdown",
   "id": "4c522840-e791-4001-a540-eb8238c07995",
   "metadata": {},
   "source": [
    "# Mining QA pairs"
   ]
  },
  {
   "cell_type": "code",
   "execution_count": 8,
   "id": "4641d0cc-ab3b-4097-b865-f5201a74154c",
   "metadata": {},
   "outputs": [],
   "source": [
    "from nltk import sent_tokenize"
   ]
  },
  {
   "cell_type": "code",
   "execution_count": 20,
   "id": "8ea31c0f-75dd-4554-9de0-cd4ca99cb291",
   "metadata": {},
   "outputs": [
    {
     "name": "stdout",
     "output_type": "stream",
     "text": [
      "/63565-btween-us Who is this customer you may ask? Mack, one of Sai's good friends.\n",
      "/14152-seven-days-friday-sunday Yuzuru may be mourning the inevitable, but what about Touji? Friday begins the end, but Sunday reveals all.\n",
      "/692045-golden-spoon Would you trade your poor but loving family for a life of riches? When Seung Cheon gets his hands on a magical spoon that allows him to switch lives with his rich best friend, he thinks it’s a no-brainer.\n",
      "/19262-weightlifting-fairy-kim-bok-joo Can she find a way to have love as well as glory at the age of 20? The characters within this drama are elite athletes in weightlifting, swimming and rhythmic gymnastics who work hard to reach their goals in life.\n",
      "/688105-photography-studio Why not looking at things from a another angle? Every moment in life is full of surprises.\n",
      "/59327-the-legend-of-gu-and-jue When commoners encounter difficulties, they will pray to the Gods, but what if Gods meet obstacles? It tells the deep love and hardship between two of the four true Gods, Bai Jue and Shang Gu.\n",
      "/28046-harumatsu-bokura But how can she get along with a good-looking group of four, especially with rumors at school about how they met? Although cautious at first, she gradually gets to know their true personalities.\n",
      "/15032-be-with-you Facing her who had returned with hatred, will everything be destined to reverse and start all over again? One step is wrong, every step is wrong.\n",
      "/13548-be-with-you Can a young woman gather the courage she needs to approach a high school crush? Xia Man Li was always popular in school and was the prettiest girl of her high school, but she has always been unlucky in love.\n",
      "/739987-history5-love-in-the-future Or will the pull of the past separate this duo? Meanwhile, love could also be set to bloom between a seemingly cold-hearted company manager Liang Wen Hsen, and the office’s newest recruit – a tender-hearted orphan named Lin Huai En.\n",
      "/719361-180-degrees-longitude-between-us What will she do when Wang experiences his first love with Inthawut, her old friend? Love, relationships, understanding, mother and son learning from each other in this era of changeability.\n",
      "/721567-hoshi-shinichi-no-fushigina-fushigina-tanpen-dorama Is it a poisonous allegory or a wake-up call? See some of his greatest gems come to life in this 2022 live-action adaptation.\n",
      "/19710-tong-memories What makes a young boy grow up to become a legendary fighter? Lee Jung Woo has always had a short temper and doesn’t like to be messed with.\n",
      "/24069-drama-special-season-8-if-we-were-a-season Is Dong Keung enough to shake up their friendship? (Source: MyDramaList)\n",
      "/8196-yeonus-summer What will Yeonu learn from the events of this summer? A heartwarming and insightful drama about the pressures of growing up.\n",
      "/5120-the-whereabout-of-noh-sukja What really happened that night? An avid reader of mystery novels and an aspiring writer, Sook Ja sets out to solve the mystery.\n",
      "/9526-like-a-miracle Why? Because they need a miracle.\n",
      "/538-my-queen There is an 8 year age difference - what kind of story would then be created? A story that will let us laugh and let us cry.\n",
      "/12469-someone-like-you Caught between a woman who looks exactly like his beloved dead fiancée and another woman who behaves just like her, what will Zhan Cheng do? “Someone Like You” is a 2015 Taiwanese drama series directed by Chen Rong Hui.\n",
      "/11109-the-beauty-inside What would you do if you woke up with a new face every day? Woo Jin, a man who designs furniture for a living, is used to this.\n",
      "/710917-sing-in-love How does Jin confront his own \"darkness\"? Conflicts and battles for men who have been deeply injured inspire healing.\n",
      "/737947-pink-lie Does unconditional love exist? Young men and women move into the Pink House, each carrying one lie about themselves, be it their occupation, age, or academic background.\n",
      "CPU times: total: 188 ms\n",
      "Wall time: 197 ms\n"
     ]
    }
   ],
   "source": [
    "%%time\n",
    "\n",
    "for href, synopsis in list(\n",
    "    href2synopsis.items()\n",
    ")[:1000]:\n",
    "    for para in synopsis.split(\"\\n\"):\n",
    "        sents = sent_tokenize(para)\n",
    "\n",
    "        for i in range(len(sents) - 1):\n",
    "            if sents[i].endswith(\"?\") and (not \"?\" in sents[i+1]) and (not \"!\" in sents[i+1]):\n",
    "\n",
    "                print(href, \" \".join(sents[i:i+2]))"
   ]
  },
  {
   "cell_type": "code",
   "execution_count": null,
   "id": "b5fd9666-7282-41e8-a314-fba5daa3cebc",
   "metadata": {},
   "outputs": [],
   "source": []
  }
 ],
 "metadata": {
  "kernelspec": {
   "display_name": "Python 3 (ipykernel)",
   "language": "python",
   "name": "python3"
  },
  "language_info": {
   "codemirror_mode": {
    "name": "ipython",
    "version": 3
   },
   "file_extension": ".py",
   "mimetype": "text/x-python",
   "name": "python",
   "nbconvert_exporter": "python",
   "pygments_lexer": "ipython3",
   "version": "3.10.5"
  }
 },
 "nbformat": 4,
 "nbformat_minor": 5
}
