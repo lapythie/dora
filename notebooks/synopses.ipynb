{
 "cells": [
  {
   "cell_type": "code",
   "execution_count": 1,
   "id": "d7097d5b-d5e1-4f0b-a89e-6ba028d1279a",
   "metadata": {},
   "outputs": [],
   "source": [
    "from bs4 import BeautifulSoup\n",
    "from collections import Counter, defaultdict\n",
    "import json\n",
    "from tqdm import tqdm"
   ]
  },
  {
   "cell_type": "code",
   "execution_count": 20,
   "id": "9886b7d0-5cfe-4686-b1bf-fc9274177d85",
   "metadata": {},
   "outputs": [],
   "source": [
    "with open(\"data/href2dramapage.json\", encoding=\"utf-8\") as f:\n",
    "    href2dramapage = json.load(f)"
   ]
  },
  {
   "cell_type": "code",
   "execution_count": 26,
   "id": "a093aff9-8b50-4c5d-aaa5-e325ecbf4840",
   "metadata": {},
   "outputs": [
    {
     "name": "stderr",
     "output_type": "stream",
     "text": [
      "100%|████████████████████████████████████████████████████████████████████████████| 19462/19462 [36:16<00:00,  8.94it/s]\n"
     ]
    }
   ],
   "source": [
    "# href2synopsis = {}\n",
    "\n",
    "for href, page in tqdm(href2dramapage.items()):\n",
    "    if href not in href2synopsis:\n",
    "        \n",
    "        soup = BeautifulSoup(page)\n",
    "        \n",
    "        for el in soup.find_all(\"a\", {\"class\": \"text-primary\"}):\n",
    "            el.decompose()\n",
    "        for el in soup.find_all(\"ul\", {\"class\": \"mdl-synopsis-languages\"}):\n",
    "            el.decompose()\n",
    "        \n",
    "        synopses = soup.find_all(\"div\", {\"class\": \"show-synopsis\"})\n",
    "        \n",
    "        if synopses:\n",
    "            \n",
    "            assert len(synopses) == 1\n",
    "\n",
    "            href2synopsis[href] = synopses[0].get_text().strip()"
   ]
  },
  {
   "cell_type": "code",
   "execution_count": 22,
   "id": "4713b65e-73f3-4516-a20b-461570d52248",
   "metadata": {},
   "outputs": [
    {
     "data": {
      "text/plain": [
       "{'/710067-maiagare': 'Iwakura Mai lives with her parents Kota and Megumi and older brother Haruto. Her father Kota runs a small factory in Higashi Osaka, a district that is known for its craftsmen. Mai is shy and withdrawn. But when she visits her grandmother Shoko who lives on Nagasaki’s Goto Islands which has a rich natural environment, she is entranced by the Baramon kites that catch the wind and soar high in the sky. Wanting to fly high in the sky like these kites, Mai’s longing swells into a dream to become a pilot. Even though she works hard, the path to getting there is tougher than she had imagined. As Mai deepens her ties with the people living in her two hometowns of Higashi Osaka and Goto, her dream eventually takes a new form. She gathers enthusiastic friends to build a small electric plane that can fly to and from the islands. Her dream becomes a wing that carries everyone’s dreams and takes off.\\n\\n(Source: jdrama.wordpress)'}"
      ]
     },
     "execution_count": 22,
     "metadata": {},
     "output_type": "execute_result"
    }
   ],
   "source": [
    "href2synopsis"
   ]
  },
  {
   "cell_type": "code",
   "execution_count": 24,
   "id": "fa8e6153-339a-4c56-82f9-0aa45e50d32d",
   "metadata": {},
   "outputs": [
    {
     "data": {
      "text/plain": [
       "[]"
      ]
     },
     "execution_count": 24,
     "metadata": {},
     "output_type": "execute_result"
    }
   ],
   "source": [
    "synopses"
   ]
  },
  {
   "cell_type": "code",
   "execution_count": 25,
   "id": "bbf44fd9-4c7a-42b0-89e2-93b70f090e61",
   "metadata": {},
   "outputs": [
    {
     "data": {
      "text/plain": [
       "'/697659-big-mouth'"
      ]
     },
     "execution_count": 25,
     "metadata": {},
     "output_type": "execute_result"
    }
   ],
   "source": [
    "href"
   ]
  },
  {
   "cell_type": "code",
   "execution_count": 27,
   "id": "18dbc0a0-98bc-4960-9f5e-d34ed9ac5b33",
   "metadata": {},
   "outputs": [
    {
     "data": {
      "text/plain": [
       "19393"
      ]
     },
     "execution_count": 27,
     "metadata": {},
     "output_type": "execute_result"
    }
   ],
   "source": [
    "len(href2synopsis)"
   ]
  },
  {
   "cell_type": "code",
   "execution_count": 34,
   "id": "4bdab371-88db-48fb-819e-6464019b5fcd",
   "metadata": {},
   "outputs": [
    {
     "name": "stdout",
     "output_type": "stream",
     "text": [
      "CPU times: total: 156 ms\n",
      "Wall time: 157 ms\n"
     ]
    }
   ],
   "source": [
    "%%time\n",
    "with open(\"data/href2synopsis.json\", \"w\", encoding=\"utf-8\") as fw:\n",
    "    json.dump(href2synopsis, fw, ensure_ascii=False)"
   ]
  },
  {
   "cell_type": "code",
   "execution_count": 33,
   "id": "eafb11a4-4fd6-4148-b92d-3c3ccee85595",
   "metadata": {},
   "outputs": [
    {
     "data": {
      "text/plain": [
       "[('', 1019),\n",
       " ('N/A', 9),\n",
       " ('Go Fighting! is classified as a game-variety-reality show, and the MCs and guests complete missions at a landmark to win the objective. Usually each episode will also have an over-arching theme or story. Each episode varies in the challenges and the instructions given to the MCs, and rules are not strictly enforced, resulting in a largely unscripted show.',\n",
       "  7),\n",
       " ('New season.', 5),\n",
       " ('The cast live in a little rural or fishing village three days a week and use whatever food they find there to create three meals a day, while various celebrities from Seoul make guest appearances for dinner.\\n\\n(Source: Wikipedia)',\n",
       "  5),\n",
       " ('.', 5),\n",
       " ('Special behind the scenes.', 4),\n",
       " ('A reality TV show, hosted by Watanabe Naomi, that follows 8 young actors and actresses performing kiss scenes for dramas.\\n\\n(Source: MyDramaList)',\n",
       "  4),\n",
       " ('A reality show platform which offers talented singers the chance to make their dreams of stardom a reality.',\n",
       "  4),\n",
       " ('In a prologue, the cast is introduced to the settings and suspects of a murder case for the new episode. The cast then chooses their role in the episode, as a particular suspect or the detective. Other than the detective, each person is given detailed information about the suspect they are portraying including their personalities, alibi, relationship to the victim and other suspects, history, criminal motive, etc. Every suspect can conceal information until explicitly questioned by other suspects or the detective, but only the criminal can lie.',\n",
       "  4)]"
      ]
     },
     "execution_count": 33,
     "metadata": {},
     "output_type": "execute_result"
    }
   ],
   "source": [
    "Counter(href2synopsis.values()).most_common(10)"
   ]
  },
  {
   "cell_type": "code",
   "execution_count": 36,
   "id": "00729c82-c13d-45f3-bd7a-b7d2cfd1be39",
   "metadata": {},
   "outputs": [
    {
     "data": {
      "text/plain": [
       "5804"
      ]
     },
     "execution_count": 36,
     "metadata": {},
     "output_type": "execute_result"
    }
   ],
   "source": [
    "len(\n",
    "    sorted(href2synopsis.values(), key=len)[-1]\n",
    ")"
   ]
  },
  {
   "cell_type": "code",
   "execution_count": 38,
   "id": "28dd2a4b-11d6-47b1-946d-161decccc02f",
   "metadata": {},
   "outputs": [
    {
     "ename": "AttributeError",
     "evalue": "__enter__",
     "output_type": "error",
     "traceback": [
      "\u001b[1;31m---------------------------------------------------------------------------\u001b[0m",
      "\u001b[1;31mAttributeError\u001b[0m                            Traceback (most recent call last)",
      "Cell \u001b[1;32mIn [38], line 1\u001b[0m\n\u001b[1;32m----> 1\u001b[0m \u001b[38;5;28;01mwith\u001b[39;00m \u001b[38;5;28msorted\u001b[39m(href2synopsis\u001b[38;5;241m.\u001b[39mvalues(), key\u001b[38;5;241m=\u001b[39m\u001b[38;5;28mlen\u001b[39m)[\u001b[38;5;241m-\u001b[39m\u001b[38;5;241m1\u001b[39m] \u001b[38;5;28;01mas\u001b[39;00m x:\n\u001b[0;32m      2\u001b[0m     x\n",
      "\u001b[1;31mAttributeError\u001b[0m: __enter__"
     ]
    }
   ],
   "source": [
    "with sorted(href2synopsis.values(), key=len)[-1] as x:\n",
    "    x, "
   ]
  },
  {
   "cell_type": "code",
   "execution_count": null,
   "id": "fc98a7d4-fb43-49d1-8404-ae904f0e2956",
   "metadata": {},
   "outputs": [],
   "source": []
  }
 ],
 "metadata": {
  "kernelspec": {
   "display_name": "Python 3 (ipykernel)",
   "language": "python",
   "name": "python3"
  },
  "language_info": {
   "codemirror_mode": {
    "name": "ipython",
    "version": 3
   },
   "file_extension": ".py",
   "mimetype": "text/x-python",
   "name": "python",
   "nbconvert_exporter": "python",
   "pygments_lexer": "ipython3",
   "version": "3.10.5"
  }
 },
 "nbformat": 4,
 "nbformat_minor": 5
}
