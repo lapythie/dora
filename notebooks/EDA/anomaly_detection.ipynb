{
 "cells": [
  {
   "cell_type": "code",
   "execution_count": 1,
   "id": "78ff8982-ac6e-4976-9655-42c2b3c55118",
   "metadata": {},
   "outputs": [],
   "source": [
    "import json\n",
    "import numpy as np\n",
    "import pandas as pd\n",
    "from collections import Counter\n",
    "\n",
    "from nltk import word_tokenize, sent_tokenize\n",
    "\n",
    "from tqdm.auto import tqdm\n",
    "tqdm.pandas()\n",
    "\n",
    "pd.set_option('display.max_colwidth', 200)"
   ]
  },
  {
   "cell_type": "code",
   "execution_count": 2,
   "id": "161b4803-4e64-40ac-b3e5-5cca5b8922df",
   "metadata": {},
   "outputs": [],
   "source": [
    "with open(\"../data/href2synopsis.json\", encoding=\"utf-8\") as f:\n",
    "    href2synopsis = json.load(f)"
   ]
  },
  {
   "cell_type": "markdown",
   "id": "8a2190a7-a0b1-46ea-b8cb-9e995fd1ff91",
   "metadata": {},
   "source": [
    "# BOW stats"
   ]
  },
  {
   "cell_type": "code",
   "execution_count": 3,
   "id": "05b12d69-ed5e-456b-a366-7de2226a5796",
   "metadata": {},
   "outputs": [],
   "source": [
    "data = pd.DataFrame()\n",
    "\n",
    "data[\"href\"] = href2synopsis.keys()\n",
    "data[\"synopsis\"] = href2synopsis.values()"
   ]
  },
  {
   "cell_type": "code",
   "execution_count": 14,
   "id": "2e34ca49-9d27-46ce-9db5-f449166f6ab2",
   "metadata": {},
   "outputs": [],
   "source": [
    "data = data[data[\"synopsis\"] != \"\"]"
   ]
  },
  {
   "cell_type": "code",
   "execution_count": 4,
   "id": "2b001110-3de6-47f6-819b-0fa70adfedb1",
   "metadata": {},
   "outputs": [
    {
     "data": {
      "application/json": {
       "ascii": false,
       "bar_format": null,
       "colour": null,
       "elapsed": 0.05283164978027344,
       "initial": 0,
       "n": 0,
       "ncols": null,
       "nrows": 31,
       "postfix": null,
       "prefix": "",
       "rate": null,
       "total": 19393,
       "unit": "it",
       "unit_divisor": 1000,
       "unit_scale": false
      },
      "application/vnd.jupyter.widget-view+json": {
       "model_id": "f83bc1ccfdba42aabf81861b4a110ca2",
       "version_major": 2,
       "version_minor": 0
      },
      "text/plain": [
       "  0%|          | 0/19393 [00:00<?, ?it/s]"
      ]
     },
     "metadata": {},
     "output_type": "display_data"
    },
    {
     "data": {
      "application/json": {
       "ascii": false,
       "bar_format": null,
       "colour": null,
       "elapsed": 0.05075550079345703,
       "initial": 0,
       "n": 0,
       "ncols": null,
       "nrows": 31,
       "postfix": null,
       "prefix": "",
       "rate": null,
       "total": 19393,
       "unit": "it",
       "unit_divisor": 1000,
       "unit_scale": false
      },
      "application/vnd.jupyter.widget-view+json": {
       "model_id": "6fc1984a117041cfb39ec4302c3a4726",
       "version_major": 2,
       "version_minor": 0
      },
      "text/plain": [
       "  0%|          | 0/19393 [00:00<?, ?it/s]"
      ]
     },
     "metadata": {},
     "output_type": "display_data"
    },
    {
     "data": {
      "application/json": {
       "ascii": false,
       "bar_format": null,
       "colour": null,
       "elapsed": 0.024124622344970703,
       "initial": 0,
       "n": 0,
       "ncols": null,
       "nrows": 31,
       "postfix": null,
       "prefix": "",
       "rate": null,
       "total": 19393,
       "unit": "it",
       "unit_divisor": 1000,
       "unit_scale": false
      },
      "application/vnd.jupyter.widget-view+json": {
       "model_id": "d27909f8206a4ba0ad6bfece8a65d9e1",
       "version_major": 2,
       "version_minor": 0
      },
      "text/plain": [
       "  0%|          | 0/19393 [00:00<?, ?it/s]"
      ]
     },
     "metadata": {},
     "output_type": "display_data"
    }
   ],
   "source": [
    "data[\"char_total\"] = data[\"synopsis\"].progress_apply(len)\n",
    "data[\"token_total\"] = data[\"synopsis\"].progress_apply(lambda x: len(word_tokenize(x)))\n",
    "data[\"sent_total\"] = data[\"synopsis\"].progress_apply(lambda x: len(sent_tokenize(x)))"
   ]
  },
  {
   "cell_type": "code",
   "execution_count": 27,
   "id": "ecf37e02-fcb7-415d-9bb2-5ef90e7e964f",
   "metadata": {},
   "outputs": [
    {
     "data": {
      "application/json": {
       "ascii": false,
       "bar_format": null,
       "colour": null,
       "elapsed": 0.029372453689575195,
       "initial": 0,
       "n": 0,
       "ncols": null,
       "nrows": 31,
       "postfix": null,
       "prefix": "",
       "rate": null,
       "total": 19393,
       "unit": "it",
       "unit_divisor": 1000,
       "unit_scale": false
      },
      "application/vnd.jupyter.widget-view+json": {
       "model_id": "702511647edf426d9f15c117f07c1693",
       "version_major": 2,
       "version_minor": 0
      },
      "text/plain": [
       "  0%|          | 0/19393 [00:00<?, ?it/s]"
      ]
     },
     "metadata": {},
     "output_type": "display_data"
    }
   ],
   "source": [
    "data[\"lines_total\"] = data[\"synopsis\"].progress_apply(lambda x: len(x.split(\"\\n\")))"
   ]
  },
  {
   "cell_type": "code",
   "execution_count": 5,
   "id": "7bfe7015-9c56-4eff-af20-1559fb2a9e87",
   "metadata": {},
   "outputs": [
    {
     "data": {
      "application/json": {
       "ascii": false,
       "bar_format": null,
       "colour": null,
       "elapsed": 0.01822948455810547,
       "initial": 0,
       "n": 0,
       "ncols": null,
       "nrows": 31,
       "postfix": null,
       "prefix": "",
       "rate": null,
       "total": 19393,
       "unit": "it",
       "unit_divisor": 1000,
       "unit_scale": false
      },
      "application/vnd.jupyter.widget-view+json": {
       "model_id": "470ea2068d1945ed9d6e4b6daf612183",
       "version_major": 2,
       "version_minor": 0
      },
      "text/plain": [
       "  0%|          | 0/19393 [00:00<?, ?it/s]"
      ]
     },
     "metadata": {},
     "output_type": "display_data"
    },
    {
     "data": {
      "application/json": {
       "ascii": false,
       "bar_format": null,
       "colour": null,
       "elapsed": 0.04676222801208496,
       "initial": 0,
       "n": 0,
       "ncols": null,
       "nrows": 31,
       "postfix": null,
       "prefix": "",
       "rate": null,
       "total": 19393,
       "unit": "it",
       "unit_divisor": 1000,
       "unit_scale": false
      },
      "application/vnd.jupyter.widget-view+json": {
       "model_id": "e6508da238494596b05daeeb866b3b8b",
       "version_major": 2,
       "version_minor": 0
      },
      "text/plain": [
       "  0%|          | 0/19393 [00:00<?, ?it/s]"
      ]
     },
     "metadata": {},
     "output_type": "display_data"
    },
    {
     "data": {
      "application/json": {
       "ascii": false,
       "bar_format": null,
       "colour": null,
       "elapsed": 0.029623746871948242,
       "initial": 0,
       "n": 0,
       "ncols": null,
       "nrows": 31,
       "postfix": null,
       "prefix": "",
       "rate": null,
       "total": 19393,
       "unit": "it",
       "unit_divisor": 1000,
       "unit_scale": false
      },
      "application/vnd.jupyter.widget-view+json": {
       "model_id": "b8aa8ad9b13a4107a05501c44a2488a8",
       "version_major": 2,
       "version_minor": 0
      },
      "text/plain": [
       "  0%|          | 0/19393 [00:00<?, ?it/s]"
      ]
     },
     "metadata": {},
     "output_type": "display_data"
    }
   ],
   "source": [
    "data[\"token_max_char_len\"] = data[\"synopsis\"].progress_apply(\n",
    "    lambda x: max([len(t) for t in word_tokenize(x)]) if x.strip() else 0\n",
    ")\n",
    "\n",
    "data[\"sent_max_char_len\"] = data[\"synopsis\"].progress_apply(\n",
    "    lambda x: max([len(t) for t in sent_tokenize(x)]) if x.strip() else 0\n",
    ")\n",
    "\n",
    "data[\"line_max_char_len\"] = data[\"synopsis\"].progress_apply(\n",
    "    lambda x: max([len(t) for t in x.split(\"\\n\")]) if x.strip() else 0\n",
    ")"
   ]
  },
  {
   "cell_type": "code",
   "execution_count": 16,
   "id": "e6d30ba1-dd5e-4d12-87d8-c7e54047486c",
   "metadata": {},
   "outputs": [],
   "source": [
    "data[\"sent_char_ratio\"] = [t.sent_total/t.char_total for t in data.itertuples()]\n",
    "data[\"sent_token_ratio\"] = [t.sent_total/t.token_total for t in data.itertuples()]\n",
    "data[\"token_char_ratio\"] = [t.token_total/t.char_total for t in data.itertuples()]\n",
    "data[\"token_sent_ratio\"] = [t.token_total/t.sent_total for t in data.itertuples()]\n",
    "data[\"char_sent_ratio\"] = [t.char_total/t.sent_total for t in data.itertuples()]\n",
    "data[\"char_token_ratio\"] = [t.char_total/t.token_total for t in data.itertuples()]"
   ]
  },
  {
   "cell_type": "code",
   "execution_count": 17,
   "id": "37083f6a-439f-4805-8333-cc2268e8e1c6",
   "metadata": {},
   "outputs": [
    {
     "data": {
      "text/html": [
       "<div>\n",
       "<style scoped>\n",
       "    .dataframe tbody tr th:only-of-type {\n",
       "        vertical-align: middle;\n",
       "    }\n",
       "\n",
       "    .dataframe tbody tr th {\n",
       "        vertical-align: top;\n",
       "    }\n",
       "\n",
       "    .dataframe thead th {\n",
       "        text-align: right;\n",
       "    }\n",
       "</style>\n",
       "<table border=\"1\" class=\"dataframe\">\n",
       "  <thead>\n",
       "    <tr style=\"text-align: right;\">\n",
       "      <th></th>\n",
       "      <th>char_total</th>\n",
       "      <th>token_total</th>\n",
       "      <th>sent_total</th>\n",
       "      <th>token_max_char_len</th>\n",
       "      <th>sent_max_char_len</th>\n",
       "      <th>line_max_char_len</th>\n",
       "      <th>sent_char_ratio</th>\n",
       "      <th>sent_token_ratio</th>\n",
       "      <th>token_char_ratio</th>\n",
       "      <th>token_sent_ratio</th>\n",
       "      <th>char_sent_ratio</th>\n",
       "      <th>char_token_ratio</th>\n",
       "    </tr>\n",
       "  </thead>\n",
       "  <tbody>\n",
       "    <tr>\n",
       "      <th>count</th>\n",
       "      <td>18374</td>\n",
       "      <td>18374</td>\n",
       "      <td>18374</td>\n",
       "      <td>18374</td>\n",
       "      <td>18374</td>\n",
       "      <td>18374</td>\n",
       "      <td>18374</td>\n",
       "      <td>18374</td>\n",
       "      <td>18374</td>\n",
       "      <td>18374</td>\n",
       "      <td>18374</td>\n",
       "      <td>18374</td>\n",
       "    </tr>\n",
       "    <tr>\n",
       "      <th>mean</th>\n",
       "      <td>521</td>\n",
       "      <td>105</td>\n",
       "      <td>5</td>\n",
       "      <td>12</td>\n",
       "      <td>157</td>\n",
       "      <td>393</td>\n",
       "      <td>0</td>\n",
       "      <td>0</td>\n",
       "      <td>0</td>\n",
       "      <td>20</td>\n",
       "      <td>102</td>\n",
       "      <td>4</td>\n",
       "    </tr>\n",
       "    <tr>\n",
       "      <th>std</th>\n",
       "      <td>349</td>\n",
       "      <td>70</td>\n",
       "      <td>3</td>\n",
       "      <td>2</td>\n",
       "      <td>61</td>\n",
       "      <td>230</td>\n",
       "      <td>0</td>\n",
       "      <td>0</td>\n",
       "      <td>0</td>\n",
       "      <td>7</td>\n",
       "      <td>39</td>\n",
       "      <td>1</td>\n",
       "    </tr>\n",
       "    <tr>\n",
       "      <th>min</th>\n",
       "      <td>1</td>\n",
       "      <td>1</td>\n",
       "      <td>1</td>\n",
       "      <td>1</td>\n",
       "      <td>1</td>\n",
       "      <td>1</td>\n",
       "      <td>0</td>\n",
       "      <td>0</td>\n",
       "      <td>0</td>\n",
       "      <td>1</td>\n",
       "      <td>1</td>\n",
       "      <td>1</td>\n",
       "    </tr>\n",
       "    <tr>\n",
       "      <th>25%</th>\n",
       "      <td>262</td>\n",
       "      <td>53</td>\n",
       "      <td>3</td>\n",
       "      <td>11</td>\n",
       "      <td>118</td>\n",
       "      <td>225</td>\n",
       "      <td>0</td>\n",
       "      <td>0</td>\n",
       "      <td>0</td>\n",
       "      <td>16</td>\n",
       "      <td>78</td>\n",
       "      <td>4</td>\n",
       "    </tr>\n",
       "    <tr>\n",
       "      <th>50%</th>\n",
       "      <td>454</td>\n",
       "      <td>92</td>\n",
       "      <td>5</td>\n",
       "      <td>12</td>\n",
       "      <td>151</td>\n",
       "      <td>364</td>\n",
       "      <td>0</td>\n",
       "      <td>0</td>\n",
       "      <td>0</td>\n",
       "      <td>19</td>\n",
       "      <td>97</td>\n",
       "      <td>4</td>\n",
       "    </tr>\n",
       "    <tr>\n",
       "      <th>75%</th>\n",
       "      <td>702</td>\n",
       "      <td>141</td>\n",
       "      <td>7</td>\n",
       "      <td>13</td>\n",
       "      <td>188</td>\n",
       "      <td>515</td>\n",
       "      <td>0</td>\n",
       "      <td>0</td>\n",
       "      <td>0</td>\n",
       "      <td>24</td>\n",
       "      <td>120</td>\n",
       "      <td>5</td>\n",
       "    </tr>\n",
       "    <tr>\n",
       "      <th>max</th>\n",
       "      <td>5804</td>\n",
       "      <td>1201</td>\n",
       "      <td>75</td>\n",
       "      <td>188</td>\n",
       "      <td>1701</td>\n",
       "      <td>2865</td>\n",
       "      <td>1</td>\n",
       "      <td>1</td>\n",
       "      <td>1</td>\n",
       "      <td>124</td>\n",
       "      <td>1701</td>\n",
       "      <td>130</td>\n",
       "    </tr>\n",
       "  </tbody>\n",
       "</table>\n",
       "</div>"
      ],
      "text/plain": [
       "       char_total  token_total  sent_total  token_max_char_len  \\\n",
       "count       18374        18374       18374               18374   \n",
       "mean          521          105           5                  12   \n",
       "std           349           70           3                   2   \n",
       "min             1            1           1                   1   \n",
       "25%           262           53           3                  11   \n",
       "50%           454           92           5                  12   \n",
       "75%           702          141           7                  13   \n",
       "max          5804         1201          75                 188   \n",
       "\n",
       "       sent_max_char_len  line_max_char_len  sent_char_ratio  \\\n",
       "count              18374              18374            18374   \n",
       "mean                 157                393                0   \n",
       "std                   61                230                0   \n",
       "min                    1                  1                0   \n",
       "25%                  118                225                0   \n",
       "50%                  151                364                0   \n",
       "75%                  188                515                0   \n",
       "max                 1701               2865                1   \n",
       "\n",
       "       sent_token_ratio  token_char_ratio  token_sent_ratio  char_sent_ratio  \\\n",
       "count             18374             18374             18374            18374   \n",
       "mean                  0                 0                20              102   \n",
       "std                   0                 0                 7               39   \n",
       "min                   0                 0                 1                1   \n",
       "25%                   0                 0                16               78   \n",
       "50%                   0                 0                19               97   \n",
       "75%                   0                 0                24              120   \n",
       "max                   1                 1               124             1701   \n",
       "\n",
       "       char_token_ratio  \n",
       "count             18374  \n",
       "mean                  4  \n",
       "std                   1  \n",
       "min                   1  \n",
       "25%                   4  \n",
       "50%                   4  \n",
       "75%                   5  \n",
       "max                 130  "
      ]
     },
     "execution_count": 17,
     "metadata": {},
     "output_type": "execute_result"
    }
   ],
   "source": [
    "data.describe().astype(int)"
   ]
  },
  {
   "cell_type": "code",
   "execution_count": 18,
   "id": "a9e2f70f-f979-41fd-9510-cefafa51031d",
   "metadata": {},
   "outputs": [],
   "source": [
    "stats = data.drop(columns=[\"href\", \"synopsis\"])"
   ]
  },
  {
   "cell_type": "markdown",
   "id": "55b0182b-a22c-4772-a131-4192604d0e1d",
   "metadata": {},
   "source": [
    "# Outlier detection\n",
    "\n",
    "[The svm.OneClassSVM is known to be sensitive to outliers and thus does not perform very well for outlier detection](https://scikit-learn.org/stable/modules/outlier_detection.html#outlier-detection)"
   ]
  },
  {
   "cell_type": "code",
   "execution_count": 19,
   "id": "2ab5f722-23fd-4880-b752-36fa8d209af3",
   "metadata": {},
   "outputs": [],
   "source": [
    "from sklearn.neighbors import LocalOutlierFactor\n",
    "from sklearn.ensemble import IsolationForest"
   ]
  },
  {
   "cell_type": "code",
   "execution_count": 20,
   "id": "8a388991-78ad-47dd-817f-9a3f4ffa0b64",
   "metadata": {},
   "outputs": [],
   "source": [
    "clf = LocalOutlierFactor(n_neighbors=20)\n",
    "preds = clf.fit_predict(stats)\n",
    "# clf.negative_outlier_factor_\n",
    "data[\"pred\"] = preds\n",
    "data[\"negative_outlier_factor_\"] = clf.negative_outlier_factor_"
   ]
  },
  {
   "cell_type": "code",
   "execution_count": 24,
   "id": "a87341ab-da27-4bce-8fc6-fa15a5ca0cd4",
   "metadata": {},
   "outputs": [
    {
     "data": {
      "text/plain": [
       "['A large, diverse group of people get tangled up with each other to get their hands on a gun and a golf bag full of money.',\n",
       " 'In a country called Wushuangguo, the new king and the beautiful female beggar Qian Duo Duo find themselves in each other’s bodies and hilarity ensues, causing an uproar in the palace and in the harem.\\n\\n(Source: ChineseDrama.info, WeTV)',\n",
       " \"Hometown Legends (2009) is the continuation of a classic series of ghost stories which first aired on KBS between 1977 and 1989 and later between 1996 and 1999. After a successful return in 2008, KBS decided to do another series of one-act dramas.\\n\\nEach episode is an individual Ghost Story:\\n\\nEpisode 1: 혈귀 (Hyeolgwi) / Blood Ghost / Vampire / Kiss of the Vampire\\nEpisode 2: 죽도의 한 (Jukdoui Han) / The Regrets of Bamboo Knife / The Grudge Island\\nEpisode 3: 계집종 (Gyejibjong) / Servant / Come with me to Hell\\nEpisode 4: 목각귀 (Mokgakgwi) / Wood Ghost / The Wooden Doll\\nEpisode 5: 씨받이(Sshibachi) / Surrogate Mother\\nEpisode 6: 금서 (Geumseo) / Forbidden Book\\nEpisode 7: 조용한 마을 (Joyonghan Maeul) / Silent Village\\nEpisode 8: 구미호 (Gumiho) / Fox with Nine Tails\\nEpisode 9: 묘정의 구슬 (Myo Jeongui Guseul) / Myo Jeong's Pearl\\nEpisode 10: 가면귀 (Gamyeongwi) / The Mask's Eye / The Masked Ghost\",\n",
       " \"Lee Se Hee never thought she'd be part of the popular clique in high school, and neither did she expect herself to be in a love square with 3 very attractive popular guys! Who is she going to choose?\",\n",
       " 'The top hacker was chosen by the Lord God to be reborn as hundreds of thousands of villains,\\n\\nEvery world ended in a dead end,\\n\\nEvery end is tragic.\\n\\nFinally he escaped the control of the Villain System,\\n\\nHe decided to enact revenge, change his fate as an abused slag\\n\\nEven if his every bone is rotten,\\n\\nHe’ll occupy the heights of morality, even if it’s just the surface.\\n(Source: Goodreads)\\n\\n~~ Adapted from the novel of the same name by Feng Liu Shu Dai (风流书呆).',\n",
       " '2 years have passed...\\nWill the love of Gene and Nubsib still be the same?\\nOr will deception change everything?',\n",
       " \"Shizuka is a career woman who works at a big trading company until she is one day hypnotized by a hypnotist. Everytime she hears music, even someone's ringtone, she can't help but sing and dance. When she goes to the hypnotist to break the spell, he's gone... \\n\\n(Source: MyDramaList)\",\n",
       " 'A three part series starring K-Pop group Stray Kids to promote the brand Lotte Duty Free.\\n\\n> Story 1: \"Brotherly Secret\" (형제의 비밀)\\n> Story 2: \"Broken Friendship\" (흔들린 우정)\\n> Story 3: \"Thorough Investigation\" (밀착수사)\\n\\n(Source: MyDramaList)',\n",
       " 'Story 01 - Die in 15 Seconds\\nAt midnight, the pharmacist Mikami Megumi, who was working in the drug room of the clinic, suddenly got stuck. And in front of her, a red splash and a stationary bullet are floating. You can also see a straight blood splatter on her chest. \"Is time stopped?\" When she doesn\\'t understand why, a god of death appears in front of her. \"Thank you for your pity this time.\" Apparently Megumi was shot dead on her back. And the god of death came to pick her up.\\nHowever, in fact, Megumi still had a lifespan of only 15 seconds. During that 15-second countdown, she says Megumi can start and stop, and she\\'s free to stop and move her time. Who shot her grace? What is the motive of the criminal? And what was Megumi\\'s action in the remaining 15 seconds?\\n\\nStory 02 - Sanzu River Outlet Park\\nKimura Takashi is lying on his back and fainting in the riverbank where the area is foggy. Kimura wakes up and looks around, and notices a sign that says \"Sanzu River\". When he was thinking, \"Are you dead?\", he saw a huge shopping mall in front of him. Saino, a resident of the underworld, calls out to Kimura who stands up. “Welcome to the Sanzu River Outlet Park”.\\nAt this outlet park, he can earn money called \"virtue\" according to what he did during his lifetime, and use that money to shop for the afterlife. Takashi had only 6 old coins. Did he commit a crime before you were alive? There, Takashi meets a boy named Tanaka Haru. He says he wants to get better at baseball when he\\'s reborn because he was sick and couldn\\'t exercise in the spring. Haru asks Takashi if there is anything he wants to do when he is reborn. Takashi was often in trouble during his lifetime because of his poor eyesight. So he says he wants to change his eyes in the next world. Takashi remembered the inpatient Ohara Mei he met at the hospital where he worked. She was the only one who said that Mei liked Takashi\\'s eyes. As she became closer, Takashi became eager to cure her sprouting illness, and she decided to be. However, she died in the middle of her career. He wonder if the she are alive and well. When she thinks about that, a sprout appears in front of her. What happened to her sprout? What is the fate of the two?\\n\\nStory 03 - Déjà-vu\\nOne morning, Minamino Hikariwakes up and suddenly looks out the window. She saw a man in a suit and a high school girl with a confused father and daughter. However, as soon as the two of them disappear, the same scene is repeated again. The next moment she thought, \"Déjà-vu?\", Hikari suffered a severe headache and felt the sign of a man wearing a mask behind her. She hurriedly looked back and found no one... Hikari is confused. At that time, she heard the notification sound on her cell phone. When she look at the screen, she get a lot of messages saying \"Happy birthday!\"! Yes, today is Hikari\\'s birthday. Hikari happily begins her reply.\\nWhen she went down to the living room while holding her head, she saw her father, Masataka, and her mother, Rinko. Hikari has a casual conversation with Rinko, but she feel like she\\'s seen the same scene before. Is it \"Déjà-vu\" again? After breakfast, Hikari passes in front of Masataka\\'s study and hears a noise. When she opened her terrifying door, a man wearing a mask was hunting for the room. And the man who noticed Hikari picked up a golf club nearby... but when she opened his eyes, he was no longer there.\\nThat night, Hikari and Rinko were waiting for Masataka\\'s return with a birthday cake and a gorgeous meal. Then she can hear the noise from the study again. Recalling that she woke up in the morning, Hikari stopped Rinko trying to go to her study, but the masked man tried to swing the golf club down again...\\nWhen she woke up, Hikari was lying on the bed in a pitch-black room. And Masataka is in front of her, but the situation is strange. Masataka is a brain scientist and is doing some research with his university colleague Shindo Aki. What is the relationship between the \"déjà vu\" that happens to Hikari and Masataka\\'s research? What is the identity of a masked man?\\n\\nStory 04 - Become\\nFamous Go player Iwaya Kentaro is facing the game. The opponent on this day is an AI Go player. It\\'s a strange name, \"nuisance,\" but Iwaya doesn\\'t care about that. When Iwaya returns the piece, there is a character that he have never seen, \"朮\". Iwaya can\\'t read Chinese characters, and he don\\'t understand at all. And when the AI player returns the piece, the word \"Akemi\" appears. Iwaya who pretends to be calm but can\\'t hide his inner feelings and turmoil. In fact, last year, Iwaya was photographed in a weekly magazine with a woman by her name, which caused her to be in divorce talks with her wife. “What do you mean?” As the game progresses further, a certain word that became traumatic in junior high school appears. He can\\'t stand it and tries to leave the room, but the door doesn\\'t open. The word \"May 3\" is on the piece of Iwaya who gives up and returns to the game. It was an unforgettable day for Iwaya. His mother bought a fine shogi piece for Iwaya, whose house was poor. Iwaya suddenly remembers that time and turns to attack. Can Iwaya really control the game with the AI shogi \"nuisance\"?\\n\\n(Source: Fuji TV)',\n",
       " '\"I will always care for you, even if we\\'re not together and even if we\\'re far, far away from each other.\"\\n\\n(Source: johnrudolf TV YouTube)']"
      ]
     },
     "execution_count": 24,
     "metadata": {},
     "output_type": "execute_result"
    }
   ],
   "source": [
    "data[data[\"pred\"] == -1][\"synopsis\"].sample(10).to_list()"
   ]
  },
  {
   "cell_type": "code",
   "execution_count": null,
   "id": "b849eec6-90d7-40b9-aec6-a3462361221d",
   "metadata": {},
   "outputs": [],
   "source": []
  },
  {
   "cell_type": "code",
   "execution_count": 50,
   "id": "302950ce-21fe-4f85-97c0-4d1cd14f76a4",
   "metadata": {},
   "outputs": [
    {
     "data": {
      "text/plain": [
       "['A loving friend, a son, and lover, who is being haunted by his deep dark past...\\n \\nA story of love, betrayal, and revenge...',\n",
       " '~~ Adapted from the web novel \"Once Upon a Time, There Was a Spirit Sword Mountain\" (从前有座灵剑山) by His Majesty the King (国王陛下).',\n",
       " 'Where can there be a teenager without a story?\\nIf I send a DM to IABC, the Broadcasting Department of Iyego,\\nIABC will take care of it!\\n\\nYou must see it before you see Part 5!?\\nThe most fun way to enjoy Real:Time:Love Series!\\nTeen Love Story of Iye High Broadcasters [I:Love:DM]\\n\\n(Source: 콬TV)',\n",
       " 'On the advice of Professor Tsukuba, a physician she respects, houseman Togano Makoto takes training at forensic medicine classes. She gingerly steps into a classroom with a strange atmosphere. The eccentric but outstanding forensic professor Matsuzaki Tojiro gives her a polite brush-off and leaves the place. Makoto trains under Kosaki in a story that throws the ethical conflict surrounding autopsies and human relationships into sharp relief.\\n\\n~~ Adapted from the novel \"Hippocrates no Chikai\" by Nakayama Shichiri.',\n",
       " '~~ Adapted from the webtoon \"Shark\" (샤크) written by Woon (운) and illustrated by Kim Woo Sub (김우섭).',\n",
       " 'Office politics is taken to the next level as four female coworkers/friends fight for promotions and romantic interests.\\n\\n(Source: DramaWiki)',\n",
       " 'Sawatari, nicknamed Waseda, is the homeroom teacher of class 1-2 of Sainotama High, a girls\\' school. His students are a bunch of hilarious weirdos: \"Baka\", the not-so-bright tomboy who nevertheless surprises, time and again, by asking some deep, thought-provoking questions; \"Wota\", the aspiring mangaka / desperate otaku; \"Robo\", the emotionless genius with her sharp and witty replies; \"Loli\", the younger-looking girl who provides some of the funniest moments; \"Majo\", the occult buff; \"Yamai\", the adorable nutjob lost in her fantasy world; \"Majime\", the serious and strong one; \"Lili\", the \"haafu\" transfer student with sapphic tendencies... not to forget some more wackos like the vice-principal, the nurse, the neighborhood cop.\\n\\n(Source: pash at MyDramaList)',\n",
       " 'Sandara Park and Park Sohyun are well known for being \"small-eaters\" in the entertainment-variety world. This mukbang-style program invites various food mentors to share their know-how and eating tips. After sampling different food combinations and learning new tricks, will the two be convinced to take just one more bite?\\n\\n(Source: olivestulip at MyDramaList)',\n",
       " 'A detective trio comprised of mind-reading expert Qin Huo Le, the always composed and steadfast captain Song He and the quirky forensic doctor Fan Xiao Fan who work together to explore 8 bizarre stories.\\n\\nThere are people who gradually turn into demons after experiencing injustice; stare at the abyss for too long and the abyss stares back; there are people who tragically sacrifice themselves in order to attain justice; there are people who receive punishment for their mistakes without knowing what they did wrong, they repeat their wrongdoings even at the expense of hurting others; there are people who act respectable under the sun but turn into monsters in the moonlight who take advantage of the innocent to fuel their crazy obsessions... Each of the eight stories depict a confrontation between good and evil.\\n\\n(Source: cdramainfo)',\n",
       " '\"Love Memories\" is a short drama that tells the story of two families whose relatives are Alzheimer\\'s patients.\\n\\n(Source: thestarsociety.net)',\n",
       " 'The members of ATEEZ lay down and tell stories in a sleepover-themed set.',\n",
       " 'Kohiruimaki Yuichi is a police officer who established the \"Science Crime Countermeasures Office\", a department that specializes in issues related to cutting-edge science and technology. He welcomes the genius scientist Mogami Yukiko as an advisor, and she is in charge of investigating cases related to cutting-edge science.\\xa0The crimes entrusted to the Science Crime Countermeasures Office are crimes that the legal system and police organization cannot keep up with. The two will unravel the science itself hidden behind the cases and not just the so-called forensic investigation. Hasebe Tsutomu is a detective who is not familiar with science but has a long experience in the field in the former Investigation Division.\\n\\n(Source: Realsound.jp)',\n",
       " 'A cohabitation comedy about a ghost of a high school girl who has been dead for 5 years and an exorcist college boy with the ability to see and hear ghosts. What he’s discovered over the years is that he can touch them and fight them off, so when he’s in need of a part-time job and can’t find one that pays well enough, he starts putting ads online as an exorcist for hire. His ad: “Will face off with your ghosts. Chances of winning: virgin ghosts 80%, bachelor ghosts 40%, child ghosts 97%, the rest 50%.” One night he goes out on the job and faces off with a schoolgirl ghost, and during the fight, they accidentally kiss and sparks fly.\" \\n\\n(Source: IMDb)\\n\\n~~ Adapted from the webtoon “Let\\'s Fight, Ghost” (싸우자귀신아) by Iminsu (임인스).',\n",
       " 'Mal Soon is a tough granny in a shantytown in Busan. In front of her, 12-year-old Gong Ju appears with her baby sister Jin Ju on her back. Gong Ju claims that she is the daughter of Mal Soon’s runaway daughter. Mal Soon’s peaceful life becomes a mess with these little strangers, but Mal Soon doesn’t feel bad living with them. Their happy-yet-unpredictable life under one roof is about to start!\\n\\n(Source: HanCinema)',\n",
       " 'The story of a young single mother, Do Mi Sol, and her quest to make the world a warmer place to live in.',\n",
       " 'A truthful behind-the-scenes look at the making of the faux behind-the-scenes series \"(G)I-DLE Secret Folder.\"',\n",
       " 'Kobayashi Haru fell in love before finding out that her boyfriend was actually a married man. At that time, a regular customer predicts that she will wind up meeting 3 different men. She begins encountering them just as predicted. There\\'s the hairdresser Shintaro, the band vocalist Yu, and the bartender Yoshi. What will come of these fateful encounters?\\n\\n(Source: MyDramaList)\\n\\n~~ Adapted from the manga series \"3B Lover - Love with a Professional Boy Who Shouldn\\'t be Dating\" (3Bの恋人～付き合ってはいけない職業男子との恋遊戯～) by Yokoyama Moyo.',\n",
       " '\"Spiderweb” is set in the 1970s and centers around Director Kim, (Song Kang Ho) who is pressured to re-shoot the ending of a finished movie called “Spiderweb.” As the re-shoot begins, he faces pressure from the censorship authorities and confusion from the actors and producers who don’t understand the new script.\\n\\nIn the 1970s, Korean films had to undergo review from the authorities before they could be filmed. Song Kang Ho’s character, Director Kim, is obsessed with the idea of making “Spiderweb” into his masterpiece. However, he faces various obstacles like periodic reviews from the ministry of culture representative who is always present on set, the uncooperative attitude of the actors who were dragged back into filming without understanding the new script, opposition from the production company, and conflicting set schedules with another project.\\n\\nIm Soo Jung has been cast as veteran actress Lee Min Ja, who plays Kang Ho Se’s wife in Director Kim’s movie.\\n\\nOh Jung Se has been cast as Kang Ho Se, an actor who plays the main character in Director Kim’s movie. He is at the height of his popularity but has affairs despite being married. Im Soo Jung has been cast as Lee Min Ja, a veteran actress who will play Kang Ho Se’s character’s wife in Director Kim’s movie.\\n\\nJeon Yeo Been has been cast as Shin Mi Do, the financial manager of Shinsung Film, the production company behind “Spiderweb.” She studied abroad in Japan and butts heads with her aunt, who is the movie’s producer, by believing fully in Director Kim’s vision and helping him achieve his masterpiece. Krystal plays Han Yoo Rim, a rookie actress who has suddenly risen in popularity and is key to Director Kim’s movie.\\n\\n(Source: Soompi and Naver)',\n",
       " 'Seon Ho is an artist who draws adult webtoons. It started as an easy way to make money, but it’s caused some unexpected side effects: he hasn’t been aroused for over two years! Exhausted, he hires an assistant. It’s just that he didn’t expect him to be so cute! Mu Yeong is clean, talented, and apparently loaded, so... why does he want to work under Seon Ho?\\nTurns out, Mu Yeong is Seon Ho’s number one fan...\\n\\n(Source: Mangaupdates)\\n\\n~~ Adapted from the webtoon “Oh! My Assistant” (오나의어시님) by Mila (밀라) and Angrymonster (앵몬).',\n",
       " 'A short documentary that shows the behind-the-scenes of the South Korean girl group Everglow at music shows and events.']"
      ]
     },
     "execution_count": 50,
     "metadata": {},
     "output_type": "execute_result"
    }
   ],
   "source": [
    "data[data[\"pred\"] == -1].sort_values(by=\"negative_outlier_factor_\"\n",
    "                                    )[\"synopsis\"].to_list()[-20:]"
   ]
  },
  {
   "cell_type": "code",
   "execution_count": null,
   "id": "9311ccc4-c01c-4713-bafa-c31ff62f4e7a",
   "metadata": {},
   "outputs": [],
   "source": []
  }
 ],
 "metadata": {
  "kernelspec": {
   "display_name": "Python 3 (ipykernel)",
   "language": "python",
   "name": "python3"
  },
  "language_info": {
   "codemirror_mode": {
    "name": "ipython",
    "version": 3
   },
   "file_extension": ".py",
   "mimetype": "text/x-python",
   "name": "python",
   "nbconvert_exporter": "python",
   "pygments_lexer": "ipython3",
   "version": "3.10.5"
  }
 },
 "nbformat": 4,
 "nbformat_minor": 5
}
