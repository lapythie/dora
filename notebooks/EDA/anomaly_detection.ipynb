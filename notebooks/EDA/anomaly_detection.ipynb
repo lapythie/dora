{
 "cells": [
  {
   "cell_type": "code",
   "execution_count": 1,
   "id": "78ff8982-ac6e-4976-9655-42c2b3c55118",
   "metadata": {},
   "outputs": [],
   "source": [
    "import json\n",
    "import numpy as np\n",
    "import pandas as pd\n",
    "from collections import Counter\n",
    "\n",
    "from nltk import word_tokenize, sent_tokenize\n",
    "\n",
    "from tqdm.auto import tqdm\n",
    "tqdm.pandas()\n",
    "\n",
    "pd.set_option('display.max_colwidth', 200)"
   ]
  },
  {
   "cell_type": "code",
   "execution_count": 2,
   "id": "161b4803-4e64-40ac-b3e5-5cca5b8922df",
   "metadata": {},
   "outputs": [],
   "source": [
    "with open(\"../data/href2synopsis.json\", encoding=\"utf-8\") as f:\n",
    "    href2synopsis = json.load(f)"
   ]
  },
  {
   "cell_type": "markdown",
   "id": "d74f6694-1997-4e2a-aa8d-845e73c0150f",
   "metadata": {},
   "source": [
    "    Takeaways:\n",
    "        - replace \\n or \\r sequences with single \\n\n",
    "        - use language-specific tokenizer"
   ]
  },
  {
   "cell_type": "markdown",
   "id": "8a2190a7-a0b1-46ea-b8cb-9e995fd1ff91",
   "metadata": {},
   "source": [
    "# BOW stats\n",
    "    # TODO: add actual bow stats"
   ]
  },
  {
   "cell_type": "code",
   "execution_count": 11,
   "id": "05b12d69-ed5e-456b-a366-7de2226a5796",
   "metadata": {},
   "outputs": [],
   "source": [
    "data = pd.DataFrame()\n",
    "\n",
    "data[\"href\"] = href2synopsis.keys()\n",
    "data[\"synopsis\"] = href2synopsis.values()"
   ]
  },
  {
   "cell_type": "code",
   "execution_count": 12,
   "id": "2e34ca49-9d27-46ce-9db5-f449166f6ab2",
   "metadata": {},
   "outputs": [],
   "source": [
    "data = data[data[\"synopsis\"] != \"\"]"
   ]
  },
  {
   "cell_type": "code",
   "execution_count": 13,
   "id": "7544f9ee-3e14-4128-88b3-21a43824cf37",
   "metadata": {},
   "outputs": [],
   "source": [
    "import regex as re\n",
    "\n",
    "data[\"synopsis\"] = data[\"synopsis\"].apply(\n",
    "    lambda x: re.sub(\"\\s*\\n\\s*\", \"\\n\", x).strip()\n",
    ")"
   ]
  },
  {
   "cell_type": "code",
   "execution_count": 14,
   "id": "5f3ee1de-090f-46d6-a82a-334e48342382",
   "metadata": {},
   "outputs": [
    {
     "data": {
      "application/json": {
       "ascii": false,
       "bar_format": null,
       "colour": null,
       "elapsed": 0.023155689239501953,
       "initial": 0,
       "n": 0,
       "ncols": null,
       "nrows": 31,
       "postfix": null,
       "prefix": "",
       "rate": null,
       "total": 18374,
       "unit": "it",
       "unit_divisor": 1000,
       "unit_scale": false
      },
      "application/vnd.jupyter.widget-view+json": {
       "model_id": "6cc8f3ab6ab74660a294b32326f98b6a",
       "version_major": 2,
       "version_minor": 0
      },
      "text/plain": [
       "  0%|          | 0/18374 [00:00<?, ?it/s]"
      ]
     },
     "metadata": {},
     "output_type": "display_data"
    }
   ],
   "source": [
    "# data[\"min_ord\"] = data[\"synopsis\"].progress_apply(\n",
    "#     lambda s: min([ord(char) for char in s])\n",
    "# )\n",
    "\n",
    "# data[\"max_ord\"] = data[\"synopsis\"].progress_apply(\n",
    "#     lambda s: max([ord(char) for char in s])\n",
    "# )\n",
    "\n",
    "data[\"mean_ord\"] = data[\"synopsis\"].progress_apply(\n",
    "    lambda s: np.mean([ord(char) for char in s])\n",
    ")\n",
    "\n",
    "# data[\"median_ord\"] = data[\"synopsis\"].progress_apply(\n",
    "#     lambda s: np.median([ord(char) for char in s])\n",
    "# )\n",
    "\n",
    "# data[\"mode_ord\"] = data[\"synopsis\"].progress_apply(\n",
    "#     lambda s: Counter([ord(char) for char in s]).most_common()[0][0]\n",
    "# )"
   ]
  },
  {
   "cell_type": "code",
   "execution_count": 12,
   "id": "2b001110-3de6-47f6-819b-0fa70adfedb1",
   "metadata": {},
   "outputs": [
    {
     "data": {
      "application/json": {
       "ascii": false,
       "bar_format": null,
       "colour": null,
       "elapsed": 0.02100229263305664,
       "initial": 0,
       "n": 0,
       "ncols": null,
       "nrows": 31,
       "postfix": null,
       "prefix": "",
       "rate": null,
       "total": 18374,
       "unit": "it",
       "unit_divisor": 1000,
       "unit_scale": false
      },
      "application/vnd.jupyter.widget-view+json": {
       "model_id": "c93a97138cb044f2acf1c1f8a8ed5899",
       "version_major": 2,
       "version_minor": 0
      },
      "text/plain": [
       "  0%|          | 0/18374 [00:00<?, ?it/s]"
      ]
     },
     "metadata": {},
     "output_type": "display_data"
    },
    {
     "data": {
      "application/json": {
       "ascii": false,
       "bar_format": null,
       "colour": null,
       "elapsed": 0.04766440391540527,
       "initial": 0,
       "n": 0,
       "ncols": null,
       "nrows": 31,
       "postfix": null,
       "prefix": "",
       "rate": null,
       "total": 18374,
       "unit": "it",
       "unit_divisor": 1000,
       "unit_scale": false
      },
      "application/vnd.jupyter.widget-view+json": {
       "model_id": "ec0363cfd4fc45a4b3295271eaa21045",
       "version_major": 2,
       "version_minor": 0
      },
      "text/plain": [
       "  0%|          | 0/18374 [00:00<?, ?it/s]"
      ]
     },
     "metadata": {},
     "output_type": "display_data"
    },
    {
     "data": {
      "application/json": {
       "ascii": false,
       "bar_format": null,
       "colour": null,
       "elapsed": 0.03160500526428223,
       "initial": 0,
       "n": 0,
       "ncols": null,
       "nrows": 31,
       "postfix": null,
       "prefix": "",
       "rate": null,
       "total": 18374,
       "unit": "it",
       "unit_divisor": 1000,
       "unit_scale": false
      },
      "application/vnd.jupyter.widget-view+json": {
       "model_id": "90969686f7374906846c343549a80da6",
       "version_major": 2,
       "version_minor": 0
      },
      "text/plain": [
       "  0%|          | 0/18374 [00:00<?, ?it/s]"
      ]
     },
     "metadata": {},
     "output_type": "display_data"
    }
   ],
   "source": [
    "data[\"char_total\"] = data[\"synopsis\"].progress_apply(len)\n",
    "data[\"token_total\"] = data[\"synopsis\"].progress_apply(\n",
    "    lambda x: len(word_tokenize(x))\n",
    ")\n",
    "data[\"sent_total\"] = data[\"synopsis\"].progress_apply(\n",
    "    lambda x: len([sent for line in x.split(\"\\n\") for sent in  sent_tokenize(line) if line.strip()])\n",
    ")"
   ]
  },
  {
   "cell_type": "code",
   "execution_count": 27,
   "id": "ecf37e02-fcb7-415d-9bb2-5ef90e7e964f",
   "metadata": {},
   "outputs": [
    {
     "data": {
      "application/json": {
       "ascii": false,
       "bar_format": null,
       "colour": null,
       "elapsed": 0.029372453689575195,
       "initial": 0,
       "n": 0,
       "ncols": null,
       "nrows": 31,
       "postfix": null,
       "prefix": "",
       "rate": null,
       "total": 19393,
       "unit": "it",
       "unit_divisor": 1000,
       "unit_scale": false
      },
      "application/vnd.jupyter.widget-view+json": {
       "model_id": "702511647edf426d9f15c117f07c1693",
       "version_major": 2,
       "version_minor": 0
      },
      "text/plain": [
       "  0%|          | 0/19393 [00:00<?, ?it/s]"
      ]
     },
     "metadata": {},
     "output_type": "display_data"
    }
   ],
   "source": [
    "# data[\"lines_total\"] = data[\"synopsis\"].progress_apply(lambda x: len(x.split(\"\\n\")))"
   ]
  },
  {
   "cell_type": "code",
   "execution_count": 5,
   "id": "7bfe7015-9c56-4eff-af20-1559fb2a9e87",
   "metadata": {},
   "outputs": [
    {
     "data": {
      "application/json": {
       "ascii": false,
       "bar_format": null,
       "colour": null,
       "elapsed": 0.01822948455810547,
       "initial": 0,
       "n": 0,
       "ncols": null,
       "nrows": 31,
       "postfix": null,
       "prefix": "",
       "rate": null,
       "total": 19393,
       "unit": "it",
       "unit_divisor": 1000,
       "unit_scale": false
      },
      "application/vnd.jupyter.widget-view+json": {
       "model_id": "470ea2068d1945ed9d6e4b6daf612183",
       "version_major": 2,
       "version_minor": 0
      },
      "text/plain": [
       "  0%|          | 0/19393 [00:00<?, ?it/s]"
      ]
     },
     "metadata": {},
     "output_type": "display_data"
    },
    {
     "data": {
      "application/json": {
       "ascii": false,
       "bar_format": null,
       "colour": null,
       "elapsed": 0.04676222801208496,
       "initial": 0,
       "n": 0,
       "ncols": null,
       "nrows": 31,
       "postfix": null,
       "prefix": "",
       "rate": null,
       "total": 19393,
       "unit": "it",
       "unit_divisor": 1000,
       "unit_scale": false
      },
      "application/vnd.jupyter.widget-view+json": {
       "model_id": "e6508da238494596b05daeeb866b3b8b",
       "version_major": 2,
       "version_minor": 0
      },
      "text/plain": [
       "  0%|          | 0/19393 [00:00<?, ?it/s]"
      ]
     },
     "metadata": {},
     "output_type": "display_data"
    },
    {
     "data": {
      "application/json": {
       "ascii": false,
       "bar_format": null,
       "colour": null,
       "elapsed": 0.029623746871948242,
       "initial": 0,
       "n": 0,
       "ncols": null,
       "nrows": 31,
       "postfix": null,
       "prefix": "",
       "rate": null,
       "total": 19393,
       "unit": "it",
       "unit_divisor": 1000,
       "unit_scale": false
      },
      "application/vnd.jupyter.widget-view+json": {
       "model_id": "b8aa8ad9b13a4107a05501c44a2488a8",
       "version_major": 2,
       "version_minor": 0
      },
      "text/plain": [
       "  0%|          | 0/19393 [00:00<?, ?it/s]"
      ]
     },
     "metadata": {},
     "output_type": "display_data"
    }
   ],
   "source": [
    "data[\"token_max_char_len\"] = data[\"synopsis\"].progress_apply(\n",
    "    lambda x: max([len(t) for t in word_tokenize(x)]) if x.strip() else 0\n",
    ")\n",
    "\n",
    "data[\"sent_max_char_len\"] = data[\"synopsis\"].progress_apply(\n",
    "    lambda x: max([len(t) for t in sent_tokenize(x)]) if x.strip() else 0\n",
    ")\n",
    "\n",
    "data[\"line_max_char_len\"] = data[\"synopsis\"].progress_apply(\n",
    "    lambda x: max([len(t) for t in x.split(\"\\n\")]) if x.strip() else 0\n",
    ")"
   ]
  },
  {
   "cell_type": "code",
   "execution_count": 16,
   "id": "e6d30ba1-dd5e-4d12-87d8-c7e54047486c",
   "metadata": {},
   "outputs": [],
   "source": [
    "data[\"sent_char_ratio\"] = [t.sent_total/t.char_total for t in data.itertuples()]\n",
    "data[\"sent_token_ratio\"] = [t.sent_total/t.token_total for t in data.itertuples()]\n",
    "data[\"token_char_ratio\"] = [t.token_total/t.char_total for t in data.itertuples()]\n",
    "data[\"token_sent_ratio\"] = [t.token_total/t.sent_total for t in data.itertuples()]\n",
    "data[\"char_sent_ratio\"] = [t.char_total/t.sent_total for t in data.itertuples()]\n",
    "data[\"char_token_ratio\"] = [t.char_total/t.token_total for t in data.itertuples()]"
   ]
  },
  {
   "cell_type": "code",
   "execution_count": 13,
   "id": "37083f6a-439f-4805-8333-cc2268e8e1c6",
   "metadata": {},
   "outputs": [
    {
     "data": {
      "text/html": [
       "<div>\n",
       "<style scoped>\n",
       "    .dataframe tbody tr th:only-of-type {\n",
       "        vertical-align: middle;\n",
       "    }\n",
       "\n",
       "    .dataframe tbody tr th {\n",
       "        vertical-align: top;\n",
       "    }\n",
       "\n",
       "    .dataframe thead th {\n",
       "        text-align: right;\n",
       "    }\n",
       "</style>\n",
       "<table border=\"1\" class=\"dataframe\">\n",
       "  <thead>\n",
       "    <tr style=\"text-align: right;\">\n",
       "      <th></th>\n",
       "      <th>char_total</th>\n",
       "      <th>token_total</th>\n",
       "      <th>sent_total</th>\n",
       "    </tr>\n",
       "  </thead>\n",
       "  <tbody>\n",
       "    <tr>\n",
       "      <th>count</th>\n",
       "      <td>18374</td>\n",
       "      <td>18374</td>\n",
       "      <td>18374</td>\n",
       "    </tr>\n",
       "    <tr>\n",
       "      <th>mean</th>\n",
       "      <td>519</td>\n",
       "      <td>105</td>\n",
       "      <td>5</td>\n",
       "    </tr>\n",
       "    <tr>\n",
       "      <th>std</th>\n",
       "      <td>348</td>\n",
       "      <td>70</td>\n",
       "      <td>3</td>\n",
       "    </tr>\n",
       "    <tr>\n",
       "      <th>min</th>\n",
       "      <td>1</td>\n",
       "      <td>1</td>\n",
       "      <td>1</td>\n",
       "    </tr>\n",
       "    <tr>\n",
       "      <th>25%</th>\n",
       "      <td>262</td>\n",
       "      <td>53</td>\n",
       "      <td>3</td>\n",
       "    </tr>\n",
       "    <tr>\n",
       "      <th>50%</th>\n",
       "      <td>454</td>\n",
       "      <td>92</td>\n",
       "      <td>5</td>\n",
       "    </tr>\n",
       "    <tr>\n",
       "      <th>75%</th>\n",
       "      <td>700</td>\n",
       "      <td>141</td>\n",
       "      <td>7</td>\n",
       "    </tr>\n",
       "    <tr>\n",
       "      <th>max</th>\n",
       "      <td>5799</td>\n",
       "      <td>1201</td>\n",
       "      <td>79</td>\n",
       "    </tr>\n",
       "  </tbody>\n",
       "</table>\n",
       "</div>"
      ],
      "text/plain": [
       "       char_total  token_total  sent_total\n",
       "count       18374        18374       18374\n",
       "mean          519          105           5\n",
       "std           348           70           3\n",
       "min             1            1           1\n",
       "25%           262           53           3\n",
       "50%           454           92           5\n",
       "75%           700          141           7\n",
       "max          5799         1201          79"
      ]
     },
     "execution_count": 13,
     "metadata": {},
     "output_type": "execute_result"
    }
   ],
   "source": [
    "data.describe().astype(int)"
   ]
  },
  {
   "cell_type": "code",
   "execution_count": 15,
   "id": "a9e2f70f-f979-41fd-9510-cefafa51031d",
   "metadata": {},
   "outputs": [],
   "source": [
    "stats = data.drop(columns=[\"href\", \"synopsis\"]) #.drop(columns=[\"line_max_char_len\"])"
   ]
  },
  {
   "cell_type": "markdown",
   "id": "55b0182b-a22c-4772-a131-4192604d0e1d",
   "metadata": {},
   "source": [
    "# Outlier detection\n",
    "\n",
    "[The svm.OneClassSVM is known to be sensitive to outliers and thus does not perform very well for outlier detection](https://scikit-learn.org/stable/modules/outlier_detection.html#outlier-detection)"
   ]
  },
  {
   "cell_type": "code",
   "execution_count": 16,
   "id": "2ab5f722-23fd-4880-b752-36fa8d209af3",
   "metadata": {},
   "outputs": [],
   "source": [
    "from sklearn.neighbors import LocalOutlierFactor\n",
    "from sklearn.ensemble import IsolationForest"
   ]
  },
  {
   "cell_type": "code",
   "execution_count": 17,
   "id": "8a388991-78ad-47dd-817f-9a3f4ffa0b64",
   "metadata": {},
   "outputs": [],
   "source": [
    "clf = LocalOutlierFactor(n_neighbors=20)\n",
    "preds = clf.fit_predict(stats)\n",
    "\n",
    "data[\"pred\"] = preds\n",
    "data[\"negative_outlier_factor_\"] = clf.negative_outlier_factor_"
   ]
  },
  {
   "cell_type": "code",
   "execution_count": 18,
   "id": "a87341ab-da27-4bce-8fc6-fa15a5ca0cd4",
   "metadata": {},
   "outputs": [],
   "source": [
    "# data[data[\"pred\"] == -1][\"synopsis\"].sample(10).to_list()"
   ]
  },
  {
   "cell_type": "code",
   "execution_count": 19,
   "id": "302950ce-21fe-4f85-97c0-4d1cd14f76a4",
   "metadata": {},
   "outputs": [
    {
     "data": {
      "text/html": [
       "<div>\n",
       "<style scoped>\n",
       "    .dataframe tbody tr th:only-of-type {\n",
       "        vertical-align: middle;\n",
       "    }\n",
       "\n",
       "    .dataframe tbody tr th {\n",
       "        vertical-align: top;\n",
       "    }\n",
       "\n",
       "    .dataframe thead th {\n",
       "        text-align: right;\n",
       "    }\n",
       "</style>\n",
       "<table border=\"1\" class=\"dataframe\">\n",
       "  <thead>\n",
       "    <tr style=\"text-align: right;\">\n",
       "      <th></th>\n",
       "      <th>href</th>\n",
       "      <th>synopsis</th>\n",
       "      <th>pred</th>\n",
       "      <th>negative_outlier_factor_</th>\n",
       "    </tr>\n",
       "  </thead>\n",
       "  <tbody>\n",
       "    <tr>\n",
       "      <th>9387</th>\n",
       "      <td>/56367-test-content-season-4</td>\n",
       "      <td>押イおッ人高ラヘ致24格会ケロヲク放文イメラシ倍極ろぼるけ島判険おが会影のたト床用じフ索手工ふ決39客芝2会促縮繰しー。議づだーめ景能オマ囲索趣こイが車74客芝6交いかへづ談情そゆあん明臨ヲホセサ博位カフク逃転地掘ークゃ年柏沼烈翌け。樹ネエ未著艦ぎう請報ア時阪便テコス学医テニ限物うてを嘉一るなむあ豪権ノマ慢活ーひや頑受やきイょ制団ぴゅめ捕活そクぱ泡死スチメ法乏咋塞墨はラい。\\n扱ドみば質削...</td>\n",
       "      <td>-1</td>\n",
       "      <td>-21.646124</td>\n",
       "    </tr>\n",
       "    <tr>\n",
       "      <th>14223</th>\n",
       "      <td>/41937-2012-big-bang-alive-tour-bigshow</td>\n",
       "      <td>2012 Big Bang Alive Tour: Bigshow\\nnative\\t2012 빅뱅 얼라이브 투어: 빅쇼</td>\n",
       "      <td>-1</td>\n",
       "      <td>-6.901991</td>\n",
       "    </tr>\n",
       "    <tr>\n",
       "      <th>2401</th>\n",
       "      <td>/736603-a-very-lucky-day</td>\n",
       "      <td>~~ Adapted from the webtoon \"Unsuojinnal\" (운수 오진 날) by Aporia (아포리아).</td>\n",
       "      <td>-1</td>\n",
       "      <td>-4.590387</td>\n",
       "    </tr>\n",
       "    <tr>\n",
       "      <th>3938</th>\n",
       "      <td>/733521-blueming-season-2</td>\n",
       "      <td>~~ Adapted from the webtoon \"Who Can Define Popularity?\" (인기는 무언가 잘못되었다?) by Tak Bon (拓本).</td>\n",
       "      <td>-1</td>\n",
       "      <td>-4.459703</td>\n",
       "    </tr>\n",
       "    <tr>\n",
       "      <th>4145</th>\n",
       "      <td>/705589-taxi-driver-2</td>\n",
       "      <td>~~ Adapted from the webtoon \"The Deluxe Taxi\" (모범택시) by Carlos (까를로스) and Keukeu Jae Jin (크크재진).</td>\n",
       "      <td>-1</td>\n",
       "      <td>-4.283625</td>\n",
       "    </tr>\n",
       "    <tr>\n",
       "      <th>13447</th>\n",
       "      <td>/26244-game-not-over</td>\n",
       "      <td>N/A</td>\n",
       "      <td>-1</td>\n",
       "      <td>-3.662925</td>\n",
       "    </tr>\n",
       "    <tr>\n",
       "      <th>18110</th>\n",
       "      <td>/32578-the-dark-lord-season-2</td>\n",
       "      <td>N/A</td>\n",
       "      <td>-1</td>\n",
       "      <td>-3.662925</td>\n",
       "    </tr>\n",
       "    <tr>\n",
       "      <th>18896</th>\n",
       "      <td>/11956-messiah-shikkoku-no-shou</td>\n",
       "      <td>N/A</td>\n",
       "      <td>-1</td>\n",
       "      <td>-3.662925</td>\n",
       "    </tr>\n",
       "    <tr>\n",
       "      <th>9567</th>\n",
       "      <td>/27070-facebook-caf</td>\n",
       "      <td>N/A</td>\n",
       "      <td>-1</td>\n",
       "      <td>-3.662925</td>\n",
       "    </tr>\n",
       "    <tr>\n",
       "      <th>16662</th>\n",
       "      <td>/28099-sword-chaos</td>\n",
       "      <td>N/A</td>\n",
       "      <td>-1</td>\n",
       "      <td>-3.662925</td>\n",
       "    </tr>\n",
       "    <tr>\n",
       "      <th>11721</th>\n",
       "      <td>/14783-sympathy</td>\n",
       "      <td>N/A</td>\n",
       "      <td>-1</td>\n",
       "      <td>-3.662925</td>\n",
       "    </tr>\n",
       "    <tr>\n",
       "      <th>18328</th>\n",
       "      <td>/45883-taima-senki-triple-lancer</td>\n",
       "      <td>N/A</td>\n",
       "      <td>-1</td>\n",
       "      <td>-3.662925</td>\n",
       "    </tr>\n",
       "    <tr>\n",
       "      <th>13349</th>\n",
       "      <td>/24017-wifi-society-the-horror-home</td>\n",
       "      <td>N/A</td>\n",
       "      <td>-1</td>\n",
       "      <td>-3.662925</td>\n",
       "    </tr>\n",
       "    <tr>\n",
       "      <th>19323</th>\n",
       "      <td>/22699-missing-9-special</td>\n",
       "      <td>N/A</td>\n",
       "      <td>-1</td>\n",
       "      <td>-3.662925</td>\n",
       "    </tr>\n",
       "    <tr>\n",
       "      <th>15170</th>\n",
       "      <td>/715315-five-dragons-town</td>\n",
       "      <td>~~Adapted from novel (五龙镇棺传)</td>\n",
       "      <td>-1</td>\n",
       "      <td>-3.410133</td>\n",
       "    </tr>\n",
       "    <tr>\n",
       "      <th>2767</th>\n",
       "      <td>/732243-would-you-like-a-cup-of-coffee</td>\n",
       "      <td>~~ Adapted from the manhwa \"How About a Cup of Coffee?\" (커피 한잔 할까요?) written by Huh Young Man (허영만) and Lee Ho Joon (이호준) and illustrated by Huh Young Man (허영만).</td>\n",
       "      <td>-1</td>\n",
       "      <td>-3.315405</td>\n",
       "    </tr>\n",
       "    <tr>\n",
       "      <th>18571</th>\n",
       "      <td>/737591-heart-is-beating</td>\n",
       "      <td>~~ Adapted from the manhwa \"Simjangi Ttwinda\" (심장이 뛴다) by Park In Kwon (박인권).</td>\n",
       "      <td>-1</td>\n",
       "      <td>-3.221940</td>\n",
       "    </tr>\n",
       "    <tr>\n",
       "      <th>2771</th>\n",
       "      <td>/743233-bump-up-business</td>\n",
       "      <td>~~ Adapted from the webtoon \"Bump Up Business\" (범프 업 비즈니스) by RK Studio.</td>\n",
       "      <td>-1</td>\n",
       "      <td>-3.172168</td>\n",
       "    </tr>\n",
       "    <tr>\n",
       "      <th>3767</th>\n",
       "      <td>/737445-happiness-battle</td>\n",
       "      <td>~~ Adapted from the novel \"Haengbokbaeteul\" (행복배틀) by Joo Young Ha (주영하).</td>\n",
       "      <td>-1</td>\n",
       "      <td>-3.135364</td>\n",
       "    </tr>\n",
       "    <tr>\n",
       "      <th>16056</th>\n",
       "      <td>/12266-joshikou-keisatsu</td>\n",
       "      <td>-</td>\n",
       "      <td>-1</td>\n",
       "      <td>-3.063324</td>\n",
       "    </tr>\n",
       "    <tr>\n",
       "      <th>18061</th>\n",
       "      <td>/59645-monsta-x-amigo-tv-season-1</td>\n",
       "      <td>.</td>\n",
       "      <td>-1</td>\n",
       "      <td>-2.979326</td>\n",
       "    </tr>\n",
       "    <tr>\n",
       "      <th>19248</th>\n",
       "      <td>/11085-the-inspector-wear-skirts-iv</td>\n",
       "      <td>.</td>\n",
       "      <td>-1</td>\n",
       "      <td>-2.979326</td>\n",
       "    </tr>\n",
       "    <tr>\n",
       "      <th>17837</th>\n",
       "      <td>/4895-uniform-survigirl-i</td>\n",
       "      <td>.</td>\n",
       "      <td>-1</td>\n",
       "      <td>-2.979326</td>\n",
       "    </tr>\n",
       "    <tr>\n",
       "      <th>19338</th>\n",
       "      <td>/14347-inside-architecture-a-challenge-to-japanese-society</td>\n",
       "      <td>.</td>\n",
       "      <td>-1</td>\n",
       "      <td>-2.979326</td>\n",
       "    </tr>\n",
       "    <tr>\n",
       "      <th>17836</th>\n",
       "      <td>/4896-uniform-survigirl-ii</td>\n",
       "      <td>.</td>\n",
       "      <td>-1</td>\n",
       "      <td>-2.979326</td>\n",
       "    </tr>\n",
       "    <tr>\n",
       "      <th>14626</th>\n",
       "      <td>/16509-webtoon-hero-tundra-show-season-2</td>\n",
       "      <td>This drama is divided in 2 stories: \"The Texts of the Joseon Dynasty Season 2\" (조선왕조실톡 시즌2) and \"Flower Family\" (꽃가족).</td>\n",
       "      <td>-1</td>\n",
       "      <td>-2.943876</td>\n",
       "    </tr>\n",
       "    <tr>\n",
       "      <th>12295</th>\n",
       "      <td>/75439-seventeen-in-carat-land</td>\n",
       "      <td>2020 SVT 4th Fanmeeting \"SEVENTEEN IN CARAT LAND\".</td>\n",
       "      <td>-1</td>\n",
       "      <td>-2.820691</td>\n",
       "    </tr>\n",
       "    <tr>\n",
       "      <th>14367</th>\n",
       "      <td>/21378-forever-young-2</td>\n",
       "      <td>NA</td>\n",
       "      <td>-1</td>\n",
       "      <td>-2.803861</td>\n",
       "    </tr>\n",
       "    <tr>\n",
       "      <th>7527</th>\n",
       "      <td>/49797-my-precious</td>\n",
       "      <td>~~ Adapted from the novel \"The Girl We Chased Together in Those Years\" (那些年，我們一起追的女孩) by Jiu Ba Dao (九把刀).</td>\n",
       "      <td>-1</td>\n",
       "      <td>-2.178935</td>\n",
       "    </tr>\n",
       "    <tr>\n",
       "      <th>11003</th>\n",
       "      <td>/692525-jinpai-kefu-dong-dong-en</td>\n",
       "      <td>~~ Adapted from the novel \"Jin Pai Ke Fu Dong Dong En\" (金牌客服董董恩) by Bu Yi Ma Qi (布衣麻七).</td>\n",
       "      <td>-1</td>\n",
       "      <td>-1.667393</td>\n",
       "    </tr>\n",
       "    <tr>\n",
       "      <th>6563</th>\n",
       "      <td>/718883-tmi-show</td>\n",
       "      <td>As of episode 13, TMI SHOW rebranded to TMI NEWS SHOW.</td>\n",
       "      <td>-1</td>\n",
       "      <td>-1.630194</td>\n",
       "    </tr>\n",
       "    <tr>\n",
       "      <th>1977</th>\n",
       "      <td>/731965-the-goryeo-khitan-war</td>\n",
       "      <td>KBS' 34th Daeha Drama. To be broadcast in late 2023.</td>\n",
       "      <td>-1</td>\n",
       "      <td>-1.544187</td>\n",
       "    </tr>\n",
       "  </tbody>\n",
       "</table>\n",
       "</div>"
      ],
      "text/plain": [
       "                                                             href  \\\n",
       "9387                                 /56367-test-content-season-4   \n",
       "14223                     /41937-2012-big-bang-alive-tour-bigshow   \n",
       "2401                                     /736603-a-very-lucky-day   \n",
       "3938                                    /733521-blueming-season-2   \n",
       "4145                                        /705589-taxi-driver-2   \n",
       "13447                                        /26244-game-not-over   \n",
       "18110                               /32578-the-dark-lord-season-2   \n",
       "18896                             /11956-messiah-shikkoku-no-shou   \n",
       "9567                                          /27070-facebook-caf   \n",
       "16662                                          /28099-sword-chaos   \n",
       "11721                                             /14783-sympathy   \n",
       "18328                            /45883-taima-senki-triple-lancer   \n",
       "13349                         /24017-wifi-society-the-horror-home   \n",
       "19323                                    /22699-missing-9-special   \n",
       "15170                                   /715315-five-dragons-town   \n",
       "2767                       /732243-would-you-like-a-cup-of-coffee   \n",
       "18571                                    /737591-heart-is-beating   \n",
       "2771                                     /743233-bump-up-business   \n",
       "3767                                     /737445-happiness-battle   \n",
       "16056                                    /12266-joshikou-keisatsu   \n",
       "18061                           /59645-monsta-x-amigo-tv-season-1   \n",
       "19248                         /11085-the-inspector-wear-skirts-iv   \n",
       "17837                                   /4895-uniform-survigirl-i   \n",
       "19338  /14347-inside-architecture-a-challenge-to-japanese-society   \n",
       "17836                                  /4896-uniform-survigirl-ii   \n",
       "14626                    /16509-webtoon-hero-tundra-show-season-2   \n",
       "12295                              /75439-seventeen-in-carat-land   \n",
       "14367                                      /21378-forever-young-2   \n",
       "7527                                           /49797-my-precious   \n",
       "11003                            /692525-jinpai-kefu-dong-dong-en   \n",
       "6563                                             /718883-tmi-show   \n",
       "1977                                /731965-the-goryeo-khitan-war   \n",
       "\n",
       "                                                                                                                                                                                                      synopsis  \\\n",
       "9387   押イおッ人高ラヘ致24格会ケロヲク放文イメラシ倍極ろぼるけ島判険おが会影のたト床用じフ索手工ふ決39客芝2会促縮繰しー。議づだーめ景能オマ囲索趣こイが車74客芝6交いかへづ談情そゆあん明臨ヲホセサ博位カフク逃転地掘ークゃ年柏沼烈翌け。樹ネエ未著艦ぎう請報ア時阪便テコス学医テニ限物うてを嘉一るなむあ豪権ノマ慢活ーひや頑受やきイょ制団ぴゅめ捕活そクぱ泡死スチメ法乏咋塞墨はラい。\\n扱ドみば質削...   \n",
       "14223                                                                                                                                           2012 Big Bang Alive Tour: Bigshow\\nnative\\t2012 빅뱅 얼라이브 투어: 빅쇼   \n",
       "2401                                                                                                                                     ~~ Adapted from the webtoon \"Unsuojinnal\" (운수 오진 날) by Aporia (아포리아).   \n",
       "3938                                                                                                                ~~ Adapted from the webtoon \"Who Can Define Popularity?\" (인기는 무언가 잘못되었다?) by Tak Bon (拓本).   \n",
       "4145                                                                                                          ~~ Adapted from the webtoon \"The Deluxe Taxi\" (모범택시) by Carlos (까를로스) and Keukeu Jae Jin (크크재진).   \n",
       "13447                                                                                                                                                                                                      N/A   \n",
       "18110                                                                                                                                                                                                      N/A   \n",
       "18896                                                                                                                                                                                                      N/A   \n",
       "9567                                                                                                                                                                                                       N/A   \n",
       "16662                                                                                                                                                                                                      N/A   \n",
       "11721                                                                                                                                                                                                      N/A   \n",
       "18328                                                                                                                                                                                                      N/A   \n",
       "13349                                                                                                                                                                                                      N/A   \n",
       "19323                                                                                                                                                                                                      N/A   \n",
       "15170                                                                                                                                                                             ~~Adapted from novel (五龙镇棺传)   \n",
       "2767                                         ~~ Adapted from the manhwa \"How About a Cup of Coffee?\" (커피 한잔 할까요?) written by Huh Young Man (허영만) and Lee Ho Joon (이호준) and illustrated by Huh Young Man (허영만).   \n",
       "18571                                                                                                                            ~~ Adapted from the manhwa \"Simjangi Ttwinda\" (심장이 뛴다) by Park In Kwon (박인권).   \n",
       "2771                                                                                                                                  ~~ Adapted from the webtoon \"Bump Up Business\" (범프 업 비즈니스) by RK Studio.   \n",
       "3767                                                                                                                                 ~~ Adapted from the novel \"Haengbokbaeteul\" (행복배틀) by Joo Young Ha (주영하).   \n",
       "16056                                                                                                                                                                                                        -   \n",
       "18061                                                                                                                                                                                                        .   \n",
       "19248                                                                                                                                                                                                        .   \n",
       "17837                                                                                                                                                                                                        .   \n",
       "19338                                                                                                                                                                                                        .   \n",
       "17836                                                                                                                                                                                                        .   \n",
       "14626                                                                                   This drama is divided in 2 stories: \"The Texts of the Joseon Dynasty Season 2\" (조선왕조실톡 시즌2) and \"Flower Family\" (꽃가족).   \n",
       "12295                                                                                                                                                       2020 SVT 4th Fanmeeting \"SEVENTEEN IN CARAT LAND\".   \n",
       "14367                                                                                                                                                                                                       NA   \n",
       "7527                                                                                                ~~ Adapted from the novel \"The Girl We Chased Together in Those Years\" (那些年，我們一起追的女孩) by Jiu Ba Dao (九把刀).   \n",
       "11003                                                                                                                  ~~ Adapted from the novel \"Jin Pai Ke Fu Dong Dong En\" (金牌客服董董恩) by Bu Yi Ma Qi (布衣麻七).   \n",
       "6563                                                                                                                                                    As of episode 13, TMI SHOW rebranded to TMI NEWS SHOW.   \n",
       "1977                                                                                                                                                      KBS' 34th Daeha Drama. To be broadcast in late 2023.   \n",
       "\n",
       "       pred  negative_outlier_factor_  \n",
       "9387     -1                -21.646124  \n",
       "14223    -1                 -6.901991  \n",
       "2401     -1                 -4.590387  \n",
       "3938     -1                 -4.459703  \n",
       "4145     -1                 -4.283625  \n",
       "13447    -1                 -3.662925  \n",
       "18110    -1                 -3.662925  \n",
       "18896    -1                 -3.662925  \n",
       "9567     -1                 -3.662925  \n",
       "16662    -1                 -3.662925  \n",
       "11721    -1                 -3.662925  \n",
       "18328    -1                 -3.662925  \n",
       "13349    -1                 -3.662925  \n",
       "19323    -1                 -3.662925  \n",
       "15170    -1                 -3.410133  \n",
       "2767     -1                 -3.315405  \n",
       "18571    -1                 -3.221940  \n",
       "2771     -1                 -3.172168  \n",
       "3767     -1                 -3.135364  \n",
       "16056    -1                 -3.063324  \n",
       "18061    -1                 -2.979326  \n",
       "19248    -1                 -2.979326  \n",
       "17837    -1                 -2.979326  \n",
       "19338    -1                 -2.979326  \n",
       "17836    -1                 -2.979326  \n",
       "14626    -1                 -2.943876  \n",
       "12295    -1                 -2.820691  \n",
       "14367    -1                 -2.803861  \n",
       "7527     -1                 -2.178935  \n",
       "11003    -1                 -1.667393  \n",
       "6563     -1                 -1.630194  \n",
       "1977     -1                 -1.544187  "
      ]
     },
     "execution_count": 19,
     "metadata": {},
     "output_type": "execute_result"
    }
   ],
   "source": [
    "data[data[\"pred\"] == -1].sort_values(by=\"negative_outlier_factor_\"\n",
    "                                    )[['href', 'synopsis', 'pred', 'negative_outlier_factor_']].head(40)"
   ]
  },
  {
   "cell_type": "code",
   "execution_count": null,
   "id": "539cf98d-4ae4-4f30-9876-1d6cc4e00a2d",
   "metadata": {},
   "outputs": [],
   "source": []
  }
 ],
 "metadata": {
  "kernelspec": {
   "display_name": "Python 3 (ipykernel)",
   "language": "python",
   "name": "python3"
  },
  "language_info": {
   "codemirror_mode": {
    "name": "ipython",
    "version": 3
   },
   "file_extension": ".py",
   "mimetype": "text/x-python",
   "name": "python",
   "nbconvert_exporter": "python",
   "pygments_lexer": "ipython3",
   "version": "3.10.5"
  }
 },
 "nbformat": 4,
 "nbformat_minor": 5
}
