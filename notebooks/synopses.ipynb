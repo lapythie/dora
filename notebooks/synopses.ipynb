{
 "cells": [
  {
   "cell_type": "code",
   "execution_count": 1,
   "id": "d7097d5b-d5e1-4f0b-a89e-6ba028d1279a",
   "metadata": {},
   "outputs": [],
   "source": [
    "from bs4 import BeautifulSoup\n",
    "from collections import Counter, defaultdict\n",
    "import json\n",
    "from tqdm import tqdm"
   ]
  },
  {
   "cell_type": "code",
   "execution_count": 20,
   "id": "9886b7d0-5cfe-4686-b1bf-fc9274177d85",
   "metadata": {},
   "outputs": [],
   "source": [
    "with open(\"data/href2dramapage.json\", encoding=\"utf-8\") as f:\n",
    "    href2dramapage = json.load(f)"
   ]
  },
  {
   "cell_type": "code",
   "execution_count": null,
   "id": "a093aff9-8b50-4c5d-aaa5-e325ecbf4840",
   "metadata": {},
   "outputs": [
    {
     "name": "stderr",
     "output_type": "stream",
     "text": [
      " 15%|███████████▍                                                                 | 2891/19462 [04:41<34:52,  7.92it/s]"
     ]
    }
   ],
   "source": [
    "# href2synopsis = {}\n",
    "\n",
    "for href, page in tqdm(href2dramapage.items()):\n",
    "    if href not in href2synopsis:\n",
    "        \n",
    "        soup = BeautifulSoup(page)\n",
    "        \n",
    "        for el in soup.find_all(\"a\", {\"class\": \"text-primary\"}):\n",
    "            el.decompose()\n",
    "        for el in soup.find_all(\"ul\", {\"class\": \"mdl-synopsis-languages\"}):\n",
    "            el.decompose()\n",
    "        \n",
    "        synopses = soup.find_all(\"div\", {\"class\": \"show-synopsis\"})\n",
    "        \n",
    "        if synopses:\n",
    "            \n",
    "            assert len(synopses) == 1\n",
    "\n",
    "            href2synopsis[href] = synopses[0].get_text().strip()"
   ]
  },
  {
   "cell_type": "code",
   "execution_count": 22,
   "id": "4713b65e-73f3-4516-a20b-461570d52248",
   "metadata": {},
   "outputs": [
    {
     "data": {
      "text/plain": [
       "{'/710067-maiagare': 'Iwakura Mai lives with her parents Kota and Megumi and older brother Haruto. Her father Kota runs a small factory in Higashi Osaka, a district that is known for its craftsmen. Mai is shy and withdrawn. But when she visits her grandmother Shoko who lives on Nagasaki’s Goto Islands which has a rich natural environment, she is entranced by the Baramon kites that catch the wind and soar high in the sky. Wanting to fly high in the sky like these kites, Mai’s longing swells into a dream to become a pilot. Even though she works hard, the path to getting there is tougher than she had imagined. As Mai deepens her ties with the people living in her two hometowns of Higashi Osaka and Goto, her dream eventually takes a new form. She gathers enthusiastic friends to build a small electric plane that can fly to and from the islands. Her dream becomes a wing that carries everyone’s dreams and takes off.\\n\\n(Source: jdrama.wordpress)'}"
      ]
     },
     "execution_count": 22,
     "metadata": {},
     "output_type": "execute_result"
    }
   ],
   "source": [
    "href2synopsis"
   ]
  },
  {
   "cell_type": "code",
   "execution_count": 24,
   "id": "fa8e6153-339a-4c56-82f9-0aa45e50d32d",
   "metadata": {},
   "outputs": [
    {
     "data": {
      "text/plain": [
       "[]"
      ]
     },
     "execution_count": 24,
     "metadata": {},
     "output_type": "execute_result"
    }
   ],
   "source": [
    "synopses"
   ]
  },
  {
   "cell_type": "code",
   "execution_count": 25,
   "id": "bbf44fd9-4c7a-42b0-89e2-93b70f090e61",
   "metadata": {},
   "outputs": [
    {
     "data": {
      "text/plain": [
       "'/697659-big-mouth'"
      ]
     },
     "execution_count": 25,
     "metadata": {},
     "output_type": "execute_result"
    }
   ],
   "source": [
    "href"
   ]
  },
  {
   "cell_type": "code",
   "execution_count": null,
   "id": "18dbc0a0-98bc-4960-9f5e-d34ed9ac5b33",
   "metadata": {},
   "outputs": [],
   "source": []
  }
 ],
 "metadata": {
  "kernelspec": {
   "display_name": "Python 3 (ipykernel)",
   "language": "python",
   "name": "python3"
  },
  "language_info": {
   "codemirror_mode": {
    "name": "ipython",
    "version": 3
   },
   "file_extension": ".py",
   "mimetype": "text/x-python",
   "name": "python",
   "nbconvert_exporter": "python",
   "pygments_lexer": "ipython3",
   "version": "3.10.5"
  }
 },
 "nbformat": 4,
 "nbformat_minor": 5
}
