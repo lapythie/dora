{
 "cells": [
  {
   "cell_type": "code",
   "execution_count": 25,
   "id": "78ff8982-ac6e-4976-9655-42c2b3c55118",
   "metadata": {},
   "outputs": [],
   "source": [
    "import json\n",
    "import numpy as np\n",
    "import pandas as pd\n",
    "from collections import Counter\n",
    "\n",
    "from nltk import word_tokenize, sent_tokenize\n",
    "\n",
    "from tqdm.auto import tqdm\n",
    "tqdm.pandas()\n",
    "\n",
    "pd.set_option('display.max_colwidth', 200)"
   ]
  },
  {
   "cell_type": "code",
   "execution_count": 2,
   "id": "161b4803-4e64-40ac-b3e5-5cca5b8922df",
   "metadata": {},
   "outputs": [],
   "source": [
    "with open(\"../data/href2synopsis.json\", encoding=\"utf-8\") as f:\n",
    "    href2synopsis = json.load(f)"
   ]
  },
  {
   "cell_type": "markdown",
   "id": "8a2190a7-a0b1-46ea-b8cb-9e995fd1ff91",
   "metadata": {},
   "source": [
    "# BOW stats"
   ]
  },
  {
   "cell_type": "code",
   "execution_count": 15,
   "id": "05b12d69-ed5e-456b-a366-7de2226a5796",
   "metadata": {},
   "outputs": [],
   "source": [
    "data = pd.DataFrame()\n",
    "\n",
    "data[\"href\"] = href2synopsis.keys()\n",
    "data[\"synopsis\"] = href2synopsis.values()"
   ]
  },
  {
   "cell_type": "code",
   "execution_count": 16,
   "id": "2b001110-3de6-47f6-819b-0fa70adfedb1",
   "metadata": {},
   "outputs": [
    {
     "data": {
      "application/json": {
       "ascii": false,
       "bar_format": null,
       "colour": null,
       "elapsed": 0.04607796669006348,
       "initial": 0,
       "n": 0,
       "ncols": null,
       "nrows": 31,
       "postfix": null,
       "prefix": "",
       "rate": null,
       "total": 19393,
       "unit": "it",
       "unit_divisor": 1000,
       "unit_scale": false
      },
      "application/vnd.jupyter.widget-view+json": {
       "model_id": "b1717f4f462b41aa9d31135838299ede",
       "version_major": 2,
       "version_minor": 0
      },
      "text/plain": [
       "  0%|          | 0/19393 [00:00<?, ?it/s]"
      ]
     },
     "metadata": {},
     "output_type": "display_data"
    },
    {
     "data": {
      "application/json": {
       "ascii": false,
       "bar_format": null,
       "colour": null,
       "elapsed": 0.02944636344909668,
       "initial": 0,
       "n": 0,
       "ncols": null,
       "nrows": 31,
       "postfix": null,
       "prefix": "",
       "rate": null,
       "total": 19393,
       "unit": "it",
       "unit_divisor": 1000,
       "unit_scale": false
      },
      "application/vnd.jupyter.widget-view+json": {
       "model_id": "23b7c855eb5b4d1285a4881f4c8e4a4e",
       "version_major": 2,
       "version_minor": 0
      },
      "text/plain": [
       "  0%|          | 0/19393 [00:00<?, ?it/s]"
      ]
     },
     "metadata": {},
     "output_type": "display_data"
    },
    {
     "data": {
      "application/json": {
       "ascii": false,
       "bar_format": null,
       "colour": null,
       "elapsed": 0.042208194732666016,
       "initial": 0,
       "n": 0,
       "ncols": null,
       "nrows": 31,
       "postfix": null,
       "prefix": "",
       "rate": null,
       "total": 19393,
       "unit": "it",
       "unit_divisor": 1000,
       "unit_scale": false
      },
      "application/vnd.jupyter.widget-view+json": {
       "model_id": "86337947bf584736b9c2c1820029377d",
       "version_major": 2,
       "version_minor": 0
      },
      "text/plain": [
       "  0%|          | 0/19393 [00:00<?, ?it/s]"
      ]
     },
     "metadata": {},
     "output_type": "display_data"
    }
   ],
   "source": [
    "data[\"char_total\"] = data[\"synopsis\"].progress_apply(len)\n",
    "data[\"token_total\"] = data[\"synopsis\"].progress_apply(lambda x: len(word_tokenize(x)))\n",
    "data[\"sent_total\"] = data[\"synopsis\"].progress_apply(lambda x: len(sent_tokenize(x)))"
   ]
  },
  {
   "cell_type": "code",
   "execution_count": 27,
   "id": "ecf37e02-fcb7-415d-9bb2-5ef90e7e964f",
   "metadata": {},
   "outputs": [
    {
     "data": {
      "application/json": {
       "ascii": false,
       "bar_format": null,
       "colour": null,
       "elapsed": 0.029372453689575195,
       "initial": 0,
       "n": 0,
       "ncols": null,
       "nrows": 31,
       "postfix": null,
       "prefix": "",
       "rate": null,
       "total": 19393,
       "unit": "it",
       "unit_divisor": 1000,
       "unit_scale": false
      },
      "application/vnd.jupyter.widget-view+json": {
       "model_id": "702511647edf426d9f15c117f07c1693",
       "version_major": 2,
       "version_minor": 0
      },
      "text/plain": [
       "  0%|          | 0/19393 [00:00<?, ?it/s]"
      ]
     },
     "metadata": {},
     "output_type": "display_data"
    }
   ],
   "source": [
    "data[\"lines_total\"] = data[\"synopsis\"].progress_apply(lambda x: len(x.split(\"\\n\")))"
   ]
  },
  {
   "cell_type": "code",
   "execution_count": 32,
   "id": "7bfe7015-9c56-4eff-af20-1559fb2a9e87",
   "metadata": {},
   "outputs": [
    {
     "data": {
      "application/json": {
       "ascii": false,
       "bar_format": null,
       "colour": null,
       "elapsed": 0.03201723098754883,
       "initial": 0,
       "n": 0,
       "ncols": null,
       "nrows": 31,
       "postfix": null,
       "prefix": "",
       "rate": null,
       "total": 19393,
       "unit": "it",
       "unit_divisor": 1000,
       "unit_scale": false
      },
      "application/vnd.jupyter.widget-view+json": {
       "model_id": "74033630989548caa597061cde3c1aff",
       "version_major": 2,
       "version_minor": 0
      },
      "text/plain": [
       "  0%|          | 0/19393 [00:00<?, ?it/s]"
      ]
     },
     "metadata": {},
     "output_type": "display_data"
    },
    {
     "data": {
      "application/json": {
       "ascii": false,
       "bar_format": null,
       "colour": null,
       "elapsed": 0.03320574760437012,
       "initial": 0,
       "n": 0,
       "ncols": null,
       "nrows": 31,
       "postfix": null,
       "prefix": "",
       "rate": null,
       "total": 19393,
       "unit": "it",
       "unit_divisor": 1000,
       "unit_scale": false
      },
      "application/vnd.jupyter.widget-view+json": {
       "model_id": "a3c751efe00e4469931004fc13d07c09",
       "version_major": 2,
       "version_minor": 0
      },
      "text/plain": [
       "  0%|          | 0/19393 [00:00<?, ?it/s]"
      ]
     },
     "metadata": {},
     "output_type": "display_data"
    }
   ],
   "source": [
    "data[\"token_max_char_len\"] = data[\"synopsis\"].progress_apply(\n",
    "    lambda x: max([len(t) for t in word_tokenize(x)]) if x.strip() else 0\n",
    ")\n",
    "\n",
    "data[\"sent_max_char_len\"] = data[\"synopsis\"].progress_apply(\n",
    "    lambda x: max([len(t) for t in sent_tokenize(x)]) if x.strip() else 0\n",
    ")"
   ]
  },
  {
   "cell_type": "code",
   "execution_count": 33,
   "id": "37083f6a-439f-4805-8333-cc2268e8e1c6",
   "metadata": {},
   "outputs": [
    {
     "data": {
      "text/html": [
       "<div>\n",
       "<style scoped>\n",
       "    .dataframe tbody tr th:only-of-type {\n",
       "        vertical-align: middle;\n",
       "    }\n",
       "\n",
       "    .dataframe tbody tr th {\n",
       "        vertical-align: top;\n",
       "    }\n",
       "\n",
       "    .dataframe thead th {\n",
       "        text-align: right;\n",
       "    }\n",
       "</style>\n",
       "<table border=\"1\" class=\"dataframe\">\n",
       "  <thead>\n",
       "    <tr style=\"text-align: right;\">\n",
       "      <th></th>\n",
       "      <th>char_total</th>\n",
       "      <th>token_total</th>\n",
       "      <th>sent_total</th>\n",
       "      <th>pred</th>\n",
       "      <th>token_max_char_len</th>\n",
       "      <th>sent_max_char_len</th>\n",
       "      <th>lines_total</th>\n",
       "    </tr>\n",
       "  </thead>\n",
       "  <tbody>\n",
       "    <tr>\n",
       "      <th>count</th>\n",
       "      <td>19393</td>\n",
       "      <td>19393</td>\n",
       "      <td>19393</td>\n",
       "      <td>19393</td>\n",
       "      <td>19393</td>\n",
       "      <td>19393</td>\n",
       "      <td>19393</td>\n",
       "    </tr>\n",
       "    <tr>\n",
       "      <th>mean</th>\n",
       "      <td>493</td>\n",
       "      <td>99</td>\n",
       "      <td>4</td>\n",
       "      <td>0</td>\n",
       "      <td>11</td>\n",
       "      <td>149</td>\n",
       "      <td>2</td>\n",
       "    </tr>\n",
       "    <tr>\n",
       "      <th>std</th>\n",
       "      <td>359</td>\n",
       "      <td>72</td>\n",
       "      <td>3</td>\n",
       "      <td>0</td>\n",
       "      <td>3</td>\n",
       "      <td>69</td>\n",
       "      <td>2</td>\n",
       "    </tr>\n",
       "    <tr>\n",
       "      <th>min</th>\n",
       "      <td>0</td>\n",
       "      <td>0</td>\n",
       "      <td>0</td>\n",
       "      <td>-1</td>\n",
       "      <td>0</td>\n",
       "      <td>0</td>\n",
       "      <td>1</td>\n",
       "    </tr>\n",
       "    <tr>\n",
       "      <th>25%</th>\n",
       "      <td>233</td>\n",
       "      <td>46</td>\n",
       "      <td>2</td>\n",
       "      <td>1</td>\n",
       "      <td>11</td>\n",
       "      <td>112</td>\n",
       "      <td>1</td>\n",
       "    </tr>\n",
       "    <tr>\n",
       "      <th>50%</th>\n",
       "      <td>433</td>\n",
       "      <td>87</td>\n",
       "      <td>4</td>\n",
       "      <td>1</td>\n",
       "      <td>12</td>\n",
       "      <td>147</td>\n",
       "      <td>3</td>\n",
       "    </tr>\n",
       "    <tr>\n",
       "      <th>75%</th>\n",
       "      <td>683</td>\n",
       "      <td>138</td>\n",
       "      <td>7</td>\n",
       "      <td>1</td>\n",
       "      <td>13</td>\n",
       "      <td>185</td>\n",
       "      <td>4</td>\n",
       "    </tr>\n",
       "    <tr>\n",
       "      <th>max</th>\n",
       "      <td>5804</td>\n",
       "      <td>1201</td>\n",
       "      <td>75</td>\n",
       "      <td>1</td>\n",
       "      <td>188</td>\n",
       "      <td>1701</td>\n",
       "      <td>42</td>\n",
       "    </tr>\n",
       "  </tbody>\n",
       "</table>\n",
       "</div>"
      ],
      "text/plain": [
       "       char_total  token_total  sent_total   pred  token_max_char_len  \\\n",
       "count       19393        19393       19393  19393               19393   \n",
       "mean          493           99           4      0                  11   \n",
       "std           359           72           3      0                   3   \n",
       "min             0            0           0     -1                   0   \n",
       "25%           233           46           2      1                  11   \n",
       "50%           433           87           4      1                  12   \n",
       "75%           683          138           7      1                  13   \n",
       "max          5804         1201          75      1                 188   \n",
       "\n",
       "       sent_max_char_len  lines_total  \n",
       "count              19393        19393  \n",
       "mean                 149            2  \n",
       "std                   69            2  \n",
       "min                    0            1  \n",
       "25%                  112            1  \n",
       "50%                  147            3  \n",
       "75%                  185            4  \n",
       "max                 1701           42  "
      ]
     },
     "execution_count": 33,
     "metadata": {},
     "output_type": "execute_result"
    }
   ],
   "source": [
    "data.describe().astype(int)"
   ]
  },
  {
   "cell_type": "code",
   "execution_count": 36,
   "id": "a9e2f70f-f979-41fd-9510-cefafa51031d",
   "metadata": {},
   "outputs": [],
   "source": [
    "stats = data.drop(columns=[\"href\", \"synopsis\"])"
   ]
  },
  {
   "cell_type": "markdown",
   "id": "55b0182b-a22c-4772-a131-4192604d0e1d",
   "metadata": {},
   "source": [
    "# Outlier detection\n",
    "\n",
    "[The svm.OneClassSVM is known to be sensitive to outliers and thus does not perform very well for outlier detection](https://scikit-learn.org/stable/modules/outlier_detection.html#outlier-detection)"
   ]
  },
  {
   "cell_type": "code",
   "execution_count": 37,
   "id": "2ab5f722-23fd-4880-b752-36fa8d209af3",
   "metadata": {},
   "outputs": [],
   "source": [
    "from sklearn.neighbors import LocalOutlierFactor\n",
    "from sklearn.ensemble import IsolationForest"
   ]
  },
  {
   "cell_type": "code",
   "execution_count": 41,
   "id": "8a388991-78ad-47dd-817f-9a3f4ffa0b64",
   "metadata": {},
   "outputs": [],
   "source": [
    "clf = LocalOutlierFactor(n_neighbors=20)\n",
    "preds = clf.fit_predict(stats)\n",
    "# clf.negative_outlier_factor_\n",
    "data[\"pred\"] = preds\n",
    "data[\"negative_outlier_factor_\"] = clf.negative_outlier_factor_"
   ]
  },
  {
   "cell_type": "code",
   "execution_count": 12,
   "id": "a87341ab-da27-4bce-8fc6-fa15a5ca0cd4",
   "metadata": {},
   "outputs": [],
   "source": [
    "# data[data[\"pred\"] == -1][\"synopsis\"].sample(10).to_list()"
   ]
  },
  {
   "cell_type": "code",
   "execution_count": null,
   "id": "b849eec6-90d7-40b9-aec6-a3462361221d",
   "metadata": {},
   "outputs": [],
   "source": []
  },
  {
   "cell_type": "code",
   "execution_count": 49,
   "id": "302950ce-21fe-4f85-97c0-4d1cd14f76a4",
   "metadata": {},
   "outputs": [
    {
     "data": {
      "text/plain": [
       "['.',\n",
       " '.',\n",
       " '-',\n",
       " '.',\n",
       " '.',\n",
       " '.',\n",
       " 'N/A',\n",
       " 'N/A',\n",
       " 'N/A',\n",
       " 'N/A',\n",
       " 'N/A',\n",
       " 'N/A',\n",
       " 'N/A',\n",
       " 'N/A',\n",
       " 'N/A',\n",
       " 'NA',\n",
       " '押イおッ人高ラヘ致24格会ケロヲク放文イメラシ倍極ろぼるけ島判険おが会影のたト床用じフ索手工ふ決39客芝2会促縮繰しー。議づだーめ景能オマ囲索趣こイが車74客芝6交いかへづ談情そゆあん明臨ヲホセサ博位カフク逃転地掘ークゃ年柏沼烈翌け。樹ネエ未著艦ぎう請報ア時阪便テコス学医テニ限物うてを嘉一るなむあ豪権ノマ慢活ーひや頑受やきイょ制団ぴゅめ捕活そクぱ泡死スチメ法乏咋塞墨はラい。\\n\\n扱ドみば質削ぶな中説ケラリ田斉ロカシ月己もむトみ民合変が康6務的何名歳ツス節5断ヘカヌ食芸に長算却ぱむ。変テヲフヱ格漢せッ鳥日ロオ応留サ面医てゆりル投写ぴいだな交委チツテミ変田むルど平生トフ出安じめきる込候96坊訴テヤハ台動ヨワ礎府トと給工ぼめ軒賞そなも明軽アニモウ喬1親がぐめさ。\\n\\n稿あン批政セホ表会書ロチム紙景びたぜ業7都オヤハク媛格せごぶ断売ドれびげ測記果ス育変だた綿問いにぼ更年ぎルち問表こんだン禁7報王のねスが点53賀みなびそ。演こ医路紗フモイア自擬はぱお伊月へそ女一を祝観まよゃょ社健ナヨイ含歩児ハキトノ石記ろへ億狙円録フサニ雰聞イエ能人テノイメ夜56待ニ管思ヤ断輸ア大井計さッきあ。\\n\\n特サヨ京慎オヤツ治疑づんみリ東今れぴリフ優給すぜご問測ぞ覚1大さぞず掲犯ぴびちあ保幕チツモ能理横2科光っゆゃょ。発クホキ制日ヒ聴6透ユ財焼アヨム題渡政後ユ車分ルシ立開べ強橋はふご都29人血キホソ味殺うるイえ。読きりょ禁指ッねしゅ原実ざス情改さぜぎ計高タ国和とげほ予岸ト物索惑えず図根っぽつ被能遊案メス護好さこ代初ヒユセホ山各こたづむ本情わ久42前襲ヱ経下相らりづゃ。\\n\\n東おゃはぱ更部イッリ予応ぎば舞約的20改働り増弱ロト陸請オ高祖ゆー載供ホユロ毎校やただべ養更イぐ後票エテ申本セルスメ訓党そうぱ京更ノム聞仰巣はん。官さほぱル木用ゅろぐ関暮る真権ナメタネ事残ソヘトテ注自えくみ新代近ユ田亡げゅほ県提じ身89前ラツロ曲夜何じ。量毎4睡モハイホ量文齢士モノカ下67響イ今大ク上芸き文部ホテイ健手たぶ法査タロカ目込らじ南37乏咋ばどーざ。\\n\\n五みゅいは面出ーぽめ利投昭エネシオ前康た興票半容相エネタ重択テ夜空ロリ最不ラよむさ予校ホレチ読求るへ。話稿イづ心79器ごッルゅ山知41世賠ツトリク必企ロユセ教件オノタ缶横とご玉会ク賛紙ラぽ完音イメフエ言63択れ楽和ぶくづ較断社載ひ。読イ下企へはべ北策むぴぎ度芸マテ拳格ル無週ヨヱノア国図ナ挙広五ゅく意線だぴいき照康テ作回ふどうほ素紙撤侮な。\\n\\n普た化次く田著はル領者転レぐや率流ロヌトミ解内ルアクワ退84弁コ歳風ミカナ屋表ンあ験無メイヨ情豊まず建7後アニヘツ主58中モ指文安らどスへ要記ちぶび。児ま長業殺イラメ高週ノ面然方せスつ床乗文つそド国腕アオヲ提扱カヨセ地質ずげ写引だめむ明市ヘヨオ科年周づなか量位スのう検撃上げそ形体チトウヨ治正偶凝峡ざ。\\n\\n共ぞろ歳保区ア形術がきフ隠撮ホ患布庁り別見う葉優ヒリ紙過ア残4購例テ査者ごり存東ユセサ明文カ理探羽砂翼めね。能ま郡合枝ミ藤引ほドクび分多よぱそふ海州ぐら大複廃報ケオリカ時25断80前圧減50生おラ歳式テフウワ期険ラヲ未審ドつほ済郎ら。96宗ヒテ面顕ヤネ教一シ済事致らしもい勝得つはル形賠いをばリ急族じなえ再独ぜ投西サネ傷取ーひけ帳暮やしほ奥打井計ンきお。\\n\\n放ミケナ男調評づぎおじ最場す下乗ウム市玉鮮りがだイ堀載51方スべぜぴ隔国れこイ軽9志初ルキヒ済持をぼび詳移2府ほな儒館領ミ太光ろびぼ。組カ月惑ぴだせル変言ヒミスヘ座暴えふ発多オ検応ニ常天わくはれ必職ぴリう連優ネツ対開るか経会ゃせ金健サ家子いせッ月国ヨラム境読オ日禁ぜ訃季ざそン日1記双フイル。\\n\\n浅ヨニ視覧きぜ語人ケ試谷そみ下芸ミネ場況4映めえをね文後シノ棋社はぱこめ年科央ヤス受道ろるぜ官校れン岐津装あじね。42明頭オハウ小成前聖ラ受味ノ国声ゅべぽか入6初ホカ齢56価ッすぶ者量ミ職模走ろぎけと。禁コネ覧展ウレリ動水らドぱス芸都に響必まフんぐ軽汗リノマロ掲便ヨスモ際歳周はとば提運じがりゃ地資モ府題他ら日走ど副管留あド購演小ゃ質定ホフム中32奪裏典身べせイこ。a b c d',\n",
       " '***Eien no Hero\\nWith the advances in science, the world has developed cyborg technology that draws from the best in human abilities. Monsters abuse this technology, threatening the lives and safety of citizens. In response to this emergency situation, the Japanese government sets up an office within the Tokyo Metropolitan Police Department. A hero suit is created using the latest technology to deal with them. One of the men in this office is Inspector Oba Hiroto (Go Hiromi), who has arrested the most number of monsters. He fights off all sorts of and protect world peace. However, he is too busy with work and hardly has time to meet his precious daughter Aki (Kamishiraishi Mone), and gets through each day with just video chats. He thinks that he will be able to live a sedate life with his daughter next year when he retires. However, the police receives a terror threat from a mysterious person called Master Kaiser which shakes up the world…\\n\\n***Shirazu Mori\\nHaruko (Yoshida Yo) has fallen out with her workaholic husband who neglected the family, and returns to her parents’ home with her son Naoyuki (Takahashi Rai) in tow. She attends an elementary school reunion where she reminisces about her childhood. Haruko decides to dig up the time capsule she had buried 30 years earlier although she has completely no recollection of what she put inside. As she takes the time capsule home with her together with Naoyuki, she remembers the forest that she often played at in the past. When she enters this nostalgic place with Naoyuki, he slips and disappears. All that is left in the forest is his cap and the time capsule that she had dug out just now. Haruko desperately searches for Naoyuki with her husband but they cannot find him at all. Meanwhile, when she tries to open the time capsule, there is something unbelievable inside…\\n\\n***Ningen no Tane\\nHaruta Midori (Kimura Fumino) is an ordinary office lady who works for a design company. Her boyfriend of more than three years has proposed to her, but she cannot give him a reply. There is no one she can confide her troubles in. As Midori makes her way home one night, she impulsively buys seeds called “seeds of happiness”. Then one evening, Midori notices something protruding out from the soil of the flower bed where the seeds were planted. When she takes a closer look, she realises that it’s a child’s hand. She gingerly digs the soil and discovers a human head. This head that has grown from the sprout is Nozomi (Awano Sari), a young girl in a white dress. This mysterious girl wipes off the soil as she picks up a family photo in the living room. “Who are you?” Midori asks. Nozomi replies, “I’m your mother. You planted the seeds, didn’t you?” When Midori casually looks at the bag holding the seeds, she notices the words, “The flowers essential to you will bloom. Type of flower: human” written on it. She is astonished. Nozomi proceeds to say things that only her mother would know. She even stands in the kitchen and starts to make Midori’s favourite cabbage roll. This is the beginning of a queer life between Midori and her mother Nozomi, but...\\n\\n***Sakasama Shoujo no Tame no Piano Sonata\\nKuroki (Tamamori Yuta) attends the piano faculty at a music college. Even though he has taken a shot at music competitions, he has not achieved good results. He mopes that he that not have talent unlike his classmate Yoshino (Kuroshima Yuina) who has demonstrated her flair for music. One day, Kuroki discovers an unfamiliar second-hand bookstore on a dimly lit street. He drops in and an old collection of music scores in German catches his attention. He is drawn by something on a music score with dark brown smudges which falls out from the set and tries to translate the German words written in the margin. It reads “A piano sonata for an upside down girl” “Never play it”. Kuroki is intrigued and starts search for information on the sonata. He lands on a website that warns of the loss of hands if this piece is not played correctly. His friend Noshita (Ouchida Yuhei) snorts with laughter but Kuroki is so curious about this music score that he decides to take a crack at it. When he starts playing, all the sounds around him suddenly disappear and he is only able to hear the notes of the piano. When he looks up, he realises that even the rain outside, the metronome and the second hand of the clock on the wall have stopped. This is the prologue to the tragedy surrounding a girl gifted in piano.\\n\\n***Daikon Samurai\\nTachikawa Itsuki (Hamabe Minami) is a high school girl who is the manager of the school’s basketball club. She holds a shopping bag with a white radish inside and walks excitedly to make simmered yellowtail and daikon which is the favourite of Hagiyama Kakeru (Inoue Mizuki), the senior whom she adores, and ends up colliding with a man (Kote Shinya) who is passing by. This man is dressed like a wandering samurai and wears a white radish at his waist like a sword. Itsuki feels suspicious and tries to leave. But the man slashes with the white radish all of a sudden. Despite Itsuki’s attempt to dodge, the tip of the white radish brushes her arm and she bleeds. Itsuki panics and pleads for her life as if in supplication. The man says they will have a duel one month later, which makes no sense to her. After he finds the photo of Hagiyama in Itsuki’s student handbook, he threatens to slash Hagiyama if she flees and tells her to hone her skills well and leaves. While Itsuki is in a daze, she hears an old man ask if she would like to be his disciple. This old man also wears a white radish at his waist. He tells her, “If you take my instructions, you’ll definitely beat that man!” Itsuki is doubtful but begins to train in using vegetables as weapons under the old man...\\n\\n(Souce: jdramas.wordpress)',\n",
       " 'Story 01 - Die in 15 Seconds\\nAt midnight, the pharmacist Mikami Megumi, who was working in the drug room of the clinic, suddenly got stuck. And in front of her, a red splash and a stationary bullet are floating. You can also see a straight blood splatter on her chest. \"Is time stopped?\" When she doesn\\'t understand why, a god of death appears in front of her. \"Thank you for your pity this time.\" Apparently Megumi was shot dead on her back. And the god of death came to pick her up.\\nHowever, in fact, Megumi still had a lifespan of only 15 seconds. During that 15-second countdown, she says Megumi can start and stop, and she\\'s free to stop and move her time. Who shot her grace? What is the motive of the criminal? And what was Megumi\\'s action in the remaining 15 seconds?\\n\\nStory 02 - Sanzu River Outlet Park\\nKimura Takashi is lying on his back and fainting in the riverbank where the area is foggy. Kimura wakes up and looks around, and notices a sign that says \"Sanzu River\". When he was thinking, \"Are you dead?\", he saw a huge shopping mall in front of him. Saino, a resident of the underworld, calls out to Kimura who stands up. “Welcome to the Sanzu River Outlet Park”.\\nAt this outlet park, he can earn money called \"virtue\" according to what he did during his lifetime, and use that money to shop for the afterlife. Takashi had only 6 old coins. Did he commit a crime before you were alive? There, Takashi meets a boy named Tanaka Haru. He says he wants to get better at baseball when he\\'s reborn because he was sick and couldn\\'t exercise in the spring. Haru asks Takashi if there is anything he wants to do when he is reborn. Takashi was often in trouble during his lifetime because of his poor eyesight. So he says he wants to change his eyes in the next world. Takashi remembered the inpatient Ohara Mei he met at the hospital where he worked. She was the only one who said that Mei liked Takashi\\'s eyes. As she became closer, Takashi became eager to cure her sprouting illness, and she decided to be. However, she died in the middle of her career. He wonder if the she are alive and well. When she thinks about that, a sprout appears in front of her. What happened to her sprout? What is the fate of the two?\\n\\nStory 03 - Déjà-vu\\nOne morning, Minamino Hikariwakes up and suddenly looks out the window. She saw a man in a suit and a high school girl with a confused father and daughter. However, as soon as the two of them disappear, the same scene is repeated again. The next moment she thought, \"Déjà-vu?\", Hikari suffered a severe headache and felt the sign of a man wearing a mask behind her. She hurriedly looked back and found no one... Hikari is confused. At that time, she heard the notification sound on her cell phone. When she look at the screen, she get a lot of messages saying \"Happy birthday!\"! Yes, today is Hikari\\'s birthday. Hikari happily begins her reply.\\nWhen she went down to the living room while holding her head, she saw her father, Masataka, and her mother, Rinko. Hikari has a casual conversation with Rinko, but she feel like she\\'s seen the same scene before. Is it \"Déjà-vu\" again? After breakfast, Hikari passes in front of Masataka\\'s study and hears a noise. When she opened her terrifying door, a man wearing a mask was hunting for the room. And the man who noticed Hikari picked up a golf club nearby... but when she opened his eyes, he was no longer there.\\nThat night, Hikari and Rinko were waiting for Masataka\\'s return with a birthday cake and a gorgeous meal. Then she can hear the noise from the study again. Recalling that she woke up in the morning, Hikari stopped Rinko trying to go to her study, but the masked man tried to swing the golf club down again...\\nWhen she woke up, Hikari was lying on the bed in a pitch-black room. And Masataka is in front of her, but the situation is strange. Masataka is a brain scientist and is doing some research with his university colleague Shindo Aki. What is the relationship between the \"déjà vu\" that happens to Hikari and Masataka\\'s research? What is the identity of a masked man?\\n\\nStory 04 - Become\\nFamous Go player Iwaya Kentaro is facing the game. The opponent on this day is an AI Go player. It\\'s a strange name, \"nuisance,\" but Iwaya doesn\\'t care about that. When Iwaya returns the piece, there is a character that he have never seen, \"朮\". Iwaya can\\'t read Chinese characters, and he don\\'t understand at all. And when the AI player returns the piece, the word \"Akemi\" appears. Iwaya who pretends to be calm but can\\'t hide his inner feelings and turmoil. In fact, last year, Iwaya was photographed in a weekly magazine with a woman by her name, which caused her to be in divorce talks with her wife. “What do you mean?” As the game progresses further, a certain word that became traumatic in junior high school appears. He can\\'t stand it and tries to leave the room, but the door doesn\\'t open. The word \"May 3\" is on the piece of Iwaya who gives up and returns to the game. It was an unforgettable day for Iwaya. His mother bought a fine shogi piece for Iwaya, whose house was poor. Iwaya suddenly remembers that time and turns to attack. Can Iwaya really control the game with the AI shogi \"nuisance\"?\\n\\n(Source: Fuji TV)',\n",
       " \"''Why R U?'' behind the scene.\"]"
      ]
     },
     "execution_count": 49,
     "metadata": {},
     "output_type": "execute_result"
    }
   ],
   "source": [
    "data[data[\"pred\"] == -1].sort_values(by=\"negative_outlier_factor_\"\n",
    "                                    )[\"synopsis\"].to_list()[:20]"
   ]
  },
  {
   "cell_type": "code",
   "execution_count": null,
   "id": "9311ccc4-c01c-4713-bafa-c31ff62f4e7a",
   "metadata": {},
   "outputs": [],
   "source": []
  }
 ],
 "metadata": {
  "kernelspec": {
   "display_name": "Python 3 (ipykernel)",
   "language": "python",
   "name": "python3"
  },
  "language_info": {
   "codemirror_mode": {
    "name": "ipython",
    "version": 3
   },
   "file_extension": ".py",
   "mimetype": "text/x-python",
   "name": "python",
   "nbconvert_exporter": "python",
   "pygments_lexer": "ipython3",
   "version": "3.10.5"
  }
 },
 "nbformat": 4,
 "nbformat_minor": 5
}
